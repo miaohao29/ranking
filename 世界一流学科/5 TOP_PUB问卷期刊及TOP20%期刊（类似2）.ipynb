{
 "cells": [
  {
   "cell_type": "code",
   "execution_count": 1,
   "metadata": {},
   "outputs": [],
   "source": [
    "from selenium import webdriver\n",
    "from selenium.webdriver.common.keys import Keys\n",
    "import numpy as np, pandas as pd\n",
    "#import os\n",
    "import csv\n",
    "import time"
   ]
  },
  {
   "cell_type": "code",
   "execution_count": 2,
   "metadata": {},
   "outputs": [],
   "source": [
    "import random"
   ]
  },
  {
   "cell_type": "code",
   "execution_count": 3,
   "metadata": {},
   "outputs": [
    {
     "data": {
      "text/plain": [
       "'几所特殊的学校，不选择academic的可以直接同时搜索机构名称，用此程序下载数据即可，前提要输入学校，并且不能选择机构'"
      ]
     },
     "execution_count": 3,
     "metadata": {},
     "output_type": "execute_result"
    }
   ],
   "source": [
    "'''几所特殊的学校，不选择academic的可以直接同时搜索机构名称，用此程序下载数据即可，前提要输入学校，并且不能选择机构'''"
   ]
  },
  {
   "cell_type": "code",
   "execution_count": 4,
   "metadata": {},
   "outputs": [],
   "source": [
    "################################################################################\n",
    "################################################################################\n",
    "######################### 第一部分 数据整理 ####################################"
   ]
  },
  {
   "cell_type": "code",
   "execution_count": 5,
   "metadata": {},
   "outputs": [
    {
     "data": {
      "text/plain": [
       "'csv文件要提前按照学科删除重复值'"
      ]
     },
     "execution_count": 5,
     "metadata": {},
     "output_type": "execute_result"
    }
   ],
   "source": [
    "'''csv文件要提前按照学科删除重复值'''"
   ]
  },
  {
   "cell_type": "code",
   "execution_count": 6,
   "metadata": {},
   "outputs": [],
   "source": [
    "############首先对Mapp.csv原文件数据去重，删除数据重复的项目######################\n",
    "lis_a = []#创建空白列表，存储文件内容\n",
    "with open(r'C:\\Users\\rk\\Desktop\\Top.csv') as f:\n",
    "    csv_reader=csv.reader(f)\n",
    "    for element in csv_reader:\n",
    "        lis_a.append(element)#逐行读入数据，写入列表"
   ]
  },
  {
   "cell_type": "code",
   "execution_count": 7,
   "metadata": {},
   "outputs": [
    {
     "data": {
      "text/plain": [
       "[['RS0101', '0003-486X'], ['RS0101', '0020-9910'], ['RS0101', '0894-0347']]"
      ]
     },
     "execution_count": 7,
     "metadata": {},
     "output_type": "execute_result"
    }
   ],
   "source": [
    "lis_a[:3]"
   ]
  },
  {
   "cell_type": "code",
   "execution_count": 8,
   "metadata": {},
   "outputs": [],
   "source": [
    "####################运用此程序的前提是：先在原文件里做好分类汇总####################################\n",
    "final_lis=[]\n",
    "counter=0\n",
    "while True:#为了是for循环中的起始值counter的改变，for进入循环后，起始值不再改变，\n",
    "    for item_1 in lis_a[counter:]:\n",
    "        diction=[]\n",
    "        lis_c=[]\n",
    "        initial_s=0\n",
    "        lis_c.append(item_1[1])#将第一个期刊加入列表，在此处加入是防止仅出现一次而忽略\n",
    "        for item_2 in lis_a[counter+1:]:\n",
    "            if item_1[0]==item_2[0]:\n",
    "                lis_c.append(item_2[1])#将相同的期刊加入列表\n",
    "                initial_s+=1 #每找到一个相同的就把initial_s加一，     \n",
    "        diction.append(item_1[0])\n",
    "        diction.append(lis_c)\n",
    "        final_lis.append(diction)\n",
    "        break#为了使for循环中的起始值改变，循环一次后利用break强制退出for循环，利用while进入下一次循环\n",
    "    counter=counter+initial_s+1\n",
    "    if counter>=len(lis_a):#为了使while循环跳出,当大于列表长度的时候跳出循环\n",
    "        break"
   ]
  },
  {
   "cell_type": "code",
   "execution_count": 9,
   "metadata": {
    "scrolled": true
   },
   "outputs": [
    {
     "data": {
      "text/plain": [
       "[['RS0101', ['0003-486X', '0020-9910', '0894-0347']],\n",
       " ['RS0102', ['0031-9007']],\n",
       " ['RS0103', ['0002-7863', '1433-7851', '1755-4330', '1476-1122']],\n",
       " ['RS0104', ['0012-821X', '0094-8276', '1752-0894', '0016-7037']],\n",
       " ['RS0105',\n",
       "  ['0309-1325',\n",
       "   '0004-5608',\n",
       "   '0959-3780',\n",
       "   '0743-0167',\n",
       "   '0962-6298',\n",
       "   '0020-2754',\n",
       "   '0272-3638']]]"
      ]
     },
     "execution_count": 9,
     "metadata": {},
     "output_type": "execute_result"
    }
   ],
   "source": [
    "final_lis[:5]"
   ]
  },
  {
   "cell_type": "code",
   "execution_count": 10,
   "metadata": {
    "scrolled": true
   },
   "outputs": [
    {
     "data": {
      "text/plain": [
       "['RS0515',\n",
       " ['0276-7783',\n",
       "  '1532-2882',\n",
       "  '1067-5027',\n",
       "  '0740-624X',\n",
       "  '0378-7206',\n",
       "  '0165-5515']]"
      ]
     },
     "execution_count": 10,
     "metadata": {},
     "output_type": "execute_result"
    }
   ],
   "source": [
    "final_lis[54]"
   ]
  },
  {
   "cell_type": "code",
   "execution_count": 11,
   "metadata": {},
   "outputs": [
    {
     "data": {
      "text/plain": [
       "'注意：Food Science & Technology，1941-1413不存在，删除\\nBiotechnology，Agricultural Sciences，2165-8102\\nHuman Biological Sciences，2374-4642'"
      ]
     },
     "execution_count": 11,
     "metadata": {},
     "output_type": "execute_result"
    }
   ],
   "source": [
    "'''注意：Food Science & Technology，1941-1413不存在，删除\n",
    "Biotechnology，Agricultural Sciences，2165-8102\n",
    "Human Biological Sciences，2374-4642'''"
   ]
  },
  {
   "cell_type": "code",
   "execution_count": 12,
   "metadata": {},
   "outputs": [
    {
     "data": {
      "text/plain": [
       "'药学重新下载，选择Article和Review'"
      ]
     },
     "execution_count": 12,
     "metadata": {},
     "output_type": "execute_result"
    }
   ],
   "source": [
    "'''药学重新下载，选择Article和Review'''"
   ]
  },
  {
   "cell_type": "code",
   "execution_count": null,
   "metadata": {},
   "outputs": [],
   "source": [
    "//*[@id=\"select2-drop\"]/ul"
   ]
  },
  {
   "cell_type": "code",
   "execution_count": null,
   "metadata": {},
   "outputs": [],
   "source": []
  },
  {
   "cell_type": "code",
   "execution_count": 13,
   "metadata": {},
   "outputs": [
    {
     "data": {
      "text/plain": [
       "3"
      ]
     },
     "execution_count": 13,
     "metadata": {},
     "output_type": "execute_result"
    }
   ],
   "source": [
    "len(final_lis[0][1])"
   ]
  },
  {
   "cell_type": "code",
   "execution_count": 14,
   "metadata": {},
   "outputs": [],
   "source": [
    "##############################################################################\n",
    "##############################################################################\n",
    "##################### 第二部分，下载文件 #####################################"
   ]
  },
  {
   "cell_type": "code",
   "execution_count": null,
   "metadata": {},
   "outputs": [],
   "source": []
  },
  {
   "cell_type": "code",
   "execution_count": 11,
   "metadata": {},
   "outputs": [],
   "source": [
    "########################服务器崩溃后，从此处运行##########################################\n",
    "browser = webdriver.Chrome(r'C:\\Users\\rk\\Desktop\\chromedriver.exe') #锁定浏览器\n",
    "browser.get(\"https://incites.clarivate.com/\")#访问网页"
   ]
  },
  {
   "cell_type": "code",
   "execution_count": null,
   "metadata": {},
   "outputs": [],
   "source": [
    "\"\"\"\n",
    "web of science 下载ISSN账号\n",
    "Incite:602281532@qq.com\n",
    "密码：rank2016!\n",
    "\n",
    "\"\"\""
   ]
  },
  {
   "cell_type": "code",
   "execution_count": null,
   "metadata": {},
   "outputs": [],
   "source": []
  },
  {
   "cell_type": "code",
   "execution_count": null,
   "metadata": {},
   "outputs": [],
   "source": []
  },
  {
   "cell_type": "code",
   "execution_count": 12,
   "metadata": {},
   "outputs": [],
   "source": [
    "def fid():\n",
    "    '''查找保存按钮'''\n",
    "    while True:\n",
    "        time.sleep(0.5)\n",
    "        try:\n",
    "            browser.find_element_by_xpath('/html/body/ui-view/app/main/ui-view/section/main/div[2]/div[3]/div[1]/div[1]/div[1]/a').click()\n",
    "            break\n",
    "        except:\n",
    "            print('waitting')\n",
    "            pass"
   ]
  },
  {
   "cell_type": "code",
   "execution_count": 13,
   "metadata": {},
   "outputs": [],
   "source": [
    "def send(item):\n",
    "    '''保存文件'''\n",
    "    while True:\n",
    "        time.sleep(0.5)\n",
    "        try:\n",
    "            browser.find_element_by_xpath('//*[@id=\"fileName\"]').clear()\n",
    "            browser.find_element_by_xpath('//*[@id=\"fileName\"]').send_keys(item)\n",
    "            break\n",
    "        except:\n",
    "            print('waiting')\n",
    "            pass"
   ]
  },
  {
   "cell_type": "code",
   "execution_count": null,
   "metadata": {},
   "outputs": [],
   "source": []
  },
  {
   "cell_type": "code",
   "execution_count": null,
   "metadata": {},
   "outputs": [],
   "source": []
  },
  {
   "cell_type": "code",
   "execution_count": null,
   "metadata": {},
   "outputs": [],
   "source": [
    "univer=['China University of Geosciences - Beijing',\n",
    "        'China University of Geosciences (Wuhan)',\n",
    "        'China University of Mining and Technology, Beijing',\n",
    "        'China University of Mining and Technology',\n",
    "        'China University of Petroleum - Beijing',\n",
    "        'China University of Petroleum - Eastern China',\n",
    "        'Amherst College',\n",
    "        'Mayo Clinic',\n",
    "        'UTMD Anderson Cancer Center',\n",
    "        'Chinese Academy of Medical Sciences - Peking Union Medical College',\n",
    "        'University of Nebraska Medical Center',\n",
    "        'VA Connecticut Healthcare System',\n",
    "        'IUSS PAVIA',\n",
    "        'Universita della Campania Vanvitelli',\n",
    "        'University of Mississippi Medical Center']"
   ]
  },
  {
   "cell_type": "code",
   "execution_count": 14,
   "metadata": {},
   "outputs": [
    {
     "data": {
      "text/plain": [
       "'Load more items'"
      ]
     },
     "execution_count": 14,
     "metadata": {},
     "output_type": "execute_result"
    }
   ],
   "source": [
    "browser.find_element_by_xpath('/html/body/div[1]/div/div[3]/div[1]/div/section/main/div[2]/div[3]/div[2]').text"
   ]
  },
  {
   "cell_type": "code",
   "execution_count": null,
   "metadata": {},
   "outputs": [],
   "source": []
  },
  {
   "cell_type": "code",
   "execution_count": null,
   "metadata": {},
   "outputs": [],
   "source": []
  },
  {
   "cell_type": "code",
   "execution_count": null,
   "metadata": {},
   "outputs": [],
   "source": []
  },
  {
   "cell_type": "code",
   "execution_count": null,
   "metadata": {},
   "outputs": [],
   "source": []
  },
  {
   "cell_type": "code",
   "execution_count": 14,
   "metadata": {},
   "outputs": [],
   "source": [
    "element='//*[@id=\"s2id_autogen22\"]'#定位ISSN文本框,该文本框定位容易改变"
   ]
  },
  {
   "cell_type": "code",
   "execution_count": 72,
   "metadata": {},
   "outputs": [],
   "source": [
    "counter=0#初始化counter"
   ]
  },
  {
   "cell_type": "code",
   "execution_count": 73,
   "metadata": {
    "scrolled": true
   },
   "outputs": [
    {
     "name": "stdout",
     "output_type": "stream",
     "text": [
      "waiting\n",
      "waiting\n",
      "waiting\n",
      "waiting\n",
      "waiting\n",
      "waiting\n",
      "waiting\n",
      "1\n",
      "waiting\n",
      "2\n",
      "waiting\n",
      "waiting\n",
      "waiting\n",
      "waiting\n",
      "3\n",
      "waiting\n",
      "waiting\n",
      "waiting\n",
      "waiting\n",
      "4\n",
      "waiting\n",
      "waiting\n",
      "waiting\n",
      "waiting\n",
      "waiting\n",
      "waiting\n",
      "waiting\n",
      "waiting\n",
      "5\n",
      "waiting\n",
      "waiting\n",
      "waiting\n",
      "6\n",
      "waiting\n",
      "waiting\n",
      "waiting\n",
      "waiting\n",
      "waiting\n",
      "waiting\n",
      "waiting\n",
      "waiting\n",
      "waiting\n",
      "waiting\n",
      "waiting\n",
      "waiting\n",
      "waiting\n",
      "waiting\n",
      "7\n",
      "waiting\n",
      "waiting\n",
      "waiting\n",
      "waiting\n",
      "waiting\n",
      "waiting\n",
      "waiting\n",
      "8\n",
      "waiting\n",
      "waiting\n",
      "waiting\n",
      "waiting\n",
      "waiting\n",
      "waiting\n",
      "waiting\n",
      "waiting\n",
      "waiting\n",
      "9\n",
      "waiting\n",
      "10\n",
      "waiting\n",
      "waiting\n",
      "waiting\n",
      "waiting\n",
      "waiting\n",
      "waiting\n",
      "waiting\n",
      "waiting\n",
      "waiting\n",
      "11\n",
      "waiting\n",
      "waiting\n",
      "waiting\n",
      "waiting\n",
      "waiting\n",
      "waiting\n",
      "waiting\n",
      "waiting\n",
      "waiting\n",
      "waiting\n",
      "waiting\n",
      "waiting\n",
      "waiting\n",
      "waiting\n",
      "waiting\n",
      "waiting\n",
      "waiting\n",
      "waiting\n",
      "waiting\n",
      "waiting\n",
      "waiting\n",
      "12\n",
      "waiting\n",
      "waiting\n",
      "waiting\n",
      "waiting\n",
      "waiting\n",
      "waiting\n",
      "waiting\n",
      "waiting\n",
      "waiting\n",
      "waiting\n",
      "waiting\n",
      "waiting\n",
      "waiting\n",
      "waiting\n",
      "waiting\n",
      "13\n",
      "waiting\n",
      "14\n",
      "waiting\n",
      "15\n",
      "waiting\n",
      "waiting\n",
      "16\n",
      "waiting\n",
      "waiting\n",
      "17\n",
      "waiting\n",
      "waiting\n",
      "waiting\n",
      "waiting\n",
      "waiting\n",
      "waiting\n",
      "waiting\n",
      "18\n",
      "waiting\n",
      "waiting\n",
      "waiting\n",
      "19\n",
      "waiting\n",
      "20\n",
      "waiting\n",
      "waiting\n",
      "21\n",
      "waiting\n",
      "waiting\n",
      "waiting\n",
      "22\n",
      "waiting\n",
      "waiting\n",
      "waiting\n",
      "waiting\n",
      "waiting\n",
      "waiting\n",
      "waiting\n",
      "waiting\n",
      "waiting\n",
      "waiting\n",
      "waiting\n",
      "waiting\n",
      "waiting\n",
      "waiting\n",
      "waiting\n",
      "waiting\n",
      "waiting\n",
      "waiting\n",
      "waiting\n",
      "waiting\n",
      "waiting\n",
      "waiting\n",
      "waiting\n",
      "waiting\n",
      "waiting\n",
      "23\n",
      "waiting\n",
      "waiting\n",
      "waiting\n",
      "waiting\n",
      "waiting\n",
      "waiting\n",
      "waiting\n",
      "waiting\n",
      "waiting\n",
      "waiting\n",
      "waiting\n",
      "waiting\n",
      "waiting\n",
      "waiting\n",
      "waiting\n",
      "waiting\n",
      "waiting\n",
      "waiting\n",
      "waiting\n",
      "waiting\n",
      "waiting\n",
      "waiting\n",
      "waiting\n",
      "waiting\n",
      "waiting\n",
      "waiting\n",
      "waiting\n",
      "waiting\n",
      "waiting\n",
      "waiting\n",
      "waiting\n",
      "waiting\n",
      "24\n",
      "waiting\n",
      "waiting\n",
      "waiting\n",
      "waiting\n",
      "25\n",
      "waiting\n",
      "26\n",
      "waiting\n",
      "waiting\n",
      "waiting\n",
      "waiting\n",
      "waiting\n",
      "waiting\n",
      "waiting\n",
      "waiting\n",
      "waiting\n",
      "waiting\n",
      "waiting\n",
      "waiting\n",
      "waiting\n",
      "waiting\n",
      "27\n",
      "waiting\n",
      "waiting\n",
      "waiting\n",
      "28\n",
      "waiting\n",
      "waiting\n",
      "waiting\n",
      "waiting\n",
      "waiting\n",
      "waiting\n",
      "waiting\n",
      "waiting\n",
      "29\n",
      "waiting\n",
      "30\n",
      "waiting\n",
      "waiting\n",
      "waiting\n",
      "waiting\n",
      "31\n",
      "waiting\n",
      "waiting\n",
      "32\n",
      "waiting\n",
      "waiting\n",
      "waiting\n",
      "33\n",
      "waiting\n",
      "waiting\n",
      "waiting\n",
      "waiting\n",
      "waiting\n",
      "waiting\n",
      "waiting\n",
      "waiting\n",
      "waiting\n",
      "waiting\n",
      "waiting\n",
      "waiting\n",
      "waiting\n",
      "waiting\n",
      "waiting\n",
      "waiting\n",
      "waiting\n",
      "waiting\n",
      "waiting\n",
      "waiting\n",
      "waiting\n",
      "waiting\n",
      "waiting\n",
      "waiting\n",
      "waiting\n",
      "waiting\n",
      "waiting\n",
      "waiting\n",
      "waiting\n",
      "waiting\n",
      "waiting\n",
      "waiting\n",
      "waiting\n",
      "waiting\n",
      "waiting\n",
      "waiting\n",
      "waiting\n",
      "waiting\n",
      "waiting\n",
      "waiting\n",
      "waiting\n",
      "waiting\n",
      "waiting\n",
      "waiting\n",
      "waiting\n",
      "waiting\n",
      "waiting\n",
      "waiting\n",
      "waiting\n",
      "waiting\n",
      "waiting\n",
      "waiting\n",
      "waiting\n",
      "waiting\n",
      "waiting\n",
      "waiting\n",
      "waiting\n",
      "waiting\n",
      "waiting\n",
      "waiting\n",
      "waiting\n",
      "waiting\n",
      "waiting\n",
      "waiting\n",
      "waiting\n",
      "waiting\n",
      "waiting\n",
      "waiting\n",
      "waiting\n",
      "waiting\n",
      "waiting\n",
      "waiting\n",
      "waiting\n",
      "waiting\n",
      "waiting\n",
      "waiting\n",
      "waiting\n",
      "waiting\n",
      "waiting\n",
      "waiting\n",
      "waiting\n",
      "waiting\n",
      "waiting\n",
      "waiting\n",
      "waiting\n",
      "waiting\n",
      "waiting\n",
      "waiting\n",
      "waiting\n",
      "waiting\n",
      "waiting\n",
      "waiting\n",
      "waiting\n",
      "waiting\n",
      "waiting\n",
      "waiting\n",
      "waiting\n",
      "waiting\n",
      "waiting\n",
      "waiting\n",
      "waiting\n",
      "waiting\n",
      "waiting\n",
      "waiting\n",
      "waiting\n",
      "waiting\n",
      "waiting\n",
      "waiting\n",
      "waiting\n",
      "waiting\n",
      "waiting\n",
      "waiting\n",
      "waiting\n",
      "waiting\n",
      "waiting\n",
      "waiting\n",
      "waiting\n",
      "waiting\n",
      "waiting\n",
      "waiting\n",
      "waiting\n",
      "34\n",
      "waiting\n",
      "waiting\n",
      "35\n",
      "waiting\n",
      "waiting\n",
      "36\n",
      "waiting\n",
      "waiting\n",
      "waiting\n",
      "37\n",
      "waiting\n",
      "38\n",
      "waiting\n",
      "waiting\n",
      "39\n",
      "waiting\n",
      "waiting\n",
      "waiting\n",
      "waiting\n",
      "waiting\n",
      "waiting\n",
      "waiting\n",
      "waiting\n",
      "waiting\n",
      "waiting\n",
      "waiting\n",
      "waiting\n",
      "waiting\n",
      "waiting\n",
      "waiting\n",
      "waiting\n",
      "waiting\n",
      "waiting\n",
      "waiting\n",
      "waiting\n",
      "waiting\n",
      "waiting\n",
      "waiting\n",
      "waiting\n",
      "waiting\n",
      "waiting\n",
      "waiting\n",
      "waiting\n",
      "waiting\n",
      "waiting\n",
      "waiting\n",
      "waiting\n",
      "waiting\n",
      "40\n",
      "waiting\n",
      "waiting\n",
      "waiting\n",
      "waiting\n",
      "waiting\n",
      "41\n",
      "waiting\n",
      "waiting\n",
      "waiting\n",
      "waiting\n",
      "42\n",
      "waiting\n",
      "waiting\n",
      "43\n",
      "waiting\n",
      "waiting\n",
      "waiting\n",
      "waiting\n",
      "44\n",
      "waiting\n",
      "waiting\n",
      "45\n",
      "waiting\n",
      "waiting\n",
      "waiting\n",
      "waiting\n",
      "waiting\n",
      "waiting\n",
      "46\n",
      "waiting\n",
      "waiting\n",
      "waiting\n",
      "waiting\n",
      "waiting\n",
      "47\n",
      "waiting\n",
      "waiting\n",
      "waiting\n",
      "waiting\n",
      "48\n",
      "waiting\n",
      "waiting\n",
      "waiting\n",
      "waiting\n",
      "49\n",
      "waiting\n",
      "waiting\n",
      "waiting\n",
      "50\n",
      "waiting\n",
      "waiting\n",
      "waiting\n",
      "waiting\n",
      "waiting\n",
      "waiting\n",
      "51\n",
      "waiting\n",
      "52\n",
      "waiting\n",
      "waiting\n",
      "waiting\n",
      "waiting\n",
      "waiting\n",
      "waiting\n",
      "53\n",
      "waiting\n",
      "waiting\n",
      "waiting\n",
      "waiting\n",
      "waiting\n",
      "54\n",
      "waiting\n",
      "waiting\n",
      "waiting\n",
      "waiting\n",
      "waiting\n",
      "waiting\n",
      "55\n",
      "waiting\n",
      "waiting\n",
      "waiting\n",
      "56\n"
     ]
    }
   ],
   "source": [
    "while True:\n",
    "    for items in final_lis[counter:]:\n",
    "        while True:\n",
    "            #browser.find_element_by_xpath(element).click()\n",
    "            browser.find_element_by_xpath(element).send_keys(Keys.BACK_SPACE)#这个地址很容易变，每次需要检查一下\n",
    "            if len(browser.find_elements_by_xpath('//*[@id=\"s2id_issn\"]/ul/li'))==1:\n",
    "                break\n",
    "        items[1]=np.unique(items[1])#软科学科分类包含多个WOS学科分类，WOS中的TOP期刊可能重复，此行代码为了去重\n",
    "        numb=len(item[1])\n",
    "        for item in items[1]:\n",
    "            browser.find_element_by_xpath(element).send_keys(item)#输入ISSN号\n",
    "            while True:\n",
    "                time.sleep(0.5)\n",
    "                try:\n",
    "                    errostring=browser.find_element_by_xpath('//*[@id=\"select2-drop\"]/ul/li').text\n",
    "                    print('waiting')\n",
    "                    if errostring=='No matches found':\n",
    "                        print(item)\n",
    "                        break\n",
    "                    array=errostring.split('-')\n",
    "                    if array[0].isdigit():\n",
    "                        time.sleep(random.random()+1)\n",
    "                        browser.find_element_by_xpath(element).send_keys(Keys.ENTER)\n",
    "                        break\n",
    "                except:\n",
    "                    pass\n",
    "        browser.find_element_by_xpath('/html/body/ui-view/app/main/ui-view/section/main/div[2]/div[1]/div[4]/div[2]').click()#随便点一下\n",
    "        browser.find_element_by_xpath('/html/body/ui-view/app/main/ui-view/section/main/div[2]/div[1]/div[5]/div/button').click()#点击搜索\n",
    "        fid()#调用函数               \n",
    "        send(items[0])#调用函数\n",
    "        time.sleep(1)\n",
    "        browser.find_element_by_xpath('/html/body/ui-view/app/main/ui-view/section/main/div[2]/div[3]/div[1]/div[1]/div[1]/div/div/form/div[3]/button').click()\n",
    "        #print(item)\n",
    "        counter+=1\n",
    "        print(counter)\n",
    "        break\n",
    "    if counter==len(final_lis):\n",
    "        break\n"
   ]
  },
  {
   "cell_type": "code",
   "execution_count": null,
   "metadata": {},
   "outputs": [],
   "source": [
    "print(counter)"
   ]
  },
  {
   "cell_type": "code",
   "execution_count": null,
   "metadata": {},
   "outputs": [],
   "source": [
    "/html/body/div[3]/ul"
   ]
  },
  {
   "cell_type": "code",
   "execution_count": null,
   "metadata": {},
   "outputs": [],
   "source": [
    "/html/body/div[3]"
   ]
  }
 ],
 "metadata": {
  "kernelspec": {
   "display_name": "Python 3",
   "language": "python",
   "name": "python3"
  },
  "language_info": {
   "codemirror_mode": {
    "name": "ipython",
    "version": 3
   },
   "file_extension": ".py",
   "mimetype": "text/x-python",
   "name": "python",
   "nbconvert_exporter": "python",
   "pygments_lexer": "ipython3",
   "version": "3.6.5"
  }
 },
 "nbformat": 4,
 "nbformat_minor": 2
}
