{
 "cells": [
  {
   "cell_type": "code",
   "execution_count": 1,
   "metadata": {},
   "outputs": [],
   "source": [
    "from selenium import webdriver\n",
    "from selenium.webdriver.common.keys import Keys\n",
    "#import re\n",
    "#import numpy as np, pandas as pd\n",
    "import os\n",
    "#import datetime\n",
    "import csv\n",
    "import time"
   ]
  },
  {
   "cell_type": "code",
   "execution_count": 2,
   "metadata": {},
   "outputs": [],
   "source": [
    "lis_a = []#创建空白列表，存储文件内容\n",
    "csv_reader=csv.reader(open(r'C:\\Users\\rk\\Desktop\\Mapping.csv'))"
   ]
  },
  {
   "cell_type": "code",
   "execution_count": 3,
   "metadata": {},
   "outputs": [],
   "source": [
    "for element in csv_reader:\n",
    "    lis_a.append(element)#逐行读入数据，写入列表"
   ]
  },
  {
   "cell_type": "code",
   "execution_count": 4,
   "metadata": {},
   "outputs": [
    {
     "data": {
      "text/plain": [
       "[['Mathematics', 'MATHEMATICS'],\n",
       " ['Mathematics', 'MATHEMATICS, APPLIED'],\n",
       " ['Physics', 'ACOUSTICS'],\n",
       " ['Physics', 'ASTRONOMY & ASTROPHYSICS'],\n",
       " ['Physics', 'OPTICS'],\n",
       " ['Physics', 'PHYSICS, APPLIED'],\n",
       " ['Physics', 'PHYSICS, ATOMIC, MOLECULAR & CHEMICAL'],\n",
       " ['Physics', 'PHYSICS, CONDENSED MATTER'],\n",
       " ['Physics', 'PHYSICS, FLUIDS & PLASMAS'],\n",
       " ['Physics', 'PHYSICS, MATHEMATICAL'],\n",
       " ['Physics', 'PHYSICS, MULTIDISCIPLINARY'],\n",
       " ['Physics', 'PHYSICS, NUCLEAR'],\n",
       " ['Physics', 'PHYSICS, PARTICLES & FIELDS'],\n",
       " ['Chemistry', 'CHEMISTRY, ANALYTICAL'],\n",
       " ['Chemistry', 'CHEMISTRY, APPLIED'],\n",
       " ['Chemistry', 'CHEMISTRY, INORGANIC & NUCLEAR'],\n",
       " ['Chemistry', 'CHEMISTRY, MULTIDISCIPLINARY'],\n",
       " ['Chemistry', 'CHEMISTRY, ORGANIC'],\n",
       " ['Chemistry', 'CHEMISTRY, PHYSICAL'],\n",
       " ['Chemistry', 'CRYSTALLOGRAPHY'],\n",
       " ['Chemistry', 'ELECTROCHEMISTRY'],\n",
       " ['Chemistry', 'SPECTROSCOPY'],\n",
       " ['Chemistry', 'POLYMER SCIENCE'],\n",
       " ['Earth Sciences', 'GEOCHEMISTRY & GEOPHYSICS'],\n",
       " ['Earth Sciences', 'GEOLOGY'],\n",
       " ['Earth Sciences', 'GEOSCIENCES, MULTIDISCIPLINARY'],\n",
       " ['Earth Sciences', 'MINERALOGY'],\n",
       " ['Earth Sciences', 'PALEONTOLOGY'],\n",
       " ['Geography', 'AREA STUDIES'],\n",
       " ['Geography', 'GEOGRAPHY'],\n",
       " ['Geography', 'GEOGRAPHY, PHYSICAL'],\n",
       " ['Ecology', 'BIODIVERSITY CONSERVATION'],\n",
       " ['Ecology', 'ECOLOGY'],\n",
       " ['Oceanography', 'OCEANOGRAPHY'],\n",
       " ['Atmospheric Science', 'METEOROLOGY & ATMOSPHERIC SCIENCES'],\n",
       " ['Mechanical Engineering', 'ENGINEERING, MANUFACTURING'],\n",
       " ['Mechanical Engineering', 'ENGINEERING, MECHANICAL'],\n",
       " ['Electrical & Electronic Engineering',\n",
       "  'ENGINEERING, ELECTRICAL & ELECTRONIC'],\n",
       " ['Electrical & Electronic Engineering',\n",
       "  'IMAGING SCIENCE & PHOTOGRAPHIC\\nTECHNOLOGY'],\n",
       " ['Automation & Control', 'AUTOMATION & CONTROL SYSTEMS'],\n",
       " ['Automation & Control', 'ROBOTICS'],\n",
       " ['Telecommunication Engineering', 'TELECOMMUNICATIONS'],\n",
       " ['Instruments Science & Technology', 'INSTRUMENTS & INSTRUMENTATION'],\n",
       " ['Instruments Science & Technology', 'MICROSCOPY'],\n",
       " ['Biomedical Engineering', 'CELL & TISSUE ENGINEERING'],\n",
       " ['Biomedical Engineering', 'ENGINEERING, BIOMEDICAL'],\n",
       " ['Computer Science & Engineering', 'COMPUTER SCIENCE, INFORMATION SYSTEMS'],\n",
       " ['Computer Science & Engineering', 'COMPUTER SCIENCE, CYBERNETICS'],\n",
       " ['Computer Science & Engineering', 'COMPUTER SCIENCE, SOFTWARE\\nENGINEERING'],\n",
       " ['Computer Science & Engineering',\n",
       "  'COMPUTER SCIENCE, ARTIFICIAL\\nINTELLIGENCE'],\n",
       " ['Computer Science & Engineering',\n",
       "  'COMPUTER SCIENCE, HARDWARE &\\nARCHITECTURE'],\n",
       " ['Computer Science & Engineering', 'COMPUTER SCIENCE, THEORY & METHODS'],\n",
       " ['Computer Science & Engineering',\n",
       "  'COMPUTER SCIENCE, INTERDISCIPLINARY\\nAPPLICATIONS'],\n",
       " ['Civil Engineering', 'CONSTRUCTION & BUILDING TECHNOLOGY'],\n",
       " ['Civil Engineering', 'ENGINEERING, CIVIL'],\n",
       " ['Chemical Engineering', 'ENGINEERING, CHEMICAL'],\n",
       " ['Materials Science & Engineering', 'MATERIALS SCIENCE, BIOMATERIALS'],\n",
       " ['Materials Science & Engineering', 'MATERIALS SCIENCE, CERAMICS'],\n",
       " ['Materials Science & Engineering',\n",
       "  'MATERIALS SCIENCE, CHARACTERIZATION &\\nTESTING'],\n",
       " ['Materials Science & Engineering', 'MATERIALS SCIENCE, COATINGS & FILMS'],\n",
       " ['Materials Science & Engineering', 'MATERIALS SCIENCE, COMPOSITES'],\n",
       " ['Materials Science & Engineering', 'MATERIALS SCIENCE, MULTIDISCIPLINARY'],\n",
       " ['Materials Science & Engineering', 'MATERIALS SCIENCE, PAPER & WOOD'],\n",
       " ['Materials Science & Engineering', 'MATERIALS SCIENCE, TEXTILES'],\n",
       " ['Nanoscience & Nanotechnology', 'NANOSCIENCE & NANOTECHNOLOGY'],\n",
       " ['Energy Science & Engineering', 'ENERGY & FUELS'],\n",
       " ['Energy Science & Engineering', 'NUCLEAR SCIENCE & TECHNOLOGY'],\n",
       " ['Energy Science & Engineering', 'ENGINEERING, PETROLEUM'],\n",
       " ['Environmental Science & Engineering', 'ENGINEERING, ENVIRONMENTAL'],\n",
       " ['Environmental Science & Engineering', 'ENVIRONMENTAL SCIENCES'],\n",
       " ['Environmental Science & Engineering', 'ENVIRONMENTAL STUDIES'],\n",
       " ['Water Resources', 'WATER RESOURCES'],\n",
       " ['Food Science & Technology', 'FOOD SCIENCE & TECHNOLOGY'],\n",
       " ['Biotechnology', 'BIOTECHNOLOGY & APPLIED MICROBIOLOGY'],\n",
       " ['Aerospace Engineering', 'ENGINEERING, AEROSPACE'],\n",
       " ['Marine/Ocean Engineering', 'ENGINEERING, MARINE'],\n",
       " ['Marine/Ocean Engineering', 'ENGINEERING, OCEAN'],\n",
       " ['Transportation Science & Technology', 'TRANSPORTATION'],\n",
       " ['Transportation Science & Technology',\n",
       "  'TRANSPORTATION SCIENCE & TECHNOLOGY'],\n",
       " ['Remote Sensing', 'REMOTE SENSING'],\n",
       " ['Mining & Mineral Engineering', 'MINING & MINERAL PROCESSING'],\n",
       " ['Metallurgical Engineering', 'METALLURGY & METALLURGICAL\\nENGINEERING'],\n",
       " ['Biological Sciences', 'BIOCHEMICAL RESEARCH METHODS'],\n",
       " ['Biological Sciences', 'BIOCHEMISTRY & MOLECULAR BIOLOGY'],\n",
       " ['Biological Sciences', 'BIOLOGY'],\n",
       " ['Biological Sciences', 'BIOPHYSICS'],\n",
       " ['Biological Sciences', 'CELL BIOLOGY'],\n",
       " ['Biological Sciences', 'DEVELOPMENTAL BIOLOGY'],\n",
       " ['Biological Sciences', 'ENTOMOLOGY'],\n",
       " ['Biological Sciences', 'EVOLUTIONARY BIOLOGY'],\n",
       " ['Biological Sciences', 'GENETICS & HEREDITY'],\n",
       " ['Biological Sciences', 'LIMNOLOGY'],\n",
       " ['Biological Sciences', 'MARINE & FRESHWATER BIOLOGY'],\n",
       " ['Biological Sciences', 'MATHEMATICAL & COMPUTATIONAL BIOLOGY'],\n",
       " ['Biological Sciences', 'MICROBIOLOGY'],\n",
       " ['Biological Sciences', 'MYCOLOGY'],\n",
       " ['Biological Sciences', 'ORNITHOLOGY'],\n",
       " ['Biological Sciences', 'PHYSIOLOGY'],\n",
       " ['Biological Sciences', 'REPRODUCTIVE BIOLOGY'],\n",
       " ['Biological Sciences', 'VIROLOGY'],\n",
       " ['Biological Sciences', 'ZOOLOGY'],\n",
       " ['Human Biological Sciences', 'NEUROSCIENCES'],\n",
       " ['Human Biological Sciences', 'ANATOMY & MORPHOLOGY'],\n",
       " ['Human Biological Sciences', 'PARASITOLOGY'],\n",
       " ['Human Biological Sciences', 'PATHOLOGY'],\n",
       " ['Human Biological Sciences', 'IMMUNOLOGY'],\n",
       " ['Human Biological Sciences', 'MEDICAL INFORMATICS'],\n",
       " ['Human Biological Sciences', 'MEDICINE, RESEARCH & EXPERIMENTAL'],\n",
       " ['Agricultural Sciences', 'AGRONOMY'],\n",
       " ['Agricultural Sciences', 'HORTICULTURE'],\n",
       " ['Agricultural Sciences', 'FISHERIES'],\n",
       " ['Agricultural Sciences', 'SOIL SCIENCE'],\n",
       " ['Agricultural Sciences', 'FORESTRY'],\n",
       " ['Agricultural Sciences', 'AGRICULTURE, DAIRY & ANIMAL SCIENCE'],\n",
       " ['Agricultural Sciences', 'AGRICULTURE, MULTIDISCIPLINARY'],\n",
       " ['Agricultural Sciences', 'PLANT SCIENCES'],\n",
       " ['Veterinary Sciences', 'VETERINARY SCIENCES'],\n",
       " ['Clinical Medicine', 'ALLERGY'],\n",
       " ['Clinical Medicine', 'ANDROLOGY'],\n",
       " ['Clinical Medicine', 'ANESTHESIOLOGY'],\n",
       " ['Clinical Medicine', 'CARDIAC & CARDIOVASCULAR SYSTEMS'],\n",
       " ['Clinical Medicine', 'CLINICAL NEUROLOGY'],\n",
       " ['Clinical Medicine', 'CRITICAL CARE MEDICINE'],\n",
       " ['Clinical Medicine', 'DERMATOLOGY'],\n",
       " ['Clinical Medicine', 'EMERGENCY MEDICINE'],\n",
       " ['Clinical Medicine', 'ENDOCRINOLOGY & METABOLISM'],\n",
       " ['Clinical Medicine', 'GASTROENTEROLOGY & HEPATOLOGY'],\n",
       " ['Clinical Medicine', 'GERIATRICS & GERONTOLOGY'],\n",
       " ['Clinical Medicine', 'GERONTOLOGY'],\n",
       " ['Clinical Medicine', 'HEMATOLOGY'],\n",
       " ['Clinical Medicine', 'INTEGRATIVE & COMPLEMENTARY MEDICINE'],\n",
       " ['Clinical Medicine', 'MEDICINE, GENERAL & INTERNAL'],\n",
       " ['Clinical Medicine', 'OBSTETRICS & GYNECOLOGY'],\n",
       " ['Clinical Medicine', 'ONCOLOGY'],\n",
       " ['Clinical Medicine', 'OPHTHALMOLOGY'],\n",
       " ['Clinical Medicine', 'ORTHOPEDICS'],\n",
       " ['Clinical Medicine', 'OTORHINOLARYNGOLOGY'],\n",
       " ['Clinical Medicine', 'PEDIATRICS'],\n",
       " ['Clinical Medicine', 'PERIPHERAL VASCULAR DISEASE'],\n",
       " ['Clinical Medicine', 'PSYCHIATRY'],\n",
       " ['Clinical Medicine', 'REHABILITATION'],\n",
       " ['Clinical Medicine', 'RESPIRATORY SYSTEM'],\n",
       " ['Clinical Medicine', 'RHEUMATOLOGY'],\n",
       " ['Clinical Medicine', 'SURGERY'],\n",
       " ['Clinical Medicine', 'TRANSPLANTATION'],\n",
       " ['Clinical Medicine', 'TROPICAL MEDICINE'],\n",
       " ['Clinical Medicine', 'UROLOGY & NEPHROLOGY'],\n",
       " ['Clinical Medicine', 'AUDIOLOGY & SPEECH-LANGUAGE\\nPATHOLOGY'],\n",
       " ['Public Health', 'HEALTH POLICY & SERVICES'],\n",
       " ['Public Health', 'HEALTH CARE SCIENCES & SERVICES'],\n",
       " ['Public Health', 'INFECTIOUS DISEASES'],\n",
       " ['Public Health', 'NUTRITION & DIETETICS'],\n",
       " ['Public Health', 'PRIMARY HEALTH CARE'],\n",
       " ['Public Health', 'PUBLIC, ENVIRONMENTAL & OCCUPATIONAL\\nHEALTH'],\n",
       " ['Public Health', 'SOCIAL SCIENCES, BIOMEDICAL'],\n",
       " ['Public Health', 'SUBSTANCE ABUSE'],\n",
       " ['Public Health', 'ERGONOMICS'],\n",
       " ['Dentistry & Oral Sciences', 'DENTISTRY, ORAL SURGERY & MEDICINE'],\n",
       " ['Nursing', 'NURSING'],\n",
       " ['Medical Technology', 'MEDICAL LABORATORY TECHNOLOGY'],\n",
       " ['Medical Technology', 'NEUROIMAGING'],\n",
       " ['Medical Technology', 'RADIOLOGY, NUCLEAR MEDICINE & MEDICAL\\nIMAGING'],\n",
       " ['Pharmacy & Pharmaceutical Sciences', 'CHEMISTRY, MEDICINAL'],\n",
       " ['Pharmacy & Pharmaceutical Sciences', 'PHARMACOLOGY & PHARMACY'],\n",
       " ['Pharmacy & Pharmaceutical Sciences', 'TOXICOLOGY'],\n",
       " ['Economics', 'ECONOMICS'],\n",
       " ['Statistics', 'STATISTICS & PROBABILITY'],\n",
       " ['Law', 'CRIMINOLOGY & PENOLOGY'],\n",
       " ['Law', 'LAW'],\n",
       " ['Political Sciences', 'INTERNATIONAL RELATIONS'],\n",
       " ['Political Sciences', 'POLITICAL SCIENCE'],\n",
       " ['Sociology', 'SOCIOLOGY'],\n",
       " ['Education', 'EDUCATION & EDUCATIONAL RESEARCH'],\n",
       " ['Education', 'EDUCATION, SCIENTIFIC DISCIPLINES'],\n",
       " ['Education', 'EDUCATION, SPECIAL'],\n",
       " ['Communication', 'COMMUNICATION'],\n",
       " ['Psychology', 'PSYCHOLOGY'],\n",
       " ['Psychology', 'PSYCHOLOGY, APPLIED'],\n",
       " ['Psychology', 'PSYCHOLOGY, BIOLOGICAL'],\n",
       " ['Psychology', 'PSYCHOLOGY, CLINICAL'],\n",
       " ['Psychology', 'PSYCHOLOGY, DEVELOPMENTAL'],\n",
       " ['Psychology', 'PSYCHOLOGY, EDUCATIONAL'],\n",
       " ['Psychology', 'PSYCHOLOGY, EXPERIMENTAL'],\n",
       " ['Psychology', 'PSYCHOLOGY, MATHEMATICAL'],\n",
       " ['Psychology', 'PSYCHOLOGY, MULTIDISCIPLINARY'],\n",
       " ['Psychology', 'PSYCHOLOGY, PSYCHOANALYSIS'],\n",
       " ['Psychology', 'PSYCHOLOGY, SOCIAL'],\n",
       " ['Psychology', 'BEHAVIORAL SCIENCES'],\n",
       " ['Business Administration', 'BUSINESS'],\n",
       " ['Business Administration', 'INDUSTRIAL RELATIONS & LABOR'],\n",
       " ['Finance', 'BUSINESS, FINANCE'],\n",
       " ['Management', 'MANAGEMENT'],\n",
       " ['Management', 'OPERATIONS RESEARCH & MANAGEMENT\\nSCIENCE'],\n",
       " ['Public Administration', 'PUBLIC ADMINISTRATION'],\n",
       " ['Hospitality & Tourism Management', 'HOSPITALITY, LEISURE, SPORT & TOURISM'],\n",
       " ['Library & Information Science', 'INFORMATION SCIENCE & LIBRARY SCIENCE']]"
      ]
     },
     "execution_count": 4,
     "metadata": {},
     "output_type": "execute_result"
    }
   ],
   "source": [
    "lis_a"
   ]
  },
  {
   "cell_type": "code",
   "execution_count": 15,
   "metadata": {},
   "outputs": [],
   "source": [
    "####################运用此程序的前提是：先在原文件里做好分类汇总####################################\n",
    "\n",
    "diction={}#创建空白字典\n",
    "counter=0\n",
    "while True:#为了是for循环中的起始值counter的改变，for进入循环后，起始值不再改变，\n",
    "    for item_1 in lis_a[counter:]:\n",
    "        lis_c=[]\n",
    "        initial_s=0\n",
    "        lis_c.append(item_1[1])#将第一个期刊加入列表，在此处加入是防止仅出现一次而忽略\n",
    "        for item_2 in lis_a[counter+1:]:\n",
    "            if item_1[0]==item_2[0]:\n",
    "                lis_c.append(item_2[1])#将相同的期刊加入列表\n",
    "                initial_s+=1 #每找到一个相同的就把initial_s加一，     \n",
    "        diction[item_1[0]]=lis_c\n",
    "        break#为了使for循环中的起始值改变，循环一次后利用break强制退出for循环，利用while进入下一次循环\n",
    "    counter=counter+initial_s+1\n",
    "    if counter>=len(lis_a):#为了使while循环跳出,当大于列表长度的时候跳出循环\n",
    "        break"
   ]
  },
  {
   "cell_type": "code",
   "execution_count": 16,
   "metadata": {},
   "outputs": [
    {
     "data": {
      "text/plain": [
       "{'Mathematics': ['MATHEMATICS', 'MATHEMATICS, APPLIED'],\n",
       " 'Physics': ['ACOUSTICS',\n",
       "  'ASTRONOMY & ASTROPHYSICS',\n",
       "  'OPTICS',\n",
       "  'PHYSICS, APPLIED',\n",
       "  'PHYSICS, ATOMIC, MOLECULAR & CHEMICAL',\n",
       "  'PHYSICS, CONDENSED MATTER',\n",
       "  'PHYSICS, FLUIDS & PLASMAS',\n",
       "  'PHYSICS, MATHEMATICAL',\n",
       "  'PHYSICS, MULTIDISCIPLINARY',\n",
       "  'PHYSICS, NUCLEAR',\n",
       "  'PHYSICS, PARTICLES & FIELDS'],\n",
       " 'Chemistry': ['CHEMISTRY, ANALYTICAL',\n",
       "  'CHEMISTRY, APPLIED',\n",
       "  'CHEMISTRY, INORGANIC & NUCLEAR',\n",
       "  'CHEMISTRY, MULTIDISCIPLINARY',\n",
       "  'CHEMISTRY, ORGANIC',\n",
       "  'CHEMISTRY, PHYSICAL',\n",
       "  'CRYSTALLOGRAPHY',\n",
       "  'ELECTROCHEMISTRY',\n",
       "  'SPECTROSCOPY',\n",
       "  'POLYMER SCIENCE'],\n",
       " 'Earth Sciences': ['GEOCHEMISTRY & GEOPHYSICS',\n",
       "  'GEOLOGY',\n",
       "  'GEOSCIENCES, MULTIDISCIPLINARY',\n",
       "  'MINERALOGY',\n",
       "  'PALEONTOLOGY'],\n",
       " 'Geography': ['AREA STUDIES', 'GEOGRAPHY', 'GEOGRAPHY, PHYSICAL'],\n",
       " 'Ecology': ['BIODIVERSITY CONSERVATION', 'ECOLOGY'],\n",
       " 'Oceanography': ['OCEANOGRAPHY'],\n",
       " 'Atmospheric Science': ['METEOROLOGY & ATMOSPHERIC SCIENCES'],\n",
       " 'Mechanical Engineering': ['ENGINEERING, MANUFACTURING',\n",
       "  'ENGINEERING, MECHANICAL'],\n",
       " 'Electrical & Electronic Engineering': ['ENGINEERING, ELECTRICAL & ELECTRONIC',\n",
       "  'IMAGING SCIENCE & PHOTOGRAPHIC\\nTECHNOLOGY'],\n",
       " 'Automation & Control': ['AUTOMATION & CONTROL SYSTEMS', 'ROBOTICS'],\n",
       " 'Telecommunication Engineering': ['TELECOMMUNICATIONS'],\n",
       " 'Instruments Science & Technology': ['INSTRUMENTS & INSTRUMENTATION',\n",
       "  'MICROSCOPY'],\n",
       " 'Biomedical Engineering': ['CELL & TISSUE ENGINEERING',\n",
       "  'ENGINEERING, BIOMEDICAL'],\n",
       " 'Computer Science & Engineering': ['COMPUTER SCIENCE, INFORMATION SYSTEMS',\n",
       "  'COMPUTER SCIENCE, CYBERNETICS',\n",
       "  'COMPUTER SCIENCE, SOFTWARE\\nENGINEERING',\n",
       "  'COMPUTER SCIENCE, ARTIFICIAL\\nINTELLIGENCE',\n",
       "  'COMPUTER SCIENCE, HARDWARE &\\nARCHITECTURE',\n",
       "  'COMPUTER SCIENCE, THEORY & METHODS',\n",
       "  'COMPUTER SCIENCE, INTERDISCIPLINARY\\nAPPLICATIONS'],\n",
       " 'Civil Engineering': ['CONSTRUCTION & BUILDING TECHNOLOGY',\n",
       "  'ENGINEERING, CIVIL'],\n",
       " 'Chemical Engineering': ['ENGINEERING, CHEMICAL'],\n",
       " 'Materials Science & Engineering': ['MATERIALS SCIENCE, BIOMATERIALS',\n",
       "  'MATERIALS SCIENCE, CERAMICS',\n",
       "  'MATERIALS SCIENCE, CHARACTERIZATION &\\nTESTING',\n",
       "  'MATERIALS SCIENCE, COATINGS & FILMS',\n",
       "  'MATERIALS SCIENCE, COMPOSITES',\n",
       "  'MATERIALS SCIENCE, MULTIDISCIPLINARY',\n",
       "  'MATERIALS SCIENCE, PAPER & WOOD',\n",
       "  'MATERIALS SCIENCE, TEXTILES'],\n",
       " 'Nanoscience & Nanotechnology': ['NANOSCIENCE & NANOTECHNOLOGY'],\n",
       " 'Energy Science & Engineering': ['ENERGY & FUELS',\n",
       "  'NUCLEAR SCIENCE & TECHNOLOGY',\n",
       "  'ENGINEERING, PETROLEUM'],\n",
       " 'Environmental Science & Engineering': ['ENGINEERING, ENVIRONMENTAL',\n",
       "  'ENVIRONMENTAL SCIENCES',\n",
       "  'ENVIRONMENTAL STUDIES'],\n",
       " 'Water Resources': ['WATER RESOURCES'],\n",
       " 'Food Science & Technology': ['FOOD SCIENCE & TECHNOLOGY'],\n",
       " 'Biotechnology': ['BIOTECHNOLOGY & APPLIED MICROBIOLOGY'],\n",
       " 'Aerospace Engineering': ['ENGINEERING, AEROSPACE'],\n",
       " 'Marine/Ocean Engineering': ['ENGINEERING, MARINE', 'ENGINEERING, OCEAN'],\n",
       " 'Transportation Science & Technology': ['TRANSPORTATION',\n",
       "  'TRANSPORTATION SCIENCE & TECHNOLOGY'],\n",
       " 'Remote Sensing': ['REMOTE SENSING'],\n",
       " 'Mining & Mineral Engineering': ['MINING & MINERAL PROCESSING'],\n",
       " 'Metallurgical Engineering': ['METALLURGY & METALLURGICAL\\nENGINEERING'],\n",
       " 'Biological Sciences': ['BIOCHEMICAL RESEARCH METHODS',\n",
       "  'BIOCHEMISTRY & MOLECULAR BIOLOGY',\n",
       "  'BIOLOGY',\n",
       "  'BIOPHYSICS',\n",
       "  'CELL BIOLOGY',\n",
       "  'DEVELOPMENTAL BIOLOGY',\n",
       "  'ENTOMOLOGY',\n",
       "  'EVOLUTIONARY BIOLOGY',\n",
       "  'GENETICS & HEREDITY',\n",
       "  'LIMNOLOGY',\n",
       "  'MARINE & FRESHWATER BIOLOGY',\n",
       "  'MATHEMATICAL & COMPUTATIONAL BIOLOGY',\n",
       "  'MICROBIOLOGY',\n",
       "  'MYCOLOGY',\n",
       "  'ORNITHOLOGY',\n",
       "  'PHYSIOLOGY',\n",
       "  'REPRODUCTIVE BIOLOGY',\n",
       "  'VIROLOGY',\n",
       "  'ZOOLOGY'],\n",
       " 'Human Biological Sciences': ['NEUROSCIENCES',\n",
       "  'ANATOMY & MORPHOLOGY',\n",
       "  'PARASITOLOGY',\n",
       "  'PATHOLOGY',\n",
       "  'IMMUNOLOGY',\n",
       "  'MEDICAL INFORMATICS',\n",
       "  'MEDICINE, RESEARCH & EXPERIMENTAL'],\n",
       " 'Agricultural Sciences': ['AGRONOMY',\n",
       "  'HORTICULTURE',\n",
       "  'FISHERIES',\n",
       "  'SOIL SCIENCE',\n",
       "  'FORESTRY',\n",
       "  'AGRICULTURE, DAIRY & ANIMAL SCIENCE',\n",
       "  'AGRICULTURE, MULTIDISCIPLINARY',\n",
       "  'PLANT SCIENCES'],\n",
       " 'Veterinary Sciences': ['VETERINARY SCIENCES'],\n",
       " 'Clinical Medicine': ['ALLERGY',\n",
       "  'ANDROLOGY',\n",
       "  'ANESTHESIOLOGY',\n",
       "  'CARDIAC & CARDIOVASCULAR SYSTEMS',\n",
       "  'CLINICAL NEUROLOGY',\n",
       "  'CRITICAL CARE MEDICINE',\n",
       "  'DERMATOLOGY',\n",
       "  'EMERGENCY MEDICINE',\n",
       "  'ENDOCRINOLOGY & METABOLISM',\n",
       "  'GASTROENTEROLOGY & HEPATOLOGY',\n",
       "  'GERIATRICS & GERONTOLOGY',\n",
       "  'GERONTOLOGY',\n",
       "  'HEMATOLOGY',\n",
       "  'INTEGRATIVE & COMPLEMENTARY MEDICINE',\n",
       "  'MEDICINE, GENERAL & INTERNAL',\n",
       "  'OBSTETRICS & GYNECOLOGY',\n",
       "  'ONCOLOGY',\n",
       "  'OPHTHALMOLOGY',\n",
       "  'ORTHOPEDICS',\n",
       "  'OTORHINOLARYNGOLOGY',\n",
       "  'PEDIATRICS',\n",
       "  'PERIPHERAL VASCULAR DISEASE',\n",
       "  'PSYCHIATRY',\n",
       "  'REHABILITATION',\n",
       "  'RESPIRATORY SYSTEM',\n",
       "  'RHEUMATOLOGY',\n",
       "  'SURGERY',\n",
       "  'TRANSPLANTATION',\n",
       "  'TROPICAL MEDICINE',\n",
       "  'UROLOGY & NEPHROLOGY',\n",
       "  'AUDIOLOGY & SPEECH-LANGUAGE\\nPATHOLOGY'],\n",
       " 'Public Health': ['HEALTH POLICY & SERVICES',\n",
       "  'HEALTH CARE SCIENCES & SERVICES',\n",
       "  'INFECTIOUS DISEASES',\n",
       "  'NUTRITION & DIETETICS',\n",
       "  'PRIMARY HEALTH CARE',\n",
       "  'PUBLIC, ENVIRONMENTAL & OCCUPATIONAL\\nHEALTH',\n",
       "  'SOCIAL SCIENCES, BIOMEDICAL',\n",
       "  'SUBSTANCE ABUSE',\n",
       "  'ERGONOMICS'],\n",
       " 'Dentistry & Oral Sciences': ['DENTISTRY, ORAL SURGERY & MEDICINE'],\n",
       " 'Nursing': ['NURSING'],\n",
       " 'Medical Technology': ['MEDICAL LABORATORY TECHNOLOGY',\n",
       "  'NEUROIMAGING',\n",
       "  'RADIOLOGY, NUCLEAR MEDICINE & MEDICAL\\nIMAGING'],\n",
       " 'Pharmacy & Pharmaceutical Sciences': ['CHEMISTRY, MEDICINAL',\n",
       "  'PHARMACOLOGY & PHARMACY',\n",
       "  'TOXICOLOGY'],\n",
       " 'Economics': ['ECONOMICS'],\n",
       " 'Statistics': ['STATISTICS & PROBABILITY'],\n",
       " 'Law': ['CRIMINOLOGY & PENOLOGY', 'LAW'],\n",
       " 'Political Sciences': ['INTERNATIONAL RELATIONS', 'POLITICAL SCIENCE'],\n",
       " 'Sociology': ['SOCIOLOGY'],\n",
       " 'Education': ['EDUCATION & EDUCATIONAL RESEARCH',\n",
       "  'EDUCATION, SCIENTIFIC DISCIPLINES',\n",
       "  'EDUCATION, SPECIAL'],\n",
       " 'Communication': ['COMMUNICATION'],\n",
       " 'Psychology': ['PSYCHOLOGY',\n",
       "  'PSYCHOLOGY, APPLIED',\n",
       "  'PSYCHOLOGY, BIOLOGICAL',\n",
       "  'PSYCHOLOGY, CLINICAL',\n",
       "  'PSYCHOLOGY, DEVELOPMENTAL',\n",
       "  'PSYCHOLOGY, EDUCATIONAL',\n",
       "  'PSYCHOLOGY, EXPERIMENTAL',\n",
       "  'PSYCHOLOGY, MATHEMATICAL',\n",
       "  'PSYCHOLOGY, MULTIDISCIPLINARY',\n",
       "  'PSYCHOLOGY, PSYCHOANALYSIS',\n",
       "  'PSYCHOLOGY, SOCIAL',\n",
       "  'BEHAVIORAL SCIENCES'],\n",
       " 'Business Administration': ['BUSINESS', 'INDUSTRIAL RELATIONS & LABOR'],\n",
       " 'Finance': ['BUSINESS, FINANCE'],\n",
       " 'Management': ['MANAGEMENT', 'OPERATIONS RESEARCH & MANAGEMENT\\nSCIENCE'],\n",
       " 'Public Administration': ['PUBLIC ADMINISTRATION'],\n",
       " 'Hospitality & Tourism Management': ['HOSPITALITY, LEISURE, SPORT & TOURISM'],\n",
       " 'Library & Information Science': ['INFORMATION SCIENCE & LIBRARY SCIENCE']}"
      ]
     },
     "execution_count": 16,
     "metadata": {},
     "output_type": "execute_result"
    }
   ],
   "source": [
    "diction"
   ]
  },
  {
   "cell_type": "code",
   "execution_count": null,
   "metadata": {},
   "outputs": [],
   "source": []
  },
  {
   "cell_type": "code",
   "execution_count": null,
   "metadata": {},
   "outputs": [],
   "source": []
  },
  {
   "cell_type": "code",
   "execution_count": 7,
   "metadata": {},
   "outputs": [],
   "source": [
    "########################服务器崩溃后，从此处运行##########################################\n",
    "browser = webdriver.Chrome('C:/Users/rk/Desktop/chromedriver.exe') #锁定浏览器\n"
   ]
  },
  {
   "cell_type": "code",
   "execution_count": 8,
   "metadata": {},
   "outputs": [],
   "source": [
    "browser.get(\"https://incites.thomsonreuters.com/#/explore/0/organization//\")#访问网页"
   ]
  },
  {
   "cell_type": "code",
   "execution_count": null,
   "metadata": {},
   "outputs": [],
   "source": [
    "\"\"\"\n",
    "web of science 下载ISSN账号\n",
    "Incite:602281532@qq.com\n",
    "密码：rank2016!\n",
    "\n",
    "\"\"\""
   ]
  },
  {
   "cell_type": "code",
   "execution_count": 17,
   "metadata": {},
   "outputs": [],
   "source": [
    "final_diction={}"
   ]
  },
  {
   "cell_type": "code",
   "execution_count": 20,
   "metadata": {},
   "outputs": [
    {
     "ename": "NoSuchElementException",
     "evalue": "Message: no such element: Unable to locate element: {\"method\":\"xpath\",\"selector\":\"//*[@id=\"s2id_autogen6944\"]\"}\n  (Session info: chrome=71.0.3578.98)\n  (Driver info: chromedriver=2.37.544315 (730aa6a5fdba159ac9f4c1e8cbc59bf1b5ce12b7),platform=Windows NT 10.0.17134 x86_64)\n",
     "output_type": "error",
     "traceback": [
      "\u001b[1;31m---------------------------------------------------------------------------\u001b[0m",
      "\u001b[1;31mNoSuchElementException\u001b[0m                    Traceback (most recent call last)",
      "\u001b[1;32m<ipython-input-20-ee62e2fe5cf7>\u001b[0m in \u001b[0;36m<module>\u001b[1;34m()\u001b[0m\n\u001b[0;32m     23\u001b[0m             \u001b[1;32mexcept\u001b[0m\u001b[1;33m:\u001b[0m\u001b[1;32mpass\u001b[0m\u001b[1;33m\u001b[0m\u001b[0m\n\u001b[1;32m---> 24\u001b[1;33m         \u001b[0mbrowser\u001b[0m\u001b[1;33m.\u001b[0m\u001b[0mfind_element_by_xpath\u001b[0m\u001b[1;33m(\u001b[0m\u001b[1;34m'//*[@id=\"fileName\"]'\u001b[0m\u001b[1;33m)\u001b[0m\u001b[1;33m.\u001b[0m\u001b[0mclear\u001b[0m\u001b[1;33m(\u001b[0m\u001b[1;33m)\u001b[0m\u001b[1;33m\u001b[0m\u001b[0m\n\u001b[0m\u001b[0;32m     25\u001b[0m         \u001b[0mbrowser\u001b[0m\u001b[1;33m.\u001b[0m\u001b[0mfind_element_by_xpath\u001b[0m\u001b[1;33m(\u001b[0m\u001b[1;34m'//*[@id=\"fileName\"]'\u001b[0m\u001b[1;33m)\u001b[0m\u001b[1;33m.\u001b[0m\u001b[0msend_keys\u001b[0m\u001b[1;33m(\u001b[0m\u001b[0mkey\u001b[0m\u001b[1;33m)\u001b[0m\u001b[1;33m\u001b[0m\u001b[0m\n",
      "\u001b[1;32mC:\\ProgramData\\Anaconda3\\lib\\site-packages\\selenium\\webdriver\\remote\\webdriver.py\u001b[0m in \u001b[0;36mfind_element_by_xpath\u001b[1;34m(self, xpath)\u001b[0m\n\u001b[0;32m    392\u001b[0m         \"\"\"\n\u001b[1;32m--> 393\u001b[1;33m         \u001b[1;32mreturn\u001b[0m \u001b[0mself\u001b[0m\u001b[1;33m.\u001b[0m\u001b[0mfind_element\u001b[0m\u001b[1;33m(\u001b[0m\u001b[0mby\u001b[0m\u001b[1;33m=\u001b[0m\u001b[0mBy\u001b[0m\u001b[1;33m.\u001b[0m\u001b[0mXPATH\u001b[0m\u001b[1;33m,\u001b[0m \u001b[0mvalue\u001b[0m\u001b[1;33m=\u001b[0m\u001b[0mxpath\u001b[0m\u001b[1;33m)\u001b[0m\u001b[1;33m\u001b[0m\u001b[0m\n\u001b[0m\u001b[0;32m    394\u001b[0m \u001b[1;33m\u001b[0m\u001b[0m\n",
      "\u001b[1;32mC:\\ProgramData\\Anaconda3\\lib\\site-packages\\selenium\\webdriver\\remote\\webdriver.py\u001b[0m in \u001b[0;36mfind_element\u001b[1;34m(self, by, value)\u001b[0m\n\u001b[0;32m    965\u001b[0m             \u001b[1;34m'using'\u001b[0m\u001b[1;33m:\u001b[0m \u001b[0mby\u001b[0m\u001b[1;33m,\u001b[0m\u001b[1;33m\u001b[0m\u001b[0m\n\u001b[1;32m--> 966\u001b[1;33m             'value': value})['value']\n\u001b[0m\u001b[0;32m    967\u001b[0m \u001b[1;33m\u001b[0m\u001b[0m\n",
      "\u001b[1;32mC:\\ProgramData\\Anaconda3\\lib\\site-packages\\selenium\\webdriver\\remote\\webdriver.py\u001b[0m in \u001b[0;36mexecute\u001b[1;34m(self, driver_command, params)\u001b[0m\n\u001b[0;32m    319\u001b[0m         \u001b[1;32mif\u001b[0m \u001b[0mresponse\u001b[0m\u001b[1;33m:\u001b[0m\u001b[1;33m\u001b[0m\u001b[0m\n\u001b[1;32m--> 320\u001b[1;33m             \u001b[0mself\u001b[0m\u001b[1;33m.\u001b[0m\u001b[0merror_handler\u001b[0m\u001b[1;33m.\u001b[0m\u001b[0mcheck_response\u001b[0m\u001b[1;33m(\u001b[0m\u001b[0mresponse\u001b[0m\u001b[1;33m)\u001b[0m\u001b[1;33m\u001b[0m\u001b[0m\n\u001b[0m\u001b[0;32m    321\u001b[0m             response['value'] = self._unwrap_value(\n",
      "\u001b[1;32mC:\\ProgramData\\Anaconda3\\lib\\site-packages\\selenium\\webdriver\\remote\\errorhandler.py\u001b[0m in \u001b[0;36mcheck_response\u001b[1;34m(self, response)\u001b[0m\n\u001b[0;32m    241\u001b[0m             \u001b[1;32mraise\u001b[0m \u001b[0mexception_class\u001b[0m\u001b[1;33m(\u001b[0m\u001b[0mmessage\u001b[0m\u001b[1;33m,\u001b[0m \u001b[0mscreen\u001b[0m\u001b[1;33m,\u001b[0m \u001b[0mstacktrace\u001b[0m\u001b[1;33m,\u001b[0m \u001b[0malert_text\u001b[0m\u001b[1;33m)\u001b[0m\u001b[1;33m\u001b[0m\u001b[0m\n\u001b[1;32m--> 242\u001b[1;33m         \u001b[1;32mraise\u001b[0m \u001b[0mexception_class\u001b[0m\u001b[1;33m(\u001b[0m\u001b[0mmessage\u001b[0m\u001b[1;33m,\u001b[0m \u001b[0mscreen\u001b[0m\u001b[1;33m,\u001b[0m \u001b[0mstacktrace\u001b[0m\u001b[1;33m)\u001b[0m\u001b[1;33m\u001b[0m\u001b[0m\n\u001b[0m\u001b[0;32m    243\u001b[0m \u001b[1;33m\u001b[0m\u001b[0m\n",
      "\u001b[1;31mNoSuchElementException\u001b[0m: Message: no such element: Unable to locate element: {\"method\":\"xpath\",\"selector\":\"//*[@id=\"fileName\"]\"}\n  (Session info: chrome=71.0.3578.98)\n  (Driver info: chromedriver=2.37.544315 (730aa6a5fdba159ac9f4c1e8cbc59bf1b5ce12b7),platform=Windows NT 10.0.17134 x86_64)\n",
      "\nDuring handling of the above exception, another exception occurred:\n",
      "\u001b[1;31mNoSuchElementException\u001b[0m                    Traceback (most recent call last)",
      "\u001b[1;32m<ipython-input-20-ee62e2fe5cf7>\u001b[0m in \u001b[0;36m<module>\u001b[1;34m()\u001b[0m\n\u001b[0;32m     29\u001b[0m     \u001b[1;32mexcept\u001b[0m\u001b[1;33m:\u001b[0m\u001b[1;33m\u001b[0m\u001b[0m\n\u001b[0;32m     30\u001b[0m         \u001b[1;32mwhile\u001b[0m \u001b[1;32mTrue\u001b[0m\u001b[1;33m:\u001b[0m\u001b[1;33m\u001b[0m\u001b[0m\n\u001b[1;32m---> 31\u001b[1;33m             \u001b[0mbrowser\u001b[0m\u001b[1;33m.\u001b[0m\u001b[0mfind_element_by_xpath\u001b[0m\u001b[1;33m(\u001b[0m\u001b[1;34m'//*[@id=\"s2id_autogen6944\"]'\u001b[0m\u001b[1;33m)\u001b[0m\u001b[1;33m.\u001b[0m\u001b[0msend_keys\u001b[0m\u001b[1;33m(\u001b[0m\u001b[0mKeys\u001b[0m\u001b[1;33m.\u001b[0m\u001b[0mBACK_SPACE\u001b[0m\u001b[1;33m)\u001b[0m\u001b[1;33m\u001b[0m\u001b[0m\n\u001b[0m\u001b[0;32m     32\u001b[0m             \u001b[1;32mif\u001b[0m \u001b[0mlen\u001b[0m\u001b[1;33m(\u001b[0m\u001b[0mbrowser\u001b[0m\u001b[1;33m.\u001b[0m\u001b[0mfind_elements_by_xpath\u001b[0m\u001b[1;33m(\u001b[0m\u001b[1;34m'//*[@id=\"s2id_sbjname\"]/ul/li'\u001b[0m\u001b[1;33m)\u001b[0m\u001b[1;33m)\u001b[0m\u001b[1;33m==\u001b[0m\u001b[1;36m1\u001b[0m\u001b[1;33m:\u001b[0m\u001b[1;33m\u001b[0m\u001b[0m\n\u001b[0;32m     33\u001b[0m                 \u001b[1;32mbreak\u001b[0m\u001b[1;33m\u001b[0m\u001b[0m\n",
      "\u001b[1;32mC:\\ProgramData\\Anaconda3\\lib\\site-packages\\selenium\\webdriver\\remote\\webdriver.py\u001b[0m in \u001b[0;36mfind_element_by_xpath\u001b[1;34m(self, xpath)\u001b[0m\n\u001b[0;32m    391\u001b[0m             \u001b[0melement\u001b[0m \u001b[1;33m=\u001b[0m \u001b[0mdriver\u001b[0m\u001b[1;33m.\u001b[0m\u001b[0mfind_element_by_xpath\u001b[0m\u001b[1;33m(\u001b[0m\u001b[1;34m'//div/td[1]'\u001b[0m\u001b[1;33m)\u001b[0m\u001b[1;33m\u001b[0m\u001b[0m\n\u001b[0;32m    392\u001b[0m         \"\"\"\n\u001b[1;32m--> 393\u001b[1;33m         \u001b[1;32mreturn\u001b[0m \u001b[0mself\u001b[0m\u001b[1;33m.\u001b[0m\u001b[0mfind_element\u001b[0m\u001b[1;33m(\u001b[0m\u001b[0mby\u001b[0m\u001b[1;33m=\u001b[0m\u001b[0mBy\u001b[0m\u001b[1;33m.\u001b[0m\u001b[0mXPATH\u001b[0m\u001b[1;33m,\u001b[0m \u001b[0mvalue\u001b[0m\u001b[1;33m=\u001b[0m\u001b[0mxpath\u001b[0m\u001b[1;33m)\u001b[0m\u001b[1;33m\u001b[0m\u001b[0m\n\u001b[0m\u001b[0;32m    394\u001b[0m \u001b[1;33m\u001b[0m\u001b[0m\n\u001b[0;32m    395\u001b[0m     \u001b[1;32mdef\u001b[0m \u001b[0mfind_elements_by_xpath\u001b[0m\u001b[1;33m(\u001b[0m\u001b[0mself\u001b[0m\u001b[1;33m,\u001b[0m \u001b[0mxpath\u001b[0m\u001b[1;33m)\u001b[0m\u001b[1;33m:\u001b[0m\u001b[1;33m\u001b[0m\u001b[0m\n",
      "\u001b[1;32mC:\\ProgramData\\Anaconda3\\lib\\site-packages\\selenium\\webdriver\\remote\\webdriver.py\u001b[0m in \u001b[0;36mfind_element\u001b[1;34m(self, by, value)\u001b[0m\n\u001b[0;32m    964\u001b[0m         return self.execute(Command.FIND_ELEMENT, {\n\u001b[0;32m    965\u001b[0m             \u001b[1;34m'using'\u001b[0m\u001b[1;33m:\u001b[0m \u001b[0mby\u001b[0m\u001b[1;33m,\u001b[0m\u001b[1;33m\u001b[0m\u001b[0m\n\u001b[1;32m--> 966\u001b[1;33m             'value': value})['value']\n\u001b[0m\u001b[0;32m    967\u001b[0m \u001b[1;33m\u001b[0m\u001b[0m\n\u001b[0;32m    968\u001b[0m     \u001b[1;32mdef\u001b[0m \u001b[0mfind_elements\u001b[0m\u001b[1;33m(\u001b[0m\u001b[0mself\u001b[0m\u001b[1;33m,\u001b[0m \u001b[0mby\u001b[0m\u001b[1;33m=\u001b[0m\u001b[0mBy\u001b[0m\u001b[1;33m.\u001b[0m\u001b[0mID\u001b[0m\u001b[1;33m,\u001b[0m \u001b[0mvalue\u001b[0m\u001b[1;33m=\u001b[0m\u001b[1;32mNone\u001b[0m\u001b[1;33m)\u001b[0m\u001b[1;33m:\u001b[0m\u001b[1;33m\u001b[0m\u001b[0m\n",
      "\u001b[1;32mC:\\ProgramData\\Anaconda3\\lib\\site-packages\\selenium\\webdriver\\remote\\webdriver.py\u001b[0m in \u001b[0;36mexecute\u001b[1;34m(self, driver_command, params)\u001b[0m\n\u001b[0;32m    318\u001b[0m         \u001b[0mresponse\u001b[0m \u001b[1;33m=\u001b[0m \u001b[0mself\u001b[0m\u001b[1;33m.\u001b[0m\u001b[0mcommand_executor\u001b[0m\u001b[1;33m.\u001b[0m\u001b[0mexecute\u001b[0m\u001b[1;33m(\u001b[0m\u001b[0mdriver_command\u001b[0m\u001b[1;33m,\u001b[0m \u001b[0mparams\u001b[0m\u001b[1;33m)\u001b[0m\u001b[1;33m\u001b[0m\u001b[0m\n\u001b[0;32m    319\u001b[0m         \u001b[1;32mif\u001b[0m \u001b[0mresponse\u001b[0m\u001b[1;33m:\u001b[0m\u001b[1;33m\u001b[0m\u001b[0m\n\u001b[1;32m--> 320\u001b[1;33m             \u001b[0mself\u001b[0m\u001b[1;33m.\u001b[0m\u001b[0merror_handler\u001b[0m\u001b[1;33m.\u001b[0m\u001b[0mcheck_response\u001b[0m\u001b[1;33m(\u001b[0m\u001b[0mresponse\u001b[0m\u001b[1;33m)\u001b[0m\u001b[1;33m\u001b[0m\u001b[0m\n\u001b[0m\u001b[0;32m    321\u001b[0m             response['value'] = self._unwrap_value(\n\u001b[0;32m    322\u001b[0m                 response.get('value', None))\n",
      "\u001b[1;32mC:\\ProgramData\\Anaconda3\\lib\\site-packages\\selenium\\webdriver\\remote\\errorhandler.py\u001b[0m in \u001b[0;36mcheck_response\u001b[1;34m(self, response)\u001b[0m\n\u001b[0;32m    240\u001b[0m                 \u001b[0malert_text\u001b[0m \u001b[1;33m=\u001b[0m \u001b[0mvalue\u001b[0m\u001b[1;33m[\u001b[0m\u001b[1;34m'alert'\u001b[0m\u001b[1;33m]\u001b[0m\u001b[1;33m.\u001b[0m\u001b[0mget\u001b[0m\u001b[1;33m(\u001b[0m\u001b[1;34m'text'\u001b[0m\u001b[1;33m)\u001b[0m\u001b[1;33m\u001b[0m\u001b[0m\n\u001b[0;32m    241\u001b[0m             \u001b[1;32mraise\u001b[0m \u001b[0mexception_class\u001b[0m\u001b[1;33m(\u001b[0m\u001b[0mmessage\u001b[0m\u001b[1;33m,\u001b[0m \u001b[0mscreen\u001b[0m\u001b[1;33m,\u001b[0m \u001b[0mstacktrace\u001b[0m\u001b[1;33m,\u001b[0m \u001b[0malert_text\u001b[0m\u001b[1;33m)\u001b[0m\u001b[1;33m\u001b[0m\u001b[0m\n\u001b[1;32m--> 242\u001b[1;33m         \u001b[1;32mraise\u001b[0m \u001b[0mexception_class\u001b[0m\u001b[1;33m(\u001b[0m\u001b[0mmessage\u001b[0m\u001b[1;33m,\u001b[0m \u001b[0mscreen\u001b[0m\u001b[1;33m,\u001b[0m \u001b[0mstacktrace\u001b[0m\u001b[1;33m)\u001b[0m\u001b[1;33m\u001b[0m\u001b[0m\n\u001b[0m\u001b[0;32m    243\u001b[0m \u001b[1;33m\u001b[0m\u001b[0m\n\u001b[0;32m    244\u001b[0m     \u001b[1;32mdef\u001b[0m \u001b[0m_value_or_default\u001b[0m\u001b[1;33m(\u001b[0m\u001b[0mself\u001b[0m\u001b[1;33m,\u001b[0m \u001b[0mobj\u001b[0m\u001b[1;33m,\u001b[0m \u001b[0mkey\u001b[0m\u001b[1;33m,\u001b[0m \u001b[0mdefault\u001b[0m\u001b[1;33m)\u001b[0m\u001b[1;33m:\u001b[0m\u001b[1;33m\u001b[0m\u001b[0m\n",
      "\u001b[1;31mNoSuchElementException\u001b[0m: Message: no such element: Unable to locate element: {\"method\":\"xpath\",\"selector\":\"//*[@id=\"s2id_autogen6944\"]\"}\n  (Session info: chrome=71.0.3578.98)\n  (Driver info: chromedriver=2.37.544315 (730aa6a5fdba159ac9f4c1e8cbc59bf1b5ce12b7),platform=Windows NT 10.0.17134 x86_64)\n"
     ]
    }
   ],
   "source": [
    "for key ,value in diction.items():\n",
    "    try:\n",
    "        while True:\n",
    "            browser.find_element_by_xpath('//*[@id=\"s2id_autogen18\"]').send_keys(Keys.BACK_SPACE)\n",
    "            if len(browser.find_elements_by_xpath('//*[@id=\"s2id_sbjname\"]/ul/li'))==1:\n",
    "                break\n",
    "        for val in value:\n",
    "            browser.find_element_by_xpath('//*[@id=\"s2id_autogen18\"]').send_keys(val)\n",
    "            browser.find_element_by_xpath('//*[@id=\"s2id_autogen18\"]').send_keys(Keys.ENTER)\n",
    "        while True:\n",
    "            flag=0\n",
    "            try:\n",
    "                browser.find_element_by_xpath('/html/body/div[1]/div/div[3]/div[1]/div/section/main/div[2]/div[1]/div[5]/div/button').click()\n",
    "                flag=1\n",
    "                if flag==1:break\n",
    "            except:pass\n",
    "        while True:\n",
    "            flag=0\n",
    "            try:\n",
    "                browser.find_element_by_xpath('/html/body/div[1]/div/div[3]/div[1]/div/section/main/div[2]/div[3]/div[1]/div[1]/div[1]/a').click()    \n",
    "                flag=1\n",
    "                if flag==1:break\n",
    "            except:pass\n",
    "        browser.find_element_by_xpath('//*[@id=\"fileName\"]').clear()\n",
    "        browser.find_element_by_xpath('//*[@id=\"fileName\"]').send_keys(key)\n",
    "        browser.find_element_by_xpath('/html/body/div[1]/div/div[3]/div[1]/div/section/main/div[2]/div[3]/div[1]/div[1]/div[1]/div/ng-include/form/div[3]/button').click()\n",
    "        final_diction[key]=diction[key]\n",
    "        \n",
    "    except:\n",
    "        while True:\n",
    "            browser.find_element_by_xpath('//*[@id=\"s2id_autogen6944\"]').send_keys(Keys.BACK_SPACE)\n",
    "            if len(browser.find_elements_by_xpath('//*[@id=\"s2id_sbjname\"]/ul/li'))==1:\n",
    "                break\n",
    "        for val in value:\n",
    "            browser.find_element_by_xpath('//*[@id=\"s2id_autogen6944\"]').send_keys(val)\n",
    "            browser.find_element_by_xpath('//*[@id=\"s2id_autogen6944\"]').send_keys(Keys.ENTER)\n",
    "        while True:\n",
    "            flag=0\n",
    "            try:\n",
    "                browser.find_element_by_xpath('/html/body/div[1]/div/div[3]/div[1]/div/section/main/div[2]/div[1]/div[5]/div/button').click()\n",
    "                flag=1\n",
    "                if flag==1:break\n",
    "            except:pass\n",
    "        while True:\n",
    "            flag=0\n",
    "            try:\n",
    "                browser.find_element_by_xpath('/html/body/div[1]/div/div[3]/div[1]/div/section/main/div[2]/div[3]/div[1]/div[1]/div[1]/a').click()    \n",
    "                flag=1\n",
    "                if flag==1:break\n",
    "            except:pass    \n",
    "        browser.find_element_by_xpath('//*[@id=\"fileName\"]').clear()\n",
    "        browser.find_element_by_xpath('//*[@id=\"fileName\"]').send_keys(key)\n",
    "        browser.find_element_by_xpath('/html/body/div[1]/div/div[3]/div[1]/div/section/main/div[2]/div[3]/div[1]/div[1]/div[1]/div/ng-include/form/div[3]/button').click()\n",
    "        final_diction[key]=diction[key]\n"
   ]
  },
  {
   "cell_type": "code",
   "execution_count": null,
   "metadata": {},
   "outputs": [],
   "source": []
  },
  {
   "cell_type": "code",
   "execution_count": 123,
   "metadata": {},
   "outputs": [
    {
     "data": {
      "text/plain": [
       "['BIOCHEMICAL RESEARCH METHODS',\n",
       " 'BIOCHEMISTRY & MOLECULAR BIOLOGY',\n",
       " 'BIOLOGY',\n",
       " 'BIOPHYSICS',\n",
       " 'CELL BIOLOGY',\n",
       " 'DEVELOPMENTAL BIOLOGY',\n",
       " 'ENTOMOLOGY',\n",
       " 'EVOLUTIONARY BIOLOGY',\n",
       " 'GENETICS & HEREDITY',\n",
       " 'LIMNOLOGY',\n",
       " 'MARINE & FRESHWATER BIOLOGY',\n",
       " 'MATHEMATICAL & COMPUTATIONAL BIOLOGY',\n",
       " 'MICROBIOLOGY',\n",
       " 'MYCOLOGY',\n",
       " 'ORNITHOLOGY',\n",
       " 'PHYSIOLOGY',\n",
       " 'REPRODUCTIVE BIOLOGY',\n",
       " 'VIROLOGY',\n",
       " 'ZOOLOGY']"
      ]
     },
     "execution_count": 123,
     "metadata": {},
     "output_type": "execute_result"
    }
   ],
   "source": [
    "diction['Biological Sciences']"
   ]
  },
  {
   "cell_type": "code",
   "execution_count": 124,
   "metadata": {},
   "outputs": [
    {
     "data": {
      "text/plain": [
       "19"
      ]
     },
     "execution_count": 124,
     "metadata": {},
     "output_type": "execute_result"
    }
   ],
   "source": [
    "len(diction['Biological Sciences'])"
   ]
  },
  {
   "cell_type": "code",
   "execution_count": null,
   "metadata": {},
   "outputs": [],
   "source": []
  },
  {
   "cell_type": "code",
   "execution_count": 100,
   "metadata": {},
   "outputs": [],
   "source": [
    "browser.find_element_by_xpath('//*[@id=\"s2id_autogen6944\"]').send_keys('MATERIALS SCIENCE, CERAMICS')"
   ]
  },
  {
   "cell_type": "code",
   "execution_count": 102,
   "metadata": {},
   "outputs": [],
   "source": [
    "browser.find_element_by_xpath('//*[@id=\"s2id_autogen6944\"]').send_keys(Keys.ENTER)"
   ]
  },
  {
   "cell_type": "code",
   "execution_count": 118,
   "metadata": {},
   "outputs": [],
   "source": [
    "browser.find_element_by_xpath('/html/body/div[1]/div/div[3]/div[1]/div/section/main/div[2]/div[1]/div[5]/div/button').click()"
   ]
  },
  {
   "cell_type": "code",
   "execution_count": 119,
   "metadata": {},
   "outputs": [],
   "source": [
    "browser.find_element_by_xpath('/html/body/div[1]/div/div[3]/div[1]/div/section/main/div[2]/div[3]/div[1]/div[1]/div[1]/a').click()"
   ]
  },
  {
   "cell_type": "code",
   "execution_count": 120,
   "metadata": {},
   "outputs": [],
   "source": [
    "browser.find_element_by_xpath('//*[@id=\"fileName\"]').clear()"
   ]
  },
  {
   "cell_type": "code",
   "execution_count": 121,
   "metadata": {},
   "outputs": [],
   "source": [
    "browser.find_element_by_xpath('//*[@id=\"fileName\"]').send_keys('MATERIALS SCIENCE, CERAMICS')"
   ]
  },
  {
   "cell_type": "code",
   "execution_count": 122,
   "metadata": {},
   "outputs": [],
   "source": [
    "browser.find_element_by_xpath('/html/body/div[1]/div/div[3]/div[1]/div/section/main/div[2]/div[3]/div[1]/div[1]/div[1]/div/ng-include/form/div[3]/button').click()"
   ]
  },
  {
   "cell_type": "code",
   "execution_count": 115,
   "metadata": {},
   "outputs": [],
   "source": [
    "browser.find_element_by_xpath('//*[@id=\"s2id_autogen6944\"]').send_keys(Keys.BACK_SPACE)"
   ]
  },
  {
   "cell_type": "code",
   "execution_count": 116,
   "metadata": {},
   "outputs": [
    {
     "data": {
      "text/plain": [
       "[<selenium.webdriver.remote.webelement.WebElement (session=\"ea2bc518d40991d555720f15c5ee7187\", element=\"0.9266650150175018-26\")>,\n",
       " <selenium.webdriver.remote.webelement.WebElement (session=\"ea2bc518d40991d555720f15c5ee7187\", element=\"0.9266650150175018-27\")>,\n",
       " <selenium.webdriver.remote.webelement.WebElement (session=\"ea2bc518d40991d555720f15c5ee7187\", element=\"0.9266650150175018-28\")>,\n",
       " <selenium.webdriver.remote.webelement.WebElement (session=\"ea2bc518d40991d555720f15c5ee7187\", element=\"0.9266650150175018-14\")>]"
      ]
     },
     "execution_count": 116,
     "metadata": {},
     "output_type": "execute_result"
    }
   ],
   "source": [
    "browser.find_elements_by_xpath('//*[@id=\"s2id_sbjname\"]/ul/li')"
   ]
  },
  {
   "cell_type": "code",
   "execution_count": 117,
   "metadata": {},
   "outputs": [
    {
     "data": {
      "text/plain": [
       "4"
      ]
     },
     "execution_count": 117,
     "metadata": {},
     "output_type": "execute_result"
    }
   ],
   "source": [
    "len(browser.find_elements_by_xpath('//*[@id=\"s2id_sbjname\"]/ul/li'))"
   ]
  },
  {
   "cell_type": "code",
   "execution_count": null,
   "metadata": {},
   "outputs": [],
   "source": []
  },
  {
   "cell_type": "code",
   "execution_count": null,
   "metadata": {},
   "outputs": [],
   "source": []
  },
  {
   "cell_type": "code",
   "execution_count": null,
   "metadata": {},
   "outputs": [],
   "source": []
  },
  {
   "cell_type": "code",
   "execution_count": null,
   "metadata": {},
   "outputs": [],
   "source": [
    "send_keys(Keys.SPACE) "
   ]
  },
  {
   "cell_type": "code",
   "execution_count": 68,
   "metadata": {},
   "outputs": [],
   "source": [
    "asd=browser.find_elements_by_xpath('//*[@id=\"s2id_sbjname\"]/ul//li')"
   ]
  },
  {
   "cell_type": "code",
   "execution_count": 70,
   "metadata": {},
   "outputs": [
    {
     "data": {
      "text/plain": [
       "<selenium.webdriver.remote.webelement.WebElement (session=\"ea2bc518d40991d555720f15c5ee7187\", element=\"0.9266650150175018-12\")>"
      ]
     },
     "execution_count": 70,
     "metadata": {},
     "output_type": "execute_result"
    }
   ],
   "source": [
    "asd[0]"
   ]
  },
  {
   "cell_type": "code",
   "execution_count": 73,
   "metadata": {},
   "outputs": [],
   "source": [
    "asd[0].click()"
   ]
  },
  {
   "cell_type": "code",
   "execution_count": null,
   "metadata": {},
   "outputs": [],
   "source": []
  },
  {
   "cell_type": "code",
   "execution_count": 67,
   "metadata": {},
   "outputs": [],
   "source": [
    "browser.get(\"https://incites.thomsonreuters.com/#\")"
   ]
  },
  {
   "cell_type": "code",
   "execution_count": null,
   "metadata": {},
   "outputs": [],
   "source": []
  },
  {
   "cell_type": "code",
   "execution_count": 61,
   "metadata": {},
   "outputs": [
    {
     "data": {
      "text/plain": [
       "<selenium.webdriver.remote.webelement.WebElement (session=\"ea2bc518d40991d555720f15c5ee7187\", element=\"0.9266650150175018-11\")>"
      ]
     },
     "execution_count": 61,
     "metadata": {},
     "output_type": "execute_result"
    }
   ],
   "source": [
    "asd[0]"
   ]
  },
  {
   "cell_type": "code",
   "execution_count": 62,
   "metadata": {},
   "outputs": [
    {
     "ename": "ElementNotVisibleException",
     "evalue": "Message: element not visible\n  (Session info: chrome=71.0.3578.98)\n  (Driver info: chromedriver=2.37.544315 (730aa6a5fdba159ac9f4c1e8cbc59bf1b5ce12b7),platform=Windows NT 10.0.17134 x86_64)\n",
     "output_type": "error",
     "traceback": [
      "\u001b[1;31m---------------------------------------------------------------------------\u001b[0m",
      "\u001b[1;31mElementNotVisibleException\u001b[0m                Traceback (most recent call last)",
      "\u001b[1;32m<ipython-input-62-92380a67e66e>\u001b[0m in \u001b[0;36m<module>\u001b[1;34m()\u001b[0m\n\u001b[1;32m----> 1\u001b[1;33m \u001b[0masd\u001b[0m\u001b[1;33m[\u001b[0m\u001b[1;36m0\u001b[0m\u001b[1;33m]\u001b[0m\u001b[1;33m.\u001b[0m\u001b[0mclick\u001b[0m\u001b[1;33m(\u001b[0m\u001b[1;33m)\u001b[0m\u001b[1;33m\u001b[0m\u001b[0m\n\u001b[0m",
      "\u001b[1;32mC:\\ProgramData\\Anaconda3\\lib\\site-packages\\selenium\\webdriver\\remote\\webelement.py\u001b[0m in \u001b[0;36mclick\u001b[1;34m(self)\u001b[0m\n\u001b[0;32m     78\u001b[0m     \u001b[1;32mdef\u001b[0m \u001b[0mclick\u001b[0m\u001b[1;33m(\u001b[0m\u001b[0mself\u001b[0m\u001b[1;33m)\u001b[0m\u001b[1;33m:\u001b[0m\u001b[1;33m\u001b[0m\u001b[0m\n\u001b[0;32m     79\u001b[0m         \u001b[1;34m\"\"\"Clicks the element.\"\"\"\u001b[0m\u001b[1;33m\u001b[0m\u001b[0m\n\u001b[1;32m---> 80\u001b[1;33m         \u001b[0mself\u001b[0m\u001b[1;33m.\u001b[0m\u001b[0m_execute\u001b[0m\u001b[1;33m(\u001b[0m\u001b[0mCommand\u001b[0m\u001b[1;33m.\u001b[0m\u001b[0mCLICK_ELEMENT\u001b[0m\u001b[1;33m)\u001b[0m\u001b[1;33m\u001b[0m\u001b[0m\n\u001b[0m\u001b[0;32m     81\u001b[0m \u001b[1;33m\u001b[0m\u001b[0m\n\u001b[0;32m     82\u001b[0m     \u001b[1;32mdef\u001b[0m \u001b[0msubmit\u001b[0m\u001b[1;33m(\u001b[0m\u001b[0mself\u001b[0m\u001b[1;33m)\u001b[0m\u001b[1;33m:\u001b[0m\u001b[1;33m\u001b[0m\u001b[0m\n",
      "\u001b[1;32mC:\\ProgramData\\Anaconda3\\lib\\site-packages\\selenium\\webdriver\\remote\\webelement.py\u001b[0m in \u001b[0;36m_execute\u001b[1;34m(self, command, params)\u001b[0m\n\u001b[0;32m    626\u001b[0m             \u001b[0mparams\u001b[0m \u001b[1;33m=\u001b[0m \u001b[1;33m{\u001b[0m\u001b[1;33m}\u001b[0m\u001b[1;33m\u001b[0m\u001b[0m\n\u001b[0;32m    627\u001b[0m         \u001b[0mparams\u001b[0m\u001b[1;33m[\u001b[0m\u001b[1;34m'id'\u001b[0m\u001b[1;33m]\u001b[0m \u001b[1;33m=\u001b[0m \u001b[0mself\u001b[0m\u001b[1;33m.\u001b[0m\u001b[0m_id\u001b[0m\u001b[1;33m\u001b[0m\u001b[0m\n\u001b[1;32m--> 628\u001b[1;33m         \u001b[1;32mreturn\u001b[0m \u001b[0mself\u001b[0m\u001b[1;33m.\u001b[0m\u001b[0m_parent\u001b[0m\u001b[1;33m.\u001b[0m\u001b[0mexecute\u001b[0m\u001b[1;33m(\u001b[0m\u001b[0mcommand\u001b[0m\u001b[1;33m,\u001b[0m \u001b[0mparams\u001b[0m\u001b[1;33m)\u001b[0m\u001b[1;33m\u001b[0m\u001b[0m\n\u001b[0m\u001b[0;32m    629\u001b[0m \u001b[1;33m\u001b[0m\u001b[0m\n\u001b[0;32m    630\u001b[0m     \u001b[1;32mdef\u001b[0m \u001b[0mfind_element\u001b[0m\u001b[1;33m(\u001b[0m\u001b[0mself\u001b[0m\u001b[1;33m,\u001b[0m \u001b[0mby\u001b[0m\u001b[1;33m=\u001b[0m\u001b[0mBy\u001b[0m\u001b[1;33m.\u001b[0m\u001b[0mID\u001b[0m\u001b[1;33m,\u001b[0m \u001b[0mvalue\u001b[0m\u001b[1;33m=\u001b[0m\u001b[1;32mNone\u001b[0m\u001b[1;33m)\u001b[0m\u001b[1;33m:\u001b[0m\u001b[1;33m\u001b[0m\u001b[0m\n",
      "\u001b[1;32mC:\\ProgramData\\Anaconda3\\lib\\site-packages\\selenium\\webdriver\\remote\\webdriver.py\u001b[0m in \u001b[0;36mexecute\u001b[1;34m(self, driver_command, params)\u001b[0m\n\u001b[0;32m    318\u001b[0m         \u001b[0mresponse\u001b[0m \u001b[1;33m=\u001b[0m \u001b[0mself\u001b[0m\u001b[1;33m.\u001b[0m\u001b[0mcommand_executor\u001b[0m\u001b[1;33m.\u001b[0m\u001b[0mexecute\u001b[0m\u001b[1;33m(\u001b[0m\u001b[0mdriver_command\u001b[0m\u001b[1;33m,\u001b[0m \u001b[0mparams\u001b[0m\u001b[1;33m)\u001b[0m\u001b[1;33m\u001b[0m\u001b[0m\n\u001b[0;32m    319\u001b[0m         \u001b[1;32mif\u001b[0m \u001b[0mresponse\u001b[0m\u001b[1;33m:\u001b[0m\u001b[1;33m\u001b[0m\u001b[0m\n\u001b[1;32m--> 320\u001b[1;33m             \u001b[0mself\u001b[0m\u001b[1;33m.\u001b[0m\u001b[0merror_handler\u001b[0m\u001b[1;33m.\u001b[0m\u001b[0mcheck_response\u001b[0m\u001b[1;33m(\u001b[0m\u001b[0mresponse\u001b[0m\u001b[1;33m)\u001b[0m\u001b[1;33m\u001b[0m\u001b[0m\n\u001b[0m\u001b[0;32m    321\u001b[0m             response['value'] = self._unwrap_value(\n\u001b[0;32m    322\u001b[0m                 response.get('value', None))\n",
      "\u001b[1;32mC:\\ProgramData\\Anaconda3\\lib\\site-packages\\selenium\\webdriver\\remote\\errorhandler.py\u001b[0m in \u001b[0;36mcheck_response\u001b[1;34m(self, response)\u001b[0m\n\u001b[0;32m    240\u001b[0m                 \u001b[0malert_text\u001b[0m \u001b[1;33m=\u001b[0m \u001b[0mvalue\u001b[0m\u001b[1;33m[\u001b[0m\u001b[1;34m'alert'\u001b[0m\u001b[1;33m]\u001b[0m\u001b[1;33m.\u001b[0m\u001b[0mget\u001b[0m\u001b[1;33m(\u001b[0m\u001b[1;34m'text'\u001b[0m\u001b[1;33m)\u001b[0m\u001b[1;33m\u001b[0m\u001b[0m\n\u001b[0;32m    241\u001b[0m             \u001b[1;32mraise\u001b[0m \u001b[0mexception_class\u001b[0m\u001b[1;33m(\u001b[0m\u001b[0mmessage\u001b[0m\u001b[1;33m,\u001b[0m \u001b[0mscreen\u001b[0m\u001b[1;33m,\u001b[0m \u001b[0mstacktrace\u001b[0m\u001b[1;33m,\u001b[0m \u001b[0malert_text\u001b[0m\u001b[1;33m)\u001b[0m\u001b[1;33m\u001b[0m\u001b[0m\n\u001b[1;32m--> 242\u001b[1;33m         \u001b[1;32mraise\u001b[0m \u001b[0mexception_class\u001b[0m\u001b[1;33m(\u001b[0m\u001b[0mmessage\u001b[0m\u001b[1;33m,\u001b[0m \u001b[0mscreen\u001b[0m\u001b[1;33m,\u001b[0m \u001b[0mstacktrace\u001b[0m\u001b[1;33m)\u001b[0m\u001b[1;33m\u001b[0m\u001b[0m\n\u001b[0m\u001b[0;32m    243\u001b[0m \u001b[1;33m\u001b[0m\u001b[0m\n\u001b[0;32m    244\u001b[0m     \u001b[1;32mdef\u001b[0m \u001b[0m_value_or_default\u001b[0m\u001b[1;33m(\u001b[0m\u001b[0mself\u001b[0m\u001b[1;33m,\u001b[0m \u001b[0mobj\u001b[0m\u001b[1;33m,\u001b[0m \u001b[0mkey\u001b[0m\u001b[1;33m,\u001b[0m \u001b[0mdefault\u001b[0m\u001b[1;33m)\u001b[0m\u001b[1;33m:\u001b[0m\u001b[1;33m\u001b[0m\u001b[0m\n",
      "\u001b[1;31mElementNotVisibleException\u001b[0m: Message: element not visible\n  (Session info: chrome=71.0.3578.98)\n  (Driver info: chromedriver=2.37.544315 (730aa6a5fdba159ac9f4c1e8cbc59bf1b5ce12b7),platform=Windows NT 10.0.17134 x86_64)\n"
     ]
    }
   ],
   "source": [
    "asd[0].click()"
   ]
  },
  {
   "cell_type": "code",
   "execution_count": null,
   "metadata": {},
   "outputs": [],
   "source": []
  },
  {
   "cell_type": "code",
   "execution_count": null,
   "metadata": {},
   "outputs": [],
   "source": []
  },
  {
   "cell_type": "code",
   "execution_count": null,
   "metadata": {},
   "outputs": [],
   "source": [
    "//*[@id=\"s2id_sbjname\"]/ul"
   ]
  },
  {
   "cell_type": "code",
   "execution_count": null,
   "metadata": {},
   "outputs": [],
   "source": [
    "browser.find_element_by_id('value(input1)').clear()#清除文本框里的内容\n",
    "browser.find_element_by_id('value(input1)').send_keys(item)#往文本框里输入搜索文本（输入检索式）\n",
    "browser.find_element_by_id('searchButton')#定位搜索按钮\n",
    "browser.find_element_by_id('searchButton').click()#点击搜素按钮"
   ]
  },
  {
   "cell_type": "code",
   "execution_count": null,
   "metadata": {},
   "outputs": [],
   "source": []
  },
  {
   "cell_type": "code",
   "execution_count": null,
   "metadata": {},
   "outputs": [],
   "source": [
    "def search(item): \n",
    "    '''向搜索框里输入检索式'''\n",
    "    browser.find_element_by_id('value(input1)').clear()#清除文本框里的内容\n",
    "    browser.find_element_by_id('value(input1)').send_keys(item)#往文本框里输入搜索文本（输入检索式）\n",
    "    browser.find_element_by_id('searchButton')#定位搜索按钮\n",
    "    browser.find_element_by_id('searchButton').click()#点击搜素按钮"
   ]
  },
  {
   "cell_type": "code",
   "execution_count": null,
   "metadata": {},
   "outputs": [],
   "source": []
  },
  {
   "cell_type": "code",
   "execution_count": null,
   "metadata": {},
   "outputs": [],
   "source": []
  },
  {
   "cell_type": "code",
   "execution_count": null,
   "metadata": {},
   "outputs": [],
   "source": []
  },
  {
   "cell_type": "code",
   "execution_count": null,
   "metadata": {},
   "outputs": [],
   "source": []
  },
  {
   "cell_type": "code",
   "execution_count": null,
   "metadata": {},
   "outputs": [],
   "source": []
  },
  {
   "cell_type": "code",
   "execution_count": null,
   "metadata": {},
   "outputs": [],
   "source": []
  },
  {
   "cell_type": "code",
   "execution_count": null,
   "metadata": {},
   "outputs": [],
   "source": []
  },
  {
   "cell_type": "code",
   "execution_count": null,
   "metadata": {},
   "outputs": [],
   "source": []
  }
 ],
 "metadata": {
  "kernelspec": {
   "display_name": "Python 3",
   "language": "python",
   "name": "python3"
  },
  "language_info": {
   "codemirror_mode": {
    "name": "ipython",
    "version": 3
   },
   "file_extension": ".py",
   "mimetype": "text/x-python",
   "name": "python",
   "nbconvert_exporter": "python",
   "pygments_lexer": "ipython3",
   "version": "3.6.5"
  }
 },
 "nbformat": 4,
 "nbformat_minor": 2
}
