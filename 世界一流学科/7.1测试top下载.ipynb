{
 "cells": [
  {
   "cell_type": "code",
   "execution_count": 1,
   "metadata": {},
   "outputs": [],
   "source": [
    "from selenium import webdriver\n",
    "from selenium.webdriver.common.keys import Keys\n",
    "#import re\n",
    "import numpy as np, pandas as pd\n",
    "import os\n",
    "#import datetime\n",
    "import csv\n",
    "import time"
   ]
  },
  {
   "cell_type": "code",
   "execution_count": 2,
   "metadata": {},
   "outputs": [],
   "source": [
    "import random"
   ]
  },
  {
   "cell_type": "code",
   "execution_count": null,
   "metadata": {},
   "outputs": [],
   "source": [
    "'''几所特殊的学校，不选择academic的可以直接同时搜索机构名称，用此程序下载数据即可，前提要输入学校，并且不能选择机构类型'''"
   ]
  },
  {
   "cell_type": "code",
   "execution_count": null,
   "metadata": {},
   "outputs": [],
   "source": [
    "################################################################################\n",
    "################################################################################\n",
    "######################### 第一部分 数据整理 ####################################"
   ]
  },
  {
   "cell_type": "code",
   "execution_count": null,
   "metadata": {},
   "outputs": [],
   "source": [
    "'''csv文件要提前按照学科删除重复值'''"
   ]
  },
  {
   "cell_type": "code",
   "execution_count": 3,
   "metadata": {},
   "outputs": [],
   "source": [
    "############首先对Mapp.csv原文件数据去重，删除数据重复的项目######################\n",
    "lis_a = []#创建空白列表，存储文件内容\n",
    "csv_reader=csv.reader(open(r'C:\\Users\\rk\\Desktop\\spectialSubject.csv'))"
   ]
  },
  {
   "cell_type": "code",
   "execution_count": 4,
   "metadata": {},
   "outputs": [],
   "source": [
    "for element in csv_reader:\n",
    "    lis_a.append(element)#逐行读入数据，写入列表"
   ]
  },
  {
   "cell_type": "code",
   "execution_count": 5,
   "metadata": {
    "scrolled": true
   },
   "outputs": [
    {
     "data": {
      "text/plain": [
       "[['Chemistry', '1433-7851'],\n",
       " ['Chemistry', '0002-7863'],\n",
       " ['Chemistry', '1755-4330'],\n",
       " ['Chemistry', '1476-1122'],\n",
       " ['Biomedical Engineering', '0142-9612'],\n",
       " ['Public Health', '0091-6765'],\n",
       " ['Public Health', '0300-5771'],\n",
       " ['Public Health', '0163-7525'],\n",
       " ['Psychology', '0956-7976'],\n",
       " ['Psychology', '0033-295X'],\n",
       " ['Psychology', '0033-2909'],\n",
       " ['Psychology', '1364-6613'],\n",
       " ['Business Administration', '0093-5301'],\n",
       " ['Business Administration', '0022-2437'],\n",
       " ['Business Administration', '0022-2429'],\n",
       " ['Management', '0001-4273'],\n",
       " ['Management', '0025-1909'],\n",
       " ['Management', '0363-7425'],\n",
       " ['Management', '1047-7039'],\n",
       " ['Management', '0143-2095'],\n",
       " ['Management', '0001-8392'],\n",
       " ['Hospitality & Tourism Management', '0160-7383'],\n",
       " ['Hospitality & Tourism Management', '0278-4319'],\n",
       " ['Hospitality & Tourism Management', '0959-6119'],\n",
       " ['Hospitality & Tourism Management', '0261-5177'],\n",
       " ['Hospitality & Tourism Management', '0047-2875'],\n",
       " ['Hospitality & Tourism Management', '1096-3480']]"
      ]
     },
     "execution_count": 5,
     "metadata": {},
     "output_type": "execute_result"
    }
   ],
   "source": [
    "lis_a"
   ]
  },
  {
   "cell_type": "code",
   "execution_count": 6,
   "metadata": {},
   "outputs": [],
   "source": [
    "####################运用此程序的前提是：先在原文件里做好分类汇总####################################\n",
    "final_lis=[]\n",
    "counter=0\n",
    "while True:#为了是for循环中的起始值counter的改变，for进入循环后，起始值不再改变，\n",
    "    for item_1 in lis_a[counter:]:\n",
    "        diction=[]\n",
    "        lis_c=[]\n",
    "        initial_s=0\n",
    "        lis_c.append(item_1[1])#将第一个期刊加入列表，在此处加入是防止仅出现一次而忽略\n",
    "        for item_2 in lis_a[counter+1:]:\n",
    "            if item_1[0]==item_2[0]:\n",
    "                lis_c.append(item_2[1])#将相同的期刊加入列表\n",
    "                initial_s+=1 #每找到一个相同的就把initial_s加一，     \n",
    "        diction.append(item_1[0])\n",
    "        diction.append(lis_c)\n",
    "        final_lis.append(diction)\n",
    "        break#为了使for循环中的起始值改变，循环一次后利用break强制退出for循环，利用while进入下一次循环\n",
    "    counter=counter+initial_s+1\n",
    "    if counter>=len(lis_a):#为了使while循环跳出,当大于列表长度的时候跳出循环\n",
    "        break"
   ]
  },
  {
   "cell_type": "code",
   "execution_count": 7,
   "metadata": {},
   "outputs": [
    {
     "data": {
      "text/plain": [
       "[['Chemistry', ['1433-7851', '0002-7863', '1755-4330', '1476-1122']],\n",
       " ['Biomedical Engineering', ['0142-9612']],\n",
       " ['Public Health', ['0091-6765', '0300-5771', '0163-7525']],\n",
       " ['Psychology', ['0956-7976', '0033-295X', '0033-2909', '1364-6613']],\n",
       " ['Business Administration', ['0093-5301', '0022-2437', '0022-2429']],\n",
       " ['Management',\n",
       "  ['0001-4273',\n",
       "   '0025-1909',\n",
       "   '0363-7425',\n",
       "   '1047-7039',\n",
       "   '0143-2095',\n",
       "   '0001-8392']],\n",
       " ['Hospitality & Tourism Management',\n",
       "  ['0160-7383',\n",
       "   '0278-4319',\n",
       "   '0959-6119',\n",
       "   '0261-5177',\n",
       "   '0047-2875',\n",
       "   '1096-3480']]]"
      ]
     },
     "execution_count": 7,
     "metadata": {},
     "output_type": "execute_result"
    }
   ],
   "source": [
    "final_lis"
   ]
  },
  {
   "cell_type": "code",
   "execution_count": null,
   "metadata": {},
   "outputs": [],
   "source": [
    "'''注意：Food Science & Technology，1941-1413不存在，删除\n",
    "Biotechnology，Agricultural Sciences，2165-8102\n",
    "Human Biological Sciences，2374-4642'''"
   ]
  },
  {
   "cell_type": "code",
   "execution_count": null,
   "metadata": {},
   "outputs": [],
   "source": [
    "##############################################################################\n",
    "##############################################################################\n",
    "##################### 第二部分，下载文件 #####################################"
   ]
  },
  {
   "cell_type": "code",
   "execution_count": 8,
   "metadata": {},
   "outputs": [],
   "source": [
    "########################服务器崩溃后，从此处运行##########################################\n",
    "browser = webdriver.Chrome('C:/Users/rk/Desktop/chromedriver.exe') #锁定浏览器\n",
    "browser.get(\"https://incites.clarivate.com/\")#访问网页"
   ]
  },
  {
   "cell_type": "code",
   "execution_count": null,
   "metadata": {},
   "outputs": [],
   "source": [
    "\"\"\"\n",
    "web of science 下载ISSN账号\n",
    "Incite:602281532@qq.com\n",
    "密码：rank2016!\n",
    "\"\"\""
   ]
  },
  {
   "cell_type": "code",
   "execution_count": 32,
   "metadata": {},
   "outputs": [],
   "source": [
    "def fid():\n",
    "    '''查找保存按钮，并下载文件'''\n",
    "    time_counter=0\n",
    "    while True:\n",
    "        try:\n",
    "            browser.find_element_by_xpath('/html/body/div[1]/div/div[3]/div[1]/div/section/main/div[2]/div[3]/div[1]/div[1]/div[1]/a').click()\n",
    "            send(items[0])\n",
    "            time.sleep(1)\n",
    "            browser.find_element_by_xpath('/html/body/div[1]/div/div[3]/div[1]/div/section/main/div[2]/div[3]/div[1]/div[1]/div[1]/div/ng-include/form/div[3]/button').click()\n",
    "            break\n",
    "        except:\n",
    "            time.sleep(1)\n",
    "            try:\n",
    "                erro_tring=browser.find_element_by_xpath('/html/body/div[1]/div/div[3]/div[1]/div/section/main/div[2]/div[3]/div[2]').text\n",
    "                if erro_tring== 'No available values':\n",
    "                    print('wait a moment...')\n",
    "                    break\n",
    "            except:\n",
    "                time.sleep(0.5)\n",
    "                pass\n",
    "            time_counter+=1\n",
    "        if time_counter==5:\n",
    "            break\n",
    "            "
   ]
  },
  {
   "cell_type": "code",
   "execution_count": 10,
   "metadata": {},
   "outputs": [],
   "source": [
    "def send(item):\n",
    "    '''保存文件'''\n",
    "    while True:\n",
    "        flag=0\n",
    "        try:\n",
    "            browser.find_element_by_xpath('//*[@id=\"fileName\"]').clear()\n",
    "            browser.find_element_by_xpath('//*[@id=\"fileName\"]').send_keys(item)\n",
    "            flag=1\n",
    "        except:\n",
    "            time.sleep(1)\n",
    "            pass\n",
    "        if flag==1:\n",
    "            break"
   ]
  },
  {
   "cell_type": "code",
   "execution_count": 17,
   "metadata": {},
   "outputs": [],
   "source": [
    "'''后八个不限定机构类型academic，在incites中查找'''\n",
    "univer=['China University of Geosciences - Beijing',\n",
    "        'China University of Geosciences (Wuhan)',\n",
    "        'China University of Mining and Technology, Beijing',\n",
    "        'China University of Mining and Technology',\n",
    "        'China University of Petroleum - Beijing',\n",
    "        'China University of Petroleum - Eastern China',\n",
    "        'Amherst College',\n",
    "        'Mayo Clinic',\n",
    "        'UTMD Anderson Cancer Center',\n",
    "        'Chinese Academy of Medical Sciences - Peking Union Medical College',\n",
    "        'University of Nebraska Medical Center',\n",
    "        'VA Connecticut Healthcare System',\n",
    "        'IUSS PAVIA',\n",
    "        'University of Mississippi Medical Center']"
   ]
  },
  {
   "cell_type": "code",
   "execution_count": 28,
   "metadata": {},
   "outputs": [
    {
     "data": {
      "text/plain": [
       "'China University of Geosciences (Wuhan)'"
      ]
     },
     "execution_count": 28,
     "metadata": {},
     "output_type": "execute_result"
    }
   ],
   "source": [
    "university=univer[1]###每次运行，需要更改\n",
    "'''别忘了在网页中更改数据库的机构名称'''\n",
    "university"
   ]
  },
  {
   "cell_type": "code",
   "execution_count": null,
   "metadata": {},
   "outputs": [],
   "source": []
  },
  {
   "cell_type": "code",
   "execution_count": 52,
   "metadata": {},
   "outputs": [],
   "source": [
    "element='//*[@id=\"s2id_autogen917\"]'#定位ISSN文本框,该文本框定位容易改变"
   ]
  },
  {
   "cell_type": "code",
   "execution_count": null,
   "metadata": {},
   "outputs": [],
   "source": []
  },
  {
   "cell_type": "code",
   "execution_count": 53,
   "metadata": {},
   "outputs": [],
   "source": [
    "counter=0#初始化counter"
   ]
  },
  {
   "cell_type": "code",
   "execution_count": 54,
   "metadata": {},
   "outputs": [
    {
     "name": "stdout",
     "output_type": "stream",
     "text": [
      "1\n",
      "2\n",
      "wait a moment...\n",
      "3\n",
      "wait a moment...\n",
      "4\n",
      "wait a moment...\n",
      "5\n",
      "wait a moment...\n",
      "6\n",
      "wait a moment...\n",
      "7\n"
     ]
    }
   ],
   "source": [
    "'''运行程序的时候不要点击浏览器的页面'''\n",
    "while True:\n",
    "    for items in final_lis[counter:]:\n",
    "        while True:\n",
    "            #browser.find_element_by_xpath(element).click()\n",
    "            browser.find_element_by_xpath(element).send_keys(Keys.BACK_SPACE)#这个地址很容易变，每次需要检查一下\n",
    "            if len(browser.find_elements_by_xpath('//*[@id=\"s2id_issn\"]/ul/li'))==1:\n",
    "                break\n",
    "        items[1]=np.unique(items[1])#软科学科分类包含多个WOS学科分类，WOS中的TOP期刊可能重复，此行代码为了去重\n",
    "        for i,item in enumerate(items[1]):\n",
    "            browser.find_element_by_xpath(element).send_keys(item)#输入ISSN号\n",
    "            while True:\n",
    "                ele = browser.find_elements_by_xpath('//*[@id=\"s2id_issn\"]/ul/li')#检查加载出的ISSN数量\n",
    "                if len(ele) != (i+2):\n",
    "                    time.sleep(random.random()*2)#随机中断0-2秒，等待ISSN号加载出来\n",
    "                    browser.find_element_by_xpath(element).send_keys(Keys.ENTER)\n",
    "                else:\n",
    "                    break\n",
    "        browser.find_element_by_xpath('/html/body/div[1]/div/div[3]/div[1]/div/section/main/div[2]').click()#随便点一下，跳出输入框\n",
    "        browser.find_element_by_xpath('/html/body/div[1]/div/div[3]/div[1]/div/section/main/div[2]/div[1]/div[5]/div/button').click()#点击搜索\n",
    "        time.sleep(3)#等待下载按钮加载，防止上一个学科是空，这个学科还没加载出来就被识别为没有数据\n",
    "        fid()#调用函数\n",
    "        counter+=1\n",
    "        print(counter)\n",
    "        break\n",
    "    if counter==len(final_lis):\n",
    "        break\n"
   ]
  },
  {
   "cell_type": "code",
   "execution_count": null,
   "metadata": {},
   "outputs": [],
   "source": []
  },
  {
   "cell_type": "code",
   "execution_count": null,
   "metadata": {},
   "outputs": [],
   "source": [
    "'''程序运行中，请勿点击网页'''"
   ]
  },
  {
   "cell_type": "code",
   "execution_count": null,
   "metadata": {},
   "outputs": [],
   "source": [
    "print(counter)"
   ]
  },
  {
   "cell_type": "code",
   "execution_count": null,
   "metadata": {},
   "outputs": [],
   "source": [
    "browser.close()"
   ]
  },
  {
   "cell_type": "code",
   "execution_count": null,
   "metadata": {},
   "outputs": [],
   "source": []
  },
  {
   "cell_type": "code",
   "execution_count": null,
   "metadata": {},
   "outputs": [],
   "source": []
  },
  {
   "cell_type": "code",
   "execution_count": null,
   "metadata": {},
   "outputs": [],
   "source": []
  },
  {
   "cell_type": "code",
   "execution_count": null,
   "metadata": {},
   "outputs": [],
   "source": [
    "import pandas as pd\n",
    "\n",
    "data = pd.read_excel('', encoding = 'utf-8').fillna('/')\n",
    "for j in range(data.shape[1]):\n",
    "    for i in range(1, data.shape[0]):\n",
    "        if data.iloc[i, j] == '/':\n",
    "            data.iloc[i, j] = data.iloc[i-1, j]\n",
    "data.to_excel('', encoding = 'gbk')"
   ]
  },
  {
   "cell_type": "code",
   "execution_count": null,
   "metadata": {},
   "outputs": [],
   "source": []
  },
  {
   "cell_type": "code",
   "execution_count": null,
   "metadata": {},
   "outputs": [],
   "source": []
  },
  {
   "cell_type": "code",
   "execution_count": null,
   "metadata": {},
   "outputs": [],
   "source": []
  },
  {
   "cell_type": "code",
   "execution_count": null,
   "metadata": {},
   "outputs": [],
   "source": [
    "ISSN = driver.find_element_by_xpath('//*[@id=\"s2id_autogen21\"]')\n",
    "for sub in list(dic.keys())[4:5]:\n",
    "    for i in range(len(dic[sub])):\n",
    "        ISSN.send_keys(dic[sub][i])\n",
    "        while True:\n",
    "            ele = driver.find_elements_by_xpath('//*[@id=\"s2id_issn\"]/ul/li')\n",
    "            if len(ele) != (i+2):\n",
    "                time.sleep(0.7)\n",
    "                ISSN.send_keys(Keys.ENTER)\n",
    "            else:\n",
    "                break"
   ]
  },
  {
   "cell_type": "code",
   "execution_count": null,
   "metadata": {},
   "outputs": [],
   "source": []
  },
  {
   "cell_type": "code",
   "execution_count": null,
   "metadata": {},
   "outputs": [],
   "source": [
    "data = pd.read_csv('Mapp.csv')\n",
    "\n",
    "S = set(data['Subject'])\n",
    "\n",
    "dic = {}\n",
    "for item in S:\n",
    "    c = []\n",
    "    for j in range(data.shape[0]):\n",
    "        if data.iloc[j,0] == item:\n",
    "            c.append(data.iloc[j,1])\n",
    "    dic.update({item:c})"
   ]
  },
  {
   "cell_type": "code",
   "execution_count": null,
   "metadata": {},
   "outputs": [],
   "source": []
  }
 ],
 "metadata": {
  "kernelspec": {
   "display_name": "Python 3",
   "language": "python",
   "name": "python3"
  },
  "language_info": {
   "codemirror_mode": {
    "name": "ipython",
    "version": 3
   },
   "file_extension": ".py",
   "mimetype": "text/x-python",
   "name": "python",
   "nbconvert_exporter": "python",
   "pygments_lexer": "ipython3",
   "version": "3.6.5"
  }
 },
 "nbformat": 4,
 "nbformat_minor": 2
}
