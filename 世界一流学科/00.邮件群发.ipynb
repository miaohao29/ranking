{
 "cells": [
  {
   "cell_type": "code",
   "execution_count": 1,
   "metadata": {},
   "outputs": [],
   "source": [
    "import smtplib\n",
    "from email.mime.text import MIMEText\n",
    "from email.header import Header\n",
    "from email.utils import formataddr\n",
    "import time\n",
    "import random\n",
    "import csv"
   ]
  },
  {
   "cell_type": "code",
   "execution_count": 2,
   "metadata": {},
   "outputs": [],
   "source": [
    "def save_sended(element):\n",
    "    mail='、'.join(element)\n",
    "    with open(r\"C:\\Users\\rk\\Desktop\\学术卓越调查\\GRAS_Survey_mail1110.txt\",'a+',encoding='utf-8') as f:\n",
    "        f.write(mail+'\\n')"
   ]
  },
  {
   "cell_type": "code",
   "execution_count": 3,
   "metadata": {},
   "outputs": [],
   "source": [
    "# with open(r\"C:\\Users\\rk\\Desktop\\学术卓越调查\\学术卓越调查\\GRAS2021问卷邀请邮件.htm\") as f:\n",
    "#     text_htm=f.read()"
   ]
  },
  {
   "cell_type": "code",
   "execution_count": 4,
   "metadata": {
    "scrolled": true
   },
   "outputs": [],
   "source": [
    "#text_htm"
   ]
  },
  {
   "cell_type": "markdown",
   "metadata": {},
   "source": [
    "part1--part4是根据text_htm生成的（分段复制）"
   ]
  },
  {
   "cell_type": "code",
   "execution_count": 3,
   "metadata": {},
   "outputs": [],
   "source": [
    "part1='<html>\\n\\n<head>\\n<meta http-equiv=Content-Type content=\"text/html; charset=GB18030\">\\n<meta name=Generator content=\"Microsoft Word 15 (filtered)\">\\n<style>\\n<!--\\n /* Font Definitions */\\n @font-face\\n\\t{font-family:宋体;\\n\\tpanose-1:2 1 6 0 3 1 1 1 1 1;}\\n@font-face\\n\\t{font-family:\"Cambria Math\";\\n\\tpanose-1:2 4 5 3 5 4 6 3 2 4;}\\n@font-face\\n\\t{font-family:楷体;\\n\\tpanose-1:2 1 6 9 6 1 1 1 1 1;}\\n@font-face\\n\\t{font-family:\"\\\\@宋体\";\\n\\tpanose-1:2 1 6 0 3 1 1 1 1 1;}\\n@font-face\\n\\t{font-family:\"\\\\@楷体\";\\n\\tpanose-1:2 1 6 9 6 1 1 1 1 1;}\\n /* Style Definitions */\\n p.MsoNormal, li.MsoNormal, div.MsoNormal\\n\\t{margin:0cm;\\n\\tmargin-bottom:.0001pt;\\n\\ttext-align:justify;\\n\\ttext-justify:inter-ideograph;\\n\\tfont-size:10.5pt;\\n\\tfont-family:\"Times New Roman\",serif;}\\na:link, span.MsoHyperlink\\n\\t{color:blue;\\n\\ttext-decoration:underline;}\\n /* Page Definitions */\\n @page WordSection1\\n\\t{size:595.3pt 841.9pt;\\n\\tmargin:72.0pt 90.0pt 72.0pt 90.0pt;\\n\\tlayout-grid:15.6pt;}\\ndiv.WordSection1\\n\\t{page:WordSection1;}\\n /* List Definitions */\\n ol\\n\\t{margin-bottom:0cm;}\\nul\\n\\t{margin-bottom:0cm;}\\n-->\\n</style>\\n\\n</head>\\n\\n<body lang=ZH-CN link=blue vlink=\"#954F72\" style=\\'text-justify-trim:punctuation\\'>\\n\\n<div class=WordSection1 style=\\'layout-grid:15.6pt\\'>\\n\\n<p class=MsoNormal align=left style=\\'text-align:left;line-height:12.0pt;\\nbackground:white\\'><span lang=EN-US style=\\'font-size:12.0pt;color:black\\'>Dear\\nProfessor '"
   ]
  },
  {
   "cell_type": "code",
   "execution_count": 4,
   "metadata": {},
   "outputs": [],
   "source": [
    "part2=',<br>\\n<br>\\nGreetings from ShanghaiRanking\\'s Academic Ranking of World Universities. As the\\nfirst and one of the most recognized international rankings of universities,\\nwe’re engaging reputable and influential researchers from Top 100 universities\\nin the world in the development of university performance measures. We need\\nyour help to identify Top Journals and Top Awards in different academic\\nsubjects. Your answers will directly impact on how universities are measured\\nand compared across different countries and subjects and will influence many of\\nthe stakeholders mentioned above.<br>\\n<br>\\n<b>By April 2020, we have surveyed more than 11,000 full professors of the Top\\n100 universities across a wide range of subjects and have received good\\nresponse and support.</b>&nbsp;Based on 736 feedback we have received, we were\\nable to select a list of Top awards and Top journals in different subjects. You\\ncan find the Top awards and Top journals list at:<br>\\n</span><span lang=EN-US style=\\'color:black\\'><a\\nhref=\"http://www.shanghairanking.com/subject-survey/survey-results-2020.html\">http://www.shanghairanking.com/subject-survey/survey-results-2020.html</a></span><span\\nlang=EN-US style=\\'font-size:12.0pt;color:black\\'><br>\\n<br>\\nIn 2020, we invite more full professors from the Top 100 universities in the\\nworld to give us feedback on Top awards and Top journals in their primary area\\nof research.<br>\\n<br>\\nDifferent from a conventional survey,&nbsp;<b>professors who agree to\\nparticipate in the survey are kindly required to allow us to publish their\\nnames and universities, but their answers to the survey questions will not be\\npublished.</b>&nbsp;In this way, the transparency of the survey can be ensured\\nand the audience can evaluate the value of the survey results by themselves.\\nThose professors who participated this survey are available at:<br>\\n</span><span lang=EN-US style=\\'color:black\\'><a\\nhref=\"http://www.shanghairanking.com/subject-survey/participants.html\"><span\\nstyle=\\'font-size:12.0pt\\'>http://www.shanghairanking.com/subject-survey/participants.html</span></a></span><span\\nlang=EN-US style=\\'font-size:12.0pt;color:black\\'><br>\\n<br>\\nSo, if you have a few moments to spare, I invite you to fill out the&nbsp;<b>ShanghaiRanking\\nAcademic Excellence Survey. Upon completion of the survey, you will be able to\\nview the result summary of all participants in your field right away.</b>&nbsp;You\\ncan access to the following link to participate in the survey, the link is\\ndesigned specifically for you:<br>\\n</span><span lang=EN-US style=\\'color:black\\'><a\\nhref=\"http://www.shanghairanking.com/shanghairanking_academic_excellence_survey/static/index.html?param='"
   ]
  },
  {
   "cell_type": "code",
   "execution_count": 5,
   "metadata": {},
   "outputs": [],
   "source": [
    "part3='\"><span\\nstyle=\\'font-size:12.0pt\\'>http://www.shanghairanking.com/shanghairanking_academic_excellence_survey/static/index.html?param='"
   ]
  },
  {
   "cell_type": "code",
   "execution_count": 6,
   "metadata": {},
   "outputs": [],
   "source": [
    "part4='</span></a></span><span\\nlang=EN-US style=\\'font-size:12.0pt;color:black\\'><br>\\n<br>\\nYour participation in the survey will be greatly appreciated. Please do not\\nhesitate to contact me if you have any questions.<br>\\n<br>\\nKind regards,<br>\\n<br>\\n</span><b><span lang=EN-US style=\\'font-size:12.0pt;color:#275296\\'>Lu Wang</span></b><span\\nlang=EN-US style=\\'font-size:12.0pt;color:black\\'><br>\\n</span><span lang=EN-US style=\\'font-size:12.0pt;color:#275296\\'>Ranking Manager</span><span\\nlang=EN-US style=\\'font-size:12.0pt;color:black\\'><br>\\n</span><span lang=EN-US style=\\'font-size:12.0pt;color:#275296\\'>ShanghaiRanking\\nConsultancy</span><span lang=EN-US style=\\'font-size:12.0pt;color:black\\'><br>\\n</span><span lang=EN-US style=\\'font-size:12.0pt;color:#275296\\'>The official\\npublisher of the Academic Ranking of World Universities (ARWU)</span><span\\nlang=EN-US style=\\'font-size:12.0pt;color:black\\'><br>\\n</span><span lang=EN-US style=\\'font-size:12.0pt;color:#275296\\'>9F, 955\\nJianchuan Road, Shanghai 200240 P.R. China</span><span lang=EN-US\\nstyle=\\'font-size:12.0pt;color:black\\'><br>\\n</span><span lang=EN-US style=\\'font-size:12.0pt;color:#275296\\'>Web:&nbsp;</span><span\\nlang=EN-US style=\\'font-size:12.0pt;color:#275296\\'>http://www.shanghairanking.com</span></p>\\n\\n</div>\\n\\n</body>\\n\\n</html>\\n'"
   ]
  },
  {
   "cell_type": "code",
   "execution_count": null,
   "metadata": {},
   "outputs": [],
   "source": []
  },
  {
   "cell_type": "code",
   "execution_count": 7,
   "metadata": {},
   "outputs": [],
   "source": [
    "############对原文件按照姓名排序，最大限度的使同一个学校的发送邮件间隔时间拉长，防止被当成垃圾邮件过滤######################\n",
    "with open(r\"C:\\Users\\rk\\Desktop\\学术卓越调查\\学术卓越调查-十月第四次8786人.csv\") as f:\n",
    "    csv_reader=csv.reader(f)\n",
    "    lis_a=list(csv_reader)"
   ]
  },
  {
   "cell_type": "code",
   "execution_count": 8,
   "metadata": {},
   "outputs": [
    {
     "data": {
      "text/plain": [
       "'Name'"
      ]
     },
     "execution_count": 8,
     "metadata": {},
     "output_type": "execute_result"
    }
   ],
   "source": [
    "lis_a[0][3]"
   ]
  },
  {
   "cell_type": "code",
   "execution_count": 9,
   "metadata": {
    "scrolled": true
   },
   "outputs": [
    {
     "data": {
      "text/plain": [
       "'emailAddress'"
      ]
     },
     "execution_count": 9,
     "metadata": {},
     "output_type": "execute_result"
    }
   ],
   "source": [
    "lis_a[0][4]"
   ]
  },
  {
   "cell_type": "code",
   "execution_count": 10,
   "metadata": {},
   "outputs": [
    {
     "data": {
      "text/plain": [
       "'accessCode'"
      ]
     },
     "execution_count": 10,
     "metadata": {},
     "output_type": "execute_result"
    }
   ],
   "source": [
    "lis_a[0][5]"
   ]
  },
  {
   "cell_type": "code",
   "execution_count": 11,
   "metadata": {
    "scrolled": true
   },
   "outputs": [
    {
     "data": {
      "text/plain": [
       "8788"
      ]
     },
     "execution_count": 11,
     "metadata": {},
     "output_type": "execute_result"
    }
   ],
   "source": [
    "len(lis_a)"
   ]
  },
  {
   "cell_type": "code",
   "execution_count": 12,
   "metadata": {},
   "outputs": [
    {
     "data": {
      "text/plain": [
       "['pid202007617',\n",
       " 'The University of Tokyo',\n",
       " 'AP01001',\n",
       " 'Tomoyuki NAKAJIMA',\n",
       " 'nakajima@e.u-tokyo.ac.jp',\n",
       " 'Gs04Q']"
      ]
     },
     "execution_count": 12,
     "metadata": {},
     "output_type": "execute_result"
    }
   ],
   "source": [
    "lis_a[7264]"
   ]
  },
  {
   "cell_type": "code",
   "execution_count": 13,
   "metadata": {},
   "outputs": [
    {
     "data": {
      "text/plain": [
       "['pid202013820',\n",
       " 'Yale University',\n",
       " 'AM01007',\n",
       " 'Tong Wang',\n",
       " 'tong.wang@yale.edu',\n",
       " '5ouhj']"
      ]
     },
     "execution_count": 13,
     "metadata": {},
     "output_type": "execute_result"
    }
   ],
   "source": [
    "lis_a[7265]"
   ]
  },
  {
   "cell_type": "code",
   "execution_count": 14,
   "metadata": {},
   "outputs": [],
   "source": [
    "count=8684#初始从第二行开始发送，邮件发送异常后从count开始发送"
   ]
  },
  {
   "cell_type": "code",
   "execution_count": null,
   "metadata": {},
   "outputs": [],
   "source": []
  },
  {
   "cell_type": "code",
   "execution_count": 15,
   "metadata": {
    "scrolled": true
   },
   "outputs": [
    {
     "name": "stdout",
     "output_type": "stream",
     "text": [
      "8685 Mon Nov 30 09:37:46 2020 xuyajun@bjmu.edu.cn\n",
      "8686 Mon Nov 30 09:40:05 2020 hoge@sci.kyoto-u.ac.jp\n",
      "8692 Mon Nov 30 09:42:27 2020 yanghuai@coe.pku.edu.cn\n",
      "8693 Mon Nov 30 09:44:47 2020 yangj@bjmu.edu.cn\n",
      "8696 Mon Nov 30 09:47:17 2020 yangzj@bjmu.edu.cn\n",
      "8703 Mon Nov 30 09:49:34 2020 yap@pku.edu.cn\n",
      "8706 Mon Nov 30 09:52:08 2020 xinshan@bjmu.edu.cn\n",
      "8707 Mon Nov 30 09:54:15 2020 yezi0015@sina.com\n",
      "8711 Mon Nov 30 09:56:24 2020 caozhengjie@pku.edu.cn\n",
      "8713 Mon Nov 30 09:58:47 2020 yujunli@pku.edu.cn\n",
      "8717 Mon Nov 30 10:00:54 2020 yunch@hsc.pku.edu.cn\n",
      "8718 Mon Nov 30 10:03:09 2020 zhaikun@pku.edu.cn\n",
      "8719 Mon Nov 30 10:05:30 2020 siyan-zhan@bjmu.edu.cn\n",
      "8720 Mon Nov 30 10:07:49 2020 bxzhang@bjmu.edu.cn\n",
      "8721 Mon Nov 30 10:09:56 2020 dxz@pku.edu.cn\n",
      "8722 Mon Nov 30 10:12:23 2020 Ge716@sohu.com\n",
      "8723 Mon Nov 30 10:14:49 2020 zgmin@pku.edu.cn\n",
      "8729 Mon Nov 30 10:17:03 2020 zhjj@pku.edu.cn\n",
      "8731 Mon Nov 30 10:19:08 2020 soczhangj@pku.edu.cn\n",
      "8733 Mon Nov 30 10:21:32 2020 zdszlh@bjmu.edu.cn\n",
      "8734 Mon Nov 30 10:23:44 2020 liangren@bjmu.edu.cn\n",
      "8735 Mon Nov 30 10:25:55 2020 zhangqingmin@pku.edu.cn\n",
      "8736 Mon Nov 30 10:28:12 2020 qyzhang@bjmu.edu.cn\n",
      "8738 Mon Nov 30 10:30:28 2020 yuexiahuacong@sina.com\n",
      "8739 Mon Nov 30 10:32:41 2020 zxq001@sina.com\n",
      "8741 Mon Nov 30 10:35:13 2020 xiaoweizhang@bjmu.edu.cn\n",
      "8742 Mon Nov 30 10:37:21 2020 xuanzhang@bjmu.edu.cn\n",
      "8746 Mon Nov 30 10:39:40 2020 zhangyumei@bjmu.edu.cn\n",
      "8749 Mon Nov 30 10:42:08 2020 zzr97@sina.com\n",
      "8750 Mon Nov 30 10:44:29 2020 zczhang@pku.edu.cn\n",
      "8751 Mon Nov 30 10:47:05 2020 zhgzhang@pku.edu.cn\n",
      "8753 Mon Nov 30 10:49:21 2020 zyzhang@pku.edu.cn\n",
      "8758 Mon Nov 30 10:51:32 2020 zhaoying0812@bjmu.edu.cn\n",
      "8760 Mon Nov 30 10:54:03 2020 mzheng@pku.edu.cn\n",
      "8761 Mon Nov 30 10:56:35 2020 zhengm@pku.edu.cn\n",
      "8763 Mon Nov 30 10:59:06 2020 wzheng@pku.edu.cn\n",
      "8767 Mon Nov 30 11:01:12 2020 chiro@math.kyoto-u.ac.jp\n",
      "8770 Mon Nov 30 11:03:21 2020 deminzhou@bjmu.edu.cn\n",
      "8776 Mon Nov 30 11:05:33 2020 xjzhou@pku.edu.cn\n",
      "8777 Mon Nov 30 11:08:00 2020 yyzhou@ustc.edu.cn\n",
      "8779 Mon Nov 30 11:10:13 2020 zhud@pku.edu.cn\n",
      "8781 Mon Nov 30 11:12:47 2020 tzhu@pku.edu.cn\n",
      "8782 Mon Nov 30 11:15:14 2020 yfzhu@pku.edu.cn\n",
      "8788 Mon Nov 30 11:17:41 2020 sato.takumi.5e@kyoto-u.ac.jp\n"
     ]
    }
   ],
   "source": [
    "my_sender='aes@shanghairanking.com'          # 发件人邮箱账号\n",
    "my_pass = '19AESranking_14'                  # 发件人邮箱密码\n",
    "#my_user='hao.miao@shanghairanking.com'      # 收件人邮箱账号，我这边发送给自己\n",
    "\n",
    "for item in lis_a[count:]:\n",
    "    emailName = item[3]                      #收件人称呼，根据实际调整\n",
    "    emailAddress = item[4]                   #收件人邮箱，根据实际调整\n",
    "    if 'tsinghua.edu' in emailAddress:\n",
    "        count += 1\n",
    "        continue\n",
    "    code = item[5]                           #根据实际调整\n",
    "    sendercontent=part1+emailName+part2+code+part3+code+part4\n",
    "    #sendercontent=tex.format(emailName,code,code)\n",
    "    msg=MIMEText(sendercontent,'html','utf-8')\n",
    "    msg['From'] = formataddr([\"Lu Wang\",my_sender])  # 括号里的对应发件人邮箱昵称、发件人邮箱账号（对方邮箱显示）\n",
    "    msg['To'] = formataddr([emailName,emailAddress]) # 括号里的对应收件人邮箱昵称、收件人邮箱账号（自己的邮箱里显示） 根据实际调整       \n",
    "    subject = \"ShanghaiRanking invites you to nominate the top journals and awards in the world!\" # 邮件的主题，也可以说是标题\n",
    "    msg['Subject'] = Header(subject,'utf-8')\n",
    "    server=smtplib.SMTP(\"smtp.qiye.163.com\", 25)     # 发件人邮箱中的SMTP服务器，端口是25\n",
    "    server.login(my_sender, my_pass)                 # 括号中对应的是发件人邮箱账号、邮箱密码\n",
    "    try:\n",
    "        server.sendmail(my_sender,[emailAddress,],msg.as_string())  # 括号中对应的是发件人邮箱账号、收件人邮箱账号、发送邮件\n",
    "        item.append(str(count))\n",
    "        item.append('successful')\n",
    "        save_sended(item)                   #记录邮件发送成功情况\n",
    "    except:\n",
    "        item.append(str(count))\n",
    "        item.append('failed')\n",
    "        save_sended(item)                   #记录邮件发送失败情况\n",
    "    count += 1\n",
    "    print(count,time.ctime(),emailAddress)\n",
    "    time.sleep(random.random()*5+2)\n",
    "    server.quit()                           # 关闭连接\n",
    "    time.sleep(random.random()*30+120)"
   ]
  },
  {
   "cell_type": "code",
   "execution_count": null,
   "metadata": {},
   "outputs": [],
   "source": [
    "1978"
   ]
  },
  {
   "cell_type": "code",
   "execution_count": 27,
   "metadata": {},
   "outputs": [
    {
     "data": {
      "text/plain": [
       "7264"
      ]
     },
     "execution_count": 27,
     "metadata": {},
     "output_type": "execute_result"
    }
   ],
   "source": [
    "count"
   ]
  },
  {
   "cell_type": "code",
   "execution_count": null,
   "metadata": {},
   "outputs": [],
   "source": []
  },
  {
   "cell_type": "code",
   "execution_count": 21,
   "metadata": {},
   "outputs": [],
   "source": [
    "count=1317"
   ]
  },
  {
   "cell_type": "code",
   "execution_count": null,
   "metadata": {},
   "outputs": [],
   "source": []
  },
  {
   "cell_type": "code",
   "execution_count": null,
   "metadata": {},
   "outputs": [],
   "source": []
  },
  {
   "cell_type": "code",
   "execution_count": null,
   "metadata": {},
   "outputs": [],
   "source": []
  },
  {
   "cell_type": "code",
   "execution_count": 19,
   "metadata": {},
   "outputs": [],
   "source": [
    "count=2#初始从第二行开始发送，邮件发送异常后从count开始发送"
   ]
  },
  {
   "cell_type": "code",
   "execution_count": 20,
   "metadata": {},
   "outputs": [
    {
     "name": "stdout",
     "output_type": "stream",
     "text": [
      "3\n",
      "邮件发送成功\n"
     ]
    }
   ],
   "source": [
    "###############################################此程序完整，但调试的时候看不出哪里异常######################################\n",
    "my_sender='aes@shanghairanking.com'    # 发件人邮箱账号\n",
    "my_pass = '19AESranking_14'              # 发件人邮箱密码\n",
    "#my_user='hao.miao@shanghairanking.com'      # 收件人邮箱账号，我这边发送给自己\n",
    "def mail(count):\n",
    "    ret=True\n",
    "    try:\n",
    "        for item in lis_a[count:4]:\n",
    "            emailName=item[4]#根据实际调整\n",
    "            code=item[13]#根据实际调整\n",
    "            emailAddress=item[9]#根据实际调整\n",
    "            sendercontent=part1+emailName+part2+code+part3+code+part4\n",
    "            msg=MIMEText(sendercontent,'html','utf-8')\n",
    "            msg['From']=formataddr([\"Lu Wang\",my_sender])  # 括号里的对应发件人邮箱昵称、发件人邮箱账号（对方邮箱显示）\n",
    "            msg['To']=formataddr([emailName,item[9]])    # 括号里的对应收件人邮箱昵称、收件人邮箱账号（自己的邮箱里显示）        \n",
    "            subject=\"ShanghaiRanking invites you to nominate the top journals and awards in the world!\" # 邮件的主题，也可以说是标题\n",
    "            msg['Subject']= Header(subject,'utf-8')\n",
    "            server=smtplib.SMTP(\"smtp.qiye.163.com\", 25)  # 发件人邮箱中的SMTP服务器，端口是25\n",
    "            server.login(my_sender, my_pass)  # 括号中对应的是发件人邮箱账号、邮箱密码\n",
    "            server.sendmail(my_sender,[emailAddress,],msg.as_string())  # 括号中对应的是发件人邮箱账号、收件人邮箱账号、发送邮件\n",
    "            item.append(str(count))\n",
    "            save_sended(item)\n",
    "            time.sleep(random.random()*5+1)\n",
    "            server.quit()  # 关闭连接\n",
    "            time.sleep(random.random()*30+120)\n",
    "            count+=1\n",
    "            print(count)\n",
    "    except Exception:  # 如果 try 中的语句没有执行，则会执行下面的 ret=False\n",
    "        ret=False\n",
    "    return ret\n",
    " \n",
    "ret=mail(count)\n",
    "if ret:\n",
    "    print(\"邮件发送成功\")\n",
    "else:\n",
    "    print(\"邮件发送失败\")        \n"
   ]
  },
  {
   "cell_type": "code",
   "execution_count": null,
   "metadata": {},
   "outputs": [],
   "source": [
    "server"
   ]
  },
  {
   "cell_type": "code",
   "execution_count": null,
   "metadata": {},
   "outputs": [],
   "source": []
  },
  {
   "cell_type": "code",
   "execution_count": null,
   "metadata": {},
   "outputs": [],
   "source": []
  },
  {
   "cell_type": "code",
   "execution_count": null,
   "metadata": {},
   "outputs": [],
   "source": []
  },
  {
   "cell_type": "code",
   "execution_count": null,
   "metadata": {},
   "outputs": [],
   "source": []
  },
  {
   "cell_type": "code",
   "execution_count": null,
   "metadata": {},
   "outputs": [],
   "source": []
  },
  {
   "cell_type": "code",
   "execution_count": null,
   "metadata": {},
   "outputs": [],
   "source": []
  },
  {
   "cell_type": "code",
   "execution_count": null,
   "metadata": {},
   "outputs": [],
   "source": []
  },
  {
   "cell_type": "code",
   "execution_count": null,
   "metadata": {},
   "outputs": [],
   "source": []
  },
  {
   "cell_type": "code",
   "execution_count": null,
   "metadata": {},
   "outputs": [],
   "source": []
  },
  {
   "cell_type": "code",
   "execution_count": null,
   "metadata": {},
   "outputs": [],
   "source": []
  },
  {
   "cell_type": "code",
   "execution_count": 49,
   "metadata": {},
   "outputs": [
    {
     "name": "stdout",
     "output_type": "stream",
     "text": [
      "邮件发送成功\n"
     ]
    }
   ],
   "source": [
    "my_sender='hao.miao@shanghairanking.com'    # 发件人邮箱账号\n",
    "my_pass = 'Miao286814303'              # 发件人邮箱密码\n",
    "my_user='hao.miao@shanghairanking.com'      # 收件人邮箱账号，我这边发送给自己\n",
    "def mail():\n",
    "    ret=True\n",
    "    try:\n",
    "        msg=MIMEText(sendercontent,'html','utf-8')\n",
    "        msg['From']=formataddr([\"Lu Wang\",my_sender])  # 括号里的对应发件人邮箱昵称、发件人邮箱账号（对方邮箱显示）\n",
    "        msg['To']=formataddr([\"miaohao\",my_user])    # 括号里的对应收件人邮箱昵称、收件人邮箱账号（自己的邮箱里显示）\n",
    "        subject=\"ShanghaiRanking invites you to nominate the top journals and awards in the world!\"\n",
    "        msg['Subject']= Header(subject,'utf-8')               # 邮件的主题，也可以说是标题\n",
    "        server=smtplib.SMTP(\"smtp.qiye.163.com\", 25)  # 发件人邮箱中的SMTP服务器，端口是25\n",
    "        server.login(my_sender, my_pass)  # 括号中对应的是发件人邮箱账号、邮箱密码\n",
    "        server.sendmail(my_sender,[my_user,],msg.as_string())  # 括号中对应的是发件人邮箱账号、收件人邮箱账号、发送邮件\n",
    "        server.quit()  # 关闭连接\n",
    "    except Exception:  # 如果 try 中的语句没有执行，则会执行下面的 ret=False\n",
    "        ret=False\n",
    "    return ret\n",
    " \n",
    "ret=mail()\n",
    "if ret:\n",
    "    print(\"邮件发送成功\")\n",
    "else:\n",
    "    print(\"邮件发送失败\")"
   ]
  },
  {
   "cell_type": "code",
   "execution_count": null,
   "metadata": {},
   "outputs": [],
   "source": []
  },
  {
   "cell_type": "code",
   "execution_count": null,
   "metadata": {},
   "outputs": [],
   "source": [
    "message['Cc']=#抄送\n"
   ]
  },
  {
   "cell_type": "code",
   "execution_count": 32,
   "metadata": {},
   "outputs": [],
   "source": []
  },
  {
   "cell_type": "code",
   "execution_count": 24,
   "metadata": {},
   "outputs": [
    {
     "name": "stdout",
     "output_type": "stream",
     "text": [
      "邮件发送成功\n"
     ]
    }
   ],
   "source": [
    "# 第三方 SMTP 服务\n",
    "mail_host=\"smtp.qiye.163.com\"  #设置服务器\n",
    "mail_user=\"hao.miao@shanghairanking.com\"    #用户名\n",
    "mail_pass=\"Miao286814303\"   #口令 \n",
    " \n",
    "sender = 'hao.miao@shanghairanking.com'\n",
    "receivers = ['miaohao32@qq.com','shuxing.zhou@shanghairanking.com']  # 接收邮件，可设置为你的QQ邮箱或者其他邮箱\n",
    " \n",
    "message = MIMEText('Python 邮件发送测试...', 'plain', 'utf-8')\n",
    "message['From']='{} <{}>'.format('上海软科',sender)\n",
    "#message['From']='菜鸟教程'\n",
    "#message['From'] = Header(\"菜鸟教程\", 'utf-8')\n",
    "message['To'] =  Header(\"测试\", 'utf-8')\n",
    " \n",
    "subject='Python SMTP 邮件测试'\n",
    "message['Subject'] = Header(subject,'utf-8')\n",
    "mail_title='这是一个邮件测试'\n",
    " \n",
    "try:\n",
    "    smtpObj = smtplib.SMTP() \n",
    "    smtpObj.connect(mail_host, 25)    # 25 为 SMTP 端口号\n",
    "    smtpObj.login(mail_user,mail_pass)  \n",
    "    smtpObj.sendmail(sender, receivers, message.as_string())\n",
    "    print(\"邮件发送成功\")\n",
    "except smtplib.SMTPException:\n",
    "    print(\"Error: 无法发送邮件\")"
   ]
  },
  {
   "cell_type": "code",
   "execution_count": null,
   "metadata": {},
   "outputs": [],
   "source": []
  },
  {
   "cell_type": "code",
   "execution_count": null,
   "metadata": {},
   "outputs": [],
   "source": []
  },
  {
   "cell_type": "code",
   "execution_count": 2,
   "metadata": {},
   "outputs": [
    {
     "name": "stdout",
     "output_type": "stream",
     "text": [
      "1\n",
      "邮件发送失败\n"
     ]
    }
   ],
   "source": [
    "####################################\n",
    "\n",
    "my_sender='hao.miao@shanghairanking.com'    # 发件人邮箱账号\n",
    "my_pass = 'Miao286814303'              # 发件人邮箱密码\n",
    "my_user='miaohao32@qq.com'      # 收件人邮箱账号，我这边发送给自己\n",
    "def mail():\n",
    "    ret=True\n",
    "    try:\n",
    "        msg=MIMEText('填写邮件内容','html','utf-8')\n",
    "        msg['From']=formataddr([\"FromRunoob\",my_sender]) \n",
    "        print(1)\n",
    "        \n",
    "        # 括号里的对应发件人邮箱昵称、发件人邮箱账号\n",
    "        msg['To']=formataddr([\"FK\",my_user])              # 括号里的对应收件人邮箱昵称、收件人邮箱账号\n",
    "        msg['Subject']=\"菜鸟教程发送邮件测试\"                # 邮件的主题，也可以说是标题\n",
    " \n",
    "        server=smtplib.SMTP_SSL(\"smtp.qq.com\", 25)  # 发件人邮箱中的SMTP服务器，端口是25\n",
    "        server.login(my_sender, my_pass)  # 括号中对应的是发件人邮箱账号、邮箱密码\n",
    "        server.sendmail(my_sender,[my_user,],msg.as_string())  # 括号中对应的是发件人邮箱账号、收件人邮箱账号、发送邮件\n",
    "        server.quit()  # 关闭连接\n",
    "    except Exception:  # 如果 try 中的语句没有执行，则会执行下面的 ret=False\n",
    "        ret=False\n",
    "    return ret\n",
    " \n",
    "ret=mail()\n",
    "if ret:\n",
    "    print(\"邮件发送成功\")\n",
    "else:\n",
    "    print(\"邮件发送失败\")"
   ]
  },
  {
   "cell_type": "code",
   "execution_count": null,
   "metadata": {},
   "outputs": [],
   "source": []
  },
  {
   "cell_type": "code",
   "execution_count": null,
   "metadata": {},
   "outputs": [],
   "source": []
  },
  {
   "cell_type": "code",
   "execution_count": null,
   "metadata": {},
   "outputs": [],
   "source": []
  }
 ],
 "metadata": {
  "kernelspec": {
   "display_name": "Python 3",
   "language": "python",
   "name": "python3"
  },
  "language_info": {
   "codemirror_mode": {
    "name": "ipython",
    "version": 3
   },
   "file_extension": ".py",
   "mimetype": "text/x-python",
   "name": "python",
   "nbconvert_exporter": "python",
   "pygments_lexer": "ipython3",
   "version": "3.6.5"
  }
 },
 "nbformat": 4,
 "nbformat_minor": 2
}
