{
 "cells": [
  {
   "cell_type": "code",
   "execution_count": 1,
   "metadata": {},
   "outputs": [],
   "source": [
    "from selenium import webdriver\n",
    "from selenium.webdriver.common.keys import Keys\n",
    "#import re\n",
    "import numpy as np, pandas as pd\n",
    "import os\n",
    "import csv\n",
    "import time"
   ]
  },
  {
   "cell_type": "code",
   "execution_count": 2,
   "metadata": {},
   "outputs": [],
   "source": [
    "########################服务器崩溃后，从此处运行##########################################\n",
    "browser = webdriver.Chrome('C:/Users/rk/Desktop/chromedriver.exe') #锁定浏览器\n",
    "browser.get(\"https://apps.webofknowledge.com/UA_GeneralSearch_input.do?product=UA&search_mode=GeneralSearch&SID=7Cj7NROBjByXyG4njN7&preferencesSaved=\")#访问网页"
   ]
  },
  {
   "cell_type": "code",
   "execution_count": 92,
   "metadata": {},
   "outputs": [],
   "source": [
    "a=browser.find_elements_by_xpath('//*[@id=\"records_chunks\"]/div[2]/div')"
   ]
  },
  {
   "cell_type": "code",
   "execution_count": 93,
   "metadata": {},
   "outputs": [
    {
     "data": {
      "text/plain": [
       "[<selenium.webdriver.remote.webelement.WebElement (session=\"3e8ea6df3df2329eb65383aa9a86e321\", element=\"0.6178055292961946-1\")>,\n",
       " <selenium.webdriver.remote.webelement.WebElement (session=\"3e8ea6df3df2329eb65383aa9a86e321\", element=\"0.6178055292961946-2\")>,\n",
       " <selenium.webdriver.remote.webelement.WebElement (session=\"3e8ea6df3df2329eb65383aa9a86e321\", element=\"0.6178055292961946-3\")>,\n",
       " <selenium.webdriver.remote.webelement.WebElement (session=\"3e8ea6df3df2329eb65383aa9a86e321\", element=\"0.6178055292961946-4\")>,\n",
       " <selenium.webdriver.remote.webelement.WebElement (session=\"3e8ea6df3df2329eb65383aa9a86e321\", element=\"0.6178055292961946-5\")>,\n",
       " <selenium.webdriver.remote.webelement.WebElement (session=\"3e8ea6df3df2329eb65383aa9a86e321\", element=\"0.6178055292961946-6\")>,\n",
       " <selenium.webdriver.remote.webelement.WebElement (session=\"3e8ea6df3df2329eb65383aa9a86e321\", element=\"0.6178055292961946-7\")>,\n",
       " <selenium.webdriver.remote.webelement.WebElement (session=\"3e8ea6df3df2329eb65383aa9a86e321\", element=\"0.6178055292961946-8\")>,\n",
       " <selenium.webdriver.remote.webelement.WebElement (session=\"3e8ea6df3df2329eb65383aa9a86e321\", element=\"0.6178055292961946-9\")>,\n",
       " <selenium.webdriver.remote.webelement.WebElement (session=\"3e8ea6df3df2329eb65383aa9a86e321\", element=\"0.6178055292961946-10\")>]"
      ]
     },
     "execution_count": 93,
     "metadata": {},
     "output_type": "execute_result"
    }
   ],
   "source": [
    "a"
   ]
  },
  {
   "cell_type": "code",
   "execution_count": 91,
   "metadata": {},
   "outputs": [
    {
     "name": "stdout",
     "output_type": "stream",
     "text": [
      " 5th International Workshop on Interactive Distributed Multimedia Systems and Telecommunication Services (IDMS 98) \n",
      " 5th International Workshop on Interactive Distributed Multimedia Systems and Telecommunication Services (IDMS 98) \n",
      " 5th International Workshop on Interactive Distributed Multimedia Systems and Telecommunication Services (IDMS 98) \n",
      " 5th International Workshop on Interactive Distributed Multimedia Systems and Telecommunication Services (IDMS 98) \n",
      " 5th International Workshop on Interactive Distributed Multimedia Systems and Telecommunication Services (IDMS 98) \n",
      " 5th International Workshop on Interactive Distributed Multimedia Systems and Telecommunication Services (IDMS 98) \n",
      " 5th International Workshop on Interactive Distributed Multimedia Systems and Telecommunication Services (IDMS 98) \n",
      " 5th International Workshop on Interactive Distributed Multimedia Systems and Telecommunication Services (IDMS 98) \n",
      " 5th International Workshop on Interactive Distributed Multimedia Systems and Telecommunication Services (IDMS 98) \n",
      " 5th International Workshop on Interactive Distributed Multimedia Systems and Telecommunication Services (IDMS 98) \n"
     ]
    }
   ],
   "source": [
    "for div in a:\n",
    "    b=(div.text).split('\\n')[3].split(':')[1]\n",
    "    c=b[:b.find('会')]\n",
    "    print(c)"
   ]
  },
  {
   "cell_type": "code",
   "execution_count": null,
   "metadata": {},
   "outputs": [],
   "source": []
  },
  {
   "cell_type": "code",
   "execution_count": 75,
   "metadata": {},
   "outputs": [
    {
     "data": {
      "text/plain": [
       "'601.\\nInteractive protocol simulation applets for distance education\\n作者: Burger, C; Rothermel, K; Mecklenburg, R\\n会议: 5th International Workshop on Interactive Distributed Multimedia Systems and Telecommunication Services (IDMS 98) 会议地点: OSLO, NORWAY 会议日期: SEP 08-11, 1998\\n会议赞助商: ACM SIGMM & SIGCOMM; Den Norske Dataforening; Gesell Informik e V; IEEE Commun Soc; Norwegian Res Council; UniK, Ctr Technol Kjeller; Ericsson; Telenor, Res & Dev; Thomson CF Norcom AS\\nINTERACTIVE DISTRIBUTED MULTIMEDIA SYSTEMS AND TELECOMMUNICATION SERVICES\\n\\n  丛书: LECTURE NOTES IN COMPUTER SCIENCE   卷: 1483   页: 29-40   出版年: 1998\\n出版商处的全文 查看摘要\\n被引频次: 1\\n(来自 Web of Science 的核心合集)\\n使用次数\\n显示使用次数'"
      ]
     },
     "execution_count": 75,
     "metadata": {},
     "output_type": "execute_result"
    }
   ],
   "source": [
    "a[0].text"
   ]
  },
  {
   "cell_type": "code",
   "execution_count": 76,
   "metadata": {},
   "outputs": [
    {
     "data": {
      "text/plain": [
       "['601.',\n",
       " 'Interactive protocol simulation applets for distance education',\n",
       " '作者: Burger, C; Rothermel, K; Mecklenburg, R',\n",
       " '会议: 5th International Workshop on Interactive Distributed Multimedia Systems and Telecommunication Services (IDMS 98) 会议地点: OSLO, NORWAY 会议日期: SEP 08-11, 1998',\n",
       " '会议赞助商: ACM SIGMM & SIGCOMM; Den Norske Dataforening; Gesell Informik e V; IEEE Commun Soc; Norwegian Res Council; UniK, Ctr Technol Kjeller; Ericsson; Telenor, Res & Dev; Thomson CF Norcom AS',\n",
       " 'INTERACTIVE DISTRIBUTED MULTIMEDIA SYSTEMS AND TELECOMMUNICATION SERVICES',\n",
       " '',\n",
       " '  丛书: LECTURE NOTES IN COMPUTER SCIENCE   卷: 1483   页: 29-40   出版年: 1998',\n",
       " '出版商处的全文 查看摘要',\n",
       " '被引频次: 1',\n",
       " '(来自 Web of Science 的核心合集)',\n",
       " '使用次数',\n",
       " '显示使用次数']"
      ]
     },
     "execution_count": 76,
     "metadata": {},
     "output_type": "execute_result"
    }
   ],
   "source": [
    "(a[0].text).split('\\n')"
   ]
  },
  {
   "cell_type": "code",
   "execution_count": 77,
   "metadata": {},
   "outputs": [],
   "source": [
    "b=(a[0].text).split('\\n')"
   ]
  },
  {
   "cell_type": "code",
   "execution_count": 86,
   "metadata": {},
   "outputs": [
    {
     "data": {
      "text/plain": [
       "' 5th International Workshop on Interactive Distributed Multimedia Systems and Telecommunication Services (IDMS 98) 会议地点'"
      ]
     },
     "execution_count": 86,
     "metadata": {},
     "output_type": "execute_result"
    }
   ],
   "source": [
    "(a[0].text).split('\\n')[3].split(':')[1]"
   ]
  },
  {
   "cell_type": "code",
   "execution_count": 78,
   "metadata": {},
   "outputs": [
    {
     "data": {
      "text/plain": [
       "'会议: 5th International Workshop on Interactive Distributed Multimedia Systems and Telecommunication Services (IDMS 98) 会议地点: OSLO, NORWAY 会议日期: SEP 08-11, 1998'"
      ]
     },
     "execution_count": 78,
     "metadata": {},
     "output_type": "execute_result"
    }
   ],
   "source": [
    "b[3]"
   ]
  },
  {
   "cell_type": "code",
   "execution_count": 79,
   "metadata": {},
   "outputs": [
    {
     "data": {
      "text/plain": [
       "['会议',\n",
       " ' 5th International Workshop on Interactive Distributed Multimedia Systems and Telecommunication Services (IDMS 98) 会议地点',\n",
       " ' OSLO, NORWAY 会议日期',\n",
       " ' SEP 08-11, 1998']"
      ]
     },
     "execution_count": 79,
     "metadata": {},
     "output_type": "execute_result"
    }
   ],
   "source": [
    "b[3].split(':')"
   ]
  },
  {
   "cell_type": "code",
   "execution_count": 80,
   "metadata": {},
   "outputs": [],
   "source": [
    "c=b[3].split(':')"
   ]
  },
  {
   "cell_type": "code",
   "execution_count": 81,
   "metadata": {},
   "outputs": [
    {
     "data": {
      "text/plain": [
       "' 5th International Workshop on Interactive Distributed Multimedia Systems and Telecommunication Services (IDMS 98) 会议地点'"
      ]
     },
     "execution_count": 81,
     "metadata": {},
     "output_type": "execute_result"
    }
   ],
   "source": [
    "c[1]"
   ]
  },
  {
   "cell_type": "code",
   "execution_count": 82,
   "metadata": {},
   "outputs": [
    {
     "data": {
      "text/plain": [
       "115"
      ]
     },
     "execution_count": 82,
     "metadata": {},
     "output_type": "execute_result"
    }
   ],
   "source": [
    "c[1].find('会')"
   ]
  },
  {
   "cell_type": "code",
   "execution_count": 83,
   "metadata": {},
   "outputs": [
    {
     "data": {
      "text/plain": [
       "' 5th International Workshop on Interactive Distributed Multimedia Systems and Telecommunication Services (IDMS 98) '"
      ]
     },
     "execution_count": 83,
     "metadata": {},
     "output_type": "execute_result"
    }
   ],
   "source": [
    "c[1][:c[1].find('会')]"
   ]
  },
  {
   "cell_type": "code",
   "execution_count": null,
   "metadata": {},
   "outputs": [],
   "source": []
  },
  {
   "cell_type": "code",
   "execution_count": null,
   "metadata": {},
   "outputs": [],
   "source": []
  },
  {
   "cell_type": "code",
   "execution_count": null,
   "metadata": {},
   "outputs": [],
   "source": []
  },
  {
   "cell_type": "code",
   "execution_count": null,
   "metadata": {},
   "outputs": [],
   "source": []
  },
  {
   "cell_type": "code",
   "execution_count": 66,
   "metadata": {},
   "outputs": [
    {
     "data": {
      "text/plain": [
       "'5th International Workshop on Interactive Distributed Multimedia Systems and Telecommunication Services (IDMS 98)'"
      ]
     },
     "execution_count": 66,
     "metadata": {},
     "output_type": "execute_result"
    }
   ],
   "source": [
    "browser.find_element_by_xpath('//*[@id=\"RECORD_605\"]/div[3]/div[3]/span[2]').text"
   ]
  },
  {
   "cell_type": "code",
   "execution_count": 43,
   "metadata": {},
   "outputs": [
    {
     "data": {
      "text/plain": [
       "'CCS: CORBA-based conferencing service\\n作者: Trossen, D; Scharer, KH\\n会议: 5th International Workshop on Interactive Distributed Multimedia Systems and Telecommunication Services (IDMS 98) 会议地点: OSLO, NORWAY 会议日期: SEP 08-11, 1998\\n会议赞助商: ACM SIGMM & SIGCOMM; Den Norske Dataforening; Gesell Informik e V; IEEE Commun Soc; Norwegian Res Council; UniK, Ctr Technol Kjeller; Ericsson; Telenor, Res & Dev; Thomson CF Norcom AS\\nINTERACTIVE DISTRIBUTED MULTIMEDIA SYSTEMS AND TELECOMMUNICATION SERVICES\\n\\n  丛书: LECTURE NOTES IN COMPUTER SCIENCE   卷: 1483   页: 71-76   出版年: 1998\\n出版商处的全文 查看摘要'"
      ]
     },
     "execution_count": 43,
     "metadata": {},
     "output_type": "execute_result"
    }
   ],
   "source": [
    "browser.find_element_by_xpath('//*[@id=\"RECORD_605\"]/div[3]').text"
   ]
  },
  {
   "cell_type": "code",
   "execution_count": null,
   "metadata": {},
   "outputs": [],
   "source": []
  },
  {
   "cell_type": "code",
   "execution_count": null,
   "metadata": {},
   "outputs": [],
   "source": []
  },
  {
   "cell_type": "code",
   "execution_count": null,
   "metadata": {},
   "outputs": [],
   "source": [
    "def fids(vol,item,university):\n",
    "    '''抓取所需数据'''\n",
    "    count=0\n",
    "    dest=[]\n",
    "    while True:\n",
    "        try:\n",
    "            univ=browser.find_element_by_xpath('/html/body/div[1]/div/div[3]/div[1]/div/section/main/div[2]/div[3]/div/div[3]/table/tbody[2]/tr[1]/td[2]/span').text\n",
    "            dest.append(univ) #学校名称\n",
    "            rank=browser.find_element_by_xpath('/html/body/div[1]/div/div[3]/div[1]/div/section/main/div[2]/div[3]/div/div[3]/table/tbody[2]/tr[1]/td[3]/span').text\n",
    "            dest.append(rank)#序列号\n",
    "            pub=browser.find_element_by_xpath('/html/body/div[1]/div/div[3]/div[1]/div/section/main/div[2]/div[3]/div/div[3]/table/tbody[2]/tr[2]/td[4]/a').text\n",
    "            dest.append(pub)#PUB\n",
    "            cnci=browser.find_element_by_xpath('/html/body/div[1]/div/div[3]/div[1]/div/section/main/div[2]/div[3]/div/div[3]/table/tbody[2]/tr[2]/td[5]/span').text\n",
    "            dest.append(cnci)#CNCI\n",
    "            ic=browser.find_element_by_xpath('/html/body/div[1]/div/div[3]/div[1]/div/section/main/div[2]/div[3]/div/div[3]/table/tbody[2]/tr[2]/td[6]/span').text\n",
    "            dest.append(ic)#%IC\n",
    "            dest.append(item)#SUBJECT\n",
    "            print(dest)\n",
    "            vol.append(dest)\n",
    "            break\n",
    "        except:\n",
    "            time.sleep(1)\n",
    "            count+=1\n",
    "        if count==3:\n",
    "            dest.append(university)\n",
    "            dest.append(0)\n",
    "            dest.append(0)\n",
    "            dest.append(0)\n",
    "            dest.append(0)\n",
    "            dest.append(item)\n",
    "            print(dest)\n",
    "            vol.append(dest)\n",
    "            break\n",
    "        "
   ]
  },
  {
   "cell_type": "code",
   "execution_count": null,
   "metadata": {},
   "outputs": [],
   "source": []
  },
  {
   "cell_type": "code",
   "execution_count": null,
   "metadata": {},
   "outputs": [],
   "source": []
  },
  {
   "cell_type": "code",
   "execution_count": null,
   "metadata": {},
   "outputs": [],
   "source": []
  },
  {
   "cell_type": "code",
   "execution_count": null,
   "metadata": {},
   "outputs": [],
   "source": []
  }
 ],
 "metadata": {
  "kernelspec": {
   "display_name": "Python 3",
   "language": "python",
   "name": "python3"
  },
  "language_info": {
   "codemirror_mode": {
    "name": "ipython",
    "version": 3
   },
   "file_extension": ".py",
   "mimetype": "text/x-python",
   "name": "python",
   "nbconvert_exporter": "python",
   "pygments_lexer": "ipython3",
   "version": "3.6.5"
  }
 },
 "nbformat": 4,
 "nbformat_minor": 2
}
