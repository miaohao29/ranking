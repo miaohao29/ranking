{
 "cells": [
  {
   "cell_type": "code",
   "execution_count": 1,
   "metadata": {},
   "outputs": [],
   "source": [
    "import os\n",
    "import csv"
   ]
  },
  {
   "cell_type": "code",
   "execution_count": 2,
   "metadata": {
    "scrolled": true
   },
   "outputs": [
    {
     "data": {
      "text/plain": [
       "['Agricultural Economics.csv',\n",
       " 'Agricultural Engineering.csv',\n",
       " 'Agricultural Sciences.csv',\n",
       " 'Atmospheric Science.csv',\n",
       " 'Automation & Control.csv',\n",
       " 'Biological Sciences.csv',\n",
       " 'Biomedical Engineering.csv',\n",
       " 'Biotechnology.csv',\n",
       " 'Business Administration.csv',\n",
       " 'Chemical Engineering.csv',\n",
       " 'Chemistry.csv',\n",
       " 'Civil Engineering.csv',\n",
       " 'Clinical Medicine.csv',\n",
       " 'Communication.csv',\n",
       " 'Computer Science & Engineering.csv',\n",
       " 'Dentistry & Oral Sciences.csv',\n",
       " 'Earth Sciences.csv',\n",
       " 'Ecology.csv',\n",
       " 'Economics.csv',\n",
       " 'Education.csv',\n",
       " 'Electrical & Electronic Engineering.csv',\n",
       " 'Energy Science & Engineering.csv',\n",
       " 'Environmental Science & Engineering.csv',\n",
       " 'Finance.csv',\n",
       " 'Food Science & Technology.csv',\n",
       " 'Geography.csv',\n",
       " 'Geological Engineering.csv',\n",
       " 'Hospitality & Tourism Management.csv',\n",
       " 'Human Biological Sciences.csv',\n",
       " 'Instruments Science & Technology.csv',\n",
       " 'Law.csv',\n",
       " 'Library & Information Science.csv',\n",
       " 'Management.csv',\n",
       " 'Marine_Ocean Engineering.csv',\n",
       " 'Materials Science & Engineering.csv',\n",
       " 'Mathematics.csv',\n",
       " 'Mechanical Engineering.csv',\n",
       " 'Medical Technology.csv',\n",
       " 'Metallurgical Engineering.csv',\n",
       " 'Mining & Mineral Engineering.csv',\n",
       " 'Nanoscience & Nanotechnology.csv',\n",
       " 'Nursing.csv',\n",
       " 'Oceanography.csv',\n",
       " 'Pharmacy & Pharmaceutical Sciences.csv',\n",
       " 'Physics.csv',\n",
       " 'Political Sciences.csv',\n",
       " 'Psychology.csv',\n",
       " 'Public Administration.csv',\n",
       " 'Public Health.csv',\n",
       " 'Remote Sensing.csv',\n",
       " 'Sociology.csv',\n",
       " 'Statistics.csv',\n",
       " 'Telecommunication Engineering.csv',\n",
       " 'Transportation Science & Technology.csv',\n",
       " 'Veterinary Sciences.csv',\n",
       " 'Water Resources.csv',\n",
       " '数学']"
      ]
     },
     "execution_count": 2,
     "metadata": {},
     "output_type": "execute_result"
    }
   ],
   "source": [
    "Folder_Path =r'C:\\Users\\rk\\Desktop\\GRAS'        #要拼接的文件夹及其完整路径，注意不要包含中文\n",
    "SaveFile_Path =  r'C:\\Users\\rk\\Desktop\\GRASresult' #拼接后要保存的文件路径\n",
    "SaveFile_Name = r'GRAS.csv'              #合并后要保存的文件名\n",
    "    \n",
    "os.chdir(Folder_Path)#修改当前工作目录\n",
    "file_list = os.listdir() #将该文件夹下的所有文件名存入一个列表\n",
    "file_list"
   ]
  },
  {
   "cell_type": "code",
   "execution_count": 19,
   "metadata": {},
   "outputs": [],
   "source": [
    "a=[]\n",
    "csv_1=csv.reader(open(r'C:\\Users\\rk\\Desktop\\subject.csv'))\n",
    "for line in csv_1:\n",
    "    a.append(line)"
   ]
  },
  {
   "cell_type": "code",
   "execution_count": 20,
   "metadata": {
    "scrolled": true
   },
   "outputs": [
    {
     "data": {
      "text/plain": [
       "[['数学', 'Mathematics'],\n",
       " ['物理学', 'Physics'],\n",
       " ['化学', 'Chemistry'],\n",
       " ['地球科学', 'Earth Sciences'],\n",
       " ['地理学', 'Geography'],\n",
       " ['生态学', 'Ecology'],\n",
       " ['海洋科学', 'Oceanography'],\n",
       " ['大气科学', 'Atmospheric Science'],\n",
       " ['机械工程', 'Mechanical Engineering'],\n",
       " ['电力电子工程', 'Electrical & Electronic Engineering'],\n",
       " ['控制科学与工程', 'Automation & Control'],\n",
       " ['通信工程', 'Telecommunication Engineering'],\n",
       " ['仪器科学', 'Instruments Science & Technology'],\n",
       " ['生物医学工程', 'Biomedical Engineering'],\n",
       " ['计算机科学与工程', 'Computer Science & Engineering'],\n",
       " ['土木工程', 'Civil Engineering'],\n",
       " ['化学工程', 'Chemical Engineering'],\n",
       " ['材料科学与工程', 'Materials Science & Engineering'],\n",
       " ['纳米科学与技术', 'Nanoscience & Nanotechnology'],\n",
       " ['能源科学与工程', 'Energy Science & Engineering'],\n",
       " ['环境科学与工程', 'Environmental Science & Engineering'],\n",
       " ['水资源工程', 'Water Resources'],\n",
       " ['农业工程', 'Agricultural Engineering'],\n",
       " ['食品科学与工程', 'Food Science & Technology'],\n",
       " ['生物工程', 'Biotechnology'],\n",
       " ['航空航天工程', 'Aerospace Engineering'],\n",
       " ['船舶与海洋工程', 'Marine/Ocean Engineering'],\n",
       " ['交通运输工程', 'Transportation Science & Technology'],\n",
       " ['遥感技术', 'Remote Sensing'],\n",
       " ['地质工程', 'Geological Engineering'],\n",
       " ['矿业工程', 'Mining & Mineral Engineering'],\n",
       " ['冶金工程', 'Metallurgical Engineering'],\n",
       " ['生物学', 'Biological Sciences'],\n",
       " ['基础医学', 'Human Biological Sciences'],\n",
       " ['农学', 'Agricultural Sciences'],\n",
       " ['兽医学', 'Veterinary Sciences'],\n",
       " ['临床医学', 'Clinical Medicine'],\n",
       " ['公共卫生', 'Public Health'],\n",
       " ['口腔医学', 'Dentistry & Oral Sciences'],\n",
       " ['护理学', 'Nursing'],\n",
       " ['医学技术', 'Medical Technology'],\n",
       " ['药学', 'Pharmacy & Pharmaceutical Sciences'],\n",
       " ['经济学', 'Economics'],\n",
       " ['统计学', 'Statistics'],\n",
       " ['法学', 'Law'],\n",
       " ['政治学', 'Political Sciences'],\n",
       " ['社会学', 'Sociology'],\n",
       " ['教育学', 'Education'],\n",
       " ['新闻传播学', 'Communication'],\n",
       " ['心理学', 'Psychology'],\n",
       " ['工商管理', 'Business Administration'],\n",
       " ['金融学', 'Finance'],\n",
       " ['管理学', 'Management'],\n",
       " ['公共管理', 'Public Administration'],\n",
       " ['旅游休闲管理', 'Hospitality & Tourism Management'],\n",
       " ['农林经济管理', 'Agricultural Economics'],\n",
       " ['图书情报科学', 'Library & Information Science']]"
      ]
     },
     "execution_count": 20,
     "metadata": {},
     "output_type": "execute_result"
    }
   ],
   "source": [
    "a"
   ]
  },
  {
   "cell_type": "code",
   "execution_count": 23,
   "metadata": {},
   "outputs": [
    {
     "data": {
      "text/plain": [
       "57"
      ]
     },
     "execution_count": 23,
     "metadata": {},
     "output_type": "execute_result"
    }
   ],
   "source": [
    "len(a)"
   ]
  },
  {
   "cell_type": "code",
   "execution_count": 25,
   "metadata": {},
   "outputs": [],
   "source": [
    "\n",
    "for num in range(len(file_list)):\n",
    "    name_old=r'C:\\Users\\rk\\Desktop\\GRAS'+\"\\\\\"+file_list[num]\n",
    "    name_new=r'C:\\Users\\rk\\Desktop\\G'+\"\\\\\"+a[num][0]+'.csv'\n",
    "    os.rename(name_old,name_new)"
   ]
  },
  {
   "cell_type": "code",
   "execution_count": null,
   "metadata": {},
   "outputs": [],
   "source": []
  },
  {
   "cell_type": "code",
   "execution_count": null,
   "metadata": {},
   "outputs": [],
   "source": [
    "下载57个学科》》》整理到一个csv文件（len(csv）)》》删除六所特殊学校len(删除后的文件行数）》\n",
    "》与六所特殊学校合（合并之前六所学校行数及合并后总文件行数》》按学科分类存储文件（每个学科行数的总行数）\n",
    "                                            \n",
    "                                            未必是如此处理文件\n",
    "                                            "
   ]
  },
  {
   "cell_type": "code",
   "execution_count": null,
   "metadata": {},
   "outputs": [],
   "source": []
  },
  {
   "cell_type": "code",
   "execution_count": null,
   "metadata": {},
   "outputs": [],
   "source": []
  },
  {
   "cell_type": "code",
   "execution_count": null,
   "metadata": {},
   "outputs": [],
   "source": []
  },
  {
   "cell_type": "code",
   "execution_count": null,
   "metadata": {},
   "outputs": [],
   "source": []
  },
  {
   "cell_type": "code",
   "execution_count": null,
   "metadata": {},
   "outputs": [],
   "source": []
  },
  {
   "cell_type": "code",
   "execution_count": null,
   "metadata": {},
   "outputs": [],
   "source": []
  },
  {
   "cell_type": "code",
   "execution_count": null,
   "metadata": {},
   "outputs": [],
   "source": []
  }
 ],
 "metadata": {
  "kernelspec": {
   "display_name": "Python 3",
   "language": "python",
   "name": "python3"
  },
  "language_info": {
   "codemirror_mode": {
    "name": "ipython",
    "version": 3
   },
   "file_extension": ".py",
   "mimetype": "text/x-python",
   "name": "python",
   "nbconvert_exporter": "python",
   "pygments_lexer": "ipython3",
   "version": "3.6.5"
  }
 },
 "nbformat": 4,
 "nbformat_minor": 2
}
