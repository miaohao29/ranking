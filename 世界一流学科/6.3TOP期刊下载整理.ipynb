{
 "cells": [
  {
   "cell_type": "code",
   "execution_count": 1,
   "metadata": {},
   "outputs": [],
   "source": [
    "from selenium import webdriver\n",
    "from selenium.webdriver.common.keys import Keys\n",
    "import time\n",
    "import os\n",
    "import csv\n",
    "import pandas as pd\n",
    "import numpy as np"
   ]
  },
  {
   "cell_type": "code",
   "execution_count": null,
   "metadata": {},
   "outputs": [],
   "source": [
    "############################################################################\n",
    "######################  第一部分  #########################################\n",
    "####################   下载文件  ######################################"
   ]
  },
  {
   "cell_type": "code",
   "execution_count": null,
   "metadata": {},
   "outputs": [],
   "source": [
    "\"\"\"\n",
    "web of science 下载ISSN账号\n",
    "Incite:602281532@qq.com\n",
    "密码：rank2016!\n",
    "\n",
    "\"\"\""
   ]
  },
  {
   "cell_type": "code",
   "execution_count": 3,
   "metadata": {},
   "outputs": [],
   "source": [
    "browser = webdriver.Chrome('C:/Users/rk/Desktop/chromedriver.exe') #锁定浏览器\n",
    "browser.get(\"http://jcr.incites.thomsonreuters.com/JCRJournalHomeAction.action\")#打开主页面"
   ]
  },
  {
   "cell_type": "code",
   "execution_count": null,
   "metadata": {},
   "outputs": [],
   "source": [
    "##################################################################################\n",
    "#打开页面后，直接手动点击至下面的程序\n",
    "#########################################################################"
   ]
  },
  {
   "cell_type": "code",
   "execution_count": 8,
   "metadata": {},
   "outputs": [],
   "source": [
    "inputs=browser.find_elements_by_xpath('//*[@id=\"categorySelectionView\"]/div/label/input')#查找所有学科复选框\n",
    "inputs2=browser.find_elements_by_xpath('//*[@id=\"categorySelectionView\"]/div/label/span')#查找所有学科，为提取学科名"
   ]
  },
  {
   "cell_type": "code",
   "execution_count": 9,
   "metadata": {},
   "outputs": [
    {
     "data": {
      "text/plain": [
       "'ACOUSTICS'"
      ]
     },
     "execution_count": 9,
     "metadata": {},
     "output_type": "execute_result"
    }
   ],
   "source": [
    "inputs2[0].text"
   ]
  },
  {
   "cell_type": "code",
   "execution_count": 10,
   "metadata": {},
   "outputs": [],
   "source": [
    "counter=0"
   ]
  },
  {
   "cell_type": "code",
   "execution_count": 11,
   "metadata": {},
   "outputs": [],
   "source": [
    "for index,la in enumerate(inputs[counter:]):#程序中断后会从中断的地方开始循环，若想每循环一次，counter都改变一次，则需要将counter设置在for循环体外\n",
    "    la.click()#点击学科分类\n",
    "    browser.find_element_by_xpath('//*[@id=\"skip-to-content\"]/div/div[2]/div[1]/div[9]/div[3]/a[2]').click()#点击summit\n",
    "    \n",
    "    browser.find_element_by_xpath('//*[@id=\"action_export\"]/a').click()#点击下载\n",
    "    browser.find_element_by_xpath('//*[@id=\"popup\"]/div/ul/li[2]/a').click()#点击csv\n",
    "    category=inputs2[index].text\n",
    "    la.click()#再次点击上面的学科分类以取消选择\n",
    "    fil=r'C:\\Users\\rk\\Downloads'+'\\\\'+category+'.csv'#文件名及路径\n",
    "    while True:\n",
    "        try:\n",
    "            os.rename(r'C:\\Users\\rk\\Downloads\\JournalHomeGrid.csv',fil)#对下载的文件修改文件名\n",
    "        except:\n",
    "            time.sleep(1)\n",
    "        else:\n",
    "            break\n",
    "    counter+=1   "
   ]
  },
  {
   "cell_type": "code",
   "execution_count": null,
   "metadata": {},
   "outputs": [],
   "source": []
  },
  {
   "cell_type": "code",
   "execution_count": null,
   "metadata": {},
   "outputs": [],
   "source": []
  },
  {
   "cell_type": "code",
   "execution_count": null,
   "metadata": {},
   "outputs": [],
   "source": []
  },
  {
   "cell_type": "code",
   "execution_count": null,
   "metadata": {},
   "outputs": [],
   "source": []
  },
  {
   "cell_type": "code",
   "execution_count": null,
   "metadata": {},
   "outputs": [],
   "source": [
    "#####################################################################################\n",
    "##############################  第二部分 ##################################\n",
    "######################   合并文件，添加学科分类   ##################"
   ]
  },
  {
   "cell_type": "code",
   "execution_count": null,
   "metadata": {},
   "outputs": [],
   "source": [
    "Folder_Path =r'C:\\Users\\rk\\Downloads\\2015JCR'        #要拼接的文件夹及其完整路径\n",
    "SaveFile_Path =  r'C:\\Users\\rk\\Downloads\\allresult'       #拼接后要保存的文件路径\n",
    "#SaveFile_Name = r'all.csv'              #合并后要保存的文件名\n",
    " \n",
    "    #修改当前工作目录\n",
    "os.chdir(Folder_Path)\n",
    "#将该文件夹下的所有文件名存入一个列表\n",
    "file_list = os.listdir() "
   ]
  },
  {
   "cell_type": "code",
   "execution_count": null,
   "metadata": {},
   "outputs": [],
   "source": [
    "file_list"
   ]
  },
  {
   "cell_type": "code",
   "execution_count": null,
   "metadata": {},
   "outputs": [],
   "source": [
    "#读入csv中的数据，（导入检索式）\n",
    "a = []\n",
    "csv_reader=csv.reader(open(Folder_Path +'\\\\'+ file_list[0]))#打开第一个文件\n",
    "for row in csv_reader:\n",
    "    a.append(row)#将读入的数据赋值给列表a"
   ]
  },
  {
   "cell_type": "code",
   "execution_count": null,
   "metadata": {},
   "outputs": [],
   "source": [
    "############首先对Mapp.csv原文件数据去重，删除数据重复的项目######################\n",
    "lis_a = []#创建空白列表，存储文件内容\n",
    "csv_reader=csv.reader(open(r'C:\\Users\\rk\\Desktop\\Mapp.csv'))"
   ]
  },
  {
   "cell_type": "code",
   "execution_count": null,
   "metadata": {},
   "outputs": [],
   "source": [
    "for element in csv_reader:\n",
    "    lis_a.append(element)#逐行读入数据，写入列表"
   ]
  },
  {
   "cell_type": "code",
   "execution_count": null,
   "metadata": {},
   "outputs": [],
   "source": [
    "####################运用此程序的前提是：先在原文件里做好分类汇总####################################\n",
    "final_lis=[]\n",
    "counter=0\n",
    "while True:#为了是for循环中的起始值counter的改变，for进入循环后，起始值不再改变，\n",
    "    for item_1 in lis_a[counter:]:\n",
    "        diction=[]\n",
    "        lis_c=[]\n",
    "        initial_s=0\n",
    "        lis_c.append(item_1[1])#将第一个期刊加入列表，在此处加入是防止仅出现一次而忽略\n",
    "        for item_2 in lis_a[counter+1:]:\n",
    "            if item_1[0]==item_2[0]:\n",
    "                lis_c.append(item_2[1])#将相同的期刊加入列表\n",
    "                initial_s+=1 #每找到一个相同的就把initial_s加一，     \n",
    "        diction.append(item_1[0])\n",
    "        diction.append(lis_c)\n",
    "        final_lis.append(diction)\n",
    "        break#为了使for循环中的起始值改变，循环一次后利用break强制退出for循环，利用while进入下一次循环\n",
    "    counter=counter+initial_s+1\n",
    "    if counter>=len(lis_a):#为了使while循环跳出,当大于列表长度的时候跳出循环\n",
    "        break"
   ]
  },
  {
   "cell_type": "code",
   "execution_count": null,
   "metadata": {},
   "outputs": [],
   "source": [
    "final_lis"
   ]
  },
  {
   "cell_type": "code",
   "execution_count": null,
   "metadata": {},
   "outputs": [],
   "source": [
    "final_lis[1]"
   ]
  },
  {
   "cell_type": "code",
   "execution_count": null,
   "metadata": {},
   "outputs": [],
   "source": [
    "final_lis[1][1]"
   ]
  },
  {
   "cell_type": "code",
   "execution_count": null,
   "metadata": {},
   "outputs": [],
   "source": [
    "savefilename=final_lis[0]"
   ]
  },
  {
   "cell_type": "code",
   "execution_count": null,
   "metadata": {},
   "outputs": [],
   "source": [
    "coun=counter=0\n",
    "for final_li in final_lis:\n",
    "    savefilename=final_li[0]\n",
    "    flag=0\n",
    "    lis_name=[]#创建空白列表\n",
    "    lis_name.append(['Rank','Full Journal Title','ISSN','Total Cites','Journal Impact Factor','Eigenfactor Score','category'])\n",
    "    #print(lis_name)\n",
    "    #counter+=1\n",
    "    for file_lis in file_list:#循环处理过的软科-WOS映射表\n",
    "        category=file_lis[:file_lis.find('.')]#截取WOS学科分类名\n",
    "        category=category.lower()#将WOS学科分类名全部小写\n",
    "        ele=[]#创建空白列表\n",
    "        for element in final_li[1]:#循环软科分类下的WOS学科分类，使其全部小写\n",
    "            ele.append(element.lower())\n",
    "        final_li[1]=ele #全部小写的重新赋值给final_li[1]  \n",
    "        if category in final_li[1]:#判断WOS学科分类是否在软科-WOS映射表中\n",
    "            #print(1)\n",
    "            flag=1\n",
    "            e=[]\n",
    "            csv_reader=csv.reader(open(Folder_Path +'\\\\'+ file_lis))\n",
    "            for row in csv_reader:\n",
    "                e.append(row)#将读入的数据赋值给列表\n",
    "            for item in e[2:-2]:\n",
    "                item.append(savefilename)#将软科学科分类名字添加到最后一列\n",
    "                lis_name.append(item)\n",
    "    if flag==1:    \n",
    "        result=pd.DataFrame(np.array(lis_name))#将pd.DataFrame(np.array(myarray))写入list\n",
    "        result.to_csv(\"C:/Users/rk/Desktop/result\"+\"/\"+ savefilename+\".csv\",index=False,encoding='ANSI')#按照软科学科分类导出文件\n",
    "        \n",
    "        "
   ]
  },
  {
   "cell_type": "code",
   "execution_count": null,
   "metadata": {},
   "outputs": [],
   "source": [
    "lis_name"
   ]
  },
  {
   "cell_type": "code",
   "execution_count": null,
   "metadata": {},
   "outputs": [],
   "source": [
    "np.array(lis_name)"
   ]
  },
  {
   "cell_type": "code",
   "execution_count": null,
   "metadata": {},
   "outputs": [],
   "source": []
  }
 ],
 "metadata": {
  "kernelspec": {
   "display_name": "Python 3",
   "language": "python",
   "name": "python3"
  },
  "language_info": {
   "codemirror_mode": {
    "name": "ipython",
    "version": 3
   },
   "file_extension": ".py",
   "mimetype": "text/x-python",
   "name": "python",
   "nbconvert_exporter": "python",
   "pygments_lexer": "ipython3",
   "version": "3.6.5"
  }
 },
 "nbformat": 4,
 "nbformat_minor": 2
}
