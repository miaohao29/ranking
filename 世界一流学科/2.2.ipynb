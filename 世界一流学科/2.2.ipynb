{
 "cells": [
  {
   "cell_type": "code",
   "execution_count": null,
   "metadata": {},
   "outputs": [],
   "source": [
    "from selenium import webdriver\n",
    "from selenium.webdriver.common.keys import Keys\n",
    "#import re\n",
    "#import numpy as np, pandas as pd\n",
    "import os\n",
    "#import datetime\n",
    "import csv\n",
    "import time\n",
    "import random"
   ]
  },
  {
   "cell_type": "code",
   "execution_count": null,
   "metadata": {},
   "outputs": [],
   "source": [
    "################################################################################\n",
    "################################################################################\n",
    "######################### 第一部分 数据整理 #########################"
   ]
  },
  {
   "cell_type": "code",
   "execution_count": null,
   "metadata": {},
   "outputs": [],
   "source": [
    "############首先对Mapp.csv原文件数据去重，删除数据重复的项目######################\n",
    "lis_a = []#创建空白列表，存储文件内容\n",
    "csv_reader=csv.reader(open(r'C:\\Users\\rk\\Desktop\\Mapp.csv'))"
   ]
  },
  {
   "cell_type": "code",
   "execution_count": null,
   "metadata": {},
   "outputs": [],
   "source": [
    "for element in csv_reader:\n",
    "    lis_a.append(element)#逐行读入数据，写入列表"
   ]
  },
  {
   "cell_type": "code",
   "execution_count": null,
   "metadata": {},
   "outputs": [],
   "source": [
    "lis_a"
   ]
  },
  {
   "cell_type": "code",
   "execution_count": null,
   "metadata": {},
   "outputs": [],
   "source": [
    "####################运用此程序的前提是：先在原文件里做好分类汇总####################################\n",
    "final_lis=[]\n",
    "counter=0\n",
    "while True:#为了是for循环中的起始值counter的改变，for进入循环后，起始值不再改变，\n",
    "    for item_1 in lis_a[counter:]:\n",
    "        diction=[]\n",
    "        lis_c=[]\n",
    "        initial_s=0\n",
    "        lis_c.append(item_1[1])#将第一个期刊加入列表，在此处加入是防止仅出现一次而忽略\n",
    "        for item_2 in lis_a[counter+1:]:\n",
    "            if item_1[0]==item_2[0]:\n",
    "                lis_c.append(item_2[1])#将相同的期刊加入列表\n",
    "                initial_s+=1 #每找到一个相同的就把initial_s加一，     \n",
    "        diction.append(item_1[0])\n",
    "        diction.append(lis_c)\n",
    "        final_lis.append(diction)\n",
    "        break#为了使for循环中的起始值改变，循环一次后利用break强制退出for循环，利用while进入下一次循环\n",
    "    counter=counter+initial_s+1\n",
    "    if counter>=len(lis_a):#为了使while循环跳出,当大于列表长度的时候跳出循环\n",
    "        break"
   ]
  },
  {
   "cell_type": "code",
   "execution_count": null,
   "metadata": {},
   "outputs": [],
   "source": [
    "final_lis"
   ]
  },
  {
   "cell_type": "code",
   "execution_count": null,
   "metadata": {},
   "outputs": [],
   "source": [
    "##############################################################################\n",
    "##############################################################################\n",
    "##################### 第二部分，下载文件 #####################################"
   ]
  },
  {
   "cell_type": "code",
   "execution_count": null,
   "metadata": {},
   "outputs": [],
   "source": [
    "########################服务器崩溃后，从此处运行##########################################\n",
    "browser = webdriver.Chrome('C:/Users/rk/Desktop/chromedriver.exe') #锁定浏览器\n"
   ]
  },
  {
   "cell_type": "code",
   "execution_count": null,
   "metadata": {},
   "outputs": [],
   "source": [
    "browser.get(\"https://incites.thomsonreuters.com/#/explore/0/organization//\")#访问网页"
   ]
  },
  {
   "cell_type": "code",
   "execution_count": null,
   "metadata": {},
   "outputs": [],
   "source": [
    "\"\"\"\n",
    "web of science 下载ISSN账号\n",
    "Incite:602281532@qq.com\n",
    "密码：rank2016!\n",
    "\n",
    "\"\"\""
   ]
  },
  {
   "cell_type": "code",
   "execution_count": null,
   "metadata": {},
   "outputs": [],
   "source": [
    "def fid():\n",
    "    '''查找保存按钮'''\n",
    "    time_counter=0\n",
    "    while True:\n",
    "        try:\n",
    "            browser.find_element_by_xpath('/html/body/div[1]/div/div[3]/div[1]/div/section/main/div[2]/div[3]/div[1]/div[1]/div[1]/a').click()\n",
    "            send(items[0])\n",
    "            time.sleep(1)\n",
    "            browser.find_element_by_xpath('/html/body/div[1]/div/div[3]/div[1]/div/section/main/div[2]/div[3]/div[1]/div[1]/div[1]/div/ng-include/form/div[3]/button').click()\n",
    "            break\n",
    "        except:\n",
    "            time.sleep(1)\n",
    "            try:\n",
    "                erro_tring=browser.find_element_by_xpath('/html/body/div[1]/div/div[3]/div[1]/div/section/main/div[2]/div[3]/div[2]').text\n",
    "                if erro_tring== 'No available values':\n",
    "                    break\n",
    "            except:\n",
    "                pass\n",
    "            time_counter+=1\n",
    "        if time_counter==5:\n",
    "            break\n",
    "            "
   ]
  },
  {
   "cell_type": "code",
   "execution_count": null,
   "metadata": {},
   "outputs": [],
   "source": [
    "def send(item):\n",
    "    '''输入需要保存的文件名'''\n",
    "    while True:\n",
    "        try:\n",
    "            browser.find_element_by_xpath('//*[@id=\"fileName\"]').clear()\n",
    "            browser.find_element_by_xpath('//*[@id=\"fileName\"]').send_keys(item)\n",
    "        except:\n",
    "            time.sleep(0.5)\n",
    "        else:\n",
    "            break"
   ]
  },
  {
   "cell_type": "code",
   "execution_count": null,
   "metadata": {},
   "outputs": [],
   "source": [
    "counter=0"
   ]
  },
  {
   "cell_type": "code",
   "execution_count": null,
   "metadata": {},
   "outputs": [],
   "source": [
    "item_xpath='//*[@id=\"s2id_autogen18\"]'#这个地址很容易变，每次需要检查一下"
   ]
  },
  {
   "cell_type": "code",
   "execution_count": null,
   "metadata": {},
   "outputs": [],
   "source": [
    "while True:\n",
    "    for items in final_lis[counter:]:\n",
    "        while True:#判断文本输入框是否为空，否则清空\n",
    "            browser.find_element_by_xpath(item_xpath).send_keys(Keys.BACK_SPACE)#清空文本框的内容\n",
    "            if len(browser.find_elements_by_xpath('//*[@id=\"s2id_sbjname\"]/ul/li'))==1:#若元素只有一个，则跳出\n",
    "                break\n",
    "        time.sleep(0.5)        \n",
    "        while True:#判断下拉框是否弹出，否则点击文本框\n",
    "            try:\n",
    "                browser.find_element_by_xpath('//*[@id=\"select2-drop\"]/ul')#若不存在，则点击文本框 \n",
    "            except:\n",
    "                browser.find_element_by_xpath(item_xpath).click()\n",
    "                time.sleep(2)\n",
    "            else:\n",
    "                break\n",
    "            \n",
    "        categorys=browser.find_elements_by_xpath('//*[@id=\"select2-drop\"]/ul/li')#找到下拉列表里的所有学科\n",
    "        small=[]\n",
    "        for item in items[1]:\n",
    "            small.append(item.lower())#将软科学科类别对应的学科全部小写，为了下面判断\n",
    "        for i in range(len(categorys)):\n",
    "            if (categorys[i].text).lower() in small:\n",
    "                print(categorys[i].text)\n",
    "                categorys[i].click()\n",
    "                time.sleep(0.5)\n",
    "                time.sleep(random.random()*3)\n",
    "        browser.find_element_by_xpath('/html/body').click()#点击完学科后，在屏幕随便点一下，跳出文本框\n",
    "        browser.find_element_by_xpath('/html/body/div[1]/div/div[3]/div[1]/div/section/main/div[2]/div[1]/div[5]/div/button').click()\n",
    "        fid()    #查找下载按钮 \n",
    "#         time.sleep(0.5)\n",
    "#         send(items[0])#输入需要保存的文件\n",
    "#         time.sleep(1)\n",
    "#         browser.find_element_by_xpath('/html/body/div[1]/div/div[3]/div[1]/div/section/main/div[2]/div[3]/div[1]/div[1]/div[1]/div/ng-include/form/div[3]/button').click()\n",
    "#         #print(item)\n",
    "        counter+=1\n",
    "        print(counter)\n",
    "        break\n",
    "    if counter==len(final_lis):\n",
    "        break\n",
    "#browser.close()\n"
   ]
  },
  {
   "cell_type": "code",
   "execution_count": null,
   "metadata": {},
   "outputs": [],
   "source": []
  },
  {
   "cell_type": "code",
   "execution_count": null,
   "metadata": {},
   "outputs": [],
   "source": []
  },
  {
   "cell_type": "code",
   "execution_count": null,
   "metadata": {},
   "outputs": [],
   "source": []
  },
  {
   "cell_type": "code",
   "execution_count": null,
   "metadata": {},
   "outputs": [],
   "source": []
  },
  {
   "cell_type": "code",
   "execution_count": null,
   "metadata": {},
   "outputs": [],
   "source": []
  },
  {
   "cell_type": "code",
   "execution_count": null,
   "metadata": {},
   "outputs": [],
   "source": []
  },
  {
   "cell_type": "code",
   "execution_count": null,
   "metadata": {},
   "outputs": [],
   "source": []
  },
  {
   "cell_type": "code",
   "execution_count": null,
   "metadata": {},
   "outputs": [],
   "source": []
  }
 ],
 "metadata": {
  "kernelspec": {
   "display_name": "Python 3",
   "language": "python",
   "name": "python3"
  },
  "language_info": {
   "codemirror_mode": {
    "name": "ipython",
    "version": 3
   },
   "file_extension": ".py",
   "mimetype": "text/x-python",
   "name": "python",
   "nbconvert_exporter": "python",
   "pygments_lexer": "ipython3",
   "version": "3.6.5"
  }
 },
 "nbformat": 4,
 "nbformat_minor": 2
}
