{
 "cells": [
  {
   "cell_type": "code",
   "execution_count": 1,
   "metadata": {},
   "outputs": [],
   "source": [
    "from selenium import webdriver\n",
    "from selenium.webdriver.common.keys import Keys\n",
    "#import re\n",
    "import numpy as np, pandas as pd\n",
    "import os\n",
    "#import datetime\n",
    "import csv\n",
    "import time"
   ]
  },
  {
   "cell_type": "code",
   "execution_count": null,
   "metadata": {},
   "outputs": [],
   "source": [
    "'''几所特殊的学校，不选择academic的可以直接同时搜索机构名称，用此程序下载数据即可，前提要输入学校，并且不能选择机构类型'''"
   ]
  },
  {
   "cell_type": "code",
   "execution_count": null,
   "metadata": {},
   "outputs": [],
   "source": [
    "################################################################################\n",
    "################################################################################\n",
    "######################### 第一部分 数据整理 ####################################"
   ]
  },
  {
   "cell_type": "code",
   "execution_count": null,
   "metadata": {},
   "outputs": [],
   "source": [
    "'''csv文件要提前按照学科删除重复值'''"
   ]
  },
  {
   "cell_type": "code",
   "execution_count": 2,
   "metadata": {},
   "outputs": [],
   "source": [
    "############首先对Mapp.csv原文件数据去重，删除数据重复的项目######################\n",
    "lis_a = []#创建空白列表，存储文件内容\n",
    "csv_reader=csv.reader(open(r'C:\\Users\\rk\\Desktop\\计算机科学与工程top-jcrtop20%.csv'))"
   ]
  },
  {
   "cell_type": "code",
   "execution_count": 3,
   "metadata": {},
   "outputs": [],
   "source": [
    "for element in csv_reader:\n",
    "    lis_a.append(element)#逐行读入数据，写入列表"
   ]
  },
  {
   "cell_type": "code",
   "execution_count": 1,
   "metadata": {},
   "outputs": [
    {
     "ename": "NameError",
     "evalue": "name 'lis_a' is not defined",
     "output_type": "error",
     "traceback": [
      "\u001b[1;31m---------------------------------------------------------------------------\u001b[0m",
      "\u001b[1;31mNameError\u001b[0m                                 Traceback (most recent call last)",
      "\u001b[1;32m<ipython-input-1-a3079f716ba2>\u001b[0m in \u001b[0;36m<module>\u001b[1;34m()\u001b[0m\n\u001b[1;32m----> 1\u001b[1;33m \u001b[0mlis_a\u001b[0m\u001b[1;33m\u001b[0m\u001b[0m\n\u001b[0m",
      "\u001b[1;31mNameError\u001b[0m: name 'lis_a' is not defined"
     ]
    }
   ],
   "source": [
    "lis_a"
   ]
  },
  {
   "cell_type": "code",
   "execution_count": 5,
   "metadata": {},
   "outputs": [],
   "source": [
    "####################运用此程序的前提是：先在原文件里做好分类汇总####################################\n",
    "final_lis=[]\n",
    "counter=0\n",
    "while True:#为了是for循环中的起始值counter的改变，for进入循环后，起始值不再改变，\n",
    "    for item_1 in lis_a[counter:]:\n",
    "        diction=[]\n",
    "        lis_c=[]\n",
    "        initial_s=0\n",
    "        lis_c.append(item_1[1])#将第一个期刊加入列表，在此处加入是防止仅出现一次而忽略\n",
    "        for item_2 in lis_a[counter+1:]:\n",
    "            if item_1[0]==item_2[0]:\n",
    "                lis_c.append(item_2[1])#将相同的期刊加入列表\n",
    "                initial_s+=1 #每找到一个相同的就把initial_s加一，     \n",
    "        diction.append(item_1[0])\n",
    "        diction.append(lis_c)\n",
    "        final_lis.append(diction)\n",
    "        break#为了使for循环中的起始值改变，循环一次后利用break强制退出for循环，利用while进入下一次循环\n",
    "    counter=counter+initial_s+1\n",
    "    if counter>=len(lis_a):#为了使while循环跳出,当大于列表长度的时候跳出循环\n",
    "        break"
   ]
  },
  {
   "cell_type": "code",
   "execution_count": 6,
   "metadata": {
    "scrolled": true
   },
   "outputs": [
    {
     "data": {
      "text/plain": [
       "[['Computer Science & Engineering',\n",
       "  ['0920-5691',\n",
       "   '0162-8828',\n",
       "   '2168-2267',\n",
       "   '1063-6706',\n",
       "   '1089-778X',\n",
       "   '2162-237X',\n",
       "   '0893-6080',\n",
       "   '1566-2535',\n",
       "   '1556-603X',\n",
       "   '1361-8415',\n",
       "   '1057-7149',\n",
       "   '1949-3045',\n",
       "   '0129-0657',\n",
       "   '0950-7051',\n",
       "   '0941-0643',\n",
       "   '0031-3203',\n",
       "   '1568-4946',\n",
       "   '2210-6502',\n",
       "   '0269-2821',\n",
       "   '0957-4174',\n",
       "   '1069-2509',\n",
       "   '0956-5515',\n",
       "   '0167-9236',\n",
       "   '1866-9956',\n",
       "   '0884-8173',\n",
       "   '1474-0346',\n",
       "   '0925-2312',\n",
       "   '2168-2216',\n",
       "   '0737-0024',\n",
       "   '0924-1868',\n",
       "   '1536-1284',\n",
       "   '0890-8044',\n",
       "   '1545-5971',\n",
       "   '1084-8045',\n",
       "   '1063-6692',\n",
       "   '0001-0782',\n",
       "   '0018-9340',\n",
       "   '1943-0620',\n",
       "   '0018-9529',\n",
       "   '1066-8888',\n",
       "   '1553-877X',\n",
       "   '2168-7161',\n",
       "   '2327-4662',\n",
       "   '0276-7783',\n",
       "   '0268-3962',\n",
       "   '1939-1374',\n",
       "   '1932-8184',\n",
       "   '0963-8687',\n",
       "   '0020-0255',\n",
       "   '1067-5027',\n",
       "   '1536-1233',\n",
       "   '1520-9210',\n",
       "   '1758-2946',\n",
       "   '0378-7206',\n",
       "   '2168-2194',\n",
       "   '1066-2243',\n",
       "   '1549-9596',\n",
       "   '2168-6750',\n",
       "   '0146-4833',\n",
       "   '2169-3536',\n",
       "   '0306-4573',\n",
       "   '1932-4537',\n",
       "   '1387-3326',\n",
       "   '0960-085X',\n",
       "   '1570-8705',\n",
       "   '1554-0669',\n",
       "   '1548-7660',\n",
       "   '1134-3060',\n",
       "   '0278-0062',\n",
       "   '1093-9687',\n",
       "   '1551-3203',\n",
       "   '0360-1315',\n",
       "   '1364-8152',\n",
       "   '1539-2791',\n",
       "   '0010-4655',\n",
       "   '1751-1577',\n",
       "   '0736-5845',\n",
       "   '0894-4393',\n",
       "   '0965-9978',\n",
       "   '0730-0301',\n",
       "   '0098-5589',\n",
       "   '1077-2626',\n",
       "   '0010-4485',\n",
       "   '1382-3256',\n",
       "   '0098-3500',\n",
       "   '0740-7459',\n",
       "   '0025-5610',\n",
       "   '0950-5849',\n",
       "   '1086-4415',\n",
       "   '1936-4954',\n",
       "   '0164-1212',\n",
       "   '0262-8856',\n",
       "   '1569-190X',\n",
       "   '1556-6013',\n",
       "   '0360-0300',\n",
       "   '0167-739X',\n",
       "   '1045-9219',\n",
       "   '1615-3375',\n",
       "   '0308-1079',\n",
       "   '2325-6095',\n",
       "   '1570-7873',\n",
       "   '0165-0114',\n",
       "   '0169-2607',\n",
       "   '1063-6560']]]"
      ]
     },
     "execution_count": 6,
     "metadata": {},
     "output_type": "execute_result"
    }
   ],
   "source": [
    "final_lis"
   ]
  },
  {
   "cell_type": "code",
   "execution_count": 7,
   "metadata": {},
   "outputs": [
    {
     "data": {
      "text/plain": [
       "1"
      ]
     },
     "execution_count": 7,
     "metadata": {},
     "output_type": "execute_result"
    }
   ],
   "source": [
    "len(final_lis)"
   ]
  },
  {
   "cell_type": "code",
   "execution_count": 8,
   "metadata": {},
   "outputs": [
    {
     "ename": "IndexError",
     "evalue": "list index out of range",
     "output_type": "error",
     "traceback": [
      "\u001b[1;31m---------------------------------------------------------------------------\u001b[0m",
      "\u001b[1;31mIndexError\u001b[0m                                Traceback (most recent call last)",
      "\u001b[1;32m<ipython-input-8-718af015d157>\u001b[0m in \u001b[0;36m<module>\u001b[1;34m()\u001b[0m\n\u001b[1;32m----> 1\u001b[1;33m \u001b[0mfinal_lis\u001b[0m\u001b[1;33m[\u001b[0m\u001b[1;36m40\u001b[0m\u001b[1;33m]\u001b[0m\u001b[1;33m\u001b[0m\u001b[0m\n\u001b[0m",
      "\u001b[1;31mIndexError\u001b[0m: list index out of range"
     ]
    }
   ],
   "source": [
    "final_lis[40]"
   ]
  },
  {
   "cell_type": "code",
   "execution_count": 9,
   "metadata": {},
   "outputs": [
    {
     "data": {
      "text/plain": [
       "'注意：Food Science & Technology，1941-1413不存在，删除\\nBiotechnology，Agricultural Sciences，2165-8102\\nHuman Biological Sciences，2374-4642'"
      ]
     },
     "execution_count": 9,
     "metadata": {},
     "output_type": "execute_result"
    }
   ],
   "source": [
    "'''注意：Food Science & Technology，1941-1413不存在，删除\n",
    "Biotechnology，Agricultural Sciences，2165-8102\n",
    "Human Biological Sciences，2374-4642'''"
   ]
  },
  {
   "cell_type": "code",
   "execution_count": 10,
   "metadata": {},
   "outputs": [],
   "source": [
    "##############################################################################\n",
    "##############################################################################\n",
    "##################### 第二部分，下载文件 #####################################"
   ]
  },
  {
   "cell_type": "code",
   "execution_count": 9,
   "metadata": {},
   "outputs": [],
   "source": [
    "########################服务器崩溃后，从此处运行##########################################\n",
    "browser = webdriver.Chrome('C:/Users/rk/Desktop/chromedriver.exe') #锁定浏览器\n",
    "browser.get(\"https://incites.clarivate.com/\")#访问网页"
   ]
  },
  {
   "cell_type": "code",
   "execution_count": null,
   "metadata": {},
   "outputs": [],
   "source": [
    "\"\"\"\n",
    "web of science 下载ISSN账号\n",
    "Incite:602281532@qq.com\n",
    "密码：rank2016!\n",
    "\"\"\""
   ]
  },
  {
   "cell_type": "code",
   "execution_count": 10,
   "metadata": {},
   "outputs": [],
   "source": [
    "def fid():\n",
    "    '''查找保存按钮'''\n",
    "    time_counter=0\n",
    "    while True:\n",
    "        try:\n",
    "            browser.find_element_by_xpath('/html/body/div[1]/div/div[3]/div[1]/div/section/main/div[2]/div[3]/div[1]/div[1]/div[1]/a').click()\n",
    "            send(items[0])\n",
    "            time.sleep(1)\n",
    "            browser.find_element_by_xpath('/html/body/div[1]/div/div[3]/div[1]/div/section/main/div[2]/div[3]/div[1]/div[1]/div[1]/div/ng-include/form/div[3]/button').click()\n",
    "            break\n",
    "        except:\n",
    "            time.sleep(0.5)\n",
    "            try:\n",
    "                erro_tring=browser.find_element_by_xpath('/html/body/div[1]/div/div[3]/div[1]/div/section/main/div[2]/div[3]/div[2]').text\n",
    "                if erro_tring== 'No available values':\n",
    "                    print('wait a moment...')\n",
    "                    break\n",
    "            except:\n",
    "                time.sleep(0.5)\n",
    "                pass\n",
    "            time_counter+=1\n",
    "        if time_counter==5:\n",
    "            break\n",
    "            "
   ]
  },
  {
   "cell_type": "code",
   "execution_count": 11,
   "metadata": {},
   "outputs": [],
   "source": [
    "def send(item):\n",
    "    '''保存文件'''\n",
    "    while True:\n",
    "        flag=0\n",
    "        try:\n",
    "            browser.find_element_by_xpath('//*[@id=\"fileName\"]').clear()\n",
    "            browser.find_element_by_xpath('//*[@id=\"fileName\"]').send_keys(item)\n",
    "            flag=1\n",
    "        except:\n",
    "            time.sleep(1)\n",
    "            pass\n",
    "        if flag==1:\n",
    "            break"
   ]
  },
  {
   "cell_type": "code",
   "execution_count": 12,
   "metadata": {},
   "outputs": [],
   "source": [
    "'''后八个不限定机构类型academic，在incites中查找'''\n",
    "univer=['China University of Geosciences - Beijing',\n",
    "        'China University of Geosciences (Wuhan)',\n",
    "        'China University of Mining and Technology, Beijing',\n",
    "        'China University of Mining and Technology',\n",
    "        'China University of Petroleum - Beijing',\n",
    "        'China University of Petroleum - Eastern China',\n",
    "        'Amherst College',\n",
    "        'Mayo Clinic',\n",
    "        'UTMD Anderson Cancer Center',\n",
    "        'Chinese Academy of Medical Sciences - Peking Union Medical College',\n",
    "        'University of Nebraska Medical Center',\n",
    "        'VA Connecticut Healthcare System',\n",
    "        'IUSS PAVIA',\n",
    "        'University of Mississippi Medical Center']"
   ]
  },
  {
   "cell_type": "code",
   "execution_count": null,
   "metadata": {},
   "outputs": [],
   "source": []
  },
  {
   "cell_type": "code",
   "execution_count": 34,
   "metadata": {},
   "outputs": [
    {
     "data": {
      "text/plain": [
       "'China University of Petroleum - Eastern China'"
      ]
     },
     "execution_count": 34,
     "metadata": {},
     "output_type": "execute_result"
    }
   ],
   "source": [
    "university=univer[5]###每次运行，需要更改\n",
    "'''别忘了在网页中更改数据库的机构名称'''\n",
    "university"
   ]
  },
  {
   "cell_type": "code",
   "execution_count": null,
   "metadata": {},
   "outputs": [],
   "source": []
  },
  {
   "cell_type": "code",
   "execution_count": 39,
   "metadata": {},
   "outputs": [],
   "source": [
    "element='//*[@id=\"s2id_autogen1428\"]'#定位ISSN文本框,该文本框定位容易改变"
   ]
  },
  {
   "cell_type": "code",
   "execution_count": null,
   "metadata": {},
   "outputs": [],
   "source": []
  },
  {
   "cell_type": "code",
   "execution_count": null,
   "metadata": {},
   "outputs": [],
   "source": []
  },
  {
   "cell_type": "code",
   "execution_count": 40,
   "metadata": {},
   "outputs": [],
   "source": [
    "counter=0#初始化counter"
   ]
  },
  {
   "cell_type": "code",
   "execution_count": 41,
   "metadata": {
    "scrolled": true
   },
   "outputs": [
    {
     "name": "stdout",
     "output_type": "stream",
     "text": [
      "1\n"
     ]
    }
   ],
   "source": [
    "'''运行程序的时候不要点击浏览器的页面'''\n",
    "while True:\n",
    "    for items in final_lis[counter:]:\n",
    "        while True:\n",
    "            #browser.find_element_by_xpath(element).click()\n",
    "            browser.find_element_by_xpath(element).send_keys(Keys.BACK_SPACE)#这个地址很容易变，每次需要检查一下\n",
    "            if len(browser.find_elements_by_xpath('//*[@id=\"s2id_issn\"]/ul/li'))==1:\n",
    "                break\n",
    "        items[1]=np.unique(items[1])#软科学科分类包含多个WOS学科分类，WOS中的TOP期刊可能重复，此行代码为了去重\n",
    "        for item in items[1]:\n",
    "            browser.find_element_by_xpath(element).send_keys(item)#输入ISSN号\n",
    "            time.sleep(3)#中断3秒，等待ISSN号加载出来\n",
    "            browser.find_element_by_xpath(element).send_keys(Keys.ENTER)\n",
    "        try:\n",
    "            browser.find_element_by_xpath('/html/body/div[1]/div/div[3]/div[1]/div/section/main/div[2]').click()#随便点一下\n",
    "        except:#上一个enter出问题后，随便点一下可能点不动，应该是输入ISSN号出问题了，所以，多加载一个，然后删除，不过此程序估计用不着\n",
    "            browser.find_element_by_xpath(element).send_keys(Keys.ENTER)\n",
    "            browser.find_element_by_xpath(element).send_keys(Keys.BACK_SPACE)\n",
    "            browser.find_element_by_xpath(element).send_keys(Keys.BACK_SPACE)\n",
    "        browser.find_element_by_xpath('/html/body/div[1]/div/div[3]/div[1]/div/section/main/div[2]/div[1]/div[5]/div/button').click()#点击搜索\n",
    "        fid()#调用函数\n",
    "#         erro_tring=browser.find_element_by_xpath('/html/body/div[1]/div/div[3]/div[1]/div/section/main/div[2]/div[3]/div[2]').text\n",
    "#         if erro_tring= 'No available values':\n",
    "#             continue\n",
    "#         send(items[0])#调用函数\n",
    "#         time.sleep(1)\n",
    "#         browser.find_element_by_xpath('/html/body/div[1]/div/div[3]/div[1]/div/section/main/div[2]/div[3]/div[1]/div[1]/div[1]/div/ng-include/form/div[3]/button').click()\n",
    "        #print(item)\n",
    "        counter+=1\n",
    "        print(counter)\n",
    "        break\n",
    "    if counter==len(final_lis):\n",
    "        break\n"
   ]
  },
  {
   "cell_type": "code",
   "execution_count": 42,
   "metadata": {},
   "outputs": [
    {
     "data": {
      "text/plain": [
       "'程序运行中，请勿点击网页'"
      ]
     },
     "execution_count": 42,
     "metadata": {},
     "output_type": "execute_result"
    }
   ],
   "source": [
    "'''程序运行中，请勿点击网页'''"
   ]
  },
  {
   "cell_type": "code",
   "execution_count": 43,
   "metadata": {},
   "outputs": [
    {
     "name": "stdout",
     "output_type": "stream",
     "text": [
      "56\n"
     ]
    }
   ],
   "source": [
    "print(counter)"
   ]
  },
  {
   "cell_type": "code",
   "execution_count": 17,
   "metadata": {},
   "outputs": [],
   "source": [
    "browser.close()"
   ]
  },
  {
   "cell_type": "code",
   "execution_count": null,
   "metadata": {},
   "outputs": [],
   "source": []
  },
  {
   "cell_type": "code",
   "execution_count": null,
   "metadata": {},
   "outputs": [],
   "source": []
  },
  {
   "cell_type": "code",
   "execution_count": null,
   "metadata": {},
   "outputs": [],
   "source": []
  },
  {
   "cell_type": "code",
   "execution_count": null,
   "metadata": {},
   "outputs": [],
   "source": []
  }
 ],
 "metadata": {
  "kernelspec": {
   "display_name": "Python 3",
   "language": "python",
   "name": "python3"
  },
  "language_info": {
   "codemirror_mode": {
    "name": "ipython",
    "version": 3
   },
   "file_extension": ".py",
   "mimetype": "text/x-python",
   "name": "python",
   "nbconvert_exporter": "python",
   "pygments_lexer": "ipython3",
   "version": "3.6.5"
  }
 },
 "nbformat": 4,
 "nbformat_minor": 2
}
