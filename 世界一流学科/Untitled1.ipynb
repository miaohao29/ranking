{
 "cells": [
  {
   "cell_type": "code",
   "execution_count": 1,
   "metadata": {},
   "outputs": [],
   "source": [
    "import pandas as pd"
   ]
  },
  {
   "cell_type": "code",
   "execution_count": 59,
   "metadata": {},
   "outputs": [
    {
     "data": {
      "text/html": [
       "<div>\n",
       "<style scoped>\n",
       "    .dataframe tbody tr th:only-of-type {\n",
       "        vertical-align: middle;\n",
       "    }\n",
       "\n",
       "    .dataframe tbody tr th {\n",
       "        vertical-align: top;\n",
       "    }\n",
       "\n",
       "    .dataframe thead th {\n",
       "        text-align: right;\n",
       "    }\n",
       "</style>\n",
       "<table border=\"1\" class=\"dataframe\">\n",
       "  <thead>\n",
       "    <tr style=\"text-align: right;\">\n",
       "      <th></th>\n",
       "      <th>各工作表及其说明</th>\n",
       "      <th>Unnamed: 1</th>\n",
       "      <th>Unnamed: 2</th>\n",
       "    </tr>\n",
       "  </thead>\n",
       "  <tbody>\n",
       "    <tr>\n",
       "      <th>0</th>\n",
       "      <td>序号</td>\n",
       "      <td>表</td>\n",
       "      <td>说明</td>\n",
       "    </tr>\n",
       "    <tr>\n",
       "      <th>1</th>\n",
       "      <td>1</td>\n",
       "      <td>2-机构映射表更新记录</td>\n",
       "      <td>代码更新规则及记录格式</td>\n",
       "    </tr>\n",
       "    <tr>\n",
       "      <th>2</th>\n",
       "      <td>2</td>\n",
       "      <td>3-机构映射表字段说明</td>\n",
       "      <td>机构映射表的字段说明及备注</td>\n",
       "    </tr>\n",
       "  </tbody>\n",
       "</table>\n",
       "</div>"
      ],
      "text/plain": [
       "  各工作表及其说明   Unnamed: 1     Unnamed: 2\n",
       "0       序号            表             说明\n",
       "1        1  2-机构映射表更新记录    代码更新规则及记录格式\n",
       "2        2  3-机构映射表字段说明  机构映射表的字段说明及备注"
      ]
     },
     "execution_count": 59,
     "metadata": {},
     "output_type": "execute_result"
    }
   ],
   "source": [
    "data=pd.read_excel(r\"C:\\Users\\rk\\Desktop\\各排名机构映射表-苗灏20200610.xlsx\")\n",
    "data[:3]"
   ]
  },
  {
   "cell_type": "code",
   "execution_count": 60,
   "metadata": {},
   "outputs": [],
   "source": [
    "allsheets=pd.ExcelFile(r\"C:\\Users\\rk\\Desktop\\各排名机构映射表-苗灏20200610.xlsx\")\n"
   ]
  },
  {
   "cell_type": "code",
   "execution_count": 61,
   "metadata": {},
   "outputs": [
    {
     "data": {
      "text/plain": [
       "['1-工作簿说明',\n",
       " '2-机构映射表更新记录',\n",
       " '3-机构映射表字段说明',\n",
       " '4-机构映射表',\n",
       " '5-中国高校名单',\n",
       " '6-SciVal-InCites映射',\n",
       " '7-学校名单清理',\n",
       " '8-ESI机构映射',\n",
       " '9-QS中英文机构映射',\n",
       " '10-国家地区映射表',\n",
       " '11-更新方法备注']"
      ]
     },
     "execution_count": 61,
     "metadata": {},
     "output_type": "execute_result"
    }
   ],
   "source": [
    "allsheets.sheet_names"
   ]
  },
  {
   "cell_type": "code",
   "execution_count": 63,
   "metadata": {},
   "outputs": [],
   "source": [
    "allinformation=allsheets.parse('4-机构映射表')"
   ]
  },
  {
   "cell_type": "code",
   "execution_count": 65,
   "metadata": {},
   "outputs": [
    {
     "data": {
      "text/html": [
       "<div>\n",
       "<style scoped>\n",
       "    .dataframe tbody tr th:only-of-type {\n",
       "        vertical-align: middle;\n",
       "    }\n",
       "\n",
       "    .dataframe tbody tr th {\n",
       "        vertical-align: top;\n",
       "    }\n",
       "\n",
       "    .dataframe thead th {\n",
       "        text-align: right;\n",
       "    }\n",
       "</style>\n",
       "<table border=\"1\" class=\"dataframe\">\n",
       "  <thead>\n",
       "    <tr style=\"text-align: right;\">\n",
       "      <th></th>\n",
       "      <th>更新记录（准机构名称）</th>\n",
       "      <th>Unnamed: 1</th>\n",
       "      <th>代码信息</th>\n",
       "      <th>Unnamed: 3</th>\n",
       "      <th>Unnamed: 4</th>\n",
       "      <th>Unnamed: 5</th>\n",
       "      <th>Unnamed: 6</th>\n",
       "      <th>Unnamed: 7</th>\n",
       "      <th>仅供技术部APP暂时使用（不可用于排名发布）</th>\n",
       "      <th>Unnamed: 9</th>\n",
       "      <th>...</th>\n",
       "      <th>Unnamed: 92</th>\n",
       "      <th>Unnamed: 93</th>\n",
       "      <th>Unnamed: 94</th>\n",
       "      <th>Unnamed: 95</th>\n",
       "      <th>Unnamed: 96</th>\n",
       "      <th>历史标准数据（甘）</th>\n",
       "      <th>Unnamed: 98</th>\n",
       "      <th>Unnamed: 99</th>\n",
       "      <th>Unnamed: 100</th>\n",
       "      <th>Unnamed: 101</th>\n",
       "    </tr>\n",
       "  </thead>\n",
       "  <tbody>\n",
       "    <tr>\n",
       "      <th>0</th>\n",
       "      <td>更新类别</td>\n",
       "      <td>更新时间</td>\n",
       "      <td>统一代码</td>\n",
       "      <td>重复代码</td>\n",
       "      <td>作废代码</td>\n",
       "      <td>不排名</td>\n",
       "      <td>被合并至</td>\n",
       "      <td>代码备注</td>\n",
       "      <td>准标准机构英文全称</td>\n",
       "      <td>重复英文校名</td>\n",
       "      <td>...</td>\n",
       "      <td>QS英文机构全称</td>\n",
       "      <td>QS-Country</td>\n",
       "      <td>QS备注</td>\n",
       "      <td>USNews英文机构全称</td>\n",
       "      <td>USNews-Country</td>\n",
       "      <td>标准化代码（历史）</td>\n",
       "      <td>标准化英文名称（甘）</td>\n",
       "      <td>标准化中文名称（甘）</td>\n",
       "      <td>国家（甘）</td>\n",
       "      <td>刘</td>\n",
       "    </tr>\n",
       "    <tr>\n",
       "      <th>1</th>\n",
       "      <td>NaN</td>\n",
       "      <td>NaN</td>\n",
       "      <td>RC00001</td>\n",
       "      <td>1</td>\n",
       "      <td>NaN</td>\n",
       "      <td>NaN</td>\n",
       "      <td>NaN</td>\n",
       "      <td>NaN</td>\n",
       "      <td>Tsinghua University</td>\n",
       "      <td>1</td>\n",
       "      <td>...</td>\n",
       "      <td>Tsinghua University</td>\n",
       "      <td>China (Mainland)</td>\n",
       "      <td>NaN</td>\n",
       "      <td>Tsinghua University</td>\n",
       "      <td>China</td>\n",
       "      <td>I003941</td>\n",
       "      <td>Tsinghua University</td>\n",
       "      <td>清华大学</td>\n",
       "      <td>China</td>\n",
       "      <td>NaN</td>\n",
       "    </tr>\n",
       "  </tbody>\n",
       "</table>\n",
       "<p>2 rows × 102 columns</p>\n",
       "</div>"
      ],
      "text/plain": [
       "  更新记录（准机构名称） Unnamed: 1    代码信息  Unnamed: 3 Unnamed: 4 Unnamed: 5 Unnamed: 6  \\\n",
       "0        更新类别       更新时间     统一代码       重复代码       作废代码        不排名       被合并至   \n",
       "1         NaN        NaN  RC00001          1        NaN        NaN        NaN   \n",
       "\n",
       "  Unnamed: 7 仅供技术部APP暂时使用（不可用于排名发布） Unnamed: 9     ...       \\\n",
       "0       代码备注              准标准机构英文全称     重复英文校名     ...        \n",
       "1        NaN    Tsinghua University          1     ...        \n",
       "\n",
       "           Unnamed: 92       Unnamed: 93 Unnamed: 94          Unnamed: 95  \\\n",
       "0             QS英文机构全称        QS-Country        QS备注         USNews英文机构全称   \n",
       "1  Tsinghua University  China (Mainland)         NaN  Tsinghua University   \n",
       "\n",
       "      Unnamed: 96  历史标准数据（甘）          Unnamed: 98 Unnamed: 99 Unnamed: 100  \\\n",
       "0  USNews-Country  标准化代码（历史）           标准化英文名称（甘）  标准化中文名称（甘）        国家（甘）   \n",
       "1           China    I003941  Tsinghua University        清华大学        China   \n",
       "\n",
       "  Unnamed: 101  \n",
       "0            刘  \n",
       "1          NaN  \n",
       "\n",
       "[2 rows x 102 columns]"
      ]
     },
     "execution_count": 65,
     "metadata": {},
     "output_type": "execute_result"
    }
   ],
   "source": [
    "allinformation.iloc[:2]"
   ]
  },
  {
   "cell_type": "code",
   "execution_count": 67,
   "metadata": {},
   "outputs": [],
   "source": [
    "rownum,columsnum = allinformation.shape"
   ]
  },
  {
   "cell_type": "code",
   "execution_count": 73,
   "metadata": {},
   "outputs": [
    {
     "name": "stdout",
     "output_type": "stream",
     "text": [
      "RC00555 InCites英文机构全称\n",
      "Hubei University of Science & Technology\n",
      "RC00812 标准机构英文全称\n",
      "University of Chinese Academy of Social Sciences \n",
      "RC00812 BCUR英文机构全称\n",
      "University of Chinese Academy of Social Sciences \n",
      "RI00069 体育院系英文全称\n",
      "Institute for Sport and Exercise/National Institute of Sport Studies \n",
      "RI00106 GRAS备注\n",
      "非大学，is the main state research organization and the primary body that conducts research and coordinates activities \n",
      "RI00158 体育院系英文全称\n",
      "Department of Physical Education\n",
      "RI00284 标准化英文名称（甘）\n",
      "Sofia University \"St. Kliment Ohridski\"\n",
      "RI00524 GRAS备注\n",
      "非大学，Grandes Écoles ；来源：https://fr.wikipedia.org/wiki/%C3%89cole_des_hautes_%C3%A9tudes_en_sant%C3%A9_publique\n",
      "RI00631 ARWU备注\n",
      "2020/1/3备注：On 1 January 2017, the university became part of the University Clermont Auvergne.\n",
      "RI00681 InCites备注\n",
      "It was created with the merger of Blaise Pascal University and the University of Auvergne on 1 January 2017\n",
      "RI00779 官网全称\n",
      "Julius-Maximilians-Universität Würzburg (JMU) \n",
      "RI00928 GRAS备注\n",
      "隶属于Indian Statistical Institute。ISI has its headquarters in Baranagar, Kolkata, West Bengal. \n",
      "RI01007 ARWU备注\n",
      "同AP06028；formerly University of Pune and University of Poona\n",
      "RI01086 标准机构英文全称\n",
      "Baqiyatallah University of Medical Sciences (BMSU)\n",
      "RI01086 GRAS2019英文机构全称\n",
      "Baqiyatallah University of Medical Sciences (BMSU)\n",
      "RI01089 标准机构英文全称\n",
      "Gorgan University of Agricultural Sciences and Natural Resources\n",
      "RI01089 ARWU英文机构全称\n",
      "Gorgan University of Agricultural Sciences and Natural Resources\n",
      "RI01154 GRAS备注\n",
      "三个机构于2019年1月合并：Dublin Institute of Technology, Institute of Technology, Blanchardstown, and Institute of Technology, Tallaght\n",
      "RI01648 Sports备注\n",
      "被合并到Inland Norway University of Applied Sciences in 2017，检索式需要注意添加到合并后的学校\n",
      "RI01753 标准机构英文全称\n",
      "Jozef Pilsudski University of Physical Education in Warsaw\n",
      "RI01753 Sports英文机构全称\n",
      "Józef Piłsudski University of Physical Education in Warsaw\n",
      "RI01753 体育院系英文全称\n",
      "Józef Piłsudski University of Physical Education in Warsaw\n",
      "RI01753 更改结果\n",
      "Jozef Pilsudski University of Physical Education in Warsaw\n",
      "RI01803 GRAS备注\n",
      "隶属于 Universidade Nova de Lisboa (UNL)\n",
      "RI02089 标准机构英文全称\n",
      "Hankuk University of Foreign Studies\n",
      "RI02089 GRAS2019英文机构全称\n",
      "Hankuk University of Foreign Studies\n",
      "RI02427 标准机构英文全称\n",
      "Van Yuzuncu Yil University\n",
      "RI02427 GRAS2019英文机构全称\n",
      "Van Yuzuncu Yil University\n",
      "RI02443 官网全称\n",
      "V. N. Karazin Kharkiv National University\n",
      "RI02451 ARWU备注\n",
      "2020/1/3备注：is a portal campus of New York University serving as a fully integrated liberal arts and science college, located in Abu Dhabi, United Arab Emirates. Together with New York University in New York City and New York University Shanghai, the portal campus is part of NYU's Global Network University\n",
      "RI03046 体育院系英文全称\n",
      "Department of Health and Physical Activity/Department of Sports Medicine and Nutrition\n",
      "RI03131 标准化英文名称（甘）\n",
      "Vietnam National University,Hanoi \n",
      "RI03198 准标准机构英文全称\n",
      "The B.V. Bhoomaraddi College of Engineering and Technology\n"
     ]
    }
   ],
   "source": [
    "for i in range(rownum):\n",
    "    for j in range(columsnum):\n",
    "        if '\\xa0' in str(allinformation.iloc[i,j]):\n",
    "            print(allinformation.iloc[i,2],allinformation.iloc[0,j])\n",
    "            print(allinformation.iloc[i,j])\n",
    "            "
   ]
  },
  {
   "cell_type": "code",
   "execution_count": 56,
   "metadata": {},
   "outputs": [
    {
     "data": {
      "text/plain": [
       "(10, 3)"
      ]
     },
     "execution_count": 56,
     "metadata": {},
     "output_type": "execute_result"
    }
   ],
   "source": [
    "data.shape"
   ]
  },
  {
   "cell_type": "code",
   "execution_count": 50,
   "metadata": {},
   "outputs": [
    {
     "data": {
      "text/plain": [
       "Index(['标准代码', 'Old_code', '名称', 'Country', '标准英文名称', '标准中文名称', 'Unnamed: 6'], dtype='object')"
      ]
     },
     "execution_count": 50,
     "metadata": {},
     "output_type": "execute_result"
    }
   ],
   "source": [
    "data.columns"
   ]
  },
  {
   "cell_type": "code",
   "execution_count": 23,
   "metadata": {},
   "outputs": [
    {
     "data": {
      "text/plain": [
       "'University of Buenos Aires'"
      ]
     },
     "execution_count": 23,
     "metadata": {},
     "output_type": "execute_result"
    }
   ],
   "source": [
    "data.iloc[1,2]"
   ]
  },
  {
   "cell_type": "code",
   "execution_count": 24,
   "metadata": {},
   "outputs": [
    {
     "data": {
      "text/plain": [
       "'National University of La Plata'"
      ]
     },
     "execution_count": 24,
     "metadata": {},
     "output_type": "execute_result"
    }
   ],
   "source": [
    "data['标准英文名称'].iloc[2]"
   ]
  },
  {
   "cell_type": "code",
   "execution_count": 28,
   "metadata": {},
   "outputs": [
    {
     "data": {
      "text/plain": [
       "0    Université Djillali Liabès de Sidi-Bel-Abbès\n",
       "1                      University of Buenos Aires\n",
       "2                 National University of La Plata\n",
       "3                Universidad Nacional del Comahue\n",
       "4                  National University of Cordoba\n",
       "5            National University of Mar del Plata\n",
       "6             National University of the Littoral\n",
       "7                National University of the South\n",
       "8                  National University of Rosario\n",
       "Name: 标准英文名称, dtype: object"
      ]
     },
     "execution_count": 28,
     "metadata": {},
     "output_type": "execute_result"
    }
   ],
   "source": [
    "data['标准英文名称'].iloc[:9]"
   ]
  },
  {
   "cell_type": "code",
   "execution_count": 37,
   "metadata": {},
   "outputs": [
    {
     "data": {
      "text/plain": [
       "False"
      ]
     },
     "execution_count": 37,
     "metadata": {},
     "output_type": "execute_result"
    }
   ],
   "source": [
    "\"\\xa0\" in data['标准英文名称'].iloc[6]"
   ]
  },
  {
   "cell_type": "code",
   "execution_count": 52,
   "metadata": {},
   "outputs": [],
   "source": [
    "rows=len(data)"
   ]
  },
  {
   "cell_type": "code",
   "execution_count": 53,
   "metadata": {},
   "outputs": [],
   "source": [
    "colu=len(data.columns)"
   ]
  },
  {
   "cell_type": "code",
   "execution_count": 54,
   "metadata": {},
   "outputs": [],
   "source": [
    "for j in range(rows)[1:]: \n",
    "    if \"\\xa0\" in str(data['标准英文名称'].iloc[j]):\n",
    "        print(data['标准英文名称'].iloc[j])\n",
    "        data['标准英文名称'].iloc[j]=str(data['标准英文名称'].iloc[j]).replace('\\xa0',\" \")\n",
    "        print(data['标准英文名称'].iloc[j])"
   ]
  },
  {
   "cell_type": "code",
   "execution_count": 47,
   "metadata": {},
   "outputs": [],
   "source": [
    "data.to_excel(r\"C:\\Users\\rk\\Desktop\\拟发布机构清理2.xlsx\")"
   ]
  },
  {
   "cell_type": "code",
   "execution_count": null,
   "metadata": {},
   "outputs": [],
   "source": []
  }
 ],
 "metadata": {
  "kernelspec": {
   "display_name": "Python 3",
   "language": "python",
   "name": "python3"
  },
  "language_info": {
   "codemirror_mode": {
    "name": "ipython",
    "version": 3
   },
   "file_extension": ".py",
   "mimetype": "text/x-python",
   "name": "python",
   "nbconvert_exporter": "python",
   "pygments_lexer": "ipython3",
   "version": "3.6.5"
  }
 },
 "nbformat": 4,
 "nbformat_minor": 2
}
