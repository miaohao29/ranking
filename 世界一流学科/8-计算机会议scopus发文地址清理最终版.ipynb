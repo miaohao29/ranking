{
 "cells": [
  {
   "cell_type": "code",
   "execution_count": 1,
   "metadata": {},
   "outputs": [],
   "source": [
    "import re\n",
    "import numpy as np, pandas as pd\n",
    "#import os\n",
    "import csv"
   ]
  },
  {
   "cell_type": "code",
   "execution_count": 7,
   "metadata": {},
   "outputs": [],
   "source": [
    "############首先对Mapp.csv原文件数据去重，删除数据重复的项目######################\n",
    "lis_a = []#创建空白列表，存储文件内容\n",
    "with open(r'C:\\Users\\rk\\Desktop\\Conference2020-scopus.csv',encoding='utf-8') as f:\n",
    "    csv_reader=csv.reader(f)\n",
    "    for element in csv_reader:\n",
    "        lis_a.append(element)#逐行读入数据，写入列表"
   ]
  },
  {
   "cell_type": "code",
   "execution_count": 8,
   "metadata": {},
   "outputs": [
    {
     "data": {
      "text/plain": [
       "4926"
      ]
     },
     "execution_count": 8,
     "metadata": {},
     "output_type": "execute_result"
    }
   ],
   "source": [
    "len(lis_a)"
   ]
  },
  {
   "cell_type": "code",
   "execution_count": 9,
   "metadata": {},
   "outputs": [
    {
     "data": {
      "text/plain": [
       "['\\ufeff标题唯一码', '归属机构']"
      ]
     },
     "execution_count": 9,
     "metadata": {},
     "output_type": "execute_result"
    }
   ],
   "source": [
    "lis_a[0]"
   ]
  },
  {
   "cell_type": "code",
   "execution_count": 10,
   "metadata": {},
   "outputs": [
    {
     "data": {
      "text/plain": [
       "'Department of Statistics, University of Oxford, United Kingdom; Alan Turing Institute, London, United Kingdom; Centre for Computational Biology, Institute of Cancer and Genomic Sciences, University of Birmingham, United Kingdom'"
      ]
     },
     "execution_count": 10,
     "metadata": {},
     "output_type": "execute_result"
    }
   ],
   "source": [
    "lis_a[1][1]"
   ]
  },
  {
   "cell_type": "code",
   "execution_count": 11,
   "metadata": {},
   "outputs": [],
   "source": [
    "result=[]\n",
    "for item in lis_a[1:]:\n",
    "    result_element=[]\n",
    "    result_element.append(item[0])#记录编码\n",
    "    institution=[]\n",
    "    tempter=item[1].split(';')#将地址按照分号分列\n",
    "    for tep in tempter:#循环分号分列的地址\n",
    "        tp=tep.split(',')#将其中地址按照逗号分列\n",
    "        flag=0#为了判断是否都满足筛选条件\n",
    "        for t in tp:#循环逗号分列的地址\n",
    "            if 'Univ' in t:#这个循环需要改进，此处只能找到第一个univ\n",
    "                template=[]#\n",
    "                template.extend([tep.strip(),t.strip()])#存放长地址及满足条件的机构\n",
    "                flag=1\n",
    "                institution.append(template)\n",
    "                #break\n",
    "            if ('institute' in t.lower() or 'college' in t.lower()) and flag==0:\n",
    "                template=[]\n",
    "                template.extend([tep.strip(),t.strip()])#存放长地址及满足条件的机构\n",
    "                flag=1\n",
    "                institution.append(template)\n",
    "        if ('Department' in tp[0] or 'School' in tp[0] or 'College' in tp[0]) and flag==0:\n",
    "            template=[]\n",
    "            template.extend([tep.strip(),tp[1].strip()])#存放长地址及满足条件的机构\n",
    "            flag=1\n",
    "            institution.append(template)\n",
    "        if flag==0:\n",
    "            template=[]\n",
    "            template.extend([tep.strip(),tep.strip()])#不存在满足条件的情况，存储长地址\n",
    "            institution.append(template)\n",
    "    #result_element.append(set(institution))#地址去重\n",
    "    result_element.append(institution)#编码后添加查找的结果\n",
    "    result.append(result_element)#存储列表\n",
    "            "
   ]
  },
  {
   "cell_type": "code",
   "execution_count": 12,
   "metadata": {},
   "outputs": [
    {
     "data": {
      "text/plain": [
       "[['ICML2018-1',\n",
       "  [['Department of Statistics, University of Oxford, United Kingdom',\n",
       "    'University of Oxford'],\n",
       "   ['Alan Turing Institute, London, United Kingdom', 'Alan Turing Institute'],\n",
       "   ['Centre for Computational Biology, Institute of Cancer and Genomic Sciences, University of Birmingham, United Kingdom',\n",
       "    'Institute of Cancer and Genomic Sciences'],\n",
       "   ['Centre for Computational Biology, Institute of Cancer and Genomic Sciences, University of Birmingham, United Kingdom',\n",
       "    'University of Birmingham']]],\n",
       " ['ICML2018-2',\n",
       "  [['Department of Electrical and Computer Engineering, University of Toronto, Canada',\n",
       "    'University of Toronto'],\n",
       "   ['School of Communication and Information Engineering, University of Electronic Science and Technology of China, China',\n",
       "    'University of Electronic Science and Technology of China']]],\n",
       " ['ICML2018-3',\n",
       "  [['Department of Computer Science, University of Toronto, Toronto, ON, Canada',\n",
       "    'University of Toronto'],\n",
       "   ['Vector Institute, Canada', 'Vector Institute'],\n",
       "   ['Uber Advanced Technologies Group, Toronto, ON, Canada',\n",
       "    'Uber Advanced Technologies Group, Toronto, ON, Canada']]],\n",
       " ['ICML2018-4',\n",
       "  [['Idiap Research Institute and EPFL, Switzerland',\n",
       "    'Idiap Research Institute and EPFL']]],\n",
       " ['ICML2018-5',\n",
       "  [['New York University, New York City, United States',\n",
       "    'New York University'],\n",
       "   ['Facebook AI Research, New York City, United States',\n",
       "    'Facebook AI Research, New York City, United States']]]]"
      ]
     },
     "execution_count": 12,
     "metadata": {},
     "output_type": "execute_result"
    }
   ],
   "source": [
    "result[:5]"
   ]
  },
  {
   "cell_type": "code",
   "execution_count": 13,
   "metadata": {},
   "outputs": [],
   "source": [
    "result_final=[]\n",
    "for resu in result:\n",
    "    #a=[]\n",
    "    #print(resu[0])\n",
    "    #a.append(resu[0])\n",
    "    for item in resu[1]:\n",
    "        a=[]\n",
    "        a.append(resu[0])\n",
    "        #print(item)\n",
    "        a.extend(item)\n",
    "        result_final.append(a)"
   ]
  },
  {
   "cell_type": "code",
   "execution_count": 14,
   "metadata": {
    "scrolled": true
   },
   "outputs": [
    {
     "data": {
      "text/plain": [
       "[['ICML2018-1',\n",
       "  'Department of Statistics, University of Oxford, United Kingdom',\n",
       "  'University of Oxford'],\n",
       " ['ICML2018-1',\n",
       "  'Alan Turing Institute, London, United Kingdom',\n",
       "  'Alan Turing Institute'],\n",
       " ['ICML2018-1',\n",
       "  'Centre for Computational Biology, Institute of Cancer and Genomic Sciences, University of Birmingham, United Kingdom',\n",
       "  'Institute of Cancer and Genomic Sciences'],\n",
       " ['ICML2018-1',\n",
       "  'Centre for Computational Biology, Institute of Cancer and Genomic Sciences, University of Birmingham, United Kingdom',\n",
       "  'University of Birmingham'],\n",
       " ['ICML2018-2',\n",
       "  'Department of Electrical and Computer Engineering, University of Toronto, Canada',\n",
       "  'University of Toronto']]"
      ]
     },
     "execution_count": 14,
     "metadata": {},
     "output_type": "execute_result"
    }
   ],
   "source": [
    "result_final[:5]"
   ]
  },
  {
   "cell_type": "code",
   "execution_count": 16,
   "metadata": {},
   "outputs": [],
   "source": [
    "with open(r'C:\\Users\\rk\\Desktop\\scopus20200520.txt','a+',encoding=\"utf-8\") as f:\n",
    "    for circle in result_final:\n",
    "        st='、'.join(circle)#列表用顿号连接成字符串\n",
    "        string=st.lstrip()\n",
    "        f.write(string+'\\n')"
   ]
  },
  {
   "cell_type": "code",
   "execution_count": null,
   "metadata": {},
   "outputs": [],
   "source": []
  },
  {
   "cell_type": "code",
   "execution_count": null,
   "metadata": {},
   "outputs": [],
   "source": []
  },
  {
   "cell_type": "code",
   "execution_count": null,
   "metadata": {},
   "outputs": [],
   "source": []
  },
  {
   "cell_type": "code",
   "execution_count": null,
   "metadata": {},
   "outputs": [],
   "source": []
  },
  {
   "cell_type": "code",
   "execution_count": null,
   "metadata": {},
   "outputs": [],
   "source": []
  },
  {
   "cell_type": "code",
   "execution_count": null,
   "metadata": {},
   "outputs": [],
   "source": []
  },
  {
   "cell_type": "code",
   "execution_count": null,
   "metadata": {},
   "outputs": [],
   "source": []
  }
 ],
 "metadata": {
  "kernelspec": {
   "display_name": "Python 3",
   "language": "python",
   "name": "python3"
  },
  "language_info": {
   "codemirror_mode": {
    "name": "ipython",
    "version": 3
   },
   "file_extension": ".py",
   "mimetype": "text/x-python",
   "name": "python",
   "nbconvert_exporter": "python",
   "pygments_lexer": "ipython3",
   "version": "3.6.5"
  }
 },
 "nbformat": 4,
 "nbformat_minor": 2
}
