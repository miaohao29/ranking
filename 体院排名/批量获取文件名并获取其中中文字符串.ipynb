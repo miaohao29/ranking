{
 "cells": [
  {
   "cell_type": "code",
   "execution_count": 77,
   "metadata": {},
   "outputs": [],
   "source": [
    "import os\n",
    "import re"
   ]
  },
  {
   "cell_type": "code",
   "execution_count": 78,
   "metadata": {},
   "outputs": [],
   "source": [
    "Folder_Path=r'C:\\Users\\rk\\Desktop\\1'        \n",
    "os.chdir(Folder_Path)\n",
    "#将该文件夹下的所有文件名存入一个列表\n",
    "file_list = os.listdir() "
   ]
  },
  {
   "cell_type": "code",
   "execution_count": 79,
   "metadata": {},
   "outputs": [
    {
     "data": {
      "text/plain": [
       "['avbslifsaodfn你好，世界！123 (1).docx',\n",
       " 'avbslifsaodfn你好，世界！123 (10).docx',\n",
       " 'avbslifsaodfn你好，世界！123 (11).docx',\n",
       " 'avbslifsaodfn你好，世界！123 (2).docx',\n",
       " 'avbslifsaodfn你好，世界！123 (3).docx',\n",
       " 'avbslifsaodfn你好，世界！123 (4).docx',\n",
       " 'avbslifsaodfn你好，世界！123 (5).docx',\n",
       " 'avbslifsaodfn你好，世界！123 (6).docx',\n",
       " 'avbslifsaodfn你好，世界！123 (7).docx',\n",
       " 'avbslifsaodfn你好，世界！123 (8).docx',\n",
       " 'avbslifsaodfn你好，世界！123 (9).docx']"
      ]
     },
     "execution_count": 79,
     "metadata": {},
     "output_type": "execute_result"
    }
   ],
   "source": [
    "file_list"
   ]
  },
  {
   "cell_type": "code",
   "execution_count": 80,
   "metadata": {},
   "outputs": [
    {
     "data": {
      "text/plain": [
       "'avbslifsaodfn你好，世界！123 (1).docx'"
      ]
     },
     "execution_count": 80,
     "metadata": {},
     "output_type": "execute_result"
    }
   ],
   "source": [
    "import re\n",
    "f=file_list[0]\n",
    "f"
   ]
  },
  {
   "cell_type": "code",
   "execution_count": 81,
   "metadata": {},
   "outputs": [
    {
     "name": "stdout",
     "output_type": "stream",
     "text": [
      "你好世界\n",
      "你好世界\n",
      "你好世界\n",
      "你好世界\n",
      "你好世界\n",
      "你好世界\n",
      "你好世界\n",
      "你好世界\n",
      "你好世界\n",
      "你好世界\n",
      "你好世界\n"
     ]
    }
   ],
   "source": [
    "##################################################################\n",
    "\n",
    "for fi in file_list:\n",
    "    z=re.sub(r'[a-z]*','',re.sub(r\"(\\W)(\\d*)[a-z]*\",\"\",f))#sub 应该是替换函数，用空替换掉所选择的字符\n",
    "    print(z)"
   ]
  },
  {
   "cell_type": "code",
   "execution_count": null,
   "metadata": {},
   "outputs": [],
   "source": []
  },
  {
   "cell_type": "code",
   "execution_count": 74,
   "metadata": {},
   "outputs": [
    {
     "name": "stdout",
     "output_type": "stream",
     "text": [
      "avbslifsaodfn你好世界\n"
     ]
    }
   ],
   "source": [
    "x = re.sub(\"(\\W)(\\d*)[a-z]*\",\"\",f)\n",
    "print(x)"
   ]
  },
  {
   "cell_type": "code",
   "execution_count": 66,
   "metadata": {},
   "outputs": [],
   "source": [
    "y=x"
   ]
  },
  {
   "cell_type": "code",
   "execution_count": 67,
   "metadata": {},
   "outputs": [
    {
     "data": {
      "text/plain": [
       "'avbslifsaodfn你好世界'"
      ]
     },
     "execution_count": 67,
     "metadata": {},
     "output_type": "execute_result"
    }
   ],
   "source": [
    "y"
   ]
  },
  {
   "cell_type": "code",
   "execution_count": 76,
   "metadata": {},
   "outputs": [
    {
     "data": {
      "text/plain": [
       "'你好世界'"
      ]
     },
     "execution_count": 76,
     "metadata": {},
     "output_type": "execute_result"
    }
   ],
   "source": [
    "z=re.sub('[a-z]*',\"\",y)\n",
    "z"
   ]
  },
  {
   "cell_type": "code",
   "execution_count": null,
   "metadata": {},
   "outputs": [],
   "source": []
  },
  {
   "cell_type": "code",
   "execution_count": null,
   "metadata": {},
   "outputs": [],
   "source": []
  },
  {
   "cell_type": "code",
   "execution_count": 26,
   "metadata": {},
   "outputs": [
    {
     "name": "stdout",
     "output_type": "stream",
     "text": [
      "电话号码 :  2004-959-559 \n",
      "电话号码 :  2004959559\n"
     ]
    }
   ],
   "source": [
    "#!/usr/bin/python3\n",
    "# -*- coding: UTF-8 -*- \n",
    "import re\n",
    "\n",
    "phone = \"2004-959-559 # 这是一个电话号码\"\n",
    "\n",
    "# 删除注释\n",
    "num = re.sub(r'#.*$', \"\", phone)\n",
    "print (\"电话号码 : \", num)\n",
    "\n",
    "# 移除非数字的内容\n",
    "num = re.sub(r'\\D', \"\", phone)\n",
    "print (\"电话号码 : \", num)"
   ]
  },
  {
   "cell_type": "code",
   "execution_count": null,
   "metadata": {},
   "outputs": [],
   "source": []
  },
  {
   "cell_type": "code",
   "execution_count": null,
   "metadata": {},
   "outputs": [],
   "source": []
  },
  {
   "cell_type": "code",
   "execution_count": null,
   "metadata": {},
   "outputs": [],
   "source": []
  },
  {
   "cell_type": "code",
   "execution_count": 42,
   "metadata": {},
   "outputs": [
    {
     "name": "stdout",
     "output_type": "stream",
     "text": [
      "['10', '23']\n"
     ]
    }
   ],
   "source": [
    "#正则表达查找字符串中的数字\n",
    "#################################################\n",
    "import re\n",
    "s='zs10nj23kl'\n",
    "f1=re.findall('(\\d+)',s)\n",
    "print(f1)"
   ]
  },
  {
   "cell_type": "code",
   "execution_count": null,
   "metadata": {},
   "outputs": [],
   "source": []
  },
  {
   "cell_type": "code",
   "execution_count": 39,
   "metadata": {},
   "outputs": [
    {
     "name": "stdout",
     "output_type": "stream",
     "text": [
      "['大数据', '数据分析', '技术', '工具', '应用']\n"
     ]
    }
   ],
   "source": [
    "#利用正则表达提取字符串中的文字\n",
    "################################################\n",
    "\n",
    "import re \n",
    " \n",
    "line=r\"\\ufeffD0002044\\x01大数据\\x01数据分析\\x01技术\\x01工具\\x01应用\\n\"\n",
    "x=re.findall(r\"(?<=\\\\x01)(.+?)(?=\\\\)\",line)\n",
    "print(x)"
   ]
  },
  {
   "cell_type": "code",
   "execution_count": null,
   "metadata": {},
   "outputs": [],
   "source": []
  },
  {
   "cell_type": "code",
   "execution_count": 87,
   "metadata": {},
   "outputs": [
    {
     "name": "stdout",
     "output_type": "stream",
     "text": [
      "123456789\n"
     ]
    }
   ],
   "source": [
    "##########################################################\n",
    "#isalnum判断是否数字和字母的组合\n",
    "#用isalpha判断是否字母\n",
    "#用isdigit函数判断是否数字\n",
    "str = 'abc123qwer456tyui789'\n",
    "num=''.join([x for x in str if x.isdigit()])\n",
    "print(num)\n"
   ]
  },
  {
   "cell_type": "code",
   "execution_count": 91,
   "metadata": {},
   "outputs": [
    {
     "name": "stdout",
     "output_type": "stream",
     "text": [
      "你好世界\n",
      "['中文', '发京东方']\n"
     ]
    }
   ],
   "source": [
    "#python3正则提取字符串里的中文\n",
    "# -*- coding: utf-8 -*-\n",
    "import re\n",
    "#过滤掉除了中文以外的字符\n",
    "str = \"hello,world!!%[545]你好234世界。。。\"\n",
    "str = re.sub(\"[A-Za-z0-9\\!\\%\\[\\]\\,\\。]\", \"\", str)\n",
    "print(str)\n",
    "#提取字符串里的中文，返回数组\n",
    "pattern='[\\u4e00-\\u9fa5]+'\n",
    "regex = re.compile(pattern)\n",
    "results =regex.findall('adf中文adf发京东方')\n",
    "print(results)\n"
   ]
  },
  {
   "cell_type": "code",
   "execution_count": null,
   "metadata": {},
   "outputs": [],
   "source": []
  },
  {
   "cell_type": "code",
   "execution_count": null,
   "metadata": {},
   "outputs": [],
   "source": []
  },
  {
   "cell_type": "code",
   "execution_count": null,
   "metadata": {},
   "outputs": [],
   "source": []
  },
  {
   "cell_type": "code",
   "execution_count": null,
   "metadata": {},
   "outputs": [],
   "source": [
    "#!/usr/bin/python\n",
    "import os\n",
    "def ListFilesToTxt(dir,file,wildcard,recursion):\n",
    "    exts = wildcard.split(\" \")\n",
    "    files = os.listdir(dir)\n",
    "    for name in files:\n",
    "        fullname=os.path.join(dir,name)\n",
    "        if(os.path.isdir(fullname) & recursion):\n",
    "            ListFilesToTxt(fullname,file,wildcard,recursion)\n",
    "        else:\n",
    "            for ext in exts:\n",
    "                if(name.endswith(ext)):\n",
    "                    file.write(name + \"\\n\")\n",
    "                    break\n",
    "def Test():\n",
    "    dir=\"/home/robot_lcl/catkin_ws/src/beginner_tutorials/robot_bag/Asus/image_Asus\"     #文件路径\n",
    "    outfile=\"binaries.txt\"                     #写入的txt文件名\n",
    "    wildcard = \".jpg .txt .exe .dll .lib\"      #要读取的文件类型；\n",
    " \n",
    "    file = open(outfile,\"w\")\n",
    "    if not file:\n",
    "        print (\"cannot open the file %s for writing\" % outfile)\n",
    " \n",
    "    ListFilesToTxt(dir,file,wildcard, 1)\n",
    " \n",
    "    file.close()\n",
    " \n",
    " \n",
    "    Test()"
   ]
  }
 ],
 "metadata": {
  "kernelspec": {
   "display_name": "Python 3",
   "language": "python",
   "name": "python3"
  },
  "language_info": {
   "codemirror_mode": {
    "name": "ipython",
    "version": 3
   },
   "file_extension": ".py",
   "mimetype": "text/x-python",
   "name": "python",
   "nbconvert_exporter": "python",
   "pygments_lexer": "ipython3",
   "version": "3.6.5"
  }
 },
 "nbformat": 4,
 "nbformat_minor": 2
}
