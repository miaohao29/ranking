{
 "cells": [
  {
   "cell_type": "code",
   "execution_count": 1,
   "metadata": {},
   "outputs": [],
   "source": [
    "import os\n",
    "import re\n",
    "import pandas as pd,numpy as np"
   ]
  },
  {
   "cell_type": "code",
   "execution_count": 2,
   "metadata": {},
   "outputs": [],
   "source": [
    "Folder_Path=r\"E:\\苗灏\\体院排名2020\\sport20200707\"        \n",
    "os.chdir(Folder_Path)\n",
    "#将该文件夹下的所有文件名存入一个列表\n",
    "file_list = os.listdir() "
   ]
  },
  {
   "cell_type": "code",
   "execution_count": 3,
   "metadata": {},
   "outputs": [
    {
     "data": {
      "text/plain": [
       "['L001-1.txt',\n",
       " 'L002-1.txt',\n",
       " 'L003-1.txt',\n",
       " 'L004-1.txt',\n",
       " 'L005-1.txt',\n",
       " 'L006-1.txt',\n",
       " 'L007-1.txt',\n",
       " 'L008-1.txt',\n",
       " 'L009-1.txt']"
      ]
     },
     "execution_count": 3,
     "metadata": {},
     "output_type": "execute_result"
    }
   ],
   "source": [
    "file_list[:9]"
   ]
  },
  {
   "cell_type": "code",
   "execution_count": 4,
   "metadata": {},
   "outputs": [
    {
     "data": {
      "text/plain": [
       "'L001-1.txt'"
      ]
     },
     "execution_count": 4,
     "metadata": {},
     "output_type": "execute_result"
    }
   ],
   "source": [
    "file_list[0]"
   ]
  },
  {
   "cell_type": "code",
   "execution_count": 5,
   "metadata": {},
   "outputs": [
    {
     "data": {
      "text/plain": [
       "6"
      ]
     },
     "execution_count": 5,
     "metadata": {},
     "output_type": "execute_result"
    }
   ],
   "source": [
    "file_list[0].find('.txt')"
   ]
  },
  {
   "cell_type": "code",
   "execution_count": 6,
   "metadata": {},
   "outputs": [
    {
     "data": {
      "text/plain": [
       "'L001-'"
      ]
     },
     "execution_count": 6,
     "metadata": {},
     "output_type": "execute_result"
    }
   ],
   "source": [
    "file_list[0][:5]"
   ]
  },
  {
   "cell_type": "code",
   "execution_count": 7,
   "metadata": {},
   "outputs": [
    {
     "name": "stdout",
     "output_type": "stream",
     "text": [
      "L001-\n",
      "L002-\n",
      "L003-\n",
      "L004-\n",
      "L005-\n",
      "L006-\n",
      "L007-\n",
      "L008-\n",
      "L009-\n",
      "L010-\n"
     ]
    }
   ],
   "source": [
    "for it in file_list[:10]:\n",
    "    print(it[:(it.find('.txt')-1)])  "
   ]
  },
  {
   "cell_type": "code",
   "execution_count": 8,
   "metadata": {},
   "outputs": [],
   "source": [
    "a=[]\n",
    "with open(Folder_Path +'\\\\'+ file_list[0],encoding='utf-8') as f:\n",
    "    y=file_list[0][:(file_list[0].find('.txt')-1)]\n",
    "    for li in f:\n",
    "        a.append(li[:-1]+'\\t'+ y +'\\n')"
   ]
  },
  {
   "cell_type": "code",
   "execution_count": 9,
   "metadata": {},
   "outputs": [
    {
     "data": {
      "text/plain": [
       "['\\ufeffPT',\n",
       " 'AU',\n",
       " 'BA',\n",
       " 'BE',\n",
       " 'GP',\n",
       " 'AF',\n",
       " 'BF',\n",
       " 'CA',\n",
       " 'TI',\n",
       " 'SO',\n",
       " 'SE',\n",
       " 'BS',\n",
       " 'LA',\n",
       " 'DT',\n",
       " 'CT',\n",
       " 'CY',\n",
       " 'CL',\n",
       " 'SP',\n",
       " 'HO',\n",
       " 'DE',\n",
       " 'ID',\n",
       " 'AB',\n",
       " 'C1',\n",
       " 'RP',\n",
       " 'EM',\n",
       " 'RI',\n",
       " 'OI',\n",
       " 'FU',\n",
       " 'FX',\n",
       " 'CR',\n",
       " 'NR',\n",
       " 'TC',\n",
       " 'Z9',\n",
       " 'U1',\n",
       " 'U2',\n",
       " 'PU',\n",
       " 'PI',\n",
       " 'PA',\n",
       " 'SN',\n",
       " 'EI',\n",
       " 'BN',\n",
       " 'J9',\n",
       " 'JI',\n",
       " 'PD',\n",
       " 'PY',\n",
       " 'VL',\n",
       " 'IS',\n",
       " 'PN',\n",
       " 'SU',\n",
       " 'SI',\n",
       " 'MA',\n",
       " 'BP',\n",
       " 'EP',\n",
       " 'AR',\n",
       " 'DI',\n",
       " 'D2',\n",
       " 'EA',\n",
       " 'PG',\n",
       " 'WC',\n",
       " 'SC',\n",
       " 'GA',\n",
       " 'UT',\n",
       " 'PM',\n",
       " 'OA',\n",
       " 'HC',\n",
       " 'HP',\n",
       " 'DA',\n",
       " 'L001-\\n']"
      ]
     },
     "execution_count": 9,
     "metadata": {},
     "output_type": "execute_result"
    }
   ],
   "source": [
    "a[0].split('\\t')"
   ]
  },
  {
   "cell_type": "code",
   "execution_count": 10,
   "metadata": {},
   "outputs": [
    {
     "data": {
      "text/plain": [
       "'TI'"
      ]
     },
     "execution_count": 10,
     "metadata": {},
     "output_type": "execute_result"
    }
   ],
   "source": [
    "a[0].split('\\t')[8]"
   ]
  },
  {
   "cell_type": "code",
   "execution_count": 11,
   "metadata": {},
   "outputs": [
    {
     "data": {
      "text/plain": [
       "'SO'"
      ]
     },
     "execution_count": 11,
     "metadata": {},
     "output_type": "execute_result"
    }
   ],
   "source": [
    "a[0].split('\\t')[9]"
   ]
  },
  {
   "cell_type": "code",
   "execution_count": 12,
   "metadata": {},
   "outputs": [
    {
     "data": {
      "text/plain": [
       "'DT'"
      ]
     },
     "execution_count": 12,
     "metadata": {},
     "output_type": "execute_result"
    }
   ],
   "source": [
    "a[0].split('\\t')[13]"
   ]
  },
  {
   "cell_type": "code",
   "execution_count": 13,
   "metadata": {},
   "outputs": [
    {
     "data": {
      "text/plain": [
       "'SN'"
      ]
     },
     "execution_count": 13,
     "metadata": {},
     "output_type": "execute_result"
    }
   ],
   "source": [
    "a[0].split('\\t')[38]"
   ]
  },
  {
   "cell_type": "code",
   "execution_count": 14,
   "metadata": {},
   "outputs": [
    {
     "data": {
      "text/plain": [
       "'EI'"
      ]
     },
     "execution_count": 14,
     "metadata": {},
     "output_type": "execute_result"
    }
   ],
   "source": [
    "a[0].split('\\t')[39]"
   ]
  },
  {
   "cell_type": "code",
   "execution_count": 15,
   "metadata": {},
   "outputs": [
    {
     "data": {
      "text/plain": [
       "'PY'"
      ]
     },
     "execution_count": 15,
     "metadata": {},
     "output_type": "execute_result"
    }
   ],
   "source": [
    "a[0].split('\\t')[44]"
   ]
  },
  {
   "cell_type": "code",
   "execution_count": null,
   "metadata": {},
   "outputs": [],
   "source": []
  },
  {
   "cell_type": "code",
   "execution_count": 16,
   "metadata": {},
   "outputs": [],
   "source": [
    "a=[]\n",
    "with open(Folder_Path +'\\\\'+ file_list[0],encoding='utf-8') as f:\n",
    "    y=file_list[0][:(file_list[0].find('.txt')-1)]\n",
    "    for li in f:\n",
    "        STRING=li.split('\\t')\n",
    "        temp=[]\n",
    "        temp.append(STRING[8])\n",
    "        temp.append(STRING[9])\n",
    "        temp.append(STRING[13])\n",
    "        temp.append(STRING[38])\n",
    "        temp.append(STRING[39])\n",
    "        temp.append(STRING[44])\n",
    "        temp.append(y)\n",
    "        a.append(temp)"
   ]
  },
  {
   "cell_type": "code",
   "execution_count": 17,
   "metadata": {},
   "outputs": [
    {
     "data": {
      "text/plain": [
       "[['TI', 'SO', 'DT', 'SN', 'EI', 'PY', 'L001-'],\n",
       " ['Workplace violence and development of burnout symptoms: a prospective cohort study on 1823 social educators',\n",
       "  'INTERNATIONAL ARCHIVES OF OCCUPATIONAL AND ENVIRONMENTAL HEALTH',\n",
       "  'Article',\n",
       "  '0340-0131',\n",
       "  '1432-1246',\n",
       "  '2019',\n",
       "  'L001-'],\n",
       " ['Cumulative physical workload and mobility limitations in middle-aged men and women: a population-based study with retrospective assessment of workload',\n",
       "  'INTERNATIONAL ARCHIVES OF OCCUPATIONAL AND ENVIRONMENTAL HEALTH',\n",
       "  'Article',\n",
       "  '0340-0131',\n",
       "  '1432-1246',\n",
       "  '2019',\n",
       "  'L001-'],\n",
       " ['Hamstring rate of torque development is more affected than maximal voluntary contraction after a professional soccer match',\n",
       "  'EUROPEAN JOURNAL OF SPORT SCIENCE',\n",
       "  'Article',\n",
       "  '1746-1391',\n",
       "  '1536-7290',\n",
       "  '2019',\n",
       "  'L001-'],\n",
       " ['Electromyographic Effect of Using Different Attentional Foci During the Front Plank Exercise',\n",
       "  'AMERICAN JOURNAL OF PHYSICAL MEDICINE & REHABILITATION',\n",
       "  'Article',\n",
       "  '0894-9115',\n",
       "  '1537-7385',\n",
       "  '2019',\n",
       "  'L001-'],\n",
       " ['EXTERNAL AND INTERNAL FOCUS OF ATTENTION INCREASES MUSCULAR ACTIVATION DURING BENCH PRESS IN RESISTANCE-TRAINED PARTICIPANTS',\n",
       "  'JOURNAL OF STRENGTH AND CONDITIONING RESEARCH',\n",
       "  'Article',\n",
       "  '1064-8011',\n",
       "  '1533-4287',\n",
       "  '2018',\n",
       "  'L001-'],\n",
       " ['Trapezius viscoelastic properties are heterogeneously affected by eccentric exercise',\n",
       "  'JOURNAL OF SCIENCE AND MEDICINE IN SPORT',\n",
       "  'Article',\n",
       "  '1440-2440',\n",
       "  '1878-1861',\n",
       "  '2018',\n",
       "  'L001-'],\n",
       " ['Association Between Trapezius Muscle Tenderness and Tension-Type Headache in Female Office Workers: A Cross-sectional Study',\n",
       "  'JOURNAL OF MANIPULATIVE AND PHYSIOLOGICAL THERAPEUTICS',\n",
       "  'Article',\n",
       "  '0161-4754',\n",
       "  '',\n",
       "  '2018',\n",
       "  'L001-'],\n",
       " ['Effects of a lighter, smaller football on acute match injuries in adolescent female football: a pilot cluster-randomized controlled trial',\n",
       "  'JOURNAL OF SPORTS MEDICINE AND PHYSICAL FITNESS',\n",
       "  'Article',\n",
       "  '0022-4707',\n",
       "  '1827-1928',\n",
       "  '2018',\n",
       "  'L001-']]"
      ]
     },
     "execution_count": 17,
     "metadata": {},
     "output_type": "execute_result"
    }
   ],
   "source": [
    "a[:9]"
   ]
  },
  {
   "cell_type": "code",
   "execution_count": 18,
   "metadata": {},
   "outputs": [],
   "source": [
    "a=[]\n",
    "for fi in file_list:\n",
    "    with (open(Folder_Path +'\\\\'+ fi,encoding='utf-8')) as f:\n",
    "        y=fi[:(fi.find('.txt')-1)]#从文件名提取机构临时代码\n",
    "        for li in f:\n",
    "            String=li.split('\\t')\n",
    "            temp=[]\n",
    "            temp.append(String[8])#TI,论文标题\n",
    "            temp.append(String[9])#SO，期刊名\n",
    "            temp.append(String[13])#DT,文献类型\n",
    "            temp.append(String[38])#SN，ISSN号\n",
    "            temp.append(String[39])#EI,essn号\n",
    "            temp.append(String[44])#PY，发表年份\n",
    "            temp.append(y)\n",
    "            a.append(temp)"
   ]
  },
  {
   "cell_type": "code",
   "execution_count": 19,
   "metadata": {},
   "outputs": [
    {
     "data": {
      "text/plain": [
       "83554"
      ]
     },
     "execution_count": 19,
     "metadata": {},
     "output_type": "execute_result"
    }
   ],
   "source": [
    "len(a)"
   ]
  },
  {
   "cell_type": "code",
   "execution_count": 20,
   "metadata": {},
   "outputs": [
    {
     "data": {
      "text/plain": [
       "[['TI', 'SO', 'DT', 'SN', 'EI', 'PY', 'L001-'],\n",
       " ['Workplace violence and development of burnout symptoms: a prospective cohort study on 1823 social educators',\n",
       "  'INTERNATIONAL ARCHIVES OF OCCUPATIONAL AND ENVIRONMENTAL HEALTH',\n",
       "  'Article',\n",
       "  '0340-0131',\n",
       "  '1432-1246',\n",
       "  '2019',\n",
       "  'L001-'],\n",
       " ['Cumulative physical workload and mobility limitations in middle-aged men and women: a population-based study with retrospective assessment of workload',\n",
       "  'INTERNATIONAL ARCHIVES OF OCCUPATIONAL AND ENVIRONMENTAL HEALTH',\n",
       "  'Article',\n",
       "  '0340-0131',\n",
       "  '1432-1246',\n",
       "  '2019',\n",
       "  'L001-'],\n",
       " ['Hamstring rate of torque development is more affected than maximal voluntary contraction after a professional soccer match',\n",
       "  'EUROPEAN JOURNAL OF SPORT SCIENCE',\n",
       "  'Article',\n",
       "  '1746-1391',\n",
       "  '1536-7290',\n",
       "  '2019',\n",
       "  'L001-'],\n",
       " ['Electromyographic Effect of Using Different Attentional Foci During the Front Plank Exercise',\n",
       "  'AMERICAN JOURNAL OF PHYSICAL MEDICINE & REHABILITATION',\n",
       "  'Article',\n",
       "  '0894-9115',\n",
       "  '1537-7385',\n",
       "  '2019',\n",
       "  'L001-'],\n",
       " ['EXTERNAL AND INTERNAL FOCUS OF ATTENTION INCREASES MUSCULAR ACTIVATION DURING BENCH PRESS IN RESISTANCE-TRAINED PARTICIPANTS',\n",
       "  'JOURNAL OF STRENGTH AND CONDITIONING RESEARCH',\n",
       "  'Article',\n",
       "  '1064-8011',\n",
       "  '1533-4287',\n",
       "  '2018',\n",
       "  'L001-'],\n",
       " ['Trapezius viscoelastic properties are heterogeneously affected by eccentric exercise',\n",
       "  'JOURNAL OF SCIENCE AND MEDICINE IN SPORT',\n",
       "  'Article',\n",
       "  '1440-2440',\n",
       "  '1878-1861',\n",
       "  '2018',\n",
       "  'L001-'],\n",
       " ['Association Between Trapezius Muscle Tenderness and Tension-Type Headache in Female Office Workers: A Cross-sectional Study',\n",
       "  'JOURNAL OF MANIPULATIVE AND PHYSIOLOGICAL THERAPEUTICS',\n",
       "  'Article',\n",
       "  '0161-4754',\n",
       "  '',\n",
       "  '2018',\n",
       "  'L001-'],\n",
       " ['Effects of a lighter, smaller football on acute match injuries in adolescent female football: a pilot cluster-randomized controlled trial',\n",
       "  'JOURNAL OF SPORTS MEDICINE AND PHYSICAL FITNESS',\n",
       "  'Article',\n",
       "  '0022-4707',\n",
       "  '1827-1928',\n",
       "  '2018',\n",
       "  'L001-']]"
      ]
     },
     "execution_count": 20,
     "metadata": {},
     "output_type": "execute_result"
    }
   ],
   "source": [
    "a[:9]"
   ]
  },
  {
   "cell_type": "code",
   "execution_count": 21,
   "metadata": {},
   "outputs": [],
   "source": [
    "with open(r'C:\\Users\\rk\\Desktop\\result20200707.txt','a+',encoding='utf-8') as f:\n",
    "    for item in a:\n",
    "        st='\\t'.join(item)\n",
    "        f.write(st+'\\n')"
   ]
  },
  {
   "cell_type": "code",
   "execution_count": null,
   "metadata": {},
   "outputs": [],
   "source": []
  },
  {
   "cell_type": "code",
   "execution_count": null,
   "metadata": {},
   "outputs": [],
   "source": []
  }
 ],
 "metadata": {
  "kernelspec": {
   "display_name": "Python 3",
   "language": "python",
   "name": "python3"
  },
  "language_info": {
   "codemirror_mode": {
    "name": "ipython",
    "version": 3
   },
   "file_extension": ".py",
   "mimetype": "text/x-python",
   "name": "python",
   "nbconvert_exporter": "python",
   "pygments_lexer": "ipython3",
   "version": "3.6.5"
  }
 },
 "nbformat": 4,
 "nbformat_minor": 2
}
