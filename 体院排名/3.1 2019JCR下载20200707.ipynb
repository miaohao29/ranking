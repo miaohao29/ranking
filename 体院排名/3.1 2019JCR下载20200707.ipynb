{
 "cells": [
  {
   "cell_type": "code",
   "execution_count": 11,
   "metadata": {},
   "outputs": [],
   "source": [
    "import time\n",
    "from selenium import webdriver\n",
    "import os\n",
    "import random"
   ]
  },
  {
   "cell_type": "code",
   "execution_count": null,
   "metadata": {},
   "outputs": [],
   "source": []
  },
  {
   "cell_type": "code",
   "execution_count": null,
   "metadata": {},
   "outputs": [],
   "source": [
    "\"\"\"\n",
    "web of science 下载ISSN账号\n",
    "Incite:602281532@qq.com\n",
    "密码：rank2016!\n",
    "\n",
    "\"\"\""
   ]
  },
  {
   "cell_type": "code",
   "execution_count": null,
   "metadata": {},
   "outputs": [],
   "source": []
  },
  {
   "cell_type": "code",
   "execution_count": 2,
   "metadata": {},
   "outputs": [],
   "source": [
    "browser = webdriver.Chrome('C:/Users/rk/Desktop/chromedriver.exe') #锁定浏览器\n",
    "browser.get(\"https://jcr.clarivate.com/JCRHomePageAction.action?\")#打开主页面"
   ]
  },
  {
   "cell_type": "code",
   "execution_count": null,
   "metadata": {},
   "outputs": [],
   "source": [
    "##################################################################################"
   ]
  },
  {
   "cell_type": "code",
   "execution_count": null,
   "metadata": {},
   "outputs": [],
   "source": [
    "#打开页面后，登录账号，直接手动点击至下面的程序"
   ]
  },
  {
   "cell_type": "code",
   "execution_count": null,
   "metadata": {},
   "outputs": [],
   "source": [
    "#########################################################################"
   ]
  },
  {
   "cell_type": "code",
   "execution_count": 18,
   "metadata": {},
   "outputs": [],
   "source": [
    "inputs=browser.find_elements_by_xpath('//*[@id=\"category-popup\"]/div/div/div/div/label/input')#查找所有学科"
   ]
  },
  {
   "cell_type": "code",
   "execution_count": 19,
   "metadata": {},
   "outputs": [
    {
     "data": {
      "text/plain": [
       "229"
      ]
     },
     "execution_count": 19,
     "metadata": {},
     "output_type": "execute_result"
    }
   ],
   "source": [
    "len(inputs)"
   ]
  },
  {
   "cell_type": "code",
   "execution_count": 20,
   "metadata": {},
   "outputs": [],
   "source": [
    "count=0"
   ]
  },
  {
   "cell_type": "code",
   "execution_count": 21,
   "metadata": {},
   "outputs": [],
   "source": [
    "for la in inputs:\n",
    "    la.click()#点击学科分类\n",
    "    time.sleep(random.random()*2+1)\n",
    "    browser.find_element_by_xpath('//*[@id=\"skip-to-content\"]/div/div[2]/div[1]/div[9]/div[3]/a[2]').click()#点击summit\n",
    "    time.sleep(random.random()*2+1)\n",
    "    browser.find_element_by_xpath('//*[@id=\"action_export\"]/a').click()#点击下载\n",
    "    time.sleep(random.random()*2+1)\n",
    "    browser.find_element_by_xpath('//*[@id=\"popup\"]/div/ul/li[2]/a').click()#点击csv\n",
    "    time.sleep(random.random()*2+1)\n",
    "    la.click()#再次点击上面的学科分类以取消选择\n",
    "    time.sleep(random.random()*2+1)\n",
    "    count+=1\n",
    "    coun=str(count)#将数值转化为字符串\n",
    "    fil='C:/Users/rk/Downloads/JournalHomeGrid'+coun+'.csv'#文件名及路径\n",
    "    while True:\n",
    "        try:\n",
    "            os.rename('C:/Users/rk/Downloads/JournalHomeGrid.csv',fil)#对下载的文件改名\n",
    "            break\n",
    "        except:\n",
    "            time.sleep(1)"
   ]
  },
  {
   "cell_type": "code",
   "execution_count": 48,
   "metadata": {},
   "outputs": [
    {
     "data": {
      "text/plain": [
       "227"
      ]
     },
     "execution_count": 48,
     "metadata": {},
     "output_type": "execute_result"
    }
   ],
   "source": [
    "len(inputs)"
   ]
  },
  {
   "cell_type": "code",
   "execution_count": null,
   "metadata": {},
   "outputs": [],
   "source": []
  }
 ],
 "metadata": {
  "kernelspec": {
   "display_name": "Python 3",
   "language": "python",
   "name": "python3"
  },
  "language_info": {
   "codemirror_mode": {
    "name": "ipython",
    "version": 3
   },
   "file_extension": ".py",
   "mimetype": "text/x-python",
   "name": "python",
   "nbconvert_exporter": "python",
   "pygments_lexer": "ipython3",
   "version": "3.6.5"
  }
 },
 "nbformat": 4,
 "nbformat_minor": 2
}
