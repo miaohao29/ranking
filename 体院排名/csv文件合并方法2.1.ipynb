{
 "cells": [
  {
   "cell_type": "code",
   "execution_count": 1,
   "metadata": {},
   "outputs": [],
   "source": [
    "import glob\n",
    "import time"
   ]
  },
  {
   "cell_type": "code",
   "execution_count": 2,
   "metadata": {},
   "outputs": [
    {
     "name": "stdout",
     "output_type": "stream",
     "text": [
      "总共发现4个CSV文件\n"
     ]
    }
   ],
   "source": [
    "csvx_list = glob.glob(r'C:\\Users\\rk\\Downloads\\all\\*.csv')\n",
    "print('总共发现%s个CSV文件'% len(csvx_list))"
   ]
  },
  {
   "cell_type": "code",
   "execution_count": 5,
   "metadata": {},
   "outputs": [
    {
     "name": "stdout",
     "output_type": "stream",
     "text": [
      "正在处理............\n",
      "写入成功！\n",
      "写入成功！\n",
      "写入成功！\n",
      "写入成功！\n",
      "写入完毕！\n",
      "10秒钟自动关闭程序！\n"
     ]
    }
   ],
   "source": [
    "time.sleep(2)\n",
    "print('正在处理............')\n",
    "for i in csvx_list:\n",
    "    fr = open(i,'r').read()\n",
    "    with open(r'C:\\Users\\rk\\Desktop\\qw.csv','a') as f:#拼接文件存储在原文件夹\n",
    "        f.write(fr)\n",
    "    print('写入成功！')\n",
    "print('写入完毕！')\n",
    "print('10秒钟自动关闭程序！')\n",
    "time.sleep(10)\n",
    "#再使用  python pyinstaller.py -F 文件名  打包 就可以给同事使用了"
   ]
  },
  {
   "cell_type": "code",
   "execution_count": null,
   "metadata": {},
   "outputs": [],
   "source": []
  },
  {
   "cell_type": "code",
   "execution_count": null,
   "metadata": {},
   "outputs": [],
   "source": []
  },
  {
   "cell_type": "code",
   "execution_count": null,
   "metadata": {},
   "outputs": [],
   "source": []
  }
 ],
 "metadata": {
  "kernelspec": {
   "display_name": "Python 3",
   "language": "python",
   "name": "python3"
  },
  "language_info": {
   "codemirror_mode": {
    "name": "ipython",
    "version": 3
   },
   "file_extension": ".py",
   "mimetype": "text/x-python",
   "name": "python",
   "nbconvert_exporter": "python",
   "pygments_lexer": "ipython3",
   "version": "3.6.5"
  }
 },
 "nbformat": 4,
 "nbformat_minor": 2
}
