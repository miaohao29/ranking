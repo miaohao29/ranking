{
 "cells": [
  {
   "cell_type": "code",
   "execution_count": 1,
   "metadata": {},
   "outputs": [],
   "source": [
    "import time\n",
    "from selenium import webdriver\n",
    "from selenium.webdriver.common.keys import Keys\n",
    "import os\n",
    "import random"
   ]
  },
  {
   "cell_type": "code",
   "execution_count": 36,
   "metadata": {},
   "outputs": [],
   "source": [
    "'''运行此处代码后，选择页面中的筛选条件：文献类型，时间，引文索引等'''\n",
    "browser = webdriver.Chrome('C:/Users/rk/Desktop/chromedriver.exe')\n",
    "browser.get('http://apps.webofknowledge.com/WOS_AdvancedSearch_input.do?SID=5FmXRWPHp8PAf2d8uOL&product=WOS&search_mode=AdvancedSearch')"
   ]
  },
  {
   "cell_type": "code",
   "execution_count": null,
   "metadata": {},
   "outputs": [],
   "source": []
  },
  {
   "cell_type": "code",
   "execution_count": 3,
   "metadata": {},
   "outputs": [],
   "source": [
    "##################################################\n",
    "#此过程可以手动输入\n",
    "browser.find_element_by_id(\"value(input1)\").clear()#清空输入框\n",
    "browser.find_element_by_id(\"value(input1)\").send_keys(\"WC=(Sport Sciences or Hospitality, Leisure, Sport & Tourism)\")#输人检索式\n",
    "browser.find_element_by_xpath('//*[@id=\"search-button\"]').click()#点检检索\n",
    "browser.find_element_by_xpath('/html/body/div[13]/form/table/tbody/tr[3]/td[2]/div/a').click()#点击检索出来的论文数"
   ]
  },
  {
   "cell_type": "code",
   "execution_count": null,
   "metadata": {},
   "outputs": [],
   "source": []
  },
  {
   "cell_type": "code",
   "execution_count": 61,
   "metadata": {},
   "outputs": [],
   "source": [
    "def click_export():\n",
    "    '''点击导出'''\n",
    "    try:\n",
    "        textexport=browser.find_element_by_xpath('//*[@id=\"exportTypeName\"]')\n",
    "    except:\n",
    "        textexport=browser.find_element_by_xpath('//*[@id=\"page\"]/div[1]/div[26]/div[2]/div/div/div/div[2]/div[3]/div[3]//button')\n",
    "    if textexport.text=='导出为其他文件格式':\n",
    "        textexport.click()\n",
    "    else:\n",
    "        browser.find_element_by_xpath('//*[@id=\"exportTypeName\"]').click()#点击导出\n",
    "        browser.find_element_by_xpath('//*[@id=\"saveToMenu\"]/li[4]/a').click()#点击其他格式"
   ]
  },
  {
   "cell_type": "code",
   "execution_count": null,
   "metadata": {},
   "outputs": [],
   "source": []
  },
  {
   "cell_type": "code",
   "execution_count": 5,
   "metadata": {},
   "outputs": [],
   "source": [
    "def send_num(start,end):\n",
    "    '''输入导出范围'''\n",
    "    #选择记录范围按钮，点击checkbox\n",
    "    time.sleep(0.6)\n",
    "    browser.find_element_by_xpath('//*[@id=\"numberOfRecordsRange\"]').click()\n",
    "    time.sleep(0.5)\n",
    "    elem_input = browser.find_element_by_id('markFrom')\n",
    "    elem_input.clear()\n",
    "    elem_input.send_keys(start) #输入记录范围开始数字\n",
    "    elem_input = browser.find_element_by_id('markTo')\n",
    "    elem_input.clear()\n",
    "    elem_input.send_keys(end)#输入记录范围结束数字"
   ]
  },
  {
   "cell_type": "code",
   "execution_count": null,
   "metadata": {},
   "outputs": [],
   "source": [
    "//*[@id=\"markFrom\"]"
   ]
  },
  {
   "cell_type": "code",
   "execution_count": 23,
   "metadata": {},
   "outputs": [],
   "source": [
    "def save_file():\n",
    "    '''点击保存文件'''\n",
    "    browser.find_elements_by_xpath(\"//div[@class='quick-output-section']//b\")[1].click()#点击弹出窗口中的下拉菜单1\n",
    "    time.sleep(0.5)\n",
    "    browser.find_elements_by_xpath('//*[@id=\"bib_fields\"]/option')[-2].click() #选择“全记录”\n",
    "    time.sleep(0.6)\n",
    "    browser.find_elements_by_xpath(\"//div[@class='quick-output-section']//b\")[1].click()#折叠选项\n",
    "    browser.find_element_by_xpath('//*[@id=\"save_options_wrapper\"]/span/span[1]/span/span[2]').click()#点击弹出窗口中的下拉菜单2\n",
    "    time.sleep(0.4)\n",
    "    browser.find_elements_by_xpath('//*[@id=\"saveOptions\"]/option')[-2].click()#选择“制表符分隔（win，utf-8\n",
    "    browser.find_element_by_xpath('//*[@id=\"save_options_wrapper\"]/span/span[1]/span/span[2]').click()#折叠选项\n",
    "    time.sleep(0.5)\n",
    "    browser.find_element_by_xpath('//*[@id=\"exportButton\"]').click()#保存文件\n",
    "    time.sleep(0.3)   \n",
    "\n"
   ]
  },
  {
   "cell_type": "code",
   "execution_count": 8,
   "metadata": {},
   "outputs": [],
   "source": [
    "def rename_file(prepath,oldname,newname):\n",
    "    '''更改下载的文件名称'''\n",
    "    while True:\n",
    "        try:\n",
    "            os.rename(prepath+oldname,prepath+newname)\n",
    "            print('file renamed as',newname)\n",
    "        except :\n",
    "            time.sleep(1)\n",
    "            print(\"rename.....\")\n",
    "        else:\n",
    "            break\n",
    "\n"
   ]
  },
  {
   "cell_type": "code",
   "execution_count": 9,
   "metadata": {},
   "outputs": [],
   "source": [
    "def close_pop_ups():\n",
    "    '''关闭弹窗'''\n",
    "    while True:   #关闭弹出窗口\n",
    "        if 'opacity' in browser.find_element_by_xpath('//*[@id=\"page\"]/div[11]').get_attribute('style'):\n",
    "            time.sleep(0.5)\n",
    "        else:\n",
    "            break"
   ]
  },
  {
   "cell_type": "code",
   "execution_count": null,
   "metadata": {},
   "outputs": [],
   "source": []
  },
  {
   "cell_type": "code",
   "execution_count": 30,
   "metadata": {},
   "outputs": [
    {
     "data": {
      "text/plain": [
       "69253"
      ]
     },
     "execution_count": 30,
     "metadata": {},
     "output_type": "execute_result"
    }
   ],
   "source": [
    "num_PUB"
   ]
  },
  {
   "cell_type": "code",
   "execution_count": 10,
   "metadata": {},
   "outputs": [],
   "source": [
    "#初始化文件路径变量\n",
    "dlpath = 'C:/Users/rk/Downloads/'\n",
    "oriname = 'savedrecs.txt'"
   ]
  },
  {
   "cell_type": "code",
   "execution_count": 41,
   "metadata": {},
   "outputs": [
    {
     "name": "stdout",
     "output_type": "stream",
     "text": [
      "0 62752\n"
     ]
    }
   ],
   "source": [
    "num_PUB = int(browser.find_element_by_xpath(\"//span[@id='hitCount.top']\").text.replace(',',''))#论文总数数字\n",
    "i = 0\n",
    "print(i,num_PUB)"
   ]
  },
  {
   "cell_type": "code",
   "execution_count": 67,
   "metadata": {
    "scrolled": true
   },
   "outputs": [
    {
     "name": "stdout",
     "output_type": "stream",
     "text": [
      "csv file saved: from 59501 to 60000\n",
      "rename.....\n",
      "rename.....\n",
      "rename.....\n",
      "file renamed as 120.txt\n",
      "csv file saved: from 60001 to 60500\n",
      "rename.....\n",
      "rename.....\n",
      "rename.....\n",
      "rename.....\n",
      "rename.....\n",
      "rename.....\n",
      "rename.....\n",
      "rename.....\n",
      "rename.....\n",
      "rename.....\n",
      "rename.....\n",
      "rename.....\n",
      "file renamed as 121.txt\n",
      "csv file saved: from 60501 to 61000\n",
      "rename.....\n",
      "rename.....\n",
      "rename.....\n",
      "file renamed as 122.txt\n",
      "csv file saved: from 61001 to 61500\n",
      "rename.....\n",
      "rename.....\n",
      "file renamed as 123.txt\n",
      "csv file saved: from 61501 to 62000\n",
      "rename.....\n",
      "rename.....\n",
      "file renamed as 124.txt\n",
      "csv file saved: from 62001 to 62500\n",
      "rename.....\n",
      "rename.....\n",
      "file renamed as 125.txt\n",
      "csv file saved: from 62501 to 62752\n",
      "rename.....\n",
      "rename.....\n",
      "file renamed as 126.txt\n",
      "all files are saved\n"
     ]
    }
   ],
   "source": [
    "while True:\n",
    "    #初始化开始号以及结束号，保存文件名\n",
    "    num_start = i*500+1\n",
    "    num_end = min((i+1)*500,num_PUB)\n",
    "\n",
    "    if num_start > num_PUB:#如果开始号超出总篇数，即完成了下载，结束循环\n",
    "        print(\"all files are saved\")\n",
    "        break\n",
    "    time.sleep(random.random()*3+3)    \n",
    "    click_export()#点击导出\n",
    "    send_num(num_start,num_end)#输入导出范围\n",
    "    save_file()#保存文件\n",
    "    print('csv file saved: from %d to %d' %(num_start,num_end))\n",
    "            \n",
    "    newname =str(i+1)+'.txt'\n",
    "    rename_file(dlpath,oriname,newname)#更改下载的文件名称\n",
    "    time.sleep(2)#程序必须暂停一会，否第13行代码会出错,具体原因不明\n",
    "    i = i + 1\n",
    "    \n",
    "    close_pop_ups()#关闭弹窗\n",
    "    time.sleep(2)"
   ]
  },
  {
   "cell_type": "code",
   "execution_count": 66,
   "metadata": {},
   "outputs": [
    {
     "data": {
      "text/plain": [
       "119"
      ]
     },
     "execution_count": 66,
     "metadata": {},
     "output_type": "execute_result"
    }
   ],
   "source": [
    "i"
   ]
  },
  {
   "cell_type": "code",
   "execution_count": null,
   "metadata": {},
   "outputs": [],
   "source": []
  },
  {
   "cell_type": "code",
   "execution_count": null,
   "metadata": {},
   "outputs": [],
   "source": []
  },
  {
   "cell_type": "code",
   "execution_count": null,
   "metadata": {},
   "outputs": [],
   "source": []
  },
  {
   "cell_type": "code",
   "execution_count": null,
   "metadata": {},
   "outputs": [],
   "source": []
  }
 ],
 "metadata": {
  "kernelspec": {
   "display_name": "Python 3",
   "language": "python",
   "name": "python3"
  },
  "language_info": {
   "codemirror_mode": {
    "name": "ipython",
    "version": 3
   },
   "file_extension": ".py",
   "mimetype": "text/x-python",
   "name": "python",
   "nbconvert_exporter": "python",
   "pygments_lexer": "ipython3",
   "version": "3.6.5"
  }
 },
 "nbformat": 4,
 "nbformat_minor": 2
}
