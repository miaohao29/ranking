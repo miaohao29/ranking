{
 "cells": [
  {
   "cell_type": "code",
   "execution_count": 23,
   "metadata": {},
   "outputs": [],
   "source": [
    "from selenium import webdriver\n",
    "from selenium.webdriver.common.keys import Keys\n",
    "import csv\n",
    "import time\n",
    "import random"
   ]
  },
  {
   "cell_type": "code",
   "execution_count": 55,
   "metadata": {},
   "outputs": [],
   "source": [
    "#读入csv中的数据，（导入检索式）\n",
    "file_path = r'C:\\Users\\rk\\Desktop\\sport2020.csv'\n",
    "with open(file_path) as f:\n",
    "    csv_reader=csv.reader(f)\n",
    "    a=list(csv_reader)\n",
    "del a[0]#删除表头\n",
    "c='AND DT=(Article OR Review)'\n",
    "for lst in a:\n",
    "    lst[3]=lst[3]+' '+c"
   ]
  },
  {
   "cell_type": "code",
   "execution_count": 56,
   "metadata": {},
   "outputs": [
    {
     "data": {
      "text/plain": [
       "[['L030-',\n",
       "  'Sport0001',\n",
       "  'Deakin University',\n",
       "  'AD=(Deakin Univ same (exercise or Phys Act) same Australia) AND DT=(Article OR Review)'],\n",
       " ['L064-',\n",
       "  'Sport0002',\n",
       "  'Loughborough University',\n",
       "  'AD=((Loughborough Univ or Univ Loughborough) same sport* same England) AND DT=(Article OR Review)']]"
      ]
     },
     "execution_count": 56,
     "metadata": {},
     "output_type": "execute_result"
    }
   ],
   "source": [
    "a[:2]"
   ]
  },
  {
   "cell_type": "code",
   "execution_count": 47,
   "metadata": {},
   "outputs": [
    {
     "data": {
      "text/plain": [
       "'AD=((Loughborough Univ or Univ Loughborough) same sport* same England) AND DT=(Article OR Review)'"
      ]
     },
     "execution_count": 47,
     "metadata": {},
     "output_type": "execute_result"
    }
   ],
   "source": [
    "a[1][3]"
   ]
  },
  {
   "cell_type": "code",
   "execution_count": null,
   "metadata": {},
   "outputs": [],
   "source": []
  },
  {
   "cell_type": "code",
   "execution_count": 27,
   "metadata": {},
   "outputs": [],
   "source": [
    "def delete(history_record):\n",
    "    '''删除记录，满足history_record条即删掉除第一条之外的记录'''\n",
    "    history_num = int(browser.find_element_by_class_name('historySetNum').text[2:])\n",
    "    if history_num==history_record or history_num == history_record+1:#删除记录条数\n",
    "        browser.find_element_by_xpath('/html/body/div[13]/form/table/tbody/tr[1]/th[6]/div[2]/button[1]').click()#全选\n",
    "        time.sleep(0.3)\n",
    "        browser.find_element_by_xpath(\"//input[@type='checkbox'and @name='dSet']\").click()#取消第一个\n",
    "        time.sleep(0.4)\n",
    "        browser.find_element_by_xpath('/html/body/div[13]/form/table/tbody/tr[1]/th[6]/div[2]/button[2]/i').click()#删除\n",
    "        time.sleep(0.5)"
   ]
  },
  {
   "cell_type": "code",
   "execution_count": null,
   "metadata": {},
   "outputs": [],
   "source": []
  },
  {
   "cell_type": "code",
   "execution_count": 28,
   "metadata": {},
   "outputs": [],
   "source": [
    "def search(item): \n",
    "    '''向搜索框里输入检索式'''\n",
    "    browser.find_element_by_id('value(input1)').clear()#清除文本框里的内容\n",
    "    browser.find_element_by_id('value(input1)').send_keys(item)#往文本框里输入搜索文本（输入检索式）\n",
    "    time.sleep(0.5)\n",
    "    try:\n",
    "        browser.find_element_by_id('searchButton').click()#点击搜素按钮\n",
    "    except:\n",
    "        browser.find_element_by_id('search-button').click()#点击搜素按钮"
   ]
  },
  {
   "cell_type": "code",
   "execution_count": null,
   "metadata": {},
   "outputs": [],
   "source": []
  },
  {
   "cell_type": "code",
   "execution_count": 29,
   "metadata": {},
   "outputs": [],
   "source": [
    "def write_record(item):\n",
    "    '''保存每次检索结果，防止程序崩溃，浏览器崩溃，服务器奔溃'''\n",
    "    with open(r'C:\\Users\\rk\\Desktop\\Sport20200706-3.txt','a+') as file:\n",
    "            string='、'.join(item)\n",
    "            file.write(string+\"\\n\")\n",
    "            #print(item)"
   ]
  },
  {
   "cell_type": "code",
   "execution_count": 30,
   "metadata": {},
   "outputs": [],
   "source": [
    "def click_all(inputs):\n",
    "    '''点击所有复选框'''\n",
    "    for i in inputs:\n",
    "            if i.get_attribute('type')== 'checkbox':#点击所有复选框\n",
    "                i.click()"
   ]
  },
  {
   "cell_type": "code",
   "execution_count": 31,
   "metadata": {},
   "outputs": [],
   "source": [
    "def UKS(input1,input2):\n",
    "    '''判断是否属于英国地区'''\n",
    "    UK=('WALES','ENGLAND','SCOTLAND','NORTH IRELAND')#英国的四个地区\n",
    "    flag=0\n",
    "    get_txt=input2[0].text\n",
    "    country=get_txt[:get_txt.find('(')]\n",
    "    reg=country.strip()\n",
    "    print(reg)\n",
    "    for region in UK:#判断地区是否属于英国\n",
    "        if region == reg:\n",
    "            flag=1\n",
    "            break   \n",
    "    if flag==1:\n",
    "        for i in range(0,len(input1)):\n",
    "            get_txt=input2[i].text\n",
    "            country=get_txt[:get_txt.find('(')]\n",
    "            reg=country.strip() \n",
    "            for j in range(0,len(UK)):\n",
    "                if reg==UK[j]:\n",
    "                    input1[i].click()#如果属于则再次点击复选框，以取消选项\n",
    "    else:input1[0].click()#再次点击第一个复选框"
   ]
  },
  {
   "cell_type": "code",
   "execution_count": null,
   "metadata": {},
   "outputs": [],
   "source": []
  },
  {
   "cell_type": "code",
   "execution_count": null,
   "metadata": {},
   "outputs": [],
   "source": []
  },
  {
   "cell_type": "code",
   "execution_count": 11,
   "metadata": {},
   "outputs": [],
   "source": [
    "def restartBrowser():\n",
    "    '''重启浏览器:但是，此函数会被服务器识别为爬虫，积极拒绝访问'''\n",
    "    browser = webdriver.Chrome('C:/Users/rk/Desktop/chromedriver.exe') #锁定浏览器\n",
    "    browser.get(\"http://apps.webofknowledge.com/WOS_AdvancedSearch_input.do?SID=8EJqZrebXFQVSmd9PsP&product=WOS&search_mode=AdvancedSearch\")\n",
    "    time.sleep(random.random()*2+2)\n",
    "    browser.find_element_by_xpath('//*[@id=\"select2-databases-container\"]').click()#点击数据库\n",
    "    time.sleep(random.random()*2+2)\n",
    "    browser.find_element_by_xpath('//*[@id=\"select2-databases-result-4rmn-/WOS_GeneralSearch_input.do?product=WOS&SID=8FKyF1e8yqxgvfL4ejn&search_mode=GeneralSearch\"]').click()\n",
    "    #选择数据库\n",
    "    time.sleep(random.random()*2+2)\n",
    "    browser.find_element_by_xpath('/html/body/div[9]/div/ul/li[4]/a').click()#点击高级检索\n",
    "    time.sleep(random.random()*2+2)\n",
    "    browser.find_element_by_xpath('//*[@id=\"timespan\"]/div[2]/div/select/option[7]').click()#自定义年份\n",
    "    time.sleep(random.random()*2+2)\n",
    "    browser.find_element_by_xpath('//*[@id=\"timespan\"]/div[3]/div/select[1]/option[30]').click()#2014年\n",
    "    time.sleep(random.random()*2+2)\n",
    "    browser.find_element_by_xpath('//*[@id=\"timespan\"]/div[3]/div/select[2]/option[2]').click()#2018年\n",
    "    time.sleep(random.random()*2+2)\n",
    "    browser.find_element_by_xpath('//*[@id=\"WOS_AdvancedSearch_input_form\"]/div[2]/div[2]/span').click()#更多设置\n",
    "    time.sleep(random.random()*2+2)\n",
    "    options=browser.find_elements_by_xpath('//*[@id=\"WOS_AdvancedSearch_input_form\"]/div[2]/div[2]/div/div/div[1]/div//input')\n",
    "    for option in options[2:]:\n",
    "        time.sleep(random.random()*2+1)\n",
    "        option.click()"
   ]
  },
  {
   "cell_type": "code",
   "execution_count": null,
   "metadata": {},
   "outputs": [],
   "source": []
  },
  {
   "cell_type": "code",
   "execution_count": 57,
   "metadata": {},
   "outputs": [],
   "source": [
    "count=187"
   ]
  },
  {
   "cell_type": "code",
   "execution_count": null,
   "metadata": {},
   "outputs": [],
   "source": []
  },
  {
   "cell_type": "code",
   "execution_count": 60,
   "metadata": {},
   "outputs": [],
   "source": [
    "########################服务器崩溃后，从此处运行##########################################\n",
    "browser = webdriver.Chrome('C:/Users/rk/Desktop/chromedriver.exe') #锁定浏览器\n",
    "######################此处与下面重复，但程序刚开始运行时，及服务器崩溃后需要重新运行###################\n",
    "browser.get(\"http://apps.webofknowledge.com/WOS_AdvancedSearch_input.do?SID=8EJqZrebXFQVSmd9PsP&product=WOS&search_mode=AdvancedSearch\")"
   ]
  },
  {
   "cell_type": "code",
   "execution_count": 48,
   "metadata": {},
   "outputs": [],
   "source": [
    "#此处是程序运行(服务器拒绝访问，浏览器崩溃）等问题，无法进行，只能清除所有，重新启动后将count设置为之前的，接着运行，因为已经保存TXT，所以放心\n",
    "count=0\n",
    "#再三强调，不能随意执行这一步，除非程序重启"
   ]
  },
  {
   "cell_type": "code",
   "execution_count": 40,
   "metadata": {},
   "outputs": [
    {
     "data": {
      "text/plain": [
       "['L030-',\n",
       " 'Sport0001',\n",
       " 'Deakin University',\n",
       " 'AD=(Deakin Univ same (exercise or Phys Act) same Australia) AND DT=(Article OR Review)']"
      ]
     },
     "execution_count": 40,
     "metadata": {},
     "output_type": "execute_result"
    }
   ],
   "source": [
    "a[0]"
   ]
  },
  {
   "cell_type": "code",
   "execution_count": 41,
   "metadata": {},
   "outputs": [
    {
     "data": {
      "text/plain": [
       "'文献类型容易跳到只有ARTICLE,所以需要检查是否准确'"
      ]
     },
     "execution_count": 41,
     "metadata": {},
     "output_type": "execute_result"
    }
   ],
   "source": [
    "'''文献类型容易跳到只有ARTICLE,所以需要检查是否准确'''"
   ]
  },
  {
   "cell_type": "code",
   "execution_count": 61,
   "metadata": {
    "scrolled": true
   },
   "outputs": [
    {
     "name": "stdout",
     "output_type": "stream",
     "text": [
      "327\n",
      "328 - Mon Sep  7 08:50:14 2020 - L121-\n",
      "329 - Mon Sep  7 08:50:31 2020 - L407-\n",
      "330 - Mon Sep  7 08:50:49 2020 - L210-\n",
      "331 - Mon Sep  7 08:51:03 2020 - L296-\n",
      "332 - Mon Sep  7 08:51:19 2020 - L048-\n",
      "333 - Mon Sep  7 08:51:34 2020 - L322-\n",
      "334 - Mon Sep  7 08:51:49 2020 - L041-\n",
      "335 - Mon Sep  7 08:52:03 2020 - L263-\n",
      "336 - Mon Sep  7 08:52:20 2020 - L396-\n",
      "337 - Mon Sep  7 08:52:33 2020 - L028-\n",
      "338 - Mon Sep  7 08:52:49 2020 - L277-\n",
      "339 - Mon Sep  7 08:53:05 2020 - L274-\n",
      "340 - Mon Sep  7 08:53:22 2020 - L177-\n",
      "341 - Mon Sep  7 08:53:38 2020 - L397-\n",
      "342 - Mon Sep  7 08:53:54 2020 - L371-\n",
      "343 - Mon Sep  7 08:54:08 2020 - L020-\n",
      "344 - Mon Sep  7 08:54:22 2020 - L417-\n",
      "345 - Mon Sep  7 08:54:39 2020 - L172-\n",
      "346 - Mon Sep  7 08:54:56 2020 - L229-\n",
      "347 - Mon Sep  7 08:55:15 2020 - L419-\n",
      "348 - Mon Sep  7 08:55:33 2020 - L333-\n",
      "349 - Mon Sep  7 08:55:51 2020 - L408-\n",
      "350 - Mon Sep  7 08:56:08 2020 - L009-\n",
      "351 - Mon Sep  7 08:56:22 2020 - L383-\n",
      "352 - Mon Sep  7 08:56:46 2020 - L331-\n",
      "353 - Mon Sep  7 08:57:02 2020 - L368-\n",
      "354 - Mon Sep  7 08:57:22 2020 - L372-\n",
      "355 - Mon Sep  7 08:57:40 2020 - L409-\n",
      "356 - Mon Sep  7 08:57:58 2020 - L426-\n",
      "357 - Mon Sep  7 08:58:15 2020 - L283-\n",
      "358 - Mon Sep  7 08:58:31 2020 - L194-\n",
      "359 - Mon Sep  7 08:58:47 2020 - L099-\n",
      "360 - Mon Sep  7 08:59:04 2020 - L278-\n",
      "361 - Mon Sep  7 08:59:34 2020 - L350-\n",
      "362 - Mon Sep  7 08:59:56 2020 - L211-\n",
      "363 - Mon Sep  7 09:00:16 2020 - L414-\n",
      "364 - Mon Sep  7 09:00:31 2020 - L406-\n",
      "365 - Mon Sep  7 09:00:47 2020 - L284-\n",
      "366 - Mon Sep  7 09:01:05 2020 - L382-\n",
      "367 - Mon Sep  7 09:01:21 2020 - L288-\n",
      "368 - Mon Sep  7 09:01:37 2020 - L203-\n",
      "369 - Mon Sep  7 09:01:55 2020 - L384-\n",
      "370 - Mon Sep  7 09:02:13 2020 - L428-\n",
      "371 - Mon Sep  7 09:02:31 2020 - L429-\n",
      "372 - Mon Sep  7 09:02:46 2020 - L001-\n",
      "373 - Mon Sep  7 09:03:01 2020 - L003-\n",
      "374 - Mon Sep  7 09:03:20 2020 - L012-\n",
      "375 - Mon Sep  7 09:03:37 2020 - L013-\n",
      "376 - Mon Sep  7 09:03:53 2020 - L018-\n",
      "377 - Mon Sep  7 09:04:09 2020 - L022-\n",
      "378 - Mon Sep  7 09:04:28 2020 - L032-\n",
      "379 - Mon Sep  7 09:04:42 2020 - L037-\n",
      "380 - Mon Sep  7 09:04:59 2020 - L054-\n",
      "381 - Mon Sep  7 09:05:34 2020 - L057-\n",
      "382 - Mon Sep  7 09:05:52 2020 - L058-\n",
      "383 - Mon Sep  7 09:06:10 2020 - L059-\n",
      "384 - Mon Sep  7 09:06:25 2020 - L078-\n",
      "385 - Mon Sep  7 09:06:48 2020 - L084-\n",
      "386 - Mon Sep  7 09:07:07 2020 - L086-\n",
      "387 - Mon Sep  7 09:07:25 2020 - L107-\n",
      "388 - Mon Sep  7 09:07:46 2020 - L108-\n",
      "389 - Mon Sep  7 09:08:04 2020 - L148-\n",
      "390 - Mon Sep  7 09:08:21 2020 - L175-\n",
      "391 - Mon Sep  7 09:08:38 2020 - L187-\n",
      "392 - Mon Sep  7 09:09:01 2020 - L206-\n",
      "393 - Mon Sep  7 09:09:21 2020 - L232-\n",
      "394 - Mon Sep  7 09:09:39 2020 - L236-\n",
      "395 - Mon Sep  7 09:09:56 2020 - L252-\n",
      "396 - Mon Sep  7 09:10:18 2020 - L275-\n",
      "397 - Mon Sep  7 09:10:37 2020 - L279-\n",
      "398 - Mon Sep  7 09:10:55 2020 - L280-\n",
      "399 - Mon Sep  7 09:11:13 2020 - L290-\n",
      "400 - Mon Sep  7 09:11:33 2020 - L292-\n",
      "401 - Mon Sep  7 09:11:50 2020 - L294-\n",
      "402 - Mon Sep  7 09:13:16 2020 - L297-\n",
      "403 - Mon Sep  7 09:13:36 2020 - L300-\n",
      "404 - Mon Sep  7 09:13:57 2020 - L301-\n",
      "405 - Mon Sep  7 09:14:14 2020 - L302-\n",
      "406 - Mon Sep  7 09:14:29 2020 - L304-\n",
      "407 - Mon Sep  7 09:14:45 2020 - L306-\n",
      "408 - Mon Sep  7 09:15:03 2020 - L311-\n",
      "409 - Mon Sep  7 09:15:17 2020 - L319-\n",
      "410 - Mon Sep  7 09:15:38 2020 - L324-\n",
      "411 - Mon Sep  7 09:16:02 2020 - L325-\n",
      "412 - Mon Sep  7 09:16:21 2020 - L327-\n",
      "413 - Mon Sep  7 09:16:39 2020 - L328-\n",
      "414 - Mon Sep  7 09:17:04 2020 - L329-\n",
      "415 - Mon Sep  7 09:17:29 2020 - L330-\n",
      "416 - Mon Sep  7 09:18:01 2020 - L334-\n",
      "417 - Mon Sep  7 09:18:42 2020 - L335-\n",
      "418 - Mon Sep  7 09:19:23 2020 - L336-\n",
      "419 - Mon Sep  7 09:19:55 2020 - L337-\n",
      "420 - Mon Sep  7 09:20:28 2020 - L339-\n",
      "421 - Mon Sep  7 09:21:01 2020 - L342-\n",
      "422 - Mon Sep  7 09:21:33 2020 - L343-\n",
      "423 - Mon Sep  7 09:22:12 2020 - L344-\n",
      "424 - Mon Sep  7 09:22:45 2020 - L353-\n",
      "425 - Mon Sep  7 09:23:20 2020 - L357-\n",
      "426 - Mon Sep  7 09:23:53 2020 - L361-\n",
      "427 - Mon Sep  7 09:24:26 2020 - L364-\n",
      "428 - Mon Sep  7 09:24:58 2020 - L365-\n",
      "429 - Mon Sep  7 09:25:31 2020 - L367-\n"
     ]
    }
   ],
   "source": [
    "##########################程序中断后，从此处运行#####################################\n",
    "#程序运行中，请勿点击页面，尤其是点击点击国际合作的时候，会导致程序异常终止\n",
    "print(count)\n",
    "for item in a[count:]:\n",
    "    try:\n",
    "        browser.find_element_by_xpath('//*[@id=\"skip-to-navigation\"]/ul[1]/li/a').click()#点击检索\n",
    "    except:\n",
    "        pass\n",
    "    try:\n",
    "        delete(20)\n",
    "    except:\n",
    "        pass\n",
    "    \n",
    "    search(item[-1])#往文本框里输入搜索文本（输入检索式）\n",
    "    \n",
    "    d=browser.find_element_by_xpath('//*[@id=\"client_error_input_message\"]').text#定位异常信息\n",
    "    \n",
    "    if len(d)==0:#判断检索式是否异常（如果正常运行，则不会弹出异常，那么异常信息len为零）\n",
    "        v=browser.find_element_by_class_name('historyResults').text\n",
    "             #如果没有异常，则定位第一个数据，因为每搜索一次，数据系列就增加一次，无法用ID定位，只能广泛定位，自动匹配第一个数据\n",
    "        item.append(v)#将找到的数据拼接到原数据的后面\n",
    "        articke_type=browser.find_element_by_xpath('/html/body/div[13]/form/table/tbody/tr[3]/td[3]/div[1]/span').text.replace(\"\\n\",\"\")\n",
    "        item.append(articke_type)\n",
    "    else: \n",
    "        item.append('NA')#搜索异常的时候讲自定义的异常标识拼接到原数据后(相当于论文数)\n",
    "        item.append('NA')#相当于检索式文献类型\n",
    "        item.append('NA')#相当于被引次数\n",
    "        #item.append('NA')#相当于国际论文数\n",
    "        write_record()\n",
    "        count+=1\n",
    "        print(count)\n",
    "        continue\n",
    "        \n",
    "    #查询国际论文合作数会导致历史记录以公差为2递增，故前后设置了两次删除   \n",
    "    delete(20)\n",
    "        \n",
    "    #获取除自引的被引频数\n",
    "    browser.find_element_by_class_name('historyResults').click()  \n",
    "    time.sleep(random.random()+1)\n",
    "    browser.find_element_by_xpath('//*[@id=\"view_citation_report_image_placeholder\"]/div/div').click()  \n",
    "    time.sleep(random.random()+1)\n",
    "    v1=browser.find_element_by_xpath('//*[@id=\"H_INDEX\"]').text\n",
    "    item.append(v1)\n",
    "    \n",
    "    write_record(item)\n",
    "    count+=1\n",
    "    print(count,'-',time.ctime(),'-',item[0])\n",
    "#     browser.back()#返回上一个页面\n",
    "#     time.sleep(random.random()+1)\n",
    "#     browser.find_element_by_xpath('//*[@id=\"refine_form\"]/div[4]/a').click()#点击查看全部选项\n",
    "#     time.sleep(random.random()+1)\n",
    "#     d=browser.find_element_by_xpath('//*[@id=\"CountryTerritory_tr\"]').text\n",
    "#     if len(d)==0:\n",
    "#         browser.find_element_by_xpath('//*[@id=\"CountryTerritory\"]/h4').click()#如果国家地区没有展开，则点击国家地区\n",
    "#         time.sleep(random.random()+1)\n",
    "#     time.sleep(4)\n",
    "#     try:\n",
    "#         browser.find_element_by_xpath('//*[@id=\"CountryTerritory_tr\"]/div[2]/a').click()#点击更多选项分类\n",
    "#         time.sleep(random.random()+1)\n",
    "#         inputs=browser.find_elements_by_xpath('//*[@id=\"CountryTerritory_raMore_tr\"]/td/table/tbody//input')#查找所有复选项\n",
    "#         time.sleep(random.random()+1)\n",
    "        \n",
    "#         click_all(inputs) #点击所有复选框\n",
    "       \n",
    "#         inputs1=browser.find_elements_by_class_name('refineItem')\n",
    "        \n",
    "#         UKS(inputs,inputs1)\n",
    "        \n",
    "#         browser.find_element_by_xpath('//*[@id=\"raMore\"]/table/tbody/tr[6]/td/table/tbody/tr/td[1]/div/button').click()#点击精炼\n",
    "#         time.sleep(random.random()+2)\n",
    "#         IC_number=browser.find_element_by_xpath('//*[@id=\"hitCount.top\"]').text#提取国际合作论文数\n",
    "#         item.append(IC_number)\n",
    "#         #保存每条记录，浏览器，程序及服务器会崩溃，以防重新执行浪费时间\n",
    "#         write_record()\n",
    "#         count+=1\n",
    "#         print(count,'-',time.ctime(),'-',item[0])\n",
    "#         #time.sleep(0.5)\n",
    "# #         if count%40==0:#WOS有自己的判断机制，大约60条（约一小时）就会中断连接，所以此处没用\n",
    "# #             time.sleep(random.random()*2+5)\n",
    "# #             browser.quit()\n",
    "# #             print('it is time to sleep....')\n",
    "# #             time.sleep(random.random()*20+1800)#每40所学校，程序终止半小时，重启浏览器\n",
    "# #             restartBrowser()\n",
    "#     except:\n",
    "#         '''个别学校合作非常少，没有更多选项分类'''\n",
    "#         inputs2=browser.find_elements_by_xpath('//*[@id=\"CountryTerritory\"]/div/div/div/div/input')#查找所有复选项\n",
    "#         if len(inputs2)==1:\n",
    "#             item.append(\"zero\")\n",
    "#             write_record()\n",
    "#             count+=1\n",
    "#             print(count)\n",
    "#             continue\n",
    "#         else:\n",
    "#             click_all(inputs2)\n",
    "#         inputs3=browser.find_elements_by_xpath('//*[@id=\"CountryTerritory_raMore_tr\"]/td/table/tbody//label')\n",
    "        \n",
    "#         UKS(inputs2,inputs3)\n",
    "        \n",
    "#         browser.find_element_by_xpath('//*[@id=\"CountryTerritory\"]/div/div/button[1]').click()#点击精炼\n",
    "#         time.sleep(random.random()+2)\n",
    "#         IC_number=browser.find_element_by_xpath('//*[@id=\"hitCount.top\"]').text#提取国际合作论文数\n",
    "#         item.append(IC_number) \n",
    "#         write_record()\n",
    "#         count+=1\n",
    "#         print(count,'-',time.ctime(),'-',item[0])\n",
    "#         #time.sleep(0.5)\n",
    "# #         if count%40==0:\n",
    "# #             time.sleep(random.random()*2+5)\n",
    "# #             browser.quit()                                                                                                                                                                                                                                                                                                                                                                                                                               \n",
    "# #             print('it is time to sleep....')\n",
    "# #             time.sleep(random.random()*20+1800)#每40所学校，程序终止半小时，重启浏览器\n",
    "# #             restartBrowser()\n",
    "    "
   ]
  },
  {
   "cell_type": "code",
   "execution_count": 59,
   "metadata": {},
   "outputs": [
    {
     "data": {
      "text/plain": [
       "327"
      ]
     },
     "execution_count": 59,
     "metadata": {},
     "output_type": "execute_result"
    }
   ],
   "source": [
    "# count=30\n",
    "count"
   ]
  },
  {
   "cell_type": "code",
   "execution_count": 38,
   "metadata": {},
   "outputs": [
    {
     "data": {
      "text/plain": [
       "'48'"
      ]
     },
     "execution_count": 38,
     "metadata": {},
     "output_type": "execute_result"
    }
   ],
   "source": [
    "browser.find_element_by_xpath('//*[@id=\"H_INDEX\"]').text"
   ]
  },
  {
   "cell_type": "code",
   "execution_count": null,
   "metadata": {},
   "outputs": [],
   "source": []
  },
  {
   "cell_type": "code",
   "execution_count": null,
   "metadata": {},
   "outputs": [],
   "source": []
  },
  {
   "cell_type": "code",
   "execution_count": null,
   "metadata": {},
   "outputs": [],
   "source": []
  },
  {
   "cell_type": "code",
   "execution_count": null,
   "metadata": {},
   "outputs": [],
   "source": [
    "####################################\n",
    "\n",
    "my_sender='hao.miao@shanghairanking.com'    # 发件人邮箱账号\n",
    "my_pass = 'Miao286814303'              # 发件人邮箱密码\n",
    "my_user='miaohao32@qq.com'      # 收件人邮箱账号，我这边发送给自己\n",
    "def mail():\n",
    "    ret=True\n",
    "    try:\n",
    "        msg=MIMEText('填写邮件内容','html','utf-8')\n",
    "        msg['From']=formataddr([\"FromRunoob\",my_sender]) \n",
    "        print(1)\n",
    "        \n",
    "        # 括号里的对应发件人邮箱昵称、发件人邮箱账号\n",
    "        msg['To']=formataddr([\"FK\",my_user])              # 括号里的对应收件人邮箱昵称、收件人邮箱账号\n",
    "        msg['Subject']=\"菜鸟教程发送邮件测试\"                # 邮件的主题，也可以说是标题\n",
    " \n",
    "        server=smtplib.SMTP_SSL(\"smtp.qq.com\", 25)  # 发件人邮箱中的SMTP服务器，端口是25\n",
    "        server.login(my_sender, my_pass)  # 括号中对应的是发件人邮箱账号、邮箱密码\n",
    "        server.sendmail(my_sender,[my_user,],msg.as_string())  # 括号中对应的是发件人邮箱账号、收件人邮箱账号、发送邮件\n",
    "        server.quit()  # 关闭连接\n",
    "    except Exception:  # 如果 try 中的语句没有执行，则会执行下面的 ret=False\n",
    "        ret=False\n",
    "    return ret\n",
    " \n",
    "ret=mail()\n",
    "if ret:\n",
    "    print(\"邮件发送成功\")\n",
    "else:\n",
    "    print(\"邮件发送失败\")"
   ]
  },
  {
   "cell_type": "code",
   "execution_count": null,
   "metadata": {},
   "outputs": [],
   "source": []
  },
  {
   "cell_type": "code",
   "execution_count": null,
   "metadata": {},
   "outputs": [],
   "source": []
  },
  {
   "cell_type": "code",
   "execution_count": null,
   "metadata": {},
   "outputs": [],
   "source": []
  },
  {
   "cell_type": "code",
   "execution_count": null,
   "metadata": {},
   "outputs": [],
   "source": []
  }
 ],
 "metadata": {
  "kernelspec": {
   "display_name": "Python 3",
   "language": "python",
   "name": "python3"
  },
  "language_info": {
   "codemirror_mode": {
    "name": "ipython",
    "version": 3
   },
   "file_extension": ".py",
   "mimetype": "text/x-python",
   "name": "python",
   "nbconvert_exporter": "python",
   "pygments_lexer": "ipython3",
   "version": "3.6.5"
  }
 },
 "nbformat": 4,
 "nbformat_minor": 2
}
