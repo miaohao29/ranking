{
 "cells": [
  {
   "cell_type": "code",
   "execution_count": 1,
   "metadata": {},
   "outputs": [],
   "source": [
    "import os\n",
    "import numpy as np\n",
    "import pandas as pd"
   ]
  },
  {
   "cell_type": "code",
   "execution_count": 2,
   "metadata": {},
   "outputs": [],
   "source": [
    "Folder_Path=r\"C:\\Users\\rk\\Downloads\\1234\"        \n",
    "os.chdir(Folder_Path)\n",
    "file_list = os.listdir() #将该文件夹下的所有文件名存入一个列表"
   ]
  },
  {
   "cell_type": "code",
   "execution_count": 3,
   "metadata": {},
   "outputs": [
    {
     "data": {
      "text/plain": [
       "['11 (1).txt', '11 (10).txt', '11 (100).txt', '11 (101).txt', '11 (11).txt']"
      ]
     },
     "execution_count": 3,
     "metadata": {},
     "output_type": "execute_result"
    }
   ],
   "source": [
    "file_list[:5]"
   ]
  },
  {
   "cell_type": "code",
   "execution_count": null,
   "metadata": {},
   "outputs": [],
   "source": []
  },
  {
   "cell_type": "code",
   "execution_count": 4,
   "metadata": {},
   "outputs": [],
   "source": [
    "null_list=[]\n",
    "for file in file_list:\n",
    "    file_path=r'C:\\Users\\rk\\Downloads\\1234'+'\\\\'+file\n",
    "    null_list2=[]\n",
    "    with open(file_path,encoding='utf-8') as f:\n",
    "        for line in f:\n",
    "            null_list2.append(line) \n",
    "    \n",
    "    for line in null_list2[1:]:\n",
    "        line=line.split('\\t')\n",
    "        null_list.append(line)"
   ]
  },
  {
   "cell_type": "code",
   "execution_count": 8,
   "metadata": {},
   "outputs": [
    {
     "data": {
      "text/plain": [
       "113225"
      ]
     },
     "execution_count": 8,
     "metadata": {},
     "output_type": "execute_result"
    }
   ],
   "source": [
    "len(null_list)#结果是准确的11705"
   ]
  },
  {
   "cell_type": "code",
   "execution_count": 10,
   "metadata": {},
   "outputs": [],
   "source": [
    "'''此代码块非必需'''\n",
    "with open(r'C:\\Users\\rk\\Desktop\\r1.txt','a+',encoding='utf-8') as file:\n",
    "    for item in null_list:\n",
    "        string='、'.join(item)\n",
    "        file.write(string)\n",
    "            #print(item)"
   ]
  },
  {
   "cell_type": "code",
   "execution_count": null,
   "metadata": {},
   "outputs": [],
   "source": []
  },
  {
   "cell_type": "code",
   "execution_count": null,
   "metadata": {},
   "outputs": [],
   "source": []
  },
  {
   "cell_type": "code",
   "execution_count": 32,
   "metadata": {},
   "outputs": [],
   "source": [
    "null_list3=[]#存放C1列的地址\n",
    "for item in null_list:\n",
    "    null_list3.append(item[22])"
   ]
  },
  {
   "cell_type": "code",
   "execution_count": 33,
   "metadata": {},
   "outputs": [
    {
     "data": {
      "text/plain": [
       "59602"
      ]
     },
     "execution_count": 33,
     "metadata": {},
     "output_type": "execute_result"
    }
   ],
   "source": [
    "len(null_list3)#地址信息数量和发文数一致，说明以上程序没问题"
   ]
  },
  {
   "cell_type": "code",
   "execution_count": null,
   "metadata": {},
   "outputs": [],
   "source": []
  },
  {
   "cell_type": "code",
   "execution_count": 43,
   "metadata": {},
   "outputs": [],
   "source": [
    "#使用跟这个进行拆分\n",
    "null_list4=[]\n",
    "for item in null_list3:\n",
    "    null_list5=item.split('[')#单条地址拆分\n",
    "    for item_list5 in null_list5:\n",
    "        if item_list5!='':#地址中可能出现为零的情况，虽然网页上有\n",
    "            null_list4.append(item_list5)\n",
    "    "
   ]
  },
  {
   "cell_type": "code",
   "execution_count": 44,
   "metadata": {},
   "outputs": [
    {
     "data": {
      "text/plain": [
       "172309"
      ]
     },
     "execution_count": 44,
     "metadata": {},
     "output_type": "execute_result"
    }
   ],
   "source": [
    "len(null_list4)"
   ]
  },
  {
   "cell_type": "code",
   "execution_count": 45,
   "metadata": {},
   "outputs": [],
   "source": [
    "null_list6=[]\n",
    "for item in null_list4:\n",
    "    p=item.find(']')\n",
    "    null_list6.append(item[p+2:])"
   ]
  },
  {
   "cell_type": "code",
   "execution_count": 46,
   "metadata": {},
   "outputs": [
    {
     "data": {
      "text/plain": [
       "172309"
      ]
     },
     "execution_count": 46,
     "metadata": {},
     "output_type": "execute_result"
    }
   ],
   "source": [
    "len(null_list6)"
   ]
  },
  {
   "cell_type": "code",
   "execution_count": 47,
   "metadata": {},
   "outputs": [],
   "source": [
    "null_list7=[]\n",
    "for item in null_list6:\n",
    "    null_list8=item.split(';')#单条地址拆分\n",
    "    for item_list8 in null_list8:\n",
    "        if item_list8!=' ':#地址中可能出现为零的情况，虽然网页上有\n",
    "            null_list7.append(item_list8)"
   ]
  },
  {
   "cell_type": "code",
   "execution_count": 48,
   "metadata": {},
   "outputs": [
    {
     "data": {
      "text/plain": [
       "172881"
      ]
     },
     "execution_count": 48,
     "metadata": {},
     "output_type": "execute_result"
    }
   ],
   "source": [
    "len(null_list7)"
   ]
  },
  {
   "cell_type": "code",
   "execution_count": null,
   "metadata": {},
   "outputs": [],
   "source": []
  },
  {
   "cell_type": "code",
   "execution_count": 49,
   "metadata": {},
   "outputs": [
    {
     "data": {
      "text/plain": [
       "['Nutriscience, Cordoba, Spain',\n",
       " 'Univ Seville, Fac Educ Sci, Area Human Motr & Sports Performance, C Pirotecnia S-N, Seville, Spain',\n",
       " 'Pablo de Olavide Univ, Sch Sport Sci, Sport Dept, Seville, Spain',\n",
       " 'Univ Alcala De Henares, Dept Educ Sci, Alcala De Henares, Spain',\n",
       " 'Nova Southeastern Univ, Dept Hlth & Human Performance, Miami, FL USA',\n",
       " 'Univ Isabel I, Fac Hlth Sci, Burgos, Spain',\n",
       " 'Icahn Sch Med Mt Sinai, Dept Neurosurg, New York, NY 10029 USA',\n",
       " '1468 Madison Ave,Annenberg Bldg,8th Floor,Room 88, New York, NY 10029 USA',\n",
       " 'Icahn Sch Med Mt Sinai, New York, NY 10029 USA',\n",
       " 'Concuss Management New York, New York, NY USA']"
      ]
     },
     "execution_count": 49,
     "metadata": {},
     "output_type": "execute_result"
    }
   ],
   "source": [
    "null_list7[:10]"
   ]
  },
  {
   "cell_type": "code",
   "execution_count": 50,
   "metadata": {},
   "outputs": [
    {
     "data": {
      "text/plain": [
       "172881"
      ]
     },
     "execution_count": 50,
     "metadata": {},
     "output_type": "execute_result"
    }
   ],
   "source": [
    "len(null_list7)"
   ]
  },
  {
   "cell_type": "code",
   "execution_count": null,
   "metadata": {},
   "outputs": [],
   "source": []
  },
  {
   "cell_type": "code",
   "execution_count": 52,
   "metadata": {},
   "outputs": [
    {
     "data": {
      "text/html": [
       "<div>\n",
       "<style scoped>\n",
       "    .dataframe tbody tr th:only-of-type {\n",
       "        vertical-align: middle;\n",
       "    }\n",
       "\n",
       "    .dataframe tbody tr th {\n",
       "        vertical-align: top;\n",
       "    }\n",
       "\n",
       "    .dataframe thead th {\n",
       "        text-align: right;\n",
       "    }\n",
       "</style>\n",
       "<table border=\"1\" class=\"dataframe\">\n",
       "  <thead>\n",
       "    <tr style=\"text-align: right;\">\n",
       "      <th></th>\n",
       "      <th>0</th>\n",
       "    </tr>\n",
       "  </thead>\n",
       "  <tbody>\n",
       "    <tr>\n",
       "      <th>0</th>\n",
       "      <td>Nutriscience, Cordoba, Spain</td>\n",
       "    </tr>\n",
       "    <tr>\n",
       "      <th>1</th>\n",
       "      <td>Univ Seville, Fac Educ Sci, Area Human Motr &amp; ...</td>\n",
       "    </tr>\n",
       "    <tr>\n",
       "      <th>2</th>\n",
       "      <td>Pablo de Olavide Univ, Sch Sport Sci, Sport De...</td>\n",
       "    </tr>\n",
       "    <tr>\n",
       "      <th>3</th>\n",
       "      <td>Univ Alcala De Henares, Dept Educ Sci, Alcala ...</td>\n",
       "    </tr>\n",
       "    <tr>\n",
       "      <th>4</th>\n",
       "      <td>Nova Southeastern Univ, Dept Hlth &amp; Human Perf...</td>\n",
       "    </tr>\n",
       "    <tr>\n",
       "      <th>5</th>\n",
       "      <td>Univ Isabel I, Fac Hlth Sci, Burgos, Spain</td>\n",
       "    </tr>\n",
       "    <tr>\n",
       "      <th>6</th>\n",
       "      <td>Icahn Sch Med Mt Sinai, Dept Neurosurg, New Yo...</td>\n",
       "    </tr>\n",
       "    <tr>\n",
       "      <th>7</th>\n",
       "      <td>1468 Madison Ave,Annenberg Bldg,8th Floor,Room...</td>\n",
       "    </tr>\n",
       "    <tr>\n",
       "      <th>8</th>\n",
       "      <td>Icahn Sch Med Mt Sinai, New York, NY 10029 USA</td>\n",
       "    </tr>\n",
       "    <tr>\n",
       "      <th>9</th>\n",
       "      <td>Concuss Management New York, New York, NY USA</td>\n",
       "    </tr>\n",
       "    <tr>\n",
       "      <th>10</th>\n",
       "      <td>Touro Coll Osteopath Med, New York, NY USA</td>\n",
       "    </tr>\n",
       "    <tr>\n",
       "      <th>11</th>\n",
       "      <td>ImPACT Applicat Inc, Pittsburgh, PA USA</td>\n",
       "    </tr>\n",
       "    <tr>\n",
       "      <th>12</th>\n",
       "      <td>McMaster Univ, Div Orthopaed Surg, Dept Surg, ...</td>\n",
       "    </tr>\n",
       "    <tr>\n",
       "      <th>13</th>\n",
       "      <td>McMaster Univ, Michael G DeGroote Sch Med, Ham...</td>\n",
       "    </tr>\n",
       "    <tr>\n",
       "      <th>14</th>\n",
       "      <td>McMaster Univ, Dept Hlth Res Methods Evidence ...</td>\n",
       "    </tr>\n",
       "    <tr>\n",
       "      <th>15</th>\n",
       "      <td>McMaster Univ, Dept Anesthesia, Hamilton, ON, ...</td>\n",
       "    </tr>\n",
       "    <tr>\n",
       "      <th>16</th>\n",
       "      <td>Univ Western Ontario, St Josephs Hlth Care, Ro...</td>\n",
       "    </tr>\n",
       "    <tr>\n",
       "      <th>17</th>\n",
       "      <td>Akershus Univ Hosp, Dept Orthopaed Surg, N-147...</td>\n",
       "    </tr>\n",
       "    <tr>\n",
       "      <th>18</th>\n",
       "      <td>Oslo Univ Hosp, Dept Orthopaed, Oslo, Norway</td>\n",
       "    </tr>\n",
       "    <tr>\n",
       "      <th>19</th>\n",
       "      <td>Univ Oslo, Fac Med, Oslo, Norway</td>\n",
       "    </tr>\n",
       "    <tr>\n",
       "      <th>20</th>\n",
       "      <td>Oslo Sports Trauma Res Ctr, Oslo, Norway</td>\n",
       "    </tr>\n",
       "    <tr>\n",
       "      <th>21</th>\n",
       "      <td>Univ Utah, Salt Lake City, UT 84112 USA</td>\n",
       "    </tr>\n",
       "    <tr>\n",
       "      <th>22</th>\n",
       "      <td>Univ North Carolina Greensboro, Greensboro, NC...</td>\n",
       "    </tr>\n",
       "    <tr>\n",
       "      <th>23</th>\n",
       "      <td>Middle Tennessee State Univ, Murfreesboro, TN ...</td>\n",
       "    </tr>\n",
       "    <tr>\n",
       "      <th>24</th>\n",
       "      <td>Clemson Univ, Dept Pk Recreat &amp; Tourism Manage...</td>\n",
       "    </tr>\n",
       "    <tr>\n",
       "      <th>25</th>\n",
       "      <td>Texas A&amp;M Univ, Dept Recreat Pk &amp; Tourism Sci,...</td>\n",
       "    </tr>\n",
       "    <tr>\n",
       "      <th>26</th>\n",
       "      <td>Univ Louisville, Dept Hlth Promot &amp; Behav Sci,...</td>\n",
       "    </tr>\n",
       "    <tr>\n",
       "      <th>27</th>\n",
       "      <td>Benedict Coll, Dept Hlth Phys Educ &amp; Recreat, ...</td>\n",
       "    </tr>\n",
       "    <tr>\n",
       "      <th>28</th>\n",
       "      <td>Univ Louisville, Dept Hlth Promot &amp; Behav Sci,...</td>\n",
       "    </tr>\n",
       "    <tr>\n",
       "      <th>29</th>\n",
       "      <td>Texas A&amp;M Univ, Dept Recreat Pk &amp; Tourism Sci,...</td>\n",
       "    </tr>\n",
       "    <tr>\n",
       "      <th>...</th>\n",
       "      <td>...</td>\n",
       "    </tr>\n",
       "    <tr>\n",
       "      <th>172851</th>\n",
       "      <td>Univ Murcia, Fac Sport Sci, E-30001 Murcia, Spain</td>\n",
       "    </tr>\n",
       "    <tr>\n",
       "      <th>172852</th>\n",
       "      <td>Univ Politecn Madrid, Fac Phys Act &amp; Sport Sci...</td>\n",
       "    </tr>\n",
       "    <tr>\n",
       "      <th>172853</th>\n",
       "      <td>Johannes Gutenberg Univ Mainz, Dept Sports Med...</td>\n",
       "    </tr>\n",
       "    <tr>\n",
       "      <th>172854</th>\n",
       "      <td>Univ Tubingen, Dept Psychol, Tubingen, Germany</td>\n",
       "    </tr>\n",
       "    <tr>\n",
       "      <th>172855</th>\n",
       "      <td>Univ Tubingen, Dept Sports Med, Tubingen, Germany</td>\n",
       "    </tr>\n",
       "    <tr>\n",
       "      <th>172856</th>\n",
       "      <td>Univ Exeter, Sch Med, Exeter NIHR Clin Res Fac...</td>\n",
       "    </tr>\n",
       "    <tr>\n",
       "      <th>172857</th>\n",
       "      <td>Univ Exeter, Exeter EX4 4QL, Devon, England</td>\n",
       "    </tr>\n",
       "    <tr>\n",
       "      <th>172858</th>\n",
       "      <td>Univ Exeter, Coll Engn Math &amp; Phys Sci, Exeter...</td>\n",
       "    </tr>\n",
       "    <tr>\n",
       "      <th>172859</th>\n",
       "      <td>CB Sports Performance Ltd, Sports Sci, St Hele...</td>\n",
       "    </tr>\n",
       "    <tr>\n",
       "      <th>172860</th>\n",
       "      <td>Univ Sunderland, Dept Sport &amp; Exercise Sci, Su...</td>\n",
       "    </tr>\n",
       "    <tr>\n",
       "      <th>172861</th>\n",
       "      <td>West Bromwich Albion, Sports Sci Dept, West Br...</td>\n",
       "    </tr>\n",
       "    <tr>\n",
       "      <th>172862</th>\n",
       "      <td>Univ Lisbon, Exercise &amp; Hlth Lab, CIPER, Fac M...</td>\n",
       "    </tr>\n",
       "    <tr>\n",
       "      <th>172863</th>\n",
       "      <td>Univ Tras Os Montes &amp; Alto Douro, Res Ctr Spor...</td>\n",
       "    </tr>\n",
       "    <tr>\n",
       "      <th>172864</th>\n",
       "      <td>Univ Porto, Fac Sport, Res Ctr Phys Act Hlth &amp;...</td>\n",
       "    </tr>\n",
       "    <tr>\n",
       "      <th>172865</th>\n",
       "      <td>Univ Southern Denmark, Natl Inst Publ Hlth, DK...</td>\n",
       "    </tr>\n",
       "    <tr>\n",
       "      <th>172866</th>\n",
       "      <td>Univ Copenhagen, Dept Biomed Sci, Ctr Hlth Agi...</td>\n",
       "    </tr>\n",
       "    <tr>\n",
       "      <th>172867</th>\n",
       "      <td>Univ Nebraska, Lincoln, NE 68583 USA</td>\n",
       "    </tr>\n",
       "    <tr>\n",
       "      <th>172868</th>\n",
       "      <td>Chinese Univ Hong Kong, Dept Sports Sci &amp; Phys...</td>\n",
       "    </tr>\n",
       "    <tr>\n",
       "      <th>172869</th>\n",
       "      <td>Hong Kong Inst Educ, Dept Hlth &amp; Phys Educ, Ho...</td>\n",
       "    </tr>\n",
       "    <tr>\n",
       "      <th>172870</th>\n",
       "      <td>Sun Yat Sen Univ, Dept Matern &amp; Child Hlth, Gu...</td>\n",
       "    </tr>\n",
       "    <tr>\n",
       "      <th>172871</th>\n",
       "      <td>Univ Florida, Dept Appl Physiol &amp; Kinesiol, Ga...</td>\n",
       "    </tr>\n",
       "    <tr>\n",
       "      <th>172872</th>\n",
       "      <td>Troy Univ, Dept Kinesiol &amp; Hlth Promot, Troy, ...</td>\n",
       "    </tr>\n",
       "    <tr>\n",
       "      <th>172873</th>\n",
       "      <td>Univ Gottingen, Univ Med Ctr Gottingen, Bernst...</td>\n",
       "    </tr>\n",
       "    <tr>\n",
       "      <th>172874</th>\n",
       "      <td>Politecn Torino, Dept Elect &amp; Telecommun, Lab ...</td>\n",
       "    </tr>\n",
       "    <tr>\n",
       "      <th>172875</th>\n",
       "      <td>Univ Colorado, Dept Integrat Physiol, Boulder,...</td>\n",
       "    </tr>\n",
       "    <tr>\n",
       "      <th>172876</th>\n",
       "      <td>Univ British Columbia, Fac Med, Grad Program R...</td>\n",
       "    </tr>\n",
       "    <tr>\n",
       "      <th>172877</th>\n",
       "      <td>Univ British Columbia, Fac Med, Dept Pediat, V...</td>\n",
       "    </tr>\n",
       "    <tr>\n",
       "      <th>172878</th>\n",
       "      <td>Univ British Columbia, Fac Med, Dept Med Genet...</td>\n",
       "    </tr>\n",
       "    <tr>\n",
       "      <th>172879</th>\n",
       "      <td>Univ British Columbia, Fac Med, Grad Program N...</td>\n",
       "    </tr>\n",
       "    <tr>\n",
       "      <th>172880</th>\n",
       "      <td>Maastricht Univ, NUTRIM Sch Nutr Toxicol &amp; Met...</td>\n",
       "    </tr>\n",
       "  </tbody>\n",
       "</table>\n",
       "<p>172881 rows × 1 columns</p>\n",
       "</div>"
      ],
      "text/plain": [
       "                                                        0\n",
       "0                            Nutriscience, Cordoba, Spain\n",
       "1       Univ Seville, Fac Educ Sci, Area Human Motr & ...\n",
       "2       Pablo de Olavide Univ, Sch Sport Sci, Sport De...\n",
       "3       Univ Alcala De Henares, Dept Educ Sci, Alcala ...\n",
       "4       Nova Southeastern Univ, Dept Hlth & Human Perf...\n",
       "5              Univ Isabel I, Fac Hlth Sci, Burgos, Spain\n",
       "6       Icahn Sch Med Mt Sinai, Dept Neurosurg, New Yo...\n",
       "7       1468 Madison Ave,Annenberg Bldg,8th Floor,Room...\n",
       "8          Icahn Sch Med Mt Sinai, New York, NY 10029 USA\n",
       "9           Concuss Management New York, New York, NY USA\n",
       "10             Touro Coll Osteopath Med, New York, NY USA\n",
       "11                ImPACT Applicat Inc, Pittsburgh, PA USA\n",
       "12      McMaster Univ, Div Orthopaed Surg, Dept Surg, ...\n",
       "13      McMaster Univ, Michael G DeGroote Sch Med, Ham...\n",
       "14      McMaster Univ, Dept Hlth Res Methods Evidence ...\n",
       "15      McMaster Univ, Dept Anesthesia, Hamilton, ON, ...\n",
       "16      Univ Western Ontario, St Josephs Hlth Care, Ro...\n",
       "17      Akershus Univ Hosp, Dept Orthopaed Surg, N-147...\n",
       "18           Oslo Univ Hosp, Dept Orthopaed, Oslo, Norway\n",
       "19                       Univ Oslo, Fac Med, Oslo, Norway\n",
       "20               Oslo Sports Trauma Res Ctr, Oslo, Norway\n",
       "21                Univ Utah, Salt Lake City, UT 84112 USA\n",
       "22      Univ North Carolina Greensboro, Greensboro, NC...\n",
       "23      Middle Tennessee State Univ, Murfreesboro, TN ...\n",
       "24      Clemson Univ, Dept Pk Recreat & Tourism Manage...\n",
       "25      Texas A&M Univ, Dept Recreat Pk & Tourism Sci,...\n",
       "26      Univ Louisville, Dept Hlth Promot & Behav Sci,...\n",
       "27      Benedict Coll, Dept Hlth Phys Educ & Recreat, ...\n",
       "28      Univ Louisville, Dept Hlth Promot & Behav Sci,...\n",
       "29      Texas A&M Univ, Dept Recreat Pk & Tourism Sci,...\n",
       "...                                                   ...\n",
       "172851  Univ Murcia, Fac Sport Sci, E-30001 Murcia, Spain\n",
       "172852  Univ Politecn Madrid, Fac Phys Act & Sport Sci...\n",
       "172853  Johannes Gutenberg Univ Mainz, Dept Sports Med...\n",
       "172854     Univ Tubingen, Dept Psychol, Tubingen, Germany\n",
       "172855  Univ Tubingen, Dept Sports Med, Tubingen, Germany\n",
       "172856  Univ Exeter, Sch Med, Exeter NIHR Clin Res Fac...\n",
       "172857        Univ Exeter, Exeter EX4 4QL, Devon, England\n",
       "172858  Univ Exeter, Coll Engn Math & Phys Sci, Exeter...\n",
       "172859  CB Sports Performance Ltd, Sports Sci, St Hele...\n",
       "172860  Univ Sunderland, Dept Sport & Exercise Sci, Su...\n",
       "172861  West Bromwich Albion, Sports Sci Dept, West Br...\n",
       "172862  Univ Lisbon, Exercise & Hlth Lab, CIPER, Fac M...\n",
       "172863  Univ Tras Os Montes & Alto Douro, Res Ctr Spor...\n",
       "172864  Univ Porto, Fac Sport, Res Ctr Phys Act Hlth &...\n",
       "172865  Univ Southern Denmark, Natl Inst Publ Hlth, DK...\n",
       "172866  Univ Copenhagen, Dept Biomed Sci, Ctr Hlth Agi...\n",
       "172867               Univ Nebraska, Lincoln, NE 68583 USA\n",
       "172868  Chinese Univ Hong Kong, Dept Sports Sci & Phys...\n",
       "172869  Hong Kong Inst Educ, Dept Hlth & Phys Educ, Ho...\n",
       "172870  Sun Yat Sen Univ, Dept Matern & Child Hlth, Gu...\n",
       "172871  Univ Florida, Dept Appl Physiol & Kinesiol, Ga...\n",
       "172872  Troy Univ, Dept Kinesiol & Hlth Promot, Troy, ...\n",
       "172873  Univ Gottingen, Univ Med Ctr Gottingen, Bernst...\n",
       "172874  Politecn Torino, Dept Elect & Telecommun, Lab ...\n",
       "172875  Univ Colorado, Dept Integrat Physiol, Boulder,...\n",
       "172876  Univ British Columbia, Fac Med, Grad Program R...\n",
       "172877  Univ British Columbia, Fac Med, Dept Pediat, V...\n",
       "172878  Univ British Columbia, Fac Med, Dept Med Genet...\n",
       "172879  Univ British Columbia, Fac Med, Grad Program N...\n",
       "172880  Maastricht Univ, NUTRIM Sch Nutr Toxicol & Met...\n",
       "\n",
       "[172881 rows x 1 columns]"
      ]
     },
     "execution_count": 52,
     "metadata": {},
     "output_type": "execute_result"
    }
   ],
   "source": [
    "result=pd.DataFrame(np.array(null_list7))#将pd.DataFrame(np.array(myarray))写入list\n",
    "result.to_csv(\"C:/Users/rk/Desktop/spt7.csv\",index=False,encoding='ANSI')\n",
    "result"
   ]
  }
 ],
 "metadata": {
  "kernelspec": {
   "display_name": "Python 3",
   "language": "python",
   "name": "python3"
  },
  "language_info": {
   "codemirror_mode": {
    "name": "ipython",
    "version": 3
   },
   "file_extension": ".py",
   "mimetype": "text/x-python",
   "name": "python",
   "nbconvert_exporter": "python",
   "pygments_lexer": "ipython3",
   "version": "3.6.5"
  }
 },
 "nbformat": 4,
 "nbformat_minor": 2
}
