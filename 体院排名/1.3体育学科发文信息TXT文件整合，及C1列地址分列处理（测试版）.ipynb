{
 "cells": [
  {
   "cell_type": "code",
   "execution_count": null,
   "metadata": {},
   "outputs": [],
   "source": [
    "'''方法1：可以用cmd中的copy拼接文件'''"
   ]
  },
  {
   "cell_type": "code",
   "execution_count": null,
   "metadata": {},
   "outputs": [],
   "source": [
    "'''方法2：\n",
    "在需要合并的TXT文档所在的文件夹里，新建文本，输入：\n",
    "tpye *.txt>>..all.txt\n",
    "保存后，将文件名后缀改为bat格式\n",
    "然后双击即可，注意，..all是文件名，而且，两个点是必须的，否则会将合并后的文件会进入合并导致重复\n",
    "'''"
   ]
  },
  {
   "cell_type": "code",
   "execution_count": null,
   "metadata": {},
   "outputs": [],
   "source": [
    "'''方法3：利用python程序'''"
   ]
  },
  {
   "cell_type": "code",
   "execution_count": 2,
   "metadata": {},
   "outputs": [],
   "source": [
    "import os"
   ]
  },
  {
   "cell_type": "code",
   "execution_count": 7,
   "metadata": {},
   "outputs": [],
   "source": [
    "Folder_Path=r'C:\\Users\\rk\\Downloads\\体育学科发文汇总'        \n",
    "os.chdir(Folder_Path)\n",
    "file_list = os.listdir() #将该文件夹下的所有文件名存入一个列表"
   ]
  },
  {
   "cell_type": "code",
   "execution_count": 8,
   "metadata": {
    "scrolled": true
   },
   "outputs": [
    {
     "data": {
      "text/plain": [
       "['..all.txt',\n",
       " '1-01.txt',\n",
       " '1-02.txt',\n",
       " '1-03.txt',\n",
       " '1-04.txt',\n",
       " '1-05.txt',\n",
       " '1-06.txt',\n",
       " '1-07.txt',\n",
       " '1-08.txt',\n",
       " '1-09.txt',\n",
       " '1-10.txt',\n",
       " '1-11.txt',\n",
       " '1-12.txt',\n",
       " '1-13.txt',\n",
       " '1-14.txt',\n",
       " '1-15.txt',\n",
       " '1-16.txt',\n",
       " '1-17.txt',\n",
       " '1-18.txt',\n",
       " '1-19.txt',\n",
       " '1-20.txt',\n",
       " '1-21.txt',\n",
       " '1-22.txt',\n",
       " '1-23.txt',\n",
       " '1-24.txt',\n",
       " '批量合并文档.bat']"
      ]
     },
     "execution_count": 8,
     "metadata": {},
     "output_type": "execute_result"
    }
   ],
   "source": [
    "file_list"
   ]
  },
  {
   "cell_type": "code",
   "execution_count": 11,
   "metadata": {},
   "outputs": [],
   "source": [
    "null_list=[]\n",
    "with open(r'C:\\Users\\rk\\Downloads\\体育学科发文汇总\\1-01.txt',encoding='utf-8') as f:\n",
    "    for line in f:\n",
    "        null_list.append(line)  "
   ]
  },
  {
   "cell_type": "code",
   "execution_count": 24,
   "metadata": {
    "scrolled": true
   },
   "outputs": [],
   "source": []
  },
  {
   "cell_type": "code",
   "execution_count": 40,
   "metadata": {},
   "outputs": [
    {
     "data": {
      "text/plain": [
       "'C1'"
      ]
     },
     "execution_count": 40,
     "metadata": {},
     "output_type": "execute_result"
    }
   ],
   "source": [
    "null_list2[0][22]"
   ]
  },
  {
   "cell_type": "code",
   "execution_count": 41,
   "metadata": {},
   "outputs": [
    {
     "data": {
      "text/plain": [
       "'RP'"
      ]
     },
     "execution_count": 41,
     "metadata": {},
     "output_type": "execute_result"
    }
   ],
   "source": [
    "null_list2[0][23]"
   ]
  },
  {
   "cell_type": "code",
   "execution_count": 42,
   "metadata": {},
   "outputs": [],
   "source": [
    "null_list=[]\n",
    "for file in file_list[1:(len(file_list)-1)]:\n",
    "    file_path=r'C:\\Users\\rk\\Downloads\\体育学科发文汇总'+'\\\\'+file\n",
    "    null_list2=[]\n",
    "    with open(file_path,encoding='utf-8') as f:\n",
    "        for line in f:\n",
    "            null_list2.append(line) \n",
    "    \n",
    "    for line in null_list2[1:]:\n",
    "        line=line.split('\\t')\n",
    "        null_list.append(line)"
   ]
  },
  {
   "cell_type": "code",
   "execution_count": 44,
   "metadata": {},
   "outputs": [
    {
     "data": {
      "text/plain": [
       "11705"
      ]
     },
     "execution_count": 44,
     "metadata": {},
     "output_type": "execute_result"
    }
   ],
   "source": [
    "len(null_list)#结果是准确的11705"
   ]
  },
  {
   "cell_type": "code",
   "execution_count": 45,
   "metadata": {},
   "outputs": [],
   "source": [
    "null_list3=[]#存放C1列的地址\n",
    "for item in null_list:\n",
    "    null_list3.append(item[22])"
   ]
  },
  {
   "cell_type": "code",
   "execution_count": 46,
   "metadata": {},
   "outputs": [
    {
     "data": {
      "text/plain": [
       "'[Lee, Christopher] Arizona State Univ, WP Carey Sch Business, Mkt, Tempe, AZ 85287 USA; [Kahle, Lynn] Univ Oregon, Mkt, Lundquist Coll Business, Eugene, OR 97403 USA; [Kahle, Lynn] Univ Oregon, Appl Informat Management Masters Program, Eugene, OR 97403 USA'"
      ]
     },
     "execution_count": 46,
     "metadata": {},
     "output_type": "execute_result"
    }
   ],
   "source": [
    "null_list3[0]"
   ]
  },
  {
   "cell_type": "code",
   "execution_count": 47,
   "metadata": {},
   "outputs": [
    {
     "data": {
      "text/plain": [
       "11705"
      ]
     },
     "execution_count": 47,
     "metadata": {},
     "output_type": "execute_result"
    }
   ],
   "source": [
    "len(null_list3)"
   ]
  },
  {
   "cell_type": "code",
   "execution_count": 49,
   "metadata": {},
   "outputs": [
    {
     "data": {
      "text/plain": [
       "['[Lee, Christopher] Arizona State Univ, WP Carey Sch Business, Mkt, Tempe, AZ 85287 USA',\n",
       " ' [Kahle, Lynn] Univ Oregon, Mkt, Lundquist Coll Business, Eugene, OR 97403 USA',\n",
       " ' [Kahle, Lynn] Univ Oregon, Appl Informat Management Masters Program, Eugene, OR 97403 USA']"
      ]
     },
     "execution_count": 49,
     "metadata": {},
     "output_type": "execute_result"
    }
   ],
   "source": [
    "null_list3[0].split(';')"
   ]
  },
  {
   "cell_type": "code",
   "execution_count": 50,
   "metadata": {},
   "outputs": [],
   "source": [
    "null_list4=null_list3[0].split(';')"
   ]
  },
  {
   "cell_type": "code",
   "execution_count": 51,
   "metadata": {},
   "outputs": [
    {
     "data": {
      "text/plain": [
       "3"
      ]
     },
     "execution_count": 51,
     "metadata": {},
     "output_type": "execute_result"
    }
   ],
   "source": [
    "len(null_list4)"
   ]
  },
  {
   "cell_type": "code",
   "execution_count": 52,
   "metadata": {},
   "outputs": [],
   "source": [
    "null_list5=[]\n",
    "for item in null_list3:\n",
    "    null_list4=[]\n",
    "    null_list4=item.split(';')\n",
    "    for item_list4 in null_list4:\n",
    "        null_list5.append(item_list4)\n",
    "    "
   ]
  },
  {
   "cell_type": "code",
   "execution_count": 53,
   "metadata": {},
   "outputs": [
    {
     "data": {
      "text/plain": [
       "31901"
      ]
     },
     "execution_count": 53,
     "metadata": {},
     "output_type": "execute_result"
    }
   ],
   "source": [
    "len(null_list5)"
   ]
  },
  {
   "cell_type": "code",
   "execution_count": 54,
   "metadata": {},
   "outputs": [
    {
     "data": {
      "text/plain": [
       "'[Lee, Christopher] Arizona State Univ, WP Carey Sch Business, Mkt, Tempe, AZ 85287 USA'"
      ]
     },
     "execution_count": 54,
     "metadata": {},
     "output_type": "execute_result"
    }
   ],
   "source": [
    "null_list5[0]"
   ]
  },
  {
   "cell_type": "code",
   "execution_count": 56,
   "metadata": {},
   "outputs": [
    {
     "name": "stdout",
     "output_type": "stream",
     "text": [
      "20620\n"
     ]
    }
   ],
   "source": [
    "counter=0\n",
    "for item in null_list5:\n",
    "    if 'Univ' in item:\n",
    "        counter+=1\n",
    "print(counter)"
   ]
  },
  {
   "cell_type": "code",
   "execution_count": 58,
   "metadata": {},
   "outputs": [
    {
     "data": {
      "text/plain": [
       "'[lee, christopher] arizona state univ, wp carey sch business, mkt, tempe, az 85287 usa'"
      ]
     },
     "execution_count": 58,
     "metadata": {},
     "output_type": "execute_result"
    }
   ],
   "source": [
    "null_list5[0].lower()"
   ]
  },
  {
   "cell_type": "code",
   "execution_count": null,
   "metadata": {},
   "outputs": [],
   "source": []
  }
 ],
 "metadata": {
  "kernelspec": {
   "display_name": "Python 3",
   "language": "python",
   "name": "python3"
  },
  "language_info": {
   "codemirror_mode": {
    "name": "ipython",
    "version": 3
   },
   "file_extension": ".py",
   "mimetype": "text/x-python",
   "name": "python",
   "nbconvert_exporter": "python",
   "pygments_lexer": "ipython3",
   "version": "3.6.5"
  }
 },
 "nbformat": 4,
 "nbformat_minor": 2
}
