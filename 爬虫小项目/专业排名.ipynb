{
 "cells": [
  {
   "cell_type": "code",
   "execution_count": 1,
   "metadata": {},
   "outputs": [],
   "source": [
    "from time import sleep\n",
    "import pandas as pd\n",
    "import numpy as np\n",
    "from selenium import webdriver #从selenium中调入webdriver"
   ]
  },
  {
   "cell_type": "code",
   "execution_count": 5,
   "metadata": {},
   "outputs": [],
   "source": [
    "import csv"
   ]
  },
  {
   "cell_type": "code",
   "execution_count": 2,
   "metadata": {},
   "outputs": [],
   "source": [
    "########################服务器崩溃后，从此处运行##########################################\n",
    "browser = webdriver.Chrome('C:/Users/rk/Desktop/chromedriver.exe') #锁定浏览器"
   ]
  },
  {
   "cell_type": "code",
   "execution_count": 37,
   "metadata": {},
   "outputs": [],
   "source": [
    "browser.get(\"https://gaokao.chsi.com.cn/zyk/zybk/\")#访问网页"
   ]
  },
  {
   "cell_type": "code",
   "execution_count": 6,
   "metadata": {},
   "outputs": [],
   "source": [
    "lis_a = []#创建空白列表，存储文件内容\n",
    "csv_reader=csv.reader(open(r'C:\\Users\\rk\\Desktop\\special.csv'))"
   ]
  },
  {
   "cell_type": "code",
   "execution_count": 7,
   "metadata": {},
   "outputs": [],
   "source": [
    "for element in csv_reader:\n",
    "    lis_a.append(element)#逐行读入数据，写入列表"
   ]
  },
  {
   "cell_type": "code",
   "execution_count": 21,
   "metadata": {},
   "outputs": [
    {
     "data": {
      "text/plain": [
       "'人文教育'"
      ]
     },
     "execution_count": 21,
     "metadata": {},
     "output_type": "execute_result"
    }
   ],
   "source": [
    "lis_a[0][0]"
   ]
  },
  {
   "cell_type": "code",
   "execution_count": null,
   "metadata": {},
   "outputs": [],
   "source": []
  },
  {
   "cell_type": "code",
   "execution_count": 29,
   "metadata": {},
   "outputs": [],
   "source": [
    "fin=[]"
   ]
  },
  {
   "cell_type": "code",
   "execution_count": 30,
   "metadata": {
    "scrolled": true
   },
   "outputs": [
    {
     "name": "stdout",
     "output_type": "stream",
     "text": [
      "['人文教育', 7]\n",
      "['马来语', 5]\n",
      "['僧伽罗语', 0]\n",
      "['乌尔都语', 2]\n",
      "['希伯来语', 0]\n",
      "['豪萨语', 0]\n",
      "['斯瓦希里语', 1]\n",
      "['阿尔巴尼亚语', 0]\n",
      "['保加利亚语', 0]\n",
      "['波兰语', 1]\n",
      "['捷克语', 0]\n",
      "['斯洛伐克语', 0]\n",
      "['罗马尼亚语', 0]\n",
      "['瑞典语', 0]\n",
      "['塞尔维亚语', 0]\n",
      "['土耳其语', 1]\n",
      "['希腊语', 1]\n",
      "['匈牙利语', 1]\n",
      "['泰米尔语', 0]\n",
      "['普什图语', 0]\n",
      "['世界语', 0]\n",
      "['孟加拉语', 0]\n",
      "['尼泊尔语', 0]\n",
      "['克罗地亚语', 0]\n",
      "['荷兰语', 1]\n",
      "['芬兰语', 0]\n",
      "['乌克兰语', 0]\n",
      "['挪威语', 0]\n",
      "['丹麦语', 1]\n",
      "['冰岛语', 0]\n",
      "['爱尔兰语', 0]\n",
      "['拉脱维亚语', 0]\n",
      "['立陶宛语', 0]\n",
      "['斯洛文尼亚语', 0]\n",
      "['爱沙尼亚语', 0]\n",
      "['马耳他语', 0]\n",
      "['哈萨克语', 0]\n",
      "['乌兹别克语', 0]\n",
      "['祖鲁语', 0]\n",
      "['拉丁语', 0]\n",
      "['飞行器环境与生命保障工程', 2]\n",
      "['核化工与核燃料工程', 5]\n",
      "['农业电气化', 14]\n",
      "['环境生态工程', 3]\n",
      "['设施农业科学与工程', 8]\n",
      "['医学实验技术', 1]\n",
      "['卫生检验与检疫', 20]\n",
      "['商务经济学', 1]\n",
      "['金融数学', 17]\n",
      "['警犬技术', 1]\n",
      "['边防指挥', 0]\n",
      "['消防指挥', 0]\n",
      "['警卫学', 0]\n",
      "['公安情报学', 1]\n",
      "['犯罪学', 0]\n",
      "['涉外警务', 0]\n",
      "['国内安全保卫', 4]\n",
      "['华文教育', 1]\n",
      "['文物保护技术', 1]\n",
      "['分子科学与工程', 0]\n",
      "['军事海洋学', 0]\n",
      "['地球信息科学与技术', 0]\n",
      "['机械工艺技术', 1]\n",
      "['机电技术教育', 1]\n",
      "['汽车维修工程教育', 3]\n",
      "['纳米材料与技术', 5]\n",
      "['光源与照明', 4]\n",
      "['电子封装技术', 2]\n",
      "['电波传播与天线', 3]\n",
      "['应用电子技术教育', 4]\n",
      "['电子与计算机工程', 1]\n",
      "['地理国情监测', 0]\n",
      "['服装设计与工艺教育', 2]\n",
      "['救助与打捞工程', 1]\n",
      "['海洋工程与技术', 2]\n",
      "['飞行器质量与可靠性', 2]\n",
      "['飞行器适航技术', 3]\n",
      "['环保设备工程', 3]\n",
      "['假肢矫形工程', 1]\n",
      "['葡萄与葡萄酒工程', 5]\n",
      "['食品营养与检验教育', 3]\n",
      "['公安视听技术', 0]\n",
      "['抢险救援指挥与技术', 0]\n",
      "['网络安全与执法', 3]\n",
      "['核生化消防', 0]\n",
      "['应用生物科学', 2]\n",
      "['农艺教育', 2]\n",
      "['园艺教育', 2]\n",
      "['动植物检疫', 17]\n",
      "['眼视光医学', 1]\n",
      "['妇幼保健医学', 0]\n",
      "['卫生监督', 0]\n",
      "['全球健康学', 0]\n",
      "['药事管理', 2]\n",
      "['药物分析', 17]\n",
      "['海洋药学', 1]\n",
      "['中药制药', 20]\n",
      "['听力与言语康复学', 4]\n",
      "['市场营销教育', 0]\n",
      "['海关管理', 2]\n",
      "['海事管理', 9]\n",
      "['采购管理', 1]\n",
      "['电子商务及法律', 0]\n",
      "['旅游管理与服务教育', 3]\n"
     ]
    }
   ],
   "source": [
    "for item in lis_a:\n",
    "    tep=[]\n",
    "    tep.append(item[0])\n",
    "    browser.find_element_by_xpath('//*[@id=\"zymc\"]').clear()\n",
    "    browser.find_element_by_xpath('//*[@id=\"zymc\"]').send_keys(item[0])\n",
    "    sleep(2)\n",
    "    browser.find_element_by_xpath('//*[@id=\"form1\"]/input[5]').click()\n",
    "    num=browser.find_elements_by_xpath('//*[@id=\"queryResult\"]/table[1]/tbody/tr')\n",
    "    if len(num)!=0:\n",
    "        tep.append(len(num)-1)\n",
    "    else:\n",
    "        tep.append(len(num))\n",
    "    print(tep)\n",
    "    fin.append(tep)\n",
    "    sleep(2)"
   ]
  },
  {
   "cell_type": "code",
   "execution_count": 25,
   "metadata": {},
   "outputs": [
    {
     "data": {
      "text/plain": [
       "[['人文教育', 7],\n",
       " ['马来语', 5],\n",
       " ['僧伽罗语', 0],\n",
       " ['乌尔都语', 2],\n",
       " ['希伯来语', 0],\n",
       " ['豪萨语', 0],\n",
       " ['斯瓦希里语', 1],\n",
       " ['阿尔巴尼亚语', 0],\n",
       " ['保加利亚语', 0],\n",
       " ['波兰语', 1]]"
      ]
     },
     "execution_count": 25,
     "metadata": {},
     "output_type": "execute_result"
    }
   ],
   "source": [
    "fin"
   ]
  },
  {
   "cell_type": "code",
   "execution_count": null,
   "metadata": {},
   "outputs": [],
   "source": []
  },
  {
   "cell_type": "code",
   "execution_count": 9,
   "metadata": {},
   "outputs": [],
   "source": [
    "browser.find_element_by_xpath('//*[@id=\"zymc\"]').clear()\n",
    "browser.find_element_by_xpath('//*[@id=\"zymc\"]').send_keys('马来语')"
   ]
  },
  {
   "cell_type": "code",
   "execution_count": 11,
   "metadata": {},
   "outputs": [],
   "source": [
    "browser.find_element_by_xpath('//*[@id=\"form1\"]/input[5]').click()"
   ]
  },
  {
   "cell_type": "code",
   "execution_count": 35,
   "metadata": {},
   "outputs": [],
   "source": [
    "num=browser.find_elements_by_xpath('//*[@id=\"queryResult\"]/table[1]/tbody/tr')"
   ]
  },
  {
   "cell_type": "code",
   "execution_count": 36,
   "metadata": {},
   "outputs": [
    {
     "data": {
      "text/plain": [
       "10"
      ]
     },
     "execution_count": 36,
     "metadata": {},
     "output_type": "execute_result"
    }
   ],
   "source": [
    "len(num)-1"
   ]
  },
  {
   "cell_type": "code",
   "execution_count": null,
   "metadata": {},
   "outputs": [],
   "source": []
  }
 ],
 "metadata": {
  "kernelspec": {
   "display_name": "Python 3",
   "language": "python",
   "name": "python3"
  },
  "language_info": {
   "codemirror_mode": {
    "name": "ipython",
    "version": 3
   },
   "file_extension": ".py",
   "mimetype": "text/x-python",
   "name": "python",
   "nbconvert_exporter": "python",
   "pygments_lexer": "ipython3",
   "version": "3.6.5"
  }
 },
 "nbformat": 4,
 "nbformat_minor": 2
}
