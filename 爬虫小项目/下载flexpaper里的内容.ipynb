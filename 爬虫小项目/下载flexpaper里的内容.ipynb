{
 "cells": [
  {
   "cell_type": "code",
   "execution_count": 1,
   "metadata": {},
   "outputs": [],
   "source": [
    "from selenium import webdriver\n",
    "import time\n",
    "import requests"
   ]
  },
  {
   "cell_type": "code",
   "execution_count": 2,
   "metadata": {},
   "outputs": [],
   "source": [
    "import urllib"
   ]
  },
  {
   "cell_type": "code",
   "execution_count": 79,
   "metadata": {},
   "outputs": [],
   "source": [
    "'''运行此程序前要将flexpaper里的内容加载出来'''"
   ]
  },
  {
   "cell_type": "code",
   "execution_count": 56,
   "metadata": {},
   "outputs": [],
   "source": [
    "browser = webdriver.Chrome('C:/Users/rk/Desktop/chromedriver.exe') #锁定浏览器"
   ]
  },
  {
   "cell_type": "code",
   "execution_count": 89,
   "metadata": {},
   "outputs": [],
   "source": [
    "browser.get(\"http://xxgk.nju.edu.cn/e4/f7/c15434a320759/page.htm\")#访问网页"
   ]
  },
  {
   "cell_type": "code",
   "execution_count": 124,
   "metadata": {
    "scrolled": true
   },
   "outputs": [
    {
     "data": {
      "text/plain": [
       "[<selenium.webdriver.remote.webelement.WebElement (session=\"25c79ae4552ad5ed3e169cccf673fa30\", element=\"0.042061040829651564-1\")>,\n",
       " <selenium.webdriver.remote.webelement.WebElement (session=\"25c79ae4552ad5ed3e169cccf673fa30\", element=\"0.042061040829651564-2\")>,\n",
       " <selenium.webdriver.remote.webelement.WebElement (session=\"25c79ae4552ad5ed3e169cccf673fa30\", element=\"0.042061040829651564-3\")>,\n",
       " <selenium.webdriver.remote.webelement.WebElement (session=\"25c79ae4552ad5ed3e169cccf673fa30\", element=\"0.042061040829651564-42\")>,\n",
       " <selenium.webdriver.remote.webelement.WebElement (session=\"25c79ae4552ad5ed3e169cccf673fa30\", element=\"0.042061040829651564-4\")>,\n",
       " <selenium.webdriver.remote.webelement.WebElement (session=\"25c79ae4552ad5ed3e169cccf673fa30\", element=\"0.042061040829651564-43\")>,\n",
       " <selenium.webdriver.remote.webelement.WebElement (session=\"25c79ae4552ad5ed3e169cccf673fa30\", element=\"0.042061040829651564-5\")>,\n",
       " <selenium.webdriver.remote.webelement.WebElement (session=\"25c79ae4552ad5ed3e169cccf673fa30\", element=\"0.042061040829651564-44\")>,\n",
       " <selenium.webdriver.remote.webelement.WebElement (session=\"25c79ae4552ad5ed3e169cccf673fa30\", element=\"0.042061040829651564-6\")>,\n",
       " <selenium.webdriver.remote.webelement.WebElement (session=\"25c79ae4552ad5ed3e169cccf673fa30\", element=\"0.042061040829651564-45\")>,\n",
       " <selenium.webdriver.remote.webelement.WebElement (session=\"25c79ae4552ad5ed3e169cccf673fa30\", element=\"0.042061040829651564-7\")>,\n",
       " <selenium.webdriver.remote.webelement.WebElement (session=\"25c79ae4552ad5ed3e169cccf673fa30\", element=\"0.042061040829651564-46\")>,\n",
       " <selenium.webdriver.remote.webelement.WebElement (session=\"25c79ae4552ad5ed3e169cccf673fa30\", element=\"0.042061040829651564-8\")>,\n",
       " <selenium.webdriver.remote.webelement.WebElement (session=\"25c79ae4552ad5ed3e169cccf673fa30\", element=\"0.042061040829651564-47\")>,\n",
       " <selenium.webdriver.remote.webelement.WebElement (session=\"25c79ae4552ad5ed3e169cccf673fa30\", element=\"0.042061040829651564-9\")>,\n",
       " <selenium.webdriver.remote.webelement.WebElement (session=\"25c79ae4552ad5ed3e169cccf673fa30\", element=\"0.042061040829651564-48\")>,\n",
       " <selenium.webdriver.remote.webelement.WebElement (session=\"25c79ae4552ad5ed3e169cccf673fa30\", element=\"0.042061040829651564-10\")>,\n",
       " <selenium.webdriver.remote.webelement.WebElement (session=\"25c79ae4552ad5ed3e169cccf673fa30\", element=\"0.042061040829651564-49\")>,\n",
       " <selenium.webdriver.remote.webelement.WebElement (session=\"25c79ae4552ad5ed3e169cccf673fa30\", element=\"0.042061040829651564-11\")>,\n",
       " <selenium.webdriver.remote.webelement.WebElement (session=\"25c79ae4552ad5ed3e169cccf673fa30\", element=\"0.042061040829651564-50\")>,\n",
       " <selenium.webdriver.remote.webelement.WebElement (session=\"25c79ae4552ad5ed3e169cccf673fa30\", element=\"0.042061040829651564-12\")>,\n",
       " <selenium.webdriver.remote.webelement.WebElement (session=\"25c79ae4552ad5ed3e169cccf673fa30\", element=\"0.042061040829651564-54\")>,\n",
       " <selenium.webdriver.remote.webelement.WebElement (session=\"25c79ae4552ad5ed3e169cccf673fa30\", element=\"0.042061040829651564-13\")>,\n",
       " <selenium.webdriver.remote.webelement.WebElement (session=\"25c79ae4552ad5ed3e169cccf673fa30\", element=\"0.042061040829651564-55\")>,\n",
       " <selenium.webdriver.remote.webelement.WebElement (session=\"25c79ae4552ad5ed3e169cccf673fa30\", element=\"0.042061040829651564-14\")>,\n",
       " <selenium.webdriver.remote.webelement.WebElement (session=\"25c79ae4552ad5ed3e169cccf673fa30\", element=\"0.042061040829651564-56\")>,\n",
       " <selenium.webdriver.remote.webelement.WebElement (session=\"25c79ae4552ad5ed3e169cccf673fa30\", element=\"0.042061040829651564-15\")>,\n",
       " <selenium.webdriver.remote.webelement.WebElement (session=\"25c79ae4552ad5ed3e169cccf673fa30\", element=\"0.042061040829651564-57\")>,\n",
       " <selenium.webdriver.remote.webelement.WebElement (session=\"25c79ae4552ad5ed3e169cccf673fa30\", element=\"0.042061040829651564-16\")>,\n",
       " <selenium.webdriver.remote.webelement.WebElement (session=\"25c79ae4552ad5ed3e169cccf673fa30\", element=\"0.042061040829651564-58\")>,\n",
       " <selenium.webdriver.remote.webelement.WebElement (session=\"25c79ae4552ad5ed3e169cccf673fa30\", element=\"0.042061040829651564-17\")>,\n",
       " <selenium.webdriver.remote.webelement.WebElement (session=\"25c79ae4552ad5ed3e169cccf673fa30\", element=\"0.042061040829651564-59\")>,\n",
       " <selenium.webdriver.remote.webelement.WebElement (session=\"25c79ae4552ad5ed3e169cccf673fa30\", element=\"0.042061040829651564-18\")>,\n",
       " <selenium.webdriver.remote.webelement.WebElement (session=\"25c79ae4552ad5ed3e169cccf673fa30\", element=\"0.042061040829651564-60\")>,\n",
       " <selenium.webdriver.remote.webelement.WebElement (session=\"25c79ae4552ad5ed3e169cccf673fa30\", element=\"0.042061040829651564-19\")>,\n",
       " <selenium.webdriver.remote.webelement.WebElement (session=\"25c79ae4552ad5ed3e169cccf673fa30\", element=\"0.042061040829651564-61\")>,\n",
       " <selenium.webdriver.remote.webelement.WebElement (session=\"25c79ae4552ad5ed3e169cccf673fa30\", element=\"0.042061040829651564-20\")>,\n",
       " <selenium.webdriver.remote.webelement.WebElement (session=\"25c79ae4552ad5ed3e169cccf673fa30\", element=\"0.042061040829651564-62\")>,\n",
       " <selenium.webdriver.remote.webelement.WebElement (session=\"25c79ae4552ad5ed3e169cccf673fa30\", element=\"0.042061040829651564-21\")>,\n",
       " <selenium.webdriver.remote.webelement.WebElement (session=\"25c79ae4552ad5ed3e169cccf673fa30\", element=\"0.042061040829651564-63\")>,\n",
       " <selenium.webdriver.remote.webelement.WebElement (session=\"25c79ae4552ad5ed3e169cccf673fa30\", element=\"0.042061040829651564-22\")>,\n",
       " <selenium.webdriver.remote.webelement.WebElement (session=\"25c79ae4552ad5ed3e169cccf673fa30\", element=\"0.042061040829651564-64\")>,\n",
       " <selenium.webdriver.remote.webelement.WebElement (session=\"25c79ae4552ad5ed3e169cccf673fa30\", element=\"0.042061040829651564-23\")>,\n",
       " <selenium.webdriver.remote.webelement.WebElement (session=\"25c79ae4552ad5ed3e169cccf673fa30\", element=\"0.042061040829651564-65\")>,\n",
       " <selenium.webdriver.remote.webelement.WebElement (session=\"25c79ae4552ad5ed3e169cccf673fa30\", element=\"0.042061040829651564-24\")>,\n",
       " <selenium.webdriver.remote.webelement.WebElement (session=\"25c79ae4552ad5ed3e169cccf673fa30\", element=\"0.042061040829651564-66\")>,\n",
       " <selenium.webdriver.remote.webelement.WebElement (session=\"25c79ae4552ad5ed3e169cccf673fa30\", element=\"0.042061040829651564-25\")>,\n",
       " <selenium.webdriver.remote.webelement.WebElement (session=\"25c79ae4552ad5ed3e169cccf673fa30\", element=\"0.042061040829651564-67\")>,\n",
       " <selenium.webdriver.remote.webelement.WebElement (session=\"25c79ae4552ad5ed3e169cccf673fa30\", element=\"0.042061040829651564-26\")>,\n",
       " <selenium.webdriver.remote.webelement.WebElement (session=\"25c79ae4552ad5ed3e169cccf673fa30\", element=\"0.042061040829651564-68\")>,\n",
       " <selenium.webdriver.remote.webelement.WebElement (session=\"25c79ae4552ad5ed3e169cccf673fa30\", element=\"0.042061040829651564-27\")>,\n",
       " <selenium.webdriver.remote.webelement.WebElement (session=\"25c79ae4552ad5ed3e169cccf673fa30\", element=\"0.042061040829651564-69\")>,\n",
       " <selenium.webdriver.remote.webelement.WebElement (session=\"25c79ae4552ad5ed3e169cccf673fa30\", element=\"0.042061040829651564-28\")>,\n",
       " <selenium.webdriver.remote.webelement.WebElement (session=\"25c79ae4552ad5ed3e169cccf673fa30\", element=\"0.042061040829651564-70\")>,\n",
       " <selenium.webdriver.remote.webelement.WebElement (session=\"25c79ae4552ad5ed3e169cccf673fa30\", element=\"0.042061040829651564-29\")>,\n",
       " <selenium.webdriver.remote.webelement.WebElement (session=\"25c79ae4552ad5ed3e169cccf673fa30\", element=\"0.042061040829651564-71\")>,\n",
       " <selenium.webdriver.remote.webelement.WebElement (session=\"25c79ae4552ad5ed3e169cccf673fa30\", element=\"0.042061040829651564-30\")>,\n",
       " <selenium.webdriver.remote.webelement.WebElement (session=\"25c79ae4552ad5ed3e169cccf673fa30\", element=\"0.042061040829651564-72\")>,\n",
       " <selenium.webdriver.remote.webelement.WebElement (session=\"25c79ae4552ad5ed3e169cccf673fa30\", element=\"0.042061040829651564-31\")>,\n",
       " <selenium.webdriver.remote.webelement.WebElement (session=\"25c79ae4552ad5ed3e169cccf673fa30\", element=\"0.042061040829651564-73\")>,\n",
       " <selenium.webdriver.remote.webelement.WebElement (session=\"25c79ae4552ad5ed3e169cccf673fa30\", element=\"0.042061040829651564-32\")>,\n",
       " <selenium.webdriver.remote.webelement.WebElement (session=\"25c79ae4552ad5ed3e169cccf673fa30\", element=\"0.042061040829651564-74\")>,\n",
       " <selenium.webdriver.remote.webelement.WebElement (session=\"25c79ae4552ad5ed3e169cccf673fa30\", element=\"0.042061040829651564-33\")>,\n",
       " <selenium.webdriver.remote.webelement.WebElement (session=\"25c79ae4552ad5ed3e169cccf673fa30\", element=\"0.042061040829651564-75\")>,\n",
       " <selenium.webdriver.remote.webelement.WebElement (session=\"25c79ae4552ad5ed3e169cccf673fa30\", element=\"0.042061040829651564-34\")>,\n",
       " <selenium.webdriver.remote.webelement.WebElement (session=\"25c79ae4552ad5ed3e169cccf673fa30\", element=\"0.042061040829651564-76\")>,\n",
       " <selenium.webdriver.remote.webelement.WebElement (session=\"25c79ae4552ad5ed3e169cccf673fa30\", element=\"0.042061040829651564-35\")>,\n",
       " <selenium.webdriver.remote.webelement.WebElement (session=\"25c79ae4552ad5ed3e169cccf673fa30\", element=\"0.042061040829651564-77\")>,\n",
       " <selenium.webdriver.remote.webelement.WebElement (session=\"25c79ae4552ad5ed3e169cccf673fa30\", element=\"0.042061040829651564-36\")>,\n",
       " <selenium.webdriver.remote.webelement.WebElement (session=\"25c79ae4552ad5ed3e169cccf673fa30\", element=\"0.042061040829651564-78\")>,\n",
       " <selenium.webdriver.remote.webelement.WebElement (session=\"25c79ae4552ad5ed3e169cccf673fa30\", element=\"0.042061040829651564-37\")>,\n",
       " <selenium.webdriver.remote.webelement.WebElement (session=\"25c79ae4552ad5ed3e169cccf673fa30\", element=\"0.042061040829651564-79\")>,\n",
       " <selenium.webdriver.remote.webelement.WebElement (session=\"25c79ae4552ad5ed3e169cccf673fa30\", element=\"0.042061040829651564-38\")>,\n",
       " <selenium.webdriver.remote.webelement.WebElement (session=\"25c79ae4552ad5ed3e169cccf673fa30\", element=\"0.042061040829651564-80\")>,\n",
       " <selenium.webdriver.remote.webelement.WebElement (session=\"25c79ae4552ad5ed3e169cccf673fa30\", element=\"0.042061040829651564-39\")>,\n",
       " <selenium.webdriver.remote.webelement.WebElement (session=\"25c79ae4552ad5ed3e169cccf673fa30\", element=\"0.042061040829651564-51\")>,\n",
       " <selenium.webdriver.remote.webelement.WebElement (session=\"25c79ae4552ad5ed3e169cccf673fa30\", element=\"0.042061040829651564-40\")>,\n",
       " <selenium.webdriver.remote.webelement.WebElement (session=\"25c79ae4552ad5ed3e169cccf673fa30\", element=\"0.042061040829651564-52\")>,\n",
       " <selenium.webdriver.remote.webelement.WebElement (session=\"25c79ae4552ad5ed3e169cccf673fa30\", element=\"0.042061040829651564-41\")>,\n",
       " <selenium.webdriver.remote.webelement.WebElement (session=\"25c79ae4552ad5ed3e169cccf673fa30\", element=\"0.042061040829651564-53\")>]"
      ]
     },
     "execution_count": 124,
     "metadata": {},
     "output_type": "execute_result"
    }
   ],
   "source": [
    "browser.find_elements_by_xpath('//*[@id=\"pagesContainer_e30cfd9e-8075-460d-ae40-61f4bfa6b626\"]//img')#得到所有标签为img元素"
   ]
  },
  {
   "cell_type": "code",
   "execution_count": 125,
   "metadata": {},
   "outputs": [],
   "source": [
    "elements=browser.find_elements_by_xpath('//*[@id=\"pagesContainer_e30cfd9e-8075-460d-ae40-61f4bfa6b626\"]//img')#将所有img元素赋值给elements"
   ]
  },
  {
   "cell_type": "code",
   "execution_count": 126,
   "metadata": {},
   "outputs": [
    {
     "data": {
      "text/plain": [
       "'http://xxgk.nju.edu.cn/_upload/article/files/d0/2d/f052297b4bcfb39b61e7538923e9/e30cfd9e-8075-460d-ae40-61f4bfa6b626_1.png'"
      ]
     },
     "execution_count": 126,
     "metadata": {},
     "output_type": "execute_result"
    }
   ],
   "source": [
    "browser.find_element_by_xpath('//*[@id=\"page_0_e30cfd9e-8075-460d-ae40-61f4bfa6b626\"]').get_attribute('src')#测试"
   ]
  },
  {
   "cell_type": "code",
   "execution_count": 127,
   "metadata": {},
   "outputs": [
    {
     "data": {
      "text/plain": [
       "'data:image/gif;base64,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%3D%3D'"
      ]
     },
     "execution_count": 127,
     "metadata": {},
     "output_type": "execute_result"
    }
   ],
   "source": [
    "elements[1].get_attribute('src')#测试"
   ]
  },
  {
   "cell_type": "code",
   "execution_count": 128,
   "metadata": {},
   "outputs": [
    {
     "data": {
      "text/plain": [
       "'http'"
      ]
     },
     "execution_count": 128,
     "metadata": {},
     "output_type": "execute_result"
    }
   ],
   "source": [
    "elements[0].get_attribute('src')[:4]#测试，为了判断是否为超链接"
   ]
  },
  {
   "cell_type": "code",
   "execution_count": 129,
   "metadata": {},
   "outputs": [],
   "source": [
    "#寻找超链接元素\n",
    "image=[]\n",
    "for ele in elements:\n",
    "    if ele.get_attribute('src')[:4]=='http':\n",
    "        image.append(ele)"
   ]
  },
  {
   "cell_type": "code",
   "execution_count": 130,
   "metadata": {
    "scrolled": true
   },
   "outputs": [
    {
     "data": {
      "text/plain": [
       "[<selenium.webdriver.remote.webelement.WebElement (session=\"25c79ae4552ad5ed3e169cccf673fa30\", element=\"0.042061040829651564-1\")>,\n",
       " <selenium.webdriver.remote.webelement.WebElement (session=\"25c79ae4552ad5ed3e169cccf673fa30\", element=\"0.042061040829651564-3\")>,\n",
       " <selenium.webdriver.remote.webelement.WebElement (session=\"25c79ae4552ad5ed3e169cccf673fa30\", element=\"0.042061040829651564-4\")>,\n",
       " <selenium.webdriver.remote.webelement.WebElement (session=\"25c79ae4552ad5ed3e169cccf673fa30\", element=\"0.042061040829651564-5\")>,\n",
       " <selenium.webdriver.remote.webelement.WebElement (session=\"25c79ae4552ad5ed3e169cccf673fa30\", element=\"0.042061040829651564-6\")>,\n",
       " <selenium.webdriver.remote.webelement.WebElement (session=\"25c79ae4552ad5ed3e169cccf673fa30\", element=\"0.042061040829651564-7\")>,\n",
       " <selenium.webdriver.remote.webelement.WebElement (session=\"25c79ae4552ad5ed3e169cccf673fa30\", element=\"0.042061040829651564-8\")>,\n",
       " <selenium.webdriver.remote.webelement.WebElement (session=\"25c79ae4552ad5ed3e169cccf673fa30\", element=\"0.042061040829651564-9\")>,\n",
       " <selenium.webdriver.remote.webelement.WebElement (session=\"25c79ae4552ad5ed3e169cccf673fa30\", element=\"0.042061040829651564-10\")>,\n",
       " <selenium.webdriver.remote.webelement.WebElement (session=\"25c79ae4552ad5ed3e169cccf673fa30\", element=\"0.042061040829651564-11\")>,\n",
       " <selenium.webdriver.remote.webelement.WebElement (session=\"25c79ae4552ad5ed3e169cccf673fa30\", element=\"0.042061040829651564-12\")>,\n",
       " <selenium.webdriver.remote.webelement.WebElement (session=\"25c79ae4552ad5ed3e169cccf673fa30\", element=\"0.042061040829651564-13\")>,\n",
       " <selenium.webdriver.remote.webelement.WebElement (session=\"25c79ae4552ad5ed3e169cccf673fa30\", element=\"0.042061040829651564-14\")>,\n",
       " <selenium.webdriver.remote.webelement.WebElement (session=\"25c79ae4552ad5ed3e169cccf673fa30\", element=\"0.042061040829651564-15\")>,\n",
       " <selenium.webdriver.remote.webelement.WebElement (session=\"25c79ae4552ad5ed3e169cccf673fa30\", element=\"0.042061040829651564-16\")>,\n",
       " <selenium.webdriver.remote.webelement.WebElement (session=\"25c79ae4552ad5ed3e169cccf673fa30\", element=\"0.042061040829651564-17\")>,\n",
       " <selenium.webdriver.remote.webelement.WebElement (session=\"25c79ae4552ad5ed3e169cccf673fa30\", element=\"0.042061040829651564-18\")>,\n",
       " <selenium.webdriver.remote.webelement.WebElement (session=\"25c79ae4552ad5ed3e169cccf673fa30\", element=\"0.042061040829651564-19\")>,\n",
       " <selenium.webdriver.remote.webelement.WebElement (session=\"25c79ae4552ad5ed3e169cccf673fa30\", element=\"0.042061040829651564-20\")>,\n",
       " <selenium.webdriver.remote.webelement.WebElement (session=\"25c79ae4552ad5ed3e169cccf673fa30\", element=\"0.042061040829651564-21\")>,\n",
       " <selenium.webdriver.remote.webelement.WebElement (session=\"25c79ae4552ad5ed3e169cccf673fa30\", element=\"0.042061040829651564-22\")>,\n",
       " <selenium.webdriver.remote.webelement.WebElement (session=\"25c79ae4552ad5ed3e169cccf673fa30\", element=\"0.042061040829651564-23\")>,\n",
       " <selenium.webdriver.remote.webelement.WebElement (session=\"25c79ae4552ad5ed3e169cccf673fa30\", element=\"0.042061040829651564-24\")>,\n",
       " <selenium.webdriver.remote.webelement.WebElement (session=\"25c79ae4552ad5ed3e169cccf673fa30\", element=\"0.042061040829651564-25\")>,\n",
       " <selenium.webdriver.remote.webelement.WebElement (session=\"25c79ae4552ad5ed3e169cccf673fa30\", element=\"0.042061040829651564-26\")>,\n",
       " <selenium.webdriver.remote.webelement.WebElement (session=\"25c79ae4552ad5ed3e169cccf673fa30\", element=\"0.042061040829651564-27\")>,\n",
       " <selenium.webdriver.remote.webelement.WebElement (session=\"25c79ae4552ad5ed3e169cccf673fa30\", element=\"0.042061040829651564-28\")>,\n",
       " <selenium.webdriver.remote.webelement.WebElement (session=\"25c79ae4552ad5ed3e169cccf673fa30\", element=\"0.042061040829651564-29\")>,\n",
       " <selenium.webdriver.remote.webelement.WebElement (session=\"25c79ae4552ad5ed3e169cccf673fa30\", element=\"0.042061040829651564-30\")>,\n",
       " <selenium.webdriver.remote.webelement.WebElement (session=\"25c79ae4552ad5ed3e169cccf673fa30\", element=\"0.042061040829651564-31\")>,\n",
       " <selenium.webdriver.remote.webelement.WebElement (session=\"25c79ae4552ad5ed3e169cccf673fa30\", element=\"0.042061040829651564-32\")>,\n",
       " <selenium.webdriver.remote.webelement.WebElement (session=\"25c79ae4552ad5ed3e169cccf673fa30\", element=\"0.042061040829651564-33\")>,\n",
       " <selenium.webdriver.remote.webelement.WebElement (session=\"25c79ae4552ad5ed3e169cccf673fa30\", element=\"0.042061040829651564-34\")>,\n",
       " <selenium.webdriver.remote.webelement.WebElement (session=\"25c79ae4552ad5ed3e169cccf673fa30\", element=\"0.042061040829651564-35\")>,\n",
       " <selenium.webdriver.remote.webelement.WebElement (session=\"25c79ae4552ad5ed3e169cccf673fa30\", element=\"0.042061040829651564-36\")>,\n",
       " <selenium.webdriver.remote.webelement.WebElement (session=\"25c79ae4552ad5ed3e169cccf673fa30\", element=\"0.042061040829651564-37\")>,\n",
       " <selenium.webdriver.remote.webelement.WebElement (session=\"25c79ae4552ad5ed3e169cccf673fa30\", element=\"0.042061040829651564-38\")>,\n",
       " <selenium.webdriver.remote.webelement.WebElement (session=\"25c79ae4552ad5ed3e169cccf673fa30\", element=\"0.042061040829651564-39\")>,\n",
       " <selenium.webdriver.remote.webelement.WebElement (session=\"25c79ae4552ad5ed3e169cccf673fa30\", element=\"0.042061040829651564-40\")>,\n",
       " <selenium.webdriver.remote.webelement.WebElement (session=\"25c79ae4552ad5ed3e169cccf673fa30\", element=\"0.042061040829651564-41\")>]"
      ]
     },
     "execution_count": 130,
     "metadata": {},
     "output_type": "execute_result"
    }
   ],
   "source": [
    "image"
   ]
  },
  {
   "cell_type": "code",
   "execution_count": 133,
   "metadata": {},
   "outputs": [
    {
     "data": {
      "text/plain": [
       "'http://xxgk.nju.edu.cn/_upload/article/files/d0/2d/f052297b4bcfb39b61e7538923e9/e30cfd9e-8075-460d-ae40-61f4bfa6b626_13.png'"
      ]
     },
     "execution_count": 133,
     "metadata": {},
     "output_type": "execute_result"
    }
   ],
   "source": [
    "image[12].get_attribute('src')"
   ]
  },
  {
   "cell_type": "code",
   "execution_count": 135,
   "metadata": {},
   "outputs": [],
   "source": [
    "#提取超链接\n",
    "url_all=[]\n",
    "for url in image:\n",
    "    url_all.append(url.get_attribute('src'))"
   ]
  },
  {
   "cell_type": "code",
   "execution_count": null,
   "metadata": {},
   "outputs": [],
   "source": [
    "count=0"
   ]
  },
  {
   "cell_type": "code",
   "execution_count": 150,
   "metadata": {},
   "outputs": [],
   "source": [
    "#访问超链接并保存文件\n",
    "for url_final in url_all[count:]:#设置count是为了防止服务器没响应\n",
    "    r=requests.get(url_final)\n",
    "    time.sleep(5)\n",
    "    count+=1\n",
    "    path=r'C:\\Users\\rk\\Desktop\\123'+'\\\\'+str(count)+'.png'\n",
    "    with open(path, 'wb') as f:\n",
    "    # 对于图片类型的通过r.content方式访问响应内容，将响应内容写入文件中\n",
    "        f.write(r.content)\n",
    "    print(count)"
   ]
  },
  {
   "cell_type": "code",
   "execution_count": null,
   "metadata": {},
   "outputs": [],
   "source": []
  },
  {
   "cell_type": "code",
   "execution_count": null,
   "metadata": {},
   "outputs": [],
   "source": []
  },
  {
   "cell_type": "code",
   "execution_count": null,
   "metadata": {},
   "outputs": [],
   "source": []
  },
  {
   "cell_type": "code",
   "execution_count": null,
   "metadata": {},
   "outputs": [],
   "source": [
    "###########以下为网络资料##############################"
   ]
  },
  {
   "cell_type": "code",
   "execution_count": null,
   "metadata": {},
   "outputs": [],
   "source": [
    "# -*- coding: utf-8 -*-\n",
    "# python 3.5.2\n",
    "# Author:vansnowpea\n",
    "# stocksnap 一个不错的图片网站的图片，右键保存抓取\n",
    "\n",
    "from selenium import webdriver\n",
    "from selenium.webdriver.common.action_chains import ActionChains\n",
    "from selenium.webdriver.common.keys import Keys\n",
    "\n",
    "\n",
    "print('Please wait...Firefox loading...')\n",
    "print('---------------------------------')\n",
    "\n",
    "\n",
    "url = \"https://stocksnap.io/\"\n",
    "\n",
    "# 用浏览器实现访问\n",
    "driver = webdriver.Firefox()\n",
    "driver.maximize_window()\n",
    "driver.get(url)\n",
    "\n",
    "# 得到总的jpgs的路径集合\n",
    "xpath = \"/html/body/div[4]/div[3]/div[2]/div//a/img\"\n",
    "\n",
    "# set profile\n",
    "fp = webdriver.FirefoxProfile()\n",
    "fp.set_preference('browser.download.folderList', 2)\n",
    "fp.set_preference('browser.download.manager.showWhenStarting', False)\n",
    "fp.set_preference('browser.download.dir', './yourfolder/')\n",
    "fp.set_preference('browser.helperApps.neverAsk.saveToDisk', 'image/jpeg')\n",
    "\n",
    "\n",
    "\n",
    "# 保存图片,人工批量点保存，selenium无法操作操作系统级的对话框\n",
    "for element in driver.find_elements_by_xpath(xpath):\n",
    "    img_url = element.get_attribute('src')\n",
    "    img_desc = element.get_attribute('data-desc')\n",
    "\n",
    "    action = ActionChains(driver).move_to_element(element)\n",
    "    action.context_click(element)\n",
    "    action.send_keys(Keys.ARROW_DOWN)\n",
    "    action.send_keys('v')\n",
    "    action.perform()\n",
    "\n",
    "print('Well done! all pictures downloaded.')\n",
    "print('---------------------------------')\n",
    "\n",
    "# driver.close()\n",
    "\n",
    "6、如果图片数量少，人工保存下也无妨，但数量大肯定不行，所以还是用常规的自动写入数据保存的方式。另外此网站是通过ajax异步加载，当鼠标放到首页30个图的下方，也就是浏览器底部区域，他又会自动加载新的图片出来。而通过新的第一层代码的模拟鼠标下移，可以得到更多的图片。千万要注意的是，在python 3中，对数dict的关键词查找是in，比如：if n in previous:而在python 2 中是has_key,比如：if previous.has_key(n):对应代码为：\n",
    "# python 3.5.2\n",
    "from selenium import webdriver  \n",
    "import time  \n",
    "import urllib\n",
    "\n",
    "\n",
    "# 爬取页面地址  \n",
    "url = \"https://stocksnap.io/\"\n",
    "\n",
    "# 目标元素的xpath  \n",
    "xpath = \"/html/body/div[4]/div[3]/div[2]/div//a/img\"\n",
    "  \n",
    "# 启动Firefox浏览器  \n",
    "driver = webdriver.Firefox()  \n",
    "  \n",
    "# 最大化窗口，因为每一次爬取只能看到视窗内的图片  \n",
    "driver.maximize_window()  \n",
    "  \n",
    "# 记录下载过的图片地址，避免重复下载  \n",
    "img_url_dic = {}  \n",
    "  \n",
    "# 浏览器打开爬取页面  \n",
    "driver.get(url)  \n",
    "  \n",
    "# 模拟滚动窗口以浏览下载更多图片  \n",
    "pos = 0  \n",
    "m = 0 # 图片编号  \n",
    "for i in range(10):  \n",
    "    pos += i*500 # 每次下滚500  \n",
    "    js = \"document.documentElement.scrollTop=%d\" % pos  \n",
    "    driver.execute_script(js)  \n",
    "    time.sleep(1)     \n",
    "      \n",
    "    for element in driver.find_elements_by_xpath(xpath):  \n",
    "        img_url = element.get_attribute('src')  \n",
    "        # 保存图片到指定路径  \n",
    "        if img_url != None and not img_url in img_url_dic:\n",
    "\n",
    "            img_url_dic[img_url] = ''  \n",
    "            m += 1  \n",
    "            ext = img_url.split('.')[-1]  \n",
    "            filename = str(m) + '.' + ext  \n",
    "            #保存图片数据  \n",
    "            data = urllib.request.urlopen(img_url).read()\n",
    "            f = open('./van/' + filename, 'wb')\n",
    "            f.write(data)  \n",
    "            f.close()  \n",
    "driver.close()\n",
    "\n",
    "作者：vansnowpea\n",
    "链接：https://www.jianshu.com/p/9bdcd62eec87\n",
    "来源：简书\n",
    "简书著作权归作者所有，任何形式的转载都请联系作者获得授权并注明出处。"
   ]
  },
  {
   "cell_type": "code",
   "execution_count": null,
   "metadata": {},
   "outputs": [],
   "source": []
  },
  {
   "cell_type": "code",
   "execution_count": null,
   "metadata": {},
   "outputs": [],
   "source": [
    "# python 3.5.2\n",
    "from selenium import webdriver  \n",
    "import time  \n",
    "import urllib\n",
    "\n",
    "\n",
    "# 爬取页面地址  \n",
    "url = \"https://stocksnap.io/\"\n",
    "\n",
    "# 目标元素的xpath  \n",
    "xpath = \"/html/body/div[4]/div[3]/div[2]/div//a/img\"\n",
    "\n",
    "# 启动Firefox浏览器  \n",
    "driver = webdriver.Firefox()  \n",
    "\n",
    "# 最大化窗口，因为每一次爬取只能看到视窗内的图片  \n",
    "driver.maximize_window()  \n",
    "\n",
    "# 记录下载过的图片地址，避免重复下载  \n",
    "img_url_dic = {}  \n",
    "\n",
    "# 浏览器打开爬取页面  \n",
    "driver.get(url)  \n",
    "\n",
    "# 模拟滚动窗口以浏览下载更多图片  \n",
    "pos = 0  \n",
    "m = 0 # 图片编号  \n",
    "for i in range(10):  \n",
    "    pos += i*500 # 每次下滚500  \n",
    "    js = \"document.documentElement.scrollTop=%d\" % pos  \n",
    "    driver.execute_script(js)  \n",
    "    time.sleep(1)     \n",
    "\n",
    "    for element in driver.find_elements_by_xpath(xpath):  \n",
    "        img_url = element.get_attribute('src')  \n",
    "        # 保存图片到指定路径  \n",
    "        if img_url != None and not img_url in img_url_dic:\n",
    "\n",
    "            img_url_dic[img_url] = ''  \n",
    "            m += 1  \n",
    "            ext = img_url.split('.')[-1]  \n",
    "            filename = str(m) + '.' + ext  \n",
    "            #保存图片数据  \n",
    "            data = urllib.request.urlopen(img_url).read()\n",
    "            f = open('./van/' + filename, 'wb')\n",
    "            f.write(data)  \n",
    "            f.close()  \n",
    "driver.close()"
   ]
  },
  {
   "cell_type": "code",
   "execution_count": null,
   "metadata": {},
   "outputs": [],
   "source": []
  },
  {
   "cell_type": "code",
   "execution_count": null,
   "metadata": {},
   "outputs": [],
   "source": [
    "r=requests.get(url_final)\n",
    "path=r'C:\\Users\\rk\\Desktop\\123'+'\\\\'+str(count)+'.png'\n",
    "with open(path, 'wb') as f:# 对于图片类型的通过r.content方式访问响应内容，将响应内容写入文件中\n",
    "    f.write(r.content)"
   ]
  },
  {
   "cell_type": "code",
   "execution_count": 4,
   "metadata": {},
   "outputs": [],
   "source": [
    "########################服务器崩溃后，从此处运行##########################################\n",
    "browser = webdriver.Chrome('C:/Users/rk/Desktop/chromedriver.exe') #锁定浏览器"
   ]
  },
  {
   "cell_type": "code",
   "execution_count": 5,
   "metadata": {},
   "outputs": [],
   "source": [
    "browser.get(\"http://xxgk.nju.edu.cn/e4/f7/c15434a320759/page.htm\")#访问网页"
   ]
  },
  {
   "cell_type": "code",
   "execution_count": 9,
   "metadata": {},
   "outputs": [],
   "source": [
    "response = requests.get('https://t2.chei.com.cn/gkcdn/img/mdgs/zzlqmd/2018_10001_12_0_3_0cb6b293be17e21a59adb17e0cf902e0_96e50d9b37c607b1baa8ccb788e7f774.jpg')"
   ]
  },
  {
   "cell_type": "code",
   "execution_count": 10,
   "metadata": {},
   "outputs": [
    {
     "data": {
      "text/plain": [
       "200"
      ]
     },
     "execution_count": 10,
     "metadata": {},
     "output_type": "execute_result"
    }
   ],
   "source": [
    "response.status_code"
   ]
  },
  {
   "cell_type": "code",
   "execution_count": null,
   "metadata": {},
   "outputs": [],
   "source": []
  },
  {
   "cell_type": "code",
   "execution_count": null,
   "metadata": {},
   "outputs": [],
   "source": []
  },
  {
   "cell_type": "code",
   "execution_count": 14,
   "metadata": {},
   "outputs": [],
   "source": [
    "path=r'C:\\Users\\rk\\Desktop\\123'+'\\\\'+str(1)+'.jpg'"
   ]
  },
  {
   "cell_type": "code",
   "execution_count": 15,
   "metadata": {},
   "outputs": [],
   "source": [
    "with open(path, 'wb') as f:# 对于图片类型的通过r.content方式访问响应内容，将响应内容写入文件中\n",
    "    f.write(response.content)"
   ]
  },
  {
   "cell_type": "code",
   "execution_count": 18,
   "metadata": {},
   "outputs": [
    {
     "data": {
      "text/plain": [
       "{'Date': 'Wed, 21 Aug 2019 05:18:21 GMT', 'Content-Type': 'image/jpeg', 'Transfer-Encoding': 'chunked', 'Expires': 'Wed, 21 Aug 2019 08:17:21 GMT', 'Cache-Control': 'max-age:10800', 'Last-Modified': 'Wed, 21 Aug 2019 05:17:21 GMT', 'X-Via': '1.1 PSbjwjBGP2gg237:4 (Cdn Cache Server V2.0), 1.1 changzhoudianxin46:9 (Cdn Cache Server V2.0), 1.1 qinzhoudianxin71:14 (Cdn Cache Server V2.0)', 'Connection': 'keep-alive'}"
      ]
     },
     "execution_count": 18,
     "metadata": {},
     "output_type": "execute_result"
    }
   ],
   "source": [
    "response.headers"
   ]
  },
  {
   "cell_type": "code",
   "execution_count": null,
   "metadata": {},
   "outputs": [],
   "source": []
  },
  {
   "cell_type": "code",
   "execution_count": null,
   "metadata": {},
   "outputs": [],
   "source": []
  },
  {
   "cell_type": "code",
   "execution_count": null,
   "metadata": {},
   "outputs": [],
   "source": []
  },
  {
   "cell_type": "code",
   "execution_count": null,
   "metadata": {},
   "outputs": [],
   "source": []
  },
  {
   "cell_type": "code",
   "execution_count": null,
   "metadata": {},
   "outputs": [],
   "source": []
  },
  {
   "cell_type": "code",
   "execution_count": null,
   "metadata": {},
   "outputs": [],
   "source": []
  },
  {
   "cell_type": "code",
   "execution_count": null,
   "metadata": {},
   "outputs": [],
   "source": []
  },
  {
   "cell_type": "code",
   "execution_count": null,
   "metadata": {},
   "outputs": [],
   "source": []
  },
  {
   "cell_type": "code",
   "execution_count": null,
   "metadata": {},
   "outputs": [],
   "source": []
  },
  {
   "cell_type": "code",
   "execution_count": null,
   "metadata": {},
   "outputs": [],
   "source": []
  },
  {
   "cell_type": "code",
   "execution_count": null,
   "metadata": {},
   "outputs": [],
   "source": []
  },
  {
   "cell_type": "code",
   "execution_count": null,
   "metadata": {},
   "outputs": [],
   "source": []
  }
 ],
 "metadata": {
  "kernelspec": {
   "display_name": "Python 3",
   "language": "python",
   "name": "python3"
  },
  "language_info": {
   "codemirror_mode": {
    "name": "ipython",
    "version": 3
   },
   "file_extension": ".py",
   "mimetype": "text/x-python",
   "name": "python",
   "nbconvert_exporter": "python",
   "pygments_lexer": "ipython3",
   "version": "3.6.5"
  }
 },
 "nbformat": 4,
 "nbformat_minor": 2
}
