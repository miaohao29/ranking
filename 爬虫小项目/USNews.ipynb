{
 "cells": [
  {
   "cell_type": "code",
   "execution_count": 1,
   "metadata": {},
   "outputs": [],
   "source": [
    "#_*_coding: utf-8_*_\n",
    "import pandas as pd\n",
    "import numpy as np\n",
    "from selenium import webdriver #从selenium中调入webdriver\n",
    "import time\n",
    "#from selenium.webdriver.common.keys import Keys\n",
    "import random"
   ]
  },
  {
   "cell_type": "code",
   "execution_count": 25,
   "metadata": {},
   "outputs": [],
   "source": [
    "browser = webdriver.Chrome('C:/Users/rk/Desktop/chromedriver.exe') #锁定浏览器"
   ]
  },
  {
   "cell_type": "code",
   "execution_count": 26,
   "metadata": {},
   "outputs": [
    {
     "ename": "KeyboardInterrupt",
     "evalue": "",
     "output_type": "error",
     "traceback": [
      "\u001b[1;31m---------------------------------------------------------------------------\u001b[0m",
      "\u001b[1;31mTypeError\u001b[0m                                 Traceback (most recent call last)",
      "\u001b[1;32mC:\\ProgramData\\Anaconda3\\lib\\site-packages\\urllib3\\connectionpool.py\u001b[0m in \u001b[0;36m_make_request\u001b[1;34m(self, conn, method, url, timeout, chunked, **httplib_request_kw)\u001b[0m\n\u001b[0;32m    379\u001b[0m             \u001b[1;32mtry\u001b[0m\u001b[1;33m:\u001b[0m  \u001b[1;31m# Python 2.7, use buffering of HTTP responses\u001b[0m\u001b[1;33m\u001b[0m\u001b[0m\n\u001b[1;32m--> 380\u001b[1;33m                 \u001b[0mhttplib_response\u001b[0m \u001b[1;33m=\u001b[0m \u001b[0mconn\u001b[0m\u001b[1;33m.\u001b[0m\u001b[0mgetresponse\u001b[0m\u001b[1;33m(\u001b[0m\u001b[0mbuffering\u001b[0m\u001b[1;33m=\u001b[0m\u001b[1;32mTrue\u001b[0m\u001b[1;33m)\u001b[0m\u001b[1;33m\u001b[0m\u001b[0m\n\u001b[0m\u001b[0;32m    381\u001b[0m             \u001b[1;32mexcept\u001b[0m \u001b[0mTypeError\u001b[0m\u001b[1;33m:\u001b[0m  \u001b[1;31m# Python 2.6 and older, Python 3\u001b[0m\u001b[1;33m\u001b[0m\u001b[0m\n",
      "\u001b[1;31mTypeError\u001b[0m: getresponse() got an unexpected keyword argument 'buffering'",
      "\nDuring handling of the above exception, another exception occurred:\n",
      "\u001b[1;31mKeyboardInterrupt\u001b[0m                         Traceback (most recent call last)",
      "\u001b[1;32m<ipython-input-26-eb862d990e4c>\u001b[0m in \u001b[0;36m<module>\u001b[1;34m()\u001b[0m\n\u001b[1;32m----> 1\u001b[1;33m \u001b[0mbrowser\u001b[0m\u001b[1;33m.\u001b[0m\u001b[0mget\u001b[0m\u001b[1;33m(\u001b[0m\u001b[1;34m\"https://www.usnews.com/education/best-global-universities\"\u001b[0m\u001b[1;33m)\u001b[0m \u001b[1;31m#访问页面\u001b[0m\u001b[1;33m\u001b[0m\u001b[0m\n\u001b[0m",
      "\u001b[1;32mC:\\ProgramData\\Anaconda3\\lib\\site-packages\\selenium\\webdriver\\remote\\webdriver.py\u001b[0m in \u001b[0;36mget\u001b[1;34m(self, url)\u001b[0m\n\u001b[0;32m    330\u001b[0m         \u001b[0mLoads\u001b[0m \u001b[0ma\u001b[0m \u001b[0mweb\u001b[0m \u001b[0mpage\u001b[0m \u001b[1;32min\u001b[0m \u001b[0mthe\u001b[0m \u001b[0mcurrent\u001b[0m \u001b[0mbrowser\u001b[0m \u001b[0msession\u001b[0m\u001b[1;33m.\u001b[0m\u001b[1;33m\u001b[0m\u001b[0m\n\u001b[0;32m    331\u001b[0m         \"\"\"\n\u001b[1;32m--> 332\u001b[1;33m         \u001b[0mself\u001b[0m\u001b[1;33m.\u001b[0m\u001b[0mexecute\u001b[0m\u001b[1;33m(\u001b[0m\u001b[0mCommand\u001b[0m\u001b[1;33m.\u001b[0m\u001b[0mGET\u001b[0m\u001b[1;33m,\u001b[0m \u001b[1;33m{\u001b[0m\u001b[1;34m'url'\u001b[0m\u001b[1;33m:\u001b[0m \u001b[0murl\u001b[0m\u001b[1;33m}\u001b[0m\u001b[1;33m)\u001b[0m\u001b[1;33m\u001b[0m\u001b[0m\n\u001b[0m\u001b[0;32m    333\u001b[0m \u001b[1;33m\u001b[0m\u001b[0m\n\u001b[0;32m    334\u001b[0m     \u001b[1;33m@\u001b[0m\u001b[0mproperty\u001b[0m\u001b[1;33m\u001b[0m\u001b[0m\n",
      "\u001b[1;32mC:\\ProgramData\\Anaconda3\\lib\\site-packages\\selenium\\webdriver\\remote\\webdriver.py\u001b[0m in \u001b[0;36mexecute\u001b[1;34m(self, driver_command, params)\u001b[0m\n\u001b[0;32m    316\u001b[0m \u001b[1;33m\u001b[0m\u001b[0m\n\u001b[0;32m    317\u001b[0m         \u001b[0mparams\u001b[0m \u001b[1;33m=\u001b[0m \u001b[0mself\u001b[0m\u001b[1;33m.\u001b[0m\u001b[0m_wrap_value\u001b[0m\u001b[1;33m(\u001b[0m\u001b[0mparams\u001b[0m\u001b[1;33m)\u001b[0m\u001b[1;33m\u001b[0m\u001b[0m\n\u001b[1;32m--> 318\u001b[1;33m         \u001b[0mresponse\u001b[0m \u001b[1;33m=\u001b[0m \u001b[0mself\u001b[0m\u001b[1;33m.\u001b[0m\u001b[0mcommand_executor\u001b[0m\u001b[1;33m.\u001b[0m\u001b[0mexecute\u001b[0m\u001b[1;33m(\u001b[0m\u001b[0mdriver_command\u001b[0m\u001b[1;33m,\u001b[0m \u001b[0mparams\u001b[0m\u001b[1;33m)\u001b[0m\u001b[1;33m\u001b[0m\u001b[0m\n\u001b[0m\u001b[0;32m    319\u001b[0m         \u001b[1;32mif\u001b[0m \u001b[0mresponse\u001b[0m\u001b[1;33m:\u001b[0m\u001b[1;33m\u001b[0m\u001b[0m\n\u001b[0;32m    320\u001b[0m             \u001b[0mself\u001b[0m\u001b[1;33m.\u001b[0m\u001b[0merror_handler\u001b[0m\u001b[1;33m.\u001b[0m\u001b[0mcheck_response\u001b[0m\u001b[1;33m(\u001b[0m\u001b[0mresponse\u001b[0m\u001b[1;33m)\u001b[0m\u001b[1;33m\u001b[0m\u001b[0m\n",
      "\u001b[1;32mC:\\ProgramData\\Anaconda3\\lib\\site-packages\\selenium\\webdriver\\remote\\remote_connection.py\u001b[0m in \u001b[0;36mexecute\u001b[1;34m(self, command, params)\u001b[0m\n\u001b[0;32m    373\u001b[0m         \u001b[0mdata\u001b[0m \u001b[1;33m=\u001b[0m \u001b[0mutils\u001b[0m\u001b[1;33m.\u001b[0m\u001b[0mdump_json\u001b[0m\u001b[1;33m(\u001b[0m\u001b[0mparams\u001b[0m\u001b[1;33m)\u001b[0m\u001b[1;33m\u001b[0m\u001b[0m\n\u001b[0;32m    374\u001b[0m         \u001b[0murl\u001b[0m \u001b[1;33m=\u001b[0m \u001b[1;34m'%s%s'\u001b[0m \u001b[1;33m%\u001b[0m \u001b[1;33m(\u001b[0m\u001b[0mself\u001b[0m\u001b[1;33m.\u001b[0m\u001b[0m_url\u001b[0m\u001b[1;33m,\u001b[0m \u001b[0mpath\u001b[0m\u001b[1;33m)\u001b[0m\u001b[1;33m\u001b[0m\u001b[0m\n\u001b[1;32m--> 375\u001b[1;33m         \u001b[1;32mreturn\u001b[0m \u001b[0mself\u001b[0m\u001b[1;33m.\u001b[0m\u001b[0m_request\u001b[0m\u001b[1;33m(\u001b[0m\u001b[0mcommand_info\u001b[0m\u001b[1;33m[\u001b[0m\u001b[1;36m0\u001b[0m\u001b[1;33m]\u001b[0m\u001b[1;33m,\u001b[0m \u001b[0murl\u001b[0m\u001b[1;33m,\u001b[0m \u001b[0mbody\u001b[0m\u001b[1;33m=\u001b[0m\u001b[0mdata\u001b[0m\u001b[1;33m)\u001b[0m\u001b[1;33m\u001b[0m\u001b[0m\n\u001b[0m\u001b[0;32m    376\u001b[0m \u001b[1;33m\u001b[0m\u001b[0m\n\u001b[0;32m    377\u001b[0m     \u001b[1;32mdef\u001b[0m \u001b[0m_request\u001b[0m\u001b[1;33m(\u001b[0m\u001b[0mself\u001b[0m\u001b[1;33m,\u001b[0m \u001b[0mmethod\u001b[0m\u001b[1;33m,\u001b[0m \u001b[0murl\u001b[0m\u001b[1;33m,\u001b[0m \u001b[0mbody\u001b[0m\u001b[1;33m=\u001b[0m\u001b[1;32mNone\u001b[0m\u001b[1;33m)\u001b[0m\u001b[1;33m:\u001b[0m\u001b[1;33m\u001b[0m\u001b[0m\n",
      "\u001b[1;32mC:\\ProgramData\\Anaconda3\\lib\\site-packages\\selenium\\webdriver\\remote\\remote_connection.py\u001b[0m in \u001b[0;36m_request\u001b[1;34m(self, method, url, body)\u001b[0m\n\u001b[0;32m    395\u001b[0m             \u001b[1;32mif\u001b[0m \u001b[0mbody\u001b[0m \u001b[1;32mand\u001b[0m \u001b[0mmethod\u001b[0m \u001b[1;33m!=\u001b[0m \u001b[1;34m'POST'\u001b[0m \u001b[1;32mand\u001b[0m \u001b[0mmethod\u001b[0m \u001b[1;33m!=\u001b[0m \u001b[1;34m'PUT'\u001b[0m\u001b[1;33m:\u001b[0m\u001b[1;33m\u001b[0m\u001b[0m\n\u001b[0;32m    396\u001b[0m                 \u001b[0mbody\u001b[0m \u001b[1;33m=\u001b[0m \u001b[1;32mNone\u001b[0m\u001b[1;33m\u001b[0m\u001b[0m\n\u001b[1;32m--> 397\u001b[1;33m             \u001b[0mresp\u001b[0m \u001b[1;33m=\u001b[0m \u001b[0mself\u001b[0m\u001b[1;33m.\u001b[0m\u001b[0m_conn\u001b[0m\u001b[1;33m.\u001b[0m\u001b[0mrequest\u001b[0m\u001b[1;33m(\u001b[0m\u001b[0mmethod\u001b[0m\u001b[1;33m,\u001b[0m \u001b[0murl\u001b[0m\u001b[1;33m,\u001b[0m \u001b[0mbody\u001b[0m\u001b[1;33m=\u001b[0m\u001b[0mbody\u001b[0m\u001b[1;33m,\u001b[0m \u001b[0mheaders\u001b[0m\u001b[1;33m=\u001b[0m\u001b[0mheaders\u001b[0m\u001b[1;33m)\u001b[0m\u001b[1;33m\u001b[0m\u001b[0m\n\u001b[0m\u001b[0;32m    398\u001b[0m \u001b[1;33m\u001b[0m\u001b[0m\n\u001b[0;32m    399\u001b[0m             \u001b[0mstatuscode\u001b[0m \u001b[1;33m=\u001b[0m \u001b[0mresp\u001b[0m\u001b[1;33m.\u001b[0m\u001b[0mstatus\u001b[0m\u001b[1;33m\u001b[0m\u001b[0m\n",
      "\u001b[1;32mC:\\ProgramData\\Anaconda3\\lib\\site-packages\\urllib3\\request.py\u001b[0m in \u001b[0;36mrequest\u001b[1;34m(self, method, url, fields, headers, **urlopen_kw)\u001b[0m\n\u001b[0;32m     68\u001b[0m             return self.request_encode_body(method, url, fields=fields,\n\u001b[0;32m     69\u001b[0m                                             \u001b[0mheaders\u001b[0m\u001b[1;33m=\u001b[0m\u001b[0mheaders\u001b[0m\u001b[1;33m,\u001b[0m\u001b[1;33m\u001b[0m\u001b[0m\n\u001b[1;32m---> 70\u001b[1;33m                                             **urlopen_kw)\n\u001b[0m\u001b[0;32m     71\u001b[0m \u001b[1;33m\u001b[0m\u001b[0m\n\u001b[0;32m     72\u001b[0m     def request_encode_url(self, method, url, fields=None, headers=None,\n",
      "\u001b[1;32mC:\\ProgramData\\Anaconda3\\lib\\site-packages\\urllib3\\request.py\u001b[0m in \u001b[0;36mrequest_encode_body\u001b[1;34m(self, method, url, fields, headers, encode_multipart, multipart_boundary, **urlopen_kw)\u001b[0m\n\u001b[0;32m    146\u001b[0m         \u001b[0mextra_kw\u001b[0m\u001b[1;33m.\u001b[0m\u001b[0mupdate\u001b[0m\u001b[1;33m(\u001b[0m\u001b[0murlopen_kw\u001b[0m\u001b[1;33m)\u001b[0m\u001b[1;33m\u001b[0m\u001b[0m\n\u001b[0;32m    147\u001b[0m \u001b[1;33m\u001b[0m\u001b[0m\n\u001b[1;32m--> 148\u001b[1;33m         \u001b[1;32mreturn\u001b[0m \u001b[0mself\u001b[0m\u001b[1;33m.\u001b[0m\u001b[0murlopen\u001b[0m\u001b[1;33m(\u001b[0m\u001b[0mmethod\u001b[0m\u001b[1;33m,\u001b[0m \u001b[0murl\u001b[0m\u001b[1;33m,\u001b[0m \u001b[1;33m**\u001b[0m\u001b[0mextra_kw\u001b[0m\u001b[1;33m)\u001b[0m\u001b[1;33m\u001b[0m\u001b[0m\n\u001b[0m",
      "\u001b[1;32mC:\\ProgramData\\Anaconda3\\lib\\site-packages\\urllib3\\poolmanager.py\u001b[0m in \u001b[0;36murlopen\u001b[1;34m(self, method, url, redirect, **kw)\u001b[0m\n\u001b[0;32m    319\u001b[0m             \u001b[0mresponse\u001b[0m \u001b[1;33m=\u001b[0m \u001b[0mconn\u001b[0m\u001b[1;33m.\u001b[0m\u001b[0murlopen\u001b[0m\u001b[1;33m(\u001b[0m\u001b[0mmethod\u001b[0m\u001b[1;33m,\u001b[0m \u001b[0murl\u001b[0m\u001b[1;33m,\u001b[0m \u001b[1;33m**\u001b[0m\u001b[0mkw\u001b[0m\u001b[1;33m)\u001b[0m\u001b[1;33m\u001b[0m\u001b[0m\n\u001b[0;32m    320\u001b[0m         \u001b[1;32melse\u001b[0m\u001b[1;33m:\u001b[0m\u001b[1;33m\u001b[0m\u001b[0m\n\u001b[1;32m--> 321\u001b[1;33m             \u001b[0mresponse\u001b[0m \u001b[1;33m=\u001b[0m \u001b[0mconn\u001b[0m\u001b[1;33m.\u001b[0m\u001b[0murlopen\u001b[0m\u001b[1;33m(\u001b[0m\u001b[0mmethod\u001b[0m\u001b[1;33m,\u001b[0m \u001b[0mu\u001b[0m\u001b[1;33m.\u001b[0m\u001b[0mrequest_uri\u001b[0m\u001b[1;33m,\u001b[0m \u001b[1;33m**\u001b[0m\u001b[0mkw\u001b[0m\u001b[1;33m)\u001b[0m\u001b[1;33m\u001b[0m\u001b[0m\n\u001b[0m\u001b[0;32m    322\u001b[0m \u001b[1;33m\u001b[0m\u001b[0m\n\u001b[0;32m    323\u001b[0m         \u001b[0mredirect_location\u001b[0m \u001b[1;33m=\u001b[0m \u001b[0mredirect\u001b[0m \u001b[1;32mand\u001b[0m \u001b[0mresponse\u001b[0m\u001b[1;33m.\u001b[0m\u001b[0mget_redirect_location\u001b[0m\u001b[1;33m(\u001b[0m\u001b[1;33m)\u001b[0m\u001b[1;33m\u001b[0m\u001b[0m\n",
      "\u001b[1;32mC:\\ProgramData\\Anaconda3\\lib\\site-packages\\urllib3\\connectionpool.py\u001b[0m in \u001b[0;36murlopen\u001b[1;34m(self, method, url, body, headers, retries, redirect, assert_same_host, timeout, pool_timeout, release_conn, chunked, body_pos, **response_kw)\u001b[0m\n\u001b[0;32m    599\u001b[0m                                                   \u001b[0mtimeout\u001b[0m\u001b[1;33m=\u001b[0m\u001b[0mtimeout_obj\u001b[0m\u001b[1;33m,\u001b[0m\u001b[1;33m\u001b[0m\u001b[0m\n\u001b[0;32m    600\u001b[0m                                                   \u001b[0mbody\u001b[0m\u001b[1;33m=\u001b[0m\u001b[0mbody\u001b[0m\u001b[1;33m,\u001b[0m \u001b[0mheaders\u001b[0m\u001b[1;33m=\u001b[0m\u001b[0mheaders\u001b[0m\u001b[1;33m,\u001b[0m\u001b[1;33m\u001b[0m\u001b[0m\n\u001b[1;32m--> 601\u001b[1;33m                                                   chunked=chunked)\n\u001b[0m\u001b[0;32m    602\u001b[0m \u001b[1;33m\u001b[0m\u001b[0m\n\u001b[0;32m    603\u001b[0m             \u001b[1;31m# If we're going to release the connection in ``finally:``, then\u001b[0m\u001b[1;33m\u001b[0m\u001b[1;33m\u001b[0m\u001b[0m\n",
      "\u001b[1;32mC:\\ProgramData\\Anaconda3\\lib\\site-packages\\urllib3\\connectionpool.py\u001b[0m in \u001b[0;36m_make_request\u001b[1;34m(self, conn, method, url, timeout, chunked, **httplib_request_kw)\u001b[0m\n\u001b[0;32m    381\u001b[0m             \u001b[1;32mexcept\u001b[0m \u001b[0mTypeError\u001b[0m\u001b[1;33m:\u001b[0m  \u001b[1;31m# Python 2.6 and older, Python 3\u001b[0m\u001b[1;33m\u001b[0m\u001b[0m\n\u001b[0;32m    382\u001b[0m                 \u001b[1;32mtry\u001b[0m\u001b[1;33m:\u001b[0m\u001b[1;33m\u001b[0m\u001b[0m\n\u001b[1;32m--> 383\u001b[1;33m                     \u001b[0mhttplib_response\u001b[0m \u001b[1;33m=\u001b[0m \u001b[0mconn\u001b[0m\u001b[1;33m.\u001b[0m\u001b[0mgetresponse\u001b[0m\u001b[1;33m(\u001b[0m\u001b[1;33m)\u001b[0m\u001b[1;33m\u001b[0m\u001b[0m\n\u001b[0m\u001b[0;32m    384\u001b[0m                 \u001b[1;32mexcept\u001b[0m \u001b[0mException\u001b[0m \u001b[1;32mas\u001b[0m \u001b[0me\u001b[0m\u001b[1;33m:\u001b[0m\u001b[1;33m\u001b[0m\u001b[0m\n\u001b[0;32m    385\u001b[0m                     \u001b[1;31m# Remove the TypeError from the exception chain in Python 3;\u001b[0m\u001b[1;33m\u001b[0m\u001b[1;33m\u001b[0m\u001b[0m\n",
      "\u001b[1;32mC:\\ProgramData\\Anaconda3\\lib\\http\\client.py\u001b[0m in \u001b[0;36mgetresponse\u001b[1;34m(self)\u001b[0m\n\u001b[0;32m   1329\u001b[0m         \u001b[1;32mtry\u001b[0m\u001b[1;33m:\u001b[0m\u001b[1;33m\u001b[0m\u001b[0m\n\u001b[0;32m   1330\u001b[0m             \u001b[1;32mtry\u001b[0m\u001b[1;33m:\u001b[0m\u001b[1;33m\u001b[0m\u001b[0m\n\u001b[1;32m-> 1331\u001b[1;33m                 \u001b[0mresponse\u001b[0m\u001b[1;33m.\u001b[0m\u001b[0mbegin\u001b[0m\u001b[1;33m(\u001b[0m\u001b[1;33m)\u001b[0m\u001b[1;33m\u001b[0m\u001b[0m\n\u001b[0m\u001b[0;32m   1332\u001b[0m             \u001b[1;32mexcept\u001b[0m \u001b[0mConnectionError\u001b[0m\u001b[1;33m:\u001b[0m\u001b[1;33m\u001b[0m\u001b[0m\n\u001b[0;32m   1333\u001b[0m                 \u001b[0mself\u001b[0m\u001b[1;33m.\u001b[0m\u001b[0mclose\u001b[0m\u001b[1;33m(\u001b[0m\u001b[1;33m)\u001b[0m\u001b[1;33m\u001b[0m\u001b[0m\n",
      "\u001b[1;32mC:\\ProgramData\\Anaconda3\\lib\\http\\client.py\u001b[0m in \u001b[0;36mbegin\u001b[1;34m(self)\u001b[0m\n\u001b[0;32m    295\u001b[0m         \u001b[1;31m# read until we get a non-100 response\u001b[0m\u001b[1;33m\u001b[0m\u001b[1;33m\u001b[0m\u001b[0m\n\u001b[0;32m    296\u001b[0m         \u001b[1;32mwhile\u001b[0m \u001b[1;32mTrue\u001b[0m\u001b[1;33m:\u001b[0m\u001b[1;33m\u001b[0m\u001b[0m\n\u001b[1;32m--> 297\u001b[1;33m             \u001b[0mversion\u001b[0m\u001b[1;33m,\u001b[0m \u001b[0mstatus\u001b[0m\u001b[1;33m,\u001b[0m \u001b[0mreason\u001b[0m \u001b[1;33m=\u001b[0m \u001b[0mself\u001b[0m\u001b[1;33m.\u001b[0m\u001b[0m_read_status\u001b[0m\u001b[1;33m(\u001b[0m\u001b[1;33m)\u001b[0m\u001b[1;33m\u001b[0m\u001b[0m\n\u001b[0m\u001b[0;32m    298\u001b[0m             \u001b[1;32mif\u001b[0m \u001b[0mstatus\u001b[0m \u001b[1;33m!=\u001b[0m \u001b[0mCONTINUE\u001b[0m\u001b[1;33m:\u001b[0m\u001b[1;33m\u001b[0m\u001b[0m\n\u001b[0;32m    299\u001b[0m                 \u001b[1;32mbreak\u001b[0m\u001b[1;33m\u001b[0m\u001b[0m\n",
      "\u001b[1;32mC:\\ProgramData\\Anaconda3\\lib\\http\\client.py\u001b[0m in \u001b[0;36m_read_status\u001b[1;34m(self)\u001b[0m\n\u001b[0;32m    256\u001b[0m \u001b[1;33m\u001b[0m\u001b[0m\n\u001b[0;32m    257\u001b[0m     \u001b[1;32mdef\u001b[0m \u001b[0m_read_status\u001b[0m\u001b[1;33m(\u001b[0m\u001b[0mself\u001b[0m\u001b[1;33m)\u001b[0m\u001b[1;33m:\u001b[0m\u001b[1;33m\u001b[0m\u001b[0m\n\u001b[1;32m--> 258\u001b[1;33m         \u001b[0mline\u001b[0m \u001b[1;33m=\u001b[0m \u001b[0mstr\u001b[0m\u001b[1;33m(\u001b[0m\u001b[0mself\u001b[0m\u001b[1;33m.\u001b[0m\u001b[0mfp\u001b[0m\u001b[1;33m.\u001b[0m\u001b[0mreadline\u001b[0m\u001b[1;33m(\u001b[0m\u001b[0m_MAXLINE\u001b[0m \u001b[1;33m+\u001b[0m \u001b[1;36m1\u001b[0m\u001b[1;33m)\u001b[0m\u001b[1;33m,\u001b[0m \u001b[1;34m\"iso-8859-1\"\u001b[0m\u001b[1;33m)\u001b[0m\u001b[1;33m\u001b[0m\u001b[0m\n\u001b[0m\u001b[0;32m    259\u001b[0m         \u001b[1;32mif\u001b[0m \u001b[0mlen\u001b[0m\u001b[1;33m(\u001b[0m\u001b[0mline\u001b[0m\u001b[1;33m)\u001b[0m \u001b[1;33m>\u001b[0m \u001b[0m_MAXLINE\u001b[0m\u001b[1;33m:\u001b[0m\u001b[1;33m\u001b[0m\u001b[0m\n\u001b[0;32m    260\u001b[0m             \u001b[1;32mraise\u001b[0m \u001b[0mLineTooLong\u001b[0m\u001b[1;33m(\u001b[0m\u001b[1;34m\"status line\"\u001b[0m\u001b[1;33m)\u001b[0m\u001b[1;33m\u001b[0m\u001b[0m\n",
      "\u001b[1;32mC:\\ProgramData\\Anaconda3\\lib\\socket.py\u001b[0m in \u001b[0;36mreadinto\u001b[1;34m(self, b)\u001b[0m\n\u001b[0;32m    584\u001b[0m         \u001b[1;32mwhile\u001b[0m \u001b[1;32mTrue\u001b[0m\u001b[1;33m:\u001b[0m\u001b[1;33m\u001b[0m\u001b[0m\n\u001b[0;32m    585\u001b[0m             \u001b[1;32mtry\u001b[0m\u001b[1;33m:\u001b[0m\u001b[1;33m\u001b[0m\u001b[0m\n\u001b[1;32m--> 586\u001b[1;33m                 \u001b[1;32mreturn\u001b[0m \u001b[0mself\u001b[0m\u001b[1;33m.\u001b[0m\u001b[0m_sock\u001b[0m\u001b[1;33m.\u001b[0m\u001b[0mrecv_into\u001b[0m\u001b[1;33m(\u001b[0m\u001b[0mb\u001b[0m\u001b[1;33m)\u001b[0m\u001b[1;33m\u001b[0m\u001b[0m\n\u001b[0m\u001b[0;32m    587\u001b[0m             \u001b[1;32mexcept\u001b[0m \u001b[0mtimeout\u001b[0m\u001b[1;33m:\u001b[0m\u001b[1;33m\u001b[0m\u001b[0m\n\u001b[0;32m    588\u001b[0m                 \u001b[0mself\u001b[0m\u001b[1;33m.\u001b[0m\u001b[0m_timeout_occurred\u001b[0m \u001b[1;33m=\u001b[0m \u001b[1;32mTrue\u001b[0m\u001b[1;33m\u001b[0m\u001b[0m\n",
      "\u001b[1;31mKeyboardInterrupt\u001b[0m: "
     ]
    }
   ],
   "source": [
    "browser.get(\"https://www.usnews.com/education/best-global-universities\") #访问页面"
   ]
  },
  {
   "cell_type": "code",
   "execution_count": 11,
   "metadata": {},
   "outputs": [],
   "source": []
  },
  {
   "cell_type": "code",
   "execution_count": 7,
   "metadata": {},
   "outputs": [],
   "source": [
    "def getLen():\n",
    "    '''获取学科总数'''\n",
    "    browser.find_element_by_xpath('//*[@id=\"subject_chzn\"]/a/div/b').click()#点击下拉选项\n",
    "    time.sleep(4)\n",
    "    allsubjects=browser.find_elements_by_xpath('//*[@id=\"subject_chzn\"]/div/ul/li')#定位所有学科\n",
    "    number=len(allsubjects)\n",
    "    allsubjects[0].click()\n",
    "    return number"
   ]
  },
  {
   "cell_type": "code",
   "execution_count": 13,
   "metadata": {},
   "outputs": [],
   "source": [
    "def selectSubject(n):\n",
    "    '''获取学科名称并选择学科'''\n",
    "    browser.find_element_by_xpath('//*[@id=\"subject_chzn\"]/a/div/b').click()#点击下拉选项\n",
    "    time.sleep(3)\n",
    "    allsubjects=browser.find_elements_by_xpath('//*[@id=\"subject_chzn\"]/div/ul/li')#定位所有学科\n",
    "    subjectName=allsubjects[n].text\n",
    "    allsubjects[n].click()#选择对应学科\n",
    "    time.sleep(20)\n",
    "    return subjectName"
   ]
  },
  {
   "cell_type": "code",
   "execution_count": 28,
   "metadata": {},
   "outputs": [],
   "source": [
    "def writeRecord(item):\n",
    "    with open(r'C:\\Users\\rk\\Desktop\\usnewssubjectrank-ART.txt','a+',encoding='utf-8') as f:\n",
    "        universiydata='\\t'.join(item)\n",
    "        f.write(universiydata+'\\n')"
   ]
  },
  {
   "cell_type": "code",
   "execution_count": 16,
   "metadata": {},
   "outputs": [],
   "source": [
    "def judgeTie(rank,flag):\n",
    "    '''判断是否并列'''\n",
    "    ranking=rank.split('\\n')\n",
    "    if len(ranking)==2:\n",
    "        flag='1'\n",
    "    return ranking[0],flag   "
   ]
  },
  {
   "cell_type": "code",
   "execution_count": 17,
   "metadata": {},
   "outputs": [],
   "source": [
    "def getData(subjectName,University):\n",
    "    '''抓取学科排名数据'''\n",
    "    while True:\n",
    "        universities=browser.find_elements_by_xpath('//*[@id=\"resultsMain\"]/div[1]/div')\n",
    "        N=len(universities)\n",
    "        for i in range(N):\n",
    "            univer=browser.find_elements_by_xpath('//*[@id=\"resultsMain\"]/div[1]/div')#针对该网站特殊处理，否则不需要这一行代码\n",
    "            tep=[]\n",
    "            flag='0'\n",
    "            rank=univer[i].find_element_by_xpath('div[2]/span').text\n",
    "            time.sleep(0.1)\n",
    "            rank,flag=judgeTie(rank,flag)\n",
    "            try:\n",
    "                universityname=univer[i].find_element_by_xpath('div[3]/h2').text\n",
    "            except:\n",
    "                time.sleep(2)\n",
    "                universityname=univer[i].find_element_by_xpath('div[3]/h2/a').text\n",
    "            time.sleep(0.1)\n",
    "            try:\n",
    "                universitycountry=univer[i].find_element_by_xpath('div[3]/div[1]/span[1]').text\n",
    "            except:\n",
    "                time.sleep(2)\n",
    "                universitycountry=univer[i].find_element_by_xpath('div[3]/div[1]/i').text\n",
    "            score=univer[i].find_element_by_xpath('div[1]/div[1]').text\n",
    "            tep.extend([subjectName,rank,flag,universityname,universitycountry,score])\n",
    "            print(subjectName,rank,score)\n",
    "            writeRecord(tep)\n",
    "            University.append(tep)\n",
    "        \n",
    "        try:\n",
    "            browser.find_element_by_link_text('Next »').click()\n",
    "            time.sleep(random.random()*5+10)\n",
    "        except:\n",
    "            break     "
   ]
  },
  {
   "cell_type": "code",
   "execution_count": null,
   "metadata": {},
   "outputs": [],
   "source": []
  },
  {
   "cell_type": "code",
   "execution_count": 18,
   "metadata": {},
   "outputs": [
    {
     "data": {
      "text/plain": [
       "'100'"
      ]
     },
     "execution_count": 18,
     "metadata": {},
     "output_type": "execute_result"
    }
   ],
   "source": [
    "browser.find_element_by_xpath('//*[@id=\"resultsMain\"]/div[1]/div[1]/div[1]/div[1]').text"
   ]
  },
  {
   "cell_type": "code",
   "execution_count": null,
   "metadata": {},
   "outputs": [],
   "source": []
  },
  {
   "cell_type": "code",
   "execution_count": 19,
   "metadata": {},
   "outputs": [],
   "source": [
    "University=[]\n",
    "counter=0"
   ]
  },
  {
   "cell_type": "code",
   "execution_count": 20,
   "metadata": {},
   "outputs": [],
   "source": [
    "number=getLen()"
   ]
  },
  {
   "cell_type": "code",
   "execution_count": 27,
   "metadata": {},
   "outputs": [
    {
     "data": {
      "text/plain": [
       "28"
      ]
     },
     "execution_count": 27,
     "metadata": {},
     "output_type": "execute_result"
    }
   ],
   "source": [
    "number"
   ]
  },
  {
   "cell_type": "code",
   "execution_count": 9,
   "metadata": {},
   "outputs": [
    {
     "data": {
      "text/plain": [
       "'Physics'"
      ]
     },
     "execution_count": 9,
     "metadata": {},
     "output_type": "execute_result"
    }
   ],
   "source": [
    "namess=selectSubject(22)\n",
    "namess"
   ]
  },
  {
   "cell_type": "code",
   "execution_count": 31,
   "metadata": {},
   "outputs": [],
   "source": [
    "counter=1#程序出问题后需要重新初始化counter"
   ]
  },
  {
   "cell_type": "code",
   "execution_count": 32,
   "metadata": {},
   "outputs": [
    {
     "data": {
      "text/plain": [
       "1"
      ]
     },
     "execution_count": 32,
     "metadata": {},
     "output_type": "execute_result"
    }
   ],
   "source": [
    "counter"
   ]
  },
  {
   "cell_type": "code",
   "execution_count": 33,
   "metadata": {
    "scrolled": true
   },
   "outputs": [
    {
     "name": "stdout",
     "output_type": "stream",
     "text": [
      "Arts and Humanities #1 100\n",
      "Arts and Humanities #2 99.5\n",
      "Arts and Humanities #3 95.7\n",
      "Arts and Humanities #4 91\n",
      "Arts and Humanities #5 90.3\n",
      "Arts and Humanities #6 86.9\n",
      "Arts and Humanities #7 86.6\n",
      "Arts and Humanities #8 85.9\n",
      "Arts and Humanities #9 84.6\n",
      "Arts and Humanities #10 84.5\n",
      "Arts and Humanities #11 84.3\n",
      "Arts and Humanities #12 83.9\n",
      "Arts and Humanities #12 83.9\n",
      "Arts and Humanities #14 82.8\n",
      "Arts and Humanities #15 82\n",
      "Arts and Humanities #16 81\n",
      "Arts and Humanities #17 79.9\n",
      "Arts and Humanities #18 79.4\n",
      "Arts and Humanities #19 78.7\n",
      "Arts and Humanities #20 78.5\n",
      "Arts and Humanities #21 78.2\n",
      "Arts and Humanities #21 78.2\n",
      "Arts and Humanities #23 77.2\n",
      "Arts and Humanities #24 77.1\n",
      "Arts and Humanities #24 77.1\n",
      "Arts and Humanities #26 75.3\n",
      "Arts and Humanities #27 75.2\n",
      "Arts and Humanities #28 75.1\n",
      "Arts and Humanities #29 74.9\n",
      "Arts and Humanities #30 74.8\n",
      "Arts and Humanities #31 74.4\n",
      "Arts and Humanities #31 74.4\n",
      "Arts and Humanities #33 73.9\n",
      "Arts and Humanities #33 73.9\n",
      "Arts and Humanities #35 73.1\n",
      "Arts and Humanities #36 73\n",
      "Arts and Humanities #37 72.9\n",
      "Arts and Humanities #38 72.8\n",
      "Arts and Humanities #39 72.7\n",
      "Arts and Humanities #40 72\n",
      "Arts and Humanities #41 71.9\n",
      "Arts and Humanities #42 71.8\n",
      "Arts and Humanities #43 71.5\n",
      "Arts and Humanities #44 71.3\n",
      "Arts and Humanities #45 71.1\n",
      "Arts and Humanities #46 70.4\n",
      "Arts and Humanities #47 69.7\n",
      "Arts and Humanities #48 69.6\n",
      "Arts and Humanities #48 69.6\n",
      "Arts and Humanities #50 69.2\n",
      "Arts and Humanities #51 69.1\n",
      "Arts and Humanities #52 69\n",
      "Arts and Humanities #53 68.9\n",
      "Arts and Humanities #54 68.8\n",
      "Arts and Humanities #55 68.5\n",
      "Arts and Humanities #56 68.4\n",
      "Arts and Humanities #57 68.3\n",
      "Arts and Humanities #58 68.1\n",
      "Arts and Humanities #58 68.1\n",
      "Arts and Humanities #60 67.7\n",
      "Arts and Humanities #61 67.6\n",
      "Arts and Humanities #62 67.5\n",
      "Arts and Humanities #63 67.3\n",
      "Arts and Humanities #63 67.3\n",
      "Arts and Humanities #63 67.3\n",
      "Arts and Humanities #66 66.7\n",
      "Arts and Humanities #67 66.3\n",
      "Arts and Humanities #68 66.1\n",
      "Arts and Humanities #69 65.9\n",
      "Arts and Humanities #70 65.7\n",
      "Arts and Humanities #71 65.5\n",
      "Arts and Humanities #72 65\n",
      "Arts and Humanities #73 64.7\n",
      "Arts and Humanities #74 64.6\n",
      "Arts and Humanities #74 64.6\n",
      "Arts and Humanities #76 64.3\n",
      "Arts and Humanities #76 64.3\n",
      "Arts and Humanities #76 64.3\n",
      "Arts and Humanities #79 64.1\n",
      "Arts and Humanities #79 64.1\n",
      "Arts and Humanities #81 62.9\n",
      "Arts and Humanities #82 62.5\n",
      "Arts and Humanities #83 62.3\n",
      "Arts and Humanities #84 62.1\n",
      "Arts and Humanities #85 62\n",
      "Arts and Humanities #85 62\n",
      "Arts and Humanities #87 61.9\n",
      "Arts and Humanities #88 61.8\n",
      "Arts and Humanities #89 60.9\n",
      "Arts and Humanities #90 60.7\n",
      "Arts and Humanities #91 60.6\n",
      "Arts and Humanities #92 60.5\n",
      "Arts and Humanities #93 60.3\n",
      "Arts and Humanities #94 59.2\n",
      "Arts and Humanities #95 59.1\n",
      "Arts and Humanities #96 59\n",
      "Arts and Humanities #97 58.9\n",
      "Arts and Humanities #98 58.5\n",
      "Arts and Humanities #98 58.5\n",
      "Arts and Humanities #100 58.4\n",
      "Arts and Humanities #101 58.1\n",
      "Arts and Humanities #101 58.1\n",
      "Arts and Humanities #103 57.9\n",
      "Arts and Humanities #104 56.8\n",
      "Arts and Humanities #105 56.6\n",
      "Arts and Humanities #106 56.1\n",
      "Arts and Humanities #107 55.9\n",
      "Arts and Humanities #108 55.5\n",
      "Arts and Humanities #109 55.3\n",
      "Arts and Humanities #110 55.2\n",
      "Arts and Humanities #111 55.1\n",
      "Arts and Humanities #112 54.9\n",
      "Arts and Humanities #113 54.6\n",
      "Arts and Humanities #114 54.4\n",
      "Arts and Humanities #115 54.3\n",
      "Arts and Humanities #116 54.1\n",
      "Arts and Humanities #117 53.9\n",
      "Arts and Humanities #118 53.7\n",
      "Arts and Humanities #119 53.3\n",
      "Arts and Humanities #119 53.3\n",
      "Arts and Humanities #121 53.1\n",
      "Arts and Humanities #121 53.1\n",
      "Arts and Humanities #121 53.1\n",
      "Arts and Humanities #124 53\n",
      "Arts and Humanities #124 53\n",
      "Arts and Humanities #126 52.9\n",
      "Arts and Humanities #127 52.8\n",
      "Arts and Humanities #128 52.6\n",
      "Arts and Humanities #129 52.3\n",
      "Arts and Humanities #129 52.3\n",
      "Arts and Humanities #131 52\n",
      "Arts and Humanities #131 52\n",
      "Arts and Humanities #133 51.8\n",
      "Arts and Humanities #134 51.7\n",
      "Arts and Humanities #135 51\n",
      "Arts and Humanities #136 50.8\n",
      "Arts and Humanities #137 50.7\n",
      "Arts and Humanities #138 50.3\n",
      "Arts and Humanities #139 50.2\n",
      "Arts and Humanities #139 50.2\n",
      "Arts and Humanities #141 49.9\n",
      "Arts and Humanities #141 49.9\n",
      "Arts and Humanities #143 49.8\n",
      "Arts and Humanities #144 49.7\n",
      "Arts and Humanities #145 49.6\n",
      "Arts and Humanities #146 49.5\n",
      "Arts and Humanities #147 49.4\n",
      "Arts and Humanities #147 49.4\n",
      "Arts and Humanities #147 49.4\n",
      "Arts and Humanities #150 49.2\n",
      "Arts and Humanities #150 49.2\n",
      "Arts and Humanities #150 49.2\n",
      "Arts and Humanities #153 48.9\n",
      "Arts and Humanities #153 48.9\n",
      "Arts and Humanities #155 48.8\n",
      "Arts and Humanities #155 48.8\n",
      "Arts and Humanities #157 48.6\n",
      "Arts and Humanities #158 47.9\n",
      "Arts and Humanities #159 47.8\n",
      "Arts and Humanities #160 47.7\n",
      "Arts and Humanities #161 47\n",
      "Arts and Humanities #161 47\n",
      "Arts and Humanities #161 47\n",
      "Arts and Humanities #164 46.9\n",
      "Arts and Humanities #165 46.7\n",
      "Arts and Humanities #165 46.7\n",
      "Arts and Humanities #167 46.5\n",
      "Arts and Humanities #167 46.5\n",
      "Arts and Humanities #167 46.5\n",
      "Arts and Humanities #167 46.5\n",
      "Arts and Humanities #171 45.5\n",
      "Arts and Humanities #172 45.4\n",
      "Arts and Humanities #173 45.3\n",
      "Arts and Humanities #174 45.2\n",
      "Arts and Humanities #175 45.1\n",
      "Arts and Humanities #176 45\n",
      "Arts and Humanities #177 44.8\n",
      "Arts and Humanities #178 44.6\n",
      "Arts and Humanities #178 44.6\n",
      "Arts and Humanities #178 44.6\n",
      "Arts and Humanities #181 44.4\n",
      "Arts and Humanities #182 44.3\n",
      "Arts and Humanities #183 44.2\n",
      "Arts and Humanities #184 44.1\n",
      "Arts and Humanities #185 44\n",
      "Arts and Humanities #186 43.5\n",
      "Arts and Humanities #187 43.1\n",
      "Arts and Humanities #188 42.9\n",
      "Arts and Humanities #189 42.7\n",
      "Arts and Humanities #190 42.6\n",
      "Arts and Humanities #191 42.5\n",
      "Arts and Humanities #192 42.4\n",
      "Arts and Humanities #192 42.4\n",
      "Arts and Humanities #194 42.3\n",
      "Arts and Humanities #194 42.3\n",
      "Arts and Humanities #194 42.3\n",
      "Arts and Humanities #197 42.2\n",
      "Arts and Humanities #198 42.1\n",
      "Arts and Humanities #198 42.1\n",
      "Arts and Humanities #200 42\n",
      "Arts and Humanities #201 41.8\n",
      "Arts and Humanities #202 41.6\n",
      "Arts and Humanities #202 41.6\n",
      "Arts and Humanities #204 41.5\n",
      "Arts and Humanities #205 41.4\n",
      "Arts and Humanities #206 41\n",
      "Arts and Humanities #207 40.9\n",
      "Arts and Humanities #208 40.7\n",
      "Arts and Humanities #209 40.6\n",
      "Arts and Humanities #210 40.5\n",
      "Arts and Humanities #211 40.4\n",
      "Arts and Humanities #211 40.4\n",
      "Arts and Humanities #213 40.1\n",
      "Arts and Humanities #214 40\n",
      "Arts and Humanities #215 39.9\n",
      "Arts and Humanities #216 39.5\n",
      "Arts and Humanities #217 39.1\n",
      "Arts and Humanities #218 39\n",
      "Arts and Humanities #219 38.6\n",
      "Arts and Humanities #219 38.6\n",
      "Arts and Humanities #221 38.5\n",
      "Arts and Humanities #222 37.6\n",
      "Arts and Humanities #222 37.6\n",
      "Arts and Humanities #222 37.6\n",
      "Arts and Humanities #225 37.3\n",
      "Arts and Humanities #226 37.1\n",
      "Arts and Humanities #227 37\n",
      "Arts and Humanities #228 36.9\n",
      "Arts and Humanities #228 36.9\n",
      "Arts and Humanities #230 36.8\n",
      "Arts and Humanities #231 36.7\n",
      "Arts and Humanities #231 36.7\n",
      "Arts and Humanities #233 36.4\n",
      "Arts and Humanities #233 36.4\n",
      "Arts and Humanities #235 36.1\n",
      "Arts and Humanities #236 36\n",
      "Arts and Humanities #237 35.7\n",
      "Arts and Humanities #238 35.6\n",
      "Arts and Humanities #239 35.3\n",
      "Arts and Humanities #239 35.3\n",
      "Arts and Humanities #241 35.2\n",
      "Arts and Humanities #242 35.1\n",
      "Arts and Humanities #243 34.7\n",
      "Arts and Humanities #243 34.7\n",
      "Arts and Humanities #243 34.7\n",
      "Arts and Humanities #246 34.6\n",
      "Arts and Humanities #247 34.3\n",
      "Arts and Humanities #247 34.5\n",
      "Arts and Humanities #247 34.3\n",
      "Arts and Humanities #249 34.2\n",
      "Arts and Humanities #249 34.2\n"
     ]
    }
   ],
   "source": [
    "'''主程序'''\n",
    "for i in range(number)[counter:2]:\n",
    "    subjectName=selectSubject(i)\n",
    "    getData(subjectName,University)\n",
    "    counter+=1"
   ]
  },
  {
   "cell_type": "code",
   "execution_count": null,
   "metadata": {},
   "outputs": [],
   "source": []
  },
  {
   "cell_type": "code",
   "execution_count": null,
   "metadata": {},
   "outputs": [],
   "source": []
  },
  {
   "cell_type": "code",
   "execution_count": null,
   "metadata": {},
   "outputs": [],
   "source": []
  },
  {
   "cell_type": "code",
   "execution_count": null,
   "metadata": {},
   "outputs": [],
   "source": []
  },
  {
   "cell_type": "code",
   "execution_count": null,
   "metadata": {},
   "outputs": [],
   "source": []
  }
 ],
 "metadata": {
  "kernelspec": {
   "display_name": "Python 3",
   "language": "python",
   "name": "python3"
  },
  "language_info": {
   "codemirror_mode": {
    "name": "ipython",
    "version": 3
   },
   "file_extension": ".py",
   "mimetype": "text/x-python",
   "name": "python",
   "nbconvert_exporter": "python",
   "pygments_lexer": "ipython3",
   "version": "3.6.5"
  }
 },
 "nbformat": 4,
 "nbformat_minor": 2
}
