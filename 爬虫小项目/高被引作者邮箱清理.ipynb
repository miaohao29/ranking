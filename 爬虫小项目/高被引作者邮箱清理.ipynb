{
 "cells": [
  {
   "cell_type": "code",
   "execution_count": 1,
   "metadata": {},
   "outputs": [],
   "source": [
    "'''主要思想：判断邮箱名称的所有单词是否在姓名全称里，若不在，则基本判断为不在'''\n",
    "import re\n",
    "import copy"
   ]
  },
  {
   "cell_type": "code",
   "execution_count": 1,
   "metadata": {},
   "outputs": [],
   "source": [
    "data=[]\n",
    "with open(r'C:\\Users\\rk\\Desktop\\result.txt',encoding='utf-8') as file:#\n",
    "    for line in file:\n",
    "        data.append(line)"
   ]
  },
  {
   "cell_type": "code",
   "execution_count": 3,
   "metadata": {},
   "outputs": [
    {
     "data": {
      "text/plain": [
       "501"
      ]
     },
     "execution_count": 3,
     "metadata": {},
     "output_type": "execute_result"
    }
   ],
   "source": [
    "len(data)"
   ]
  },
  {
   "cell_type": "code",
   "execution_count": 4,
   "metadata": {},
   "outputs": [
    {
     "data": {
      "text/plain": [
       "['\\ufeffPT\\tAU\\tBA\\tBE\\tGP\\tAF\\tBF\\tCA\\tTI\\tSO\\tSE\\tBS\\tLA\\tDT\\tCT\\tCY\\tCL\\tSP\\tHO\\tDE\\tID\\tAB\\tC1\\tRP\\tEM\\tRI\\tOI\\tFU\\tFX\\tCR\\tNR\\tTC\\tZ9\\tU1\\tU2\\tPU\\tPI\\tPA\\tSN\\tEI\\tBN\\tJ9\\tJI\\tPD\\tPY\\tVL\\tIS\\tPN\\tSU\\tSI\\tMA\\tBP\\tEP\\tAR\\tDI\\tD2\\tEA\\tPG\\tWC\\tSC\\tGA\\tUT\\tPM\\tOA\\tHC\\tHP\\tDA\\n',\n",
       " 'J\\tAhuja, S; Mukund, S; Deng, LB; Khakh, K; Chang, E; Ho, HD; Shriver, S; Young, C; Lin, S; Johnson, JP; Wu, P; Li, J; Coons, M; Tam, C; Brillantes, B; Sampang, H; Mortara, K; Bowman, KK; Clark, KR; Estevez, A; Xie, ZW; Verschoof, H; Grimwood, M; Dehnhardt, C; Andrez, JC; Focken, T; Sutherlin, DP; Safina, BS; Starovasnik, MA; Ortwine, DF; Franke, Y; Cohen, CJ; Hackos, DH; Koth, CM; Payandeh, J\\t\\t\\t\\tAhuja, Shivani; Mukund, Susmith; Deng, Lunbin; Khakh, Kuldip; Chang, Elaine; Ho, Hoangdung; Shriver, Stephanie; Young, Clint; Lin, Sophia; Johnson, J. P., Jr.; Wu, Ping; Li, Jun; Coons, Mary; Tam, Christine; Brillantes, Bobby; Sampang, Honorio; Mortara, Kyle; Bowman, Krista K.; Clark, Kevin R.; Estevez, Alberto; Xie, Zhiwei; Verschoof, Henry; Grimwood, Michael; Dehnhardt, Christoph; Andrez, Jean-Christophe; Focken, Thilo; Sutherlin, Daniel P.; Safina, Brian S.; Starovasnik, Melissa A.; Ortwine, Daniel F.; Franke, Yvonne; Cohen, Charles J.; Hackos, David H.; Koth, Christopher M.; Payandeh, Jian\\t\\t\\tStructural basis of Nav1.7 inhibition by an isoform-selective small-molecule antagonist\\tSCIENCE\\t\\t\\tEnglish\\tArticle\\t\\t\\t\\t\\t\\t\\tGATED SODIUM-CHANNELS; VOLTAGE-SENSOR; CRYSTAL-STRUCTURE; FAST INACTIVATION; PHARMACOLOGY; ACTIVATION; MUTATIONS; RECEPTOR; BINDING; TOXINS\\t\\t[Ahuja, Shivani; Mukund, Susmith; Ho, Hoangdung; Shriver, Stephanie; Wu, Ping; Coons, Mary; Tam, Christine; Brillantes, Bobby; Sampang, Honorio; Mortara, Kyle; Bowman, Krista K.; Estevez, Alberto; Starovasnik, Melissa A.; Franke, Yvonne; Koth, Christopher M.; Payandeh, Jian] Genentech Inc, Dept Biol Struct, San Francisco, CA 94080 USA; [Deng, Lunbin; Hackos, David H.] Genentech Inc, Dept Neurosci, San Francisco, CA 94080 USA; [Khakh, Kuldip; Chang, Elaine; Young, Clint; Lin, Sophia; Johnson, J. P., Jr.; Xie, Zhiwei; Verschoof, Henry; Cohen, Charles J.] Xenon Pharmaceut Inc, Dept Biol, Burnaby, BC V5G 4W8, Canada; [Li, Jun; Sutherlin, Daniel P.; Safina, Brian S.] Genentech Inc, Dept Discovery Chem, San Francisco, CA 94080 USA; [Clark, Kevin R.] Genentech Inc, Dept Biochem & Cellular Pharmacol, San Francisco, CA 94080 USA; [Grimwood, Michael; Dehnhardt, Christoph; Andrez, Jean-Christophe; Focken, Thilo] Xenon Pharmaceut Inc, Dept Chem, Burnaby, BC V5G 4W8, Canada\\tHackos, DH (corresponding author), Genentech Inc, Dept Neurosci, San Francisco, CA 94080 USA.\\thackos.david@gene.com; koth.christopher@gene.com; payandeh.jian@gene.com\\t\\tJohnson Jr., J.P./0000-0002-5762-5138; Koth, Christopher/0000-0003-3939-8856\\t\\t\\t\\t60\\t141\\t143\\t4\\t46\\tAMER ASSOC ADVANCEMENT SCIENCE\\tWASHINGTON\\t1200 NEW YORK AVE, NW, WASHINGTON, DC 20005 USA\\t0036-8075\\t1095-9203\\t\\tSCIENCE\\tScience\\tDEC 18\\t2015\\t350\\t6267\\t\\t\\t\\t\\t\\t\\taac5464\\t10.1126/science.aac5464\\t\\t\\t10\\tMultidisciplinary Sciences\\tScience & Technology - Other Topics\\tCY7LY\\tWOS:000366591100048\\t26680203\\tBronze\\tY\\tN\\t2020-07-30\\t\\n']"
      ]
     },
     "execution_count": 4,
     "metadata": {},
     "output_type": "execute_result"
    }
   ],
   "source": [
    "data[:2]"
   ]
  },
  {
   "cell_type": "code",
   "execution_count": 5,
   "metadata": {},
   "outputs": [],
   "source": [
    "null_list=[]\n",
    "for line in data:\n",
    "    line=line[:-1]\n",
    "    line=line.split('\\t')\n",
    "    null_list.append(line)"
   ]
  },
  {
   "cell_type": "code",
   "execution_count": 6,
   "metadata": {},
   "outputs": [
    {
     "data": {
      "text/plain": [
       "68"
      ]
     },
     "execution_count": 6,
     "metadata": {},
     "output_type": "execute_result"
    }
   ],
   "source": [
    "len(null_list[3])"
   ]
  },
  {
   "cell_type": "code",
   "execution_count": 9,
   "metadata": {},
   "outputs": [
    {
     "data": {
      "text/plain": [
       "'C1'"
      ]
     },
     "execution_count": 9,
     "metadata": {},
     "output_type": "execute_result"
    }
   ],
   "source": [
    "null_list[0][22]"
   ]
  },
  {
   "cell_type": "code",
   "execution_count": 10,
   "metadata": {},
   "outputs": [
    {
     "data": {
      "text/plain": [
       "'[Ganiyu, Soliu O.; van Hullebusch, Eric D.; Oturan, Mehmet A.] Univ Paris Est, UPEM, Lab Geomat & Environm, EA 4508, F-77454 Marne La Vallee, France; [Cretin, Marc] Univ Montpellier, CNRS, IEM, ENSCM,UMR 5635,UM2, F-34095 Montpellier 5, France; [Esposito, Giovanni] Univ Cassino & Southern Lazio, Dept Civil & Mech Engn, I-03043 Cassino, FR, Italy'"
      ]
     },
     "execution_count": 10,
     "metadata": {},
     "output_type": "execute_result"
    }
   ],
   "source": [
    "null_list[3][22]"
   ]
  },
  {
   "cell_type": "code",
   "execution_count": 6,
   "metadata": {},
   "outputs": [],
   "source": [
    "result=[]\n",
    "for item in null_list:\n",
    "    template=[]\n",
    "    AF=item[5]\n",
    "    C1=item[22]\n",
    "    PY=item[44]\n",
    "    EM=item[24]\n",
    "    UT=item[61]\n",
    "    WC=item[58]\n",
    "    template.extend([AF,C1,EM,PY,WC,UT])\n",
    "    tp=copy.deepcopy(template)\n",
    "    result.append(tp)"
   ]
  },
  {
   "cell_type": "code",
   "execution_count": null,
   "metadata": {},
   "outputs": [],
   "source": []
  },
  {
   "cell_type": "code",
   "execution_count": 7,
   "metadata": {},
   "outputs": [],
   "source": [
    "result=[]\n",
    "for item in null_list:\n",
    "    template=[]\n",
    "    AF=item[5]\n",
    "    #C1=item[22]\n",
    "    PY=item[44]\n",
    "    EM=item[24]\n",
    "    UT=item[61]\n",
    "    WC=item[58]\n",
    "    template.extend([AF,EM,PY,WC,UT])\n",
    "    tp=copy.deepcopy(template)\n",
    "    result.append(tp)"
   ]
  },
  {
   "cell_type": "code",
   "execution_count": 8,
   "metadata": {
    "scrolled": true
   },
   "outputs": [
    {
     "data": {
      "text/plain": [
       "['Roy-Byrne, Peter; Bumgardner, Kristin; Krupski, Antoinette; Dunn, Chris; Ries, Richard; Donovan, Dennis; West, Imara I.; Maynard, Charles; Atkins, David C.; Graves, Meredith C.; Joesch, Jutta M.; Zarkin, Gary A.',\n",
       " 'roybyrne@uw.edu',\n",
       " '2014',\n",
       " 'Medicine, General & Internal',\n",
       " 'WOS:000339808600018']"
      ]
     },
     "execution_count": 8,
     "metadata": {},
     "output_type": "execute_result"
    }
   ],
   "source": [
    "result[0]"
   ]
  },
  {
   "cell_type": "code",
   "execution_count": null,
   "metadata": {},
   "outputs": [],
   "source": []
  },
  {
   "cell_type": "code",
   "execution_count": 38,
   "metadata": {},
   "outputs": [],
   "source": [
    "# result=null_list"
   ]
  },
  {
   "cell_type": "code",
   "execution_count": null,
   "metadata": {},
   "outputs": [],
   "source": []
  },
  {
   "cell_type": "code",
   "execution_count": 9,
   "metadata": {},
   "outputs": [],
   "source": [
    "def get_email_name_list(email):\n",
    "    '''拆分邮箱，获得姓名字母列表\n",
    "       拆分姓名，获得姓名字母数大于2的'''\n",
    "    name_li=[]\n",
    "    name=email.split('@')[0].lower()#拆分邮箱，获得姓名\n",
    "    \n",
    "    pattern=r'[_|.|0-9|-]'\n",
    "    name_result=re.split(pattern,name)#拆分姓名单词，获得单词\n",
    "    name_full_split=[]#存储非空姓名单词\n",
    "    for name_res in name_result:\n",
    "        if len(name_res)>=3:#只要单词中字母数大于等于3的\n",
    "            name_full_split.append(name_res)\n",
    "    if len(name_full_split)>=1:#只返回一个字母数大于等于3的，优先返回后一个\n",
    "        return_name=name_full_split[-1]\n",
    "    else:\n",
    "        return_name=\"NNNA\"#如果没有字母数大于2的姓名，就将NNNA赋过去\n",
    "        \n",
    "    name_list=list(name)#获得姓名字母列\n",
    "    for item in name_list:\n",
    "        if item.isalpha():#仅保留名字中的字母，特殊字符，数字都删除\n",
    "            name_li.append(item)\n",
    "    return name_li,return_name"
   ]
  },
  {
   "cell_type": "code",
   "execution_count": null,
   "metadata": {},
   "outputs": [],
   "source": []
  },
  {
   "cell_type": "code",
   "execution_count": 10,
   "metadata": {},
   "outputs": [],
   "source": [
    "def name_split(name):\n",
    "    '''姓名全称拆分'''\n",
    "    name=name.lower()#全部小写，防止下一步匹配困难\n",
    "    name_list_initial=name.split(\";\")\n",
    "    return name_list_initial"
   ]
  },
  {
   "cell_type": "code",
   "execution_count": null,
   "metadata": {},
   "outputs": [],
   "source": []
  },
  {
   "cell_type": "code",
   "execution_count": 11,
   "metadata": {},
   "outputs": [],
   "source": [
    "def judge_email_belong(namelist,name_initial):\n",
    "    '''判断姓名归属'''\n",
    "    tem=[]#因为可能存在匹配到很多名字，所以创建列表存一下\n",
    "    for name_initia in name_initial:\n",
    "        flag=1\n",
    "        for namelis in namelist:\n",
    "            if namelis not in name_initia:#如果该字母不在这个名字里，就跳出循环该内循环\n",
    "                flag=0\n",
    "                break\n",
    "        if flag==0:\n",
    "            continue#跳出外循环\n",
    "        if flag==1:\n",
    "            tem.append(name_initia.strip())\n",
    "    return tem           "
   ]
  },
  {
   "cell_type": "code",
   "execution_count": null,
   "metadata": {},
   "outputs": [],
   "source": []
  },
  {
   "cell_type": "code",
   "execution_count": 15,
   "metadata": {},
   "outputs": [
    {
     "name": "stdout",
     "output_type": "stream",
     "text": [
      "['ying, zhiliang']\n"
     ]
    }
   ],
   "source": [
    "# #测试代码\n",
    "# mm='Chen, Yunxiao; Liu, Jingchen; Xu, Gongjun; Ying, Zhiliang'\n",
    "# nn='zying@stat.columbia.edu'\n",
    "\n",
    "# oo=name_split(mm)\n",
    "# nn_list,b=get_email_name_list(nn)\n",
    "\n",
    "# print(judge_email_belong(nn_list,oo))"
   ]
  },
  {
   "cell_type": "code",
   "execution_count": null,
   "metadata": {},
   "outputs": [],
   "source": []
  },
  {
   "cell_type": "code",
   "execution_count": 17,
   "metadata": {},
   "outputs": [],
   "source": [
    "finalll=[]\n",
    "domain=['163.com','qq.com','126.com','139.com','sina.com','.org','.cn','.hk','.gov','.net','.mil']#不相关域名\n",
    "for line in result[1:]:\n",
    "    if line[1] != \"\":\n",
    "        AF=line[0]\n",
    "        EM=line[1]\n",
    "        namelists=name_split(AF)#拆分AF列，获得姓名全称列表\n",
    "        emaillists=EM.split(\";\")#拆分邮箱，获取邮箱列表\n",
    "        for emailist in emaillists: #循环邮箱\n",
    "            tp1=[]\n",
    "            tp1.extend(line)\n",
    "            \n",
    "            flag2=1\n",
    "            for doma in domain:#排除不相关域名\n",
    "                if doma in emailist:\n",
    "                    flag2=0\n",
    "                    tp1.append(\"exclude\")\n",
    "                    break\n",
    "            if flag2==1:\n",
    "                tp1.append(\"normal\")\n",
    "            flag2=1\n",
    "            \n",
    "            tp2=[]\n",
    "            email_name_list,email_name_3=get_email_name_list(emailist)#获取邮箱姓名字母列表\n",
    "            name_belong=judge_email_belong(email_name_list,namelists)\n",
    "\n",
    "            tp2.append(emailist.strip())\n",
    "\n",
    "            if len(name_belong)>1:#如果匹配到数据，且匹配的数据大于1\n",
    "                template3=[]\n",
    "                for name_belon in name_belong:\n",
    "                    if email_name_3[-2:] in name_belon:\n",
    "                        template3.append(name_belon)\n",
    "                if len(template3)==1:\n",
    "                    name_belong=copy.deepcopy(template3)\n",
    "            \n",
    "#             if len(name_belong)==0:\n",
    "#                 template4=[]\n",
    "#                 for namelist in namelists:\n",
    "#                     if email_name_3[-2] in namelist:\n",
    "#                         template4.append(namelist)\n",
    "#                 name_belong=copy.deepcopy(template4)\n",
    "                \n",
    "            if len(name_belong) > 5:\n",
    "                name_belong=['toomany']\n",
    "                \n",
    "            tp2.extend(name_belong)\n",
    "            tp3=copy.deepcopy(tp2)\n",
    "            tp1.extend(tp3)\n",
    "            finalll.append(tp1)"
   ]
  },
  {
   "cell_type": "code",
   "execution_count": null,
   "metadata": {},
   "outputs": [],
   "source": []
  },
  {
   "cell_type": "code",
   "execution_count": 18,
   "metadata": {},
   "outputs": [
    {
     "data": {
      "text/plain": [
       "171586"
      ]
     },
     "execution_count": 18,
     "metadata": {},
     "output_type": "execute_result"
    }
   ],
   "source": [
    "len(finalll)"
   ]
  },
  {
   "cell_type": "code",
   "execution_count": null,
   "metadata": {},
   "outputs": [],
   "source": []
  },
  {
   "cell_type": "code",
   "execution_count": 13,
   "metadata": {},
   "outputs": [],
   "source": [
    "with open(r'C:\\Users\\rk\\Desktop\\email83-6.txt','a+') as file:\n",
    "    for itt in finalll:\n",
    "        #print(itt)\n",
    "        string=\"、\".join(itt)\n",
    "        file.write(string+\"\\n\")"
   ]
  },
  {
   "cell_type": "code",
   "execution_count": null,
   "metadata": {},
   "outputs": [],
   "source": []
  },
  {
   "cell_type": "code",
   "execution_count": null,
   "metadata": {},
   "outputs": [],
   "source": []
  },
  {
   "cell_type": "code",
   "execution_count": null,
   "metadata": {},
   "outputs": [],
   "source": []
  }
 ],
 "metadata": {
  "kernelspec": {
   "display_name": "Python 3",
   "language": "python",
   "name": "python3"
  },
  "language_info": {
   "codemirror_mode": {
    "name": "ipython",
    "version": 3
   },
   "file_extension": ".py",
   "mimetype": "text/x-python",
   "name": "python",
   "nbconvert_exporter": "python",
   "pygments_lexer": "ipython3",
   "version": "3.6.5"
  }
 },
 "nbformat": 4,
 "nbformat_minor": 2
}
