{
 "cells": [
  {
   "cell_type": "code",
   "execution_count": 1,
   "metadata": {},
   "outputs": [],
   "source": [
    "import time\n",
    "from selenium import webdriver\n",
    "import random\n",
    "import copy"
   ]
  },
  {
   "cell_type": "code",
   "execution_count": 2,
   "metadata": {},
   "outputs": [],
   "source": [
    "driver=webdriver.Chrome(r'C:\\Users\\rk\\Desktop\\chromedriver.exe')\n",
    "driver.get(r'http://school.zhongkao.com/province/')"
   ]
  },
  {
   "cell_type": "code",
   "execution_count": 3,
   "metadata": {},
   "outputs": [],
   "source": [
    "provences=driver.find_elements_by_xpath('/html/body/div[2]/section/p[1]/a')\n",
    "urls=[]\n",
    "for provence in provences:\n",
    "    urls.append([provence.text,provence.get_attribute('href')])"
   ]
  },
  {
   "cell_type": "code",
   "execution_count": 25,
   "metadata": {},
   "outputs": [],
   "source": [
    "def click_next_page(flag):\n",
    "    '''点击下一页'''\n",
    "    allpage=driver.find_elements_by_xpath('/html/body/div[2]/div/section/nav/a')\n",
    "    if allpage[-1].text == \"下一页\" and allpage[-1].get_attribute(\"class\") == 'cur':\n",
    "        flag=1\n",
    "        return flag\n",
    "    elif flag==0:\n",
    "        allpage[-1].click()\n",
    "        return flag\n",
    "    time.sleep(3)"
   ]
  },
  {
   "cell_type": "code",
   "execution_count": 5,
   "metadata": {},
   "outputs": [],
   "source": [
    "def collect_school_url(final,item):\n",
    "    '''收集学校链接'''\n",
    "    current_page_schools=driver.find_elements_by_tag_name('article')\n",
    "    for current_page_school in current_page_schools:\n",
    "        template=[]\n",
    "        template.extend(item)\n",
    "        school_name=current_page_school.find_element_by_tag_name('h3').text\n",
    "        school_url=current_page_school.find_element_by_xpath('dl/dd/h3/a').get_attribute('href')\n",
    "        template.extend([school_name,school_url])\n",
    "        temp=copy.deepcopy(template)\n",
    "        print(temp)\n",
    "        record(temp)#逐条记录数据\n",
    "        final.append(temp)"
   ]
  },
  {
   "cell_type": "code",
   "execution_count": 6,
   "metadata": {},
   "outputs": [],
   "source": [
    "def record(item):\n",
    "    '''逐条保存数据'''\n",
    "    with open(r'C:\\Users\\rk\\Desktop\\highschool.txt','a+',encoding='utf-8') as f:\n",
    "        string='、'.join(item)\n",
    "        f.write(string+\"\\n\")"
   ]
  },
  {
   "cell_type": "code",
   "execution_count": 7,
   "metadata": {},
   "outputs": [],
   "source": [
    "result=[]"
   ]
  },
  {
   "cell_type": "code",
   "execution_count": null,
   "metadata": {
    "scrolled": true
   },
   "outputs": [],
   "source": [
    "if __name__=='__main__':\n",
    "    for url in urls[30:]:\n",
    "        driver.get(url[1])\n",
    "        flag=0\n",
    "        while flag==0:\n",
    "            time.sleep(random.random()*3+0.5)\n",
    "            collect_school_url(result,url)\n",
    "            flag=click_next_page(flag)"
   ]
  },
  {
   "cell_type": "code",
   "execution_count": 29,
   "metadata": {},
   "outputs": [
    {
     "data": {
      "text/plain": [
       "[['河南', 'http://school.zhongkao.com/province/2223/'],\n",
       " ['吉林', 'http://school.zhongkao.com/province/2401/'],\n",
       " ['黑龙江', 'http://school.zhongkao.com/province/2471/'],\n",
       " ['内蒙古', 'http://school.zhongkao.com/province/2614/'],\n",
       " ['山东', 'http://school.zhongkao.com/province/2728/'],\n",
       " ['台湾', 'http://school.zhongkao.com/province/4216/']]"
      ]
     },
     "execution_count": 29,
     "metadata": {},
     "output_type": "execute_result"
    }
   ],
   "source": [
    "urls[29:]"
   ]
  },
  {
   "cell_type": "code",
   "execution_count": null,
   "metadata": {
    "scrolled": true
   },
   "outputs": [],
   "source": [
    "flag=0\n",
    "while flag==0:\n",
    "    time.sleep(random.random()*3+1)\n",
    "    collect_school_url(result,url)\n",
    "    flag=click_next_page(flag)"
   ]
  },
  {
   "cell_type": "code",
   "execution_count": null,
   "metadata": {},
   "outputs": [],
   "source": [
    "159"
   ]
  }
 ],
 "metadata": {
  "kernelspec": {
   "display_name": "Python 3",
   "language": "python",
   "name": "python3"
  },
  "language_info": {
   "codemirror_mode": {
    "name": "ipython",
    "version": 3
   },
   "file_extension": ".py",
   "mimetype": "text/x-python",
   "name": "python",
   "nbconvert_exporter": "python",
   "pygments_lexer": "ipython3",
   "version": "3.6.5"
  }
 },
 "nbformat": 4,
 "nbformat_minor": 2
}
