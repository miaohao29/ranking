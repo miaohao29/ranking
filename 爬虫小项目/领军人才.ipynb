{
 "cells": [
  {
   "cell_type": "code",
   "execution_count": 214,
   "metadata": {},
   "outputs": [],
   "source": [
    "from time import sleep\n",
    "import pandas as pd\n",
    "import numpy as np\n",
    "from selenium import webdriver #从selenium中调入webdriver"
   ]
  },
  {
   "cell_type": "code",
   "execution_count": 215,
   "metadata": {},
   "outputs": [],
   "source": [
    "from selenium.webdriver.common.keys import Keys"
   ]
  },
  {
   "cell_type": "code",
   "execution_count": 216,
   "metadata": {},
   "outputs": [],
   "source": [
    "from random import random"
   ]
  },
  {
   "cell_type": "code",
   "execution_count": null,
   "metadata": {},
   "outputs": [],
   "source": []
  },
  {
   "cell_type": "code",
   "execution_count": 217,
   "metadata": {},
   "outputs": [],
   "source": [
    "browser = webdriver.Chrome('C:/Users/rk/Desktop/chromedriver.exe') #锁定浏览器\n",
    "browser.get(\"https://www.snai.edu/ljrck/list_425.aspx?menuid=16&lcid=54\") #访问页面"
   ]
  },
  {
   "cell_type": "code",
   "execution_count": 173,
   "metadata": {},
   "outputs": [],
   "source": [
    "# def get_data():\n",
    "#     '''获取当前页面数据'''\n",
    "#     global result\n",
    "#     trs=browser.find_elements_by_xpath('/html/body/div[5]/div[2]/div[2]/div/div[2]/div[2]/ul/li')\n",
    "#     for tr in trs:\n",
    "#         template=[]\n",
    "#         tds=tr.find_elements_by_xpath('span')\n",
    "#         for td in tds:\n",
    "#             template.append(td.text)\n",
    "#         temp.extend(template)\n",
    "#         result.append(temp)\n",
    "#         #print(temp)\n",
    "#         print(result[-1])\n",
    "#         del temp[-3:]\n",
    "#        # print(temp)"
   ]
  },
  {
   "cell_type": "code",
   "execution_count": 204,
   "metadata": {},
   "outputs": [],
   "source": [
    "from random import choice"
   ]
  },
  {
   "cell_type": "code",
   "execution_count": 209,
   "metadata": {},
   "outputs": [
    {
     "name": "stdout",
     "output_type": "stream",
     "text": [
      "e\n"
     ]
    },
    {
     "data": {
      "text/plain": [
       "['a', 'b', 'c', 'd']"
      ]
     },
     "execution_count": 209,
     "metadata": {},
     "output_type": "execute_result"
    }
   ],
   "source": [
    "foo = ['a', 'b', 'c', 'd', 'e']\n",
    "v=choice(foo)\n",
    "print(v)\n",
    "foo.remove(v)\n",
    "foo"
   ]
  },
  {
   "cell_type": "code",
   "execution_count": 212,
   "metadata": {},
   "outputs": [],
   "source": [
    " fo=list(range(int(list(last_page)[1])))"
   ]
  },
  {
   "cell_type": "code",
   "execution_count": 213,
   "metadata": {},
   "outputs": [
    {
     "name": "stdout",
     "output_type": "stream",
     "text": [
      "2\n"
     ]
    },
    {
     "data": {
      "text/plain": [
       "[0, 1, 3, 4, 5]"
      ]
     },
     "execution_count": 213,
     "metadata": {},
     "output_type": "execute_result"
    }
   ],
   "source": [
    "v=choice(fo)\n",
    "print(v)\n",
    "fo.remove(v)\n",
    "fo"
   ]
  },
  {
   "cell_type": "code",
   "execution_count": null,
   "metadata": {},
   "outputs": [],
   "source": []
  },
  {
   "cell_type": "code",
   "execution_count": 230,
   "metadata": {},
   "outputs": [],
   "source": [
    "corps=browser.find_elements_by_xpath('/html/body/div[5]/div[1]/div/div/ul/li')#初始企业类"
   ]
  },
  {
   "cell_type": "code",
   "execution_count": 232,
   "metadata": {},
   "outputs": [],
   "source": [
    "result=[]#初始化结果"
   ]
  },
  {
   "cell_type": "code",
   "execution_count": 233,
   "metadata": {
    "scrolled": true
   },
   "outputs": [
    {
     "name": "stdout",
     "output_type": "stream",
     "text": [
      "企业类\n",
      "企业一期\n",
      "3\n",
      "1\n",
      "2\n",
      "4\n",
      "5\n",
      "6\n",
      "企业二期\n",
      "2\n",
      "1\n",
      "5\n",
      "4\n",
      "3\n",
      "企业三期\n",
      "2\n",
      "5\n",
      "4\n",
      "3\n",
      "1\n",
      "企业四期\n",
      "1\n",
      "4\n",
      "2\n",
      "5\n",
      "3\n",
      "企业五期\n",
      "4\n",
      "1\n",
      "2\n",
      "3\n",
      "5\n",
      "企业六期\n",
      "6\n",
      "4\n",
      "5\n",
      "2\n",
      "1\n",
      "3\n",
      "企业七期\n",
      "4\n",
      "6\n",
      "5\n",
      "3\n",
      "2\n",
      "1\n",
      "企业八期\n",
      "3\n",
      "5\n",
      "4\n",
      "6\n",
      "1\n",
      "2\n",
      "企业九期\n",
      "3\n",
      "1\n",
      "4\n",
      "5\n",
      "7\n",
      "2\n",
      "6\n",
      "行政事业类\n",
      "行政一期\n",
      "4\n",
      "2\n",
      "3\n",
      "1\n",
      "行政二期\n",
      "3\n",
      "2\n",
      "4\n",
      "1\n",
      "行政三期\n",
      "3\n",
      "2\n",
      "5\n",
      "1\n",
      "4\n",
      "行政四期\n",
      "2\n",
      "1\n",
      "4\n",
      "3\n",
      "学术类\n",
      "学术一期\n",
      "1\n",
      "3\n",
      "2\n",
      "学术二期\n",
      "1\n",
      "3\n",
      "2\n",
      "学术三期\n",
      "1\n",
      "2\n",
      "3\n",
      "学术四期\n",
      "1\n",
      "3\n",
      "2\n",
      "注册会计师\n",
      "第一期\n",
      "2\n",
      "4\n",
      "3\n",
      "1\n",
      "第二期\n",
      "2\n",
      "1\n",
      "3\n",
      "第三期\n",
      "2\n",
      "1\n",
      "3\n",
      "第四期\n",
      "2\n",
      "1\n",
      "3\n",
      "第五期（主任班）\n",
      "2\n",
      "3\n",
      "1\n",
      "第六期（主任班）\n",
      "3\n",
      "2\n",
      "1\n",
      "第七期\n",
      "2\n",
      "1\n",
      "3\n",
      "第八期（金融审计方向）\n",
      "1\n",
      "2\n",
      "3\n",
      "第九期（金融审计方向）\n",
      "2\n",
      "3\n",
      "1\n",
      "第十期（金融审计方向）\n",
      "2\n",
      "3\n",
      "1\n",
      "4\n",
      "大赛类\n",
      "大赛班\n",
      "3\n",
      "1\n",
      "2\n",
      "4\n"
     ]
    }
   ],
   "source": [
    "for i in range(len(corps)):\n",
    "    temp=[]\n",
    "    corps=browser.find_elements_by_xpath('/html/body/div[5]/div[1]/div/div/ul/li')#企业类，每次循环都需要重新获得，因为网页点击一下corps就发生变化\n",
    "    corp=corps[i].text#获取企业类\n",
    "    print(corp)\n",
    "    temp.append(corp)\n",
    "    corps[i].click()\n",
    "    #sleep(2)\n",
    "    catergorys=browser.find_elements_by_xpath('/html/body/div[5]/div[2]/div[2]/div/div[1]/ul/li')\n",
    "    for j in range(len(catergorys)):\n",
    "        catergorys=browser.find_elements_by_xpath('/html/body/div[5]/div[2]/div[2]/div/div[1]/ul/li')\n",
    "        cater=catergorys[j].text\n",
    "        print(cater)\n",
    "        temp.append(cater)\n",
    "        catergorys[j].click()\n",
    "        sleep(5)\n",
    "        last_page=browser.find_element_by_xpath('/html/body/div[5]/div[2]/div[2]/div/div[2]/div[4]/span[2]').text#获取页面字符串\n",
    "        page=int(list(last_page)[1])#获取页码\n",
    "        fo=list(range(page))#以页码生成序列\n",
    "        for i in range(page):\n",
    "            f=choice(fo)#随机取数字\n",
    "            page=f+1#页码\n",
    "            print(page)\n",
    "            fo.remove(f)#删除已提取的页码\n",
    "            browser.find_element_by_xpath('//*[@id=\"_input\"]').clear()\n",
    "            browser.find_element_by_xpath('//*[@id=\"_input\"]').send_keys(page)#输入页码\n",
    "            browser.find_element_by_xpath('//*[@id=\"_button\"]').click()\n",
    "            sleep(random()*15)\n",
    "            #get_data()\n",
    "            trs=browser.find_elements_by_xpath('/html/body/div[5]/div[2]/div[2]/div/div[2]/div[2]/ul/li')\n",
    "            for tr in trs:\n",
    "                template=[]\n",
    "                template.extend([corp,cater])#输入企业类别及期数\n",
    "                tds=tr.find_elements_by_xpath('span')\n",
    "                for td in tds:\n",
    "                    template.append(td.text)\n",
    "                result.append(template)\n",
    "                #with open()\n",
    "                #print(template)\n",
    "#                 temp.extend(template)\n",
    "#                 result.append(temp)\n",
    "#                 #print(temp)\n",
    "#                 print(result[-1])\n",
    "#                 del temp[-3:]"
   ]
  },
  {
   "cell_type": "code",
   "execution_count": 234,
   "metadata": {
    "scrolled": false
   },
   "outputs": [
    {
     "data": {
      "text/plain": [
       "1043"
      ]
     },
     "execution_count": 234,
     "metadata": {},
     "output_type": "execute_result"
    }
   ],
   "source": [
    "len(result)"
   ]
  },
  {
   "cell_type": "code",
   "execution_count": 235,
   "metadata": {},
   "outputs": [],
   "source": [
    "final=pd.DataFrame(np.array(result))"
   ]
  },
  {
   "cell_type": "code",
   "execution_count": 237,
   "metadata": {},
   "outputs": [],
   "source": [
    "final.to_excel(r'C:\\Users\\rk\\Desktop\\ling.xlsx')"
   ]
  },
  {
   "cell_type": "code",
   "execution_count": 236,
   "metadata": {},
   "outputs": [
    {
     "data": {
      "text/html": [
       "<div>\n",
       "<style scoped>\n",
       "    .dataframe tbody tr th:only-of-type {\n",
       "        vertical-align: middle;\n",
       "    }\n",
       "\n",
       "    .dataframe tbody tr th {\n",
       "        vertical-align: top;\n",
       "    }\n",
       "\n",
       "    .dataframe thead th {\n",
       "        text-align: right;\n",
       "    }\n",
       "</style>\n",
       "<table border=\"1\" class=\"dataframe\">\n",
       "  <thead>\n",
       "    <tr style=\"text-align: right;\">\n",
       "      <th></th>\n",
       "      <th>0</th>\n",
       "      <th>1</th>\n",
       "      <th>2</th>\n",
       "      <th>3</th>\n",
       "      <th>4</th>\n",
       "    </tr>\n",
       "  </thead>\n",
       "  <tbody>\n",
       "    <tr>\n",
       "      <th>0</th>\n",
       "      <td>企业类</td>\n",
       "      <td>企业一期</td>\n",
       "      <td>冯锐</td>\n",
       "      <td>亿加乐集团 董事、中国区ＣＥＯ</td>\n",
       "      <td>财务部总经理</td>\n",
       "    </tr>\n",
       "    <tr>\n",
       "      <th>1</th>\n",
       "      <td>企业类</td>\n",
       "      <td>企业一期</td>\n",
       "      <td>韩杰</td>\n",
       "      <td>嘉里建设上海吉祥房地产有限公司</td>\n",
       "      <td>财务总监</td>\n",
       "    </tr>\n",
       "    <tr>\n",
       "      <th>2</th>\n",
       "      <td>企业类</td>\n",
       "      <td>企业一期</td>\n",
       "      <td>何世刚</td>\n",
       "      <td>特变电工股份有限公司</td>\n",
       "      <td>总经济师</td>\n",
       "    </tr>\n",
       "    <tr>\n",
       "      <th>3</th>\n",
       "      <td>企业类</td>\n",
       "      <td>企业一期</td>\n",
       "      <td>侯锐</td>\n",
       "      <td>中国通信服务公司</td>\n",
       "      <td>副总裁</td>\n",
       "    </tr>\n",
       "    <tr>\n",
       "      <th>4</th>\n",
       "      <td>企业类</td>\n",
       "      <td>企业一期</td>\n",
       "      <td>侯玲钦</td>\n",
       "      <td>中服嘉运国际贸易公司</td>\n",
       "      <td>总经理</td>\n",
       "    </tr>\n",
       "    <tr>\n",
       "      <th>5</th>\n",
       "      <td>企业类</td>\n",
       "      <td>企业一期</td>\n",
       "      <td>胡志军</td>\n",
       "      <td>中国人寿保险股份有限公司天津市分...</td>\n",
       "      <td>总经理助理</td>\n",
       "    </tr>\n",
       "    <tr>\n",
       "      <th>6</th>\n",
       "      <td>企业类</td>\n",
       "      <td>企业一期</td>\n",
       "      <td>姜小华</td>\n",
       "      <td>宝业集团股份有限公司</td>\n",
       "      <td>副总经理</td>\n",
       "    </tr>\n",
       "    <tr>\n",
       "      <th>7</th>\n",
       "      <td>企业类</td>\n",
       "      <td>企业一期</td>\n",
       "      <td>李爱群</td>\n",
       "      <td>湘电集团有限公司</td>\n",
       "      <td>总经理助理</td>\n",
       "    </tr>\n",
       "    <tr>\n",
       "      <th>8</th>\n",
       "      <td>企业类</td>\n",
       "      <td>企业一期</td>\n",
       "      <td>李殿承</td>\n",
       "      <td>中国建设银行</td>\n",
       "      <td>资金结算部处长</td>\n",
       "    </tr>\n",
       "    <tr>\n",
       "      <th>9</th>\n",
       "      <td>企业类</td>\n",
       "      <td>企业一期</td>\n",
       "      <td>李惊涛</td>\n",
       "      <td>广东发展银行南京分行</td>\n",
       "      <td>分行副行长兼财务总监...</td>\n",
       "    </tr>\n",
       "    <tr>\n",
       "      <th>10</th>\n",
       "      <td>企业类</td>\n",
       "      <td>企业一期</td>\n",
       "      <td>王淑霞</td>\n",
       "      <td>厦门市财政审核中心</td>\n",
       "      <td>调研员</td>\n",
       "    </tr>\n",
       "    <tr>\n",
       "      <th>11</th>\n",
       "      <td>企业类</td>\n",
       "      <td>企业一期</td>\n",
       "      <td>韦秀长</td>\n",
       "      <td>中国联通有限公司河北省分公司</td>\n",
       "      <td>总经理</td>\n",
       "    </tr>\n",
       "    <tr>\n",
       "      <th>12</th>\n",
       "      <td>企业类</td>\n",
       "      <td>企业一期</td>\n",
       "      <td>魏永春</td>\n",
       "      <td>中国电力投资集团公司宁夏能源铝业...</td>\n",
       "      <td>总会计师</td>\n",
       "    </tr>\n",
       "    <tr>\n",
       "      <th>13</th>\n",
       "      <td>企业类</td>\n",
       "      <td>企业一期</td>\n",
       "      <td>巫升柱</td>\n",
       "      <td>厦门路桥建设集团有限公司计划财务...</td>\n",
       "      <td>财务部副总经理</td>\n",
       "    </tr>\n",
       "    <tr>\n",
       "      <th>14</th>\n",
       "      <td>企业类</td>\n",
       "      <td>企业一期</td>\n",
       "      <td>吴琨宗</td>\n",
       "      <td>宝钢集团有限公司经营</td>\n",
       "      <td>财务部总经理兼资产管...</td>\n",
       "    </tr>\n",
       "    <tr>\n",
       "      <th>15</th>\n",
       "      <td>企业类</td>\n",
       "      <td>企业一期</td>\n",
       "      <td>伍李明</td>\n",
       "      <td>中国银河证券股份有限公司战略研究...</td>\n",
       "      <td>高级经理</td>\n",
       "    </tr>\n",
       "    <tr>\n",
       "      <th>16</th>\n",
       "      <td>企业类</td>\n",
       "      <td>企业一期</td>\n",
       "      <td>夏存海</td>\n",
       "      <td>武汉邮电科学研究院</td>\n",
       "      <td>总会计师</td>\n",
       "    </tr>\n",
       "    <tr>\n",
       "      <th>17</th>\n",
       "      <td>企业类</td>\n",
       "      <td>企业一期</td>\n",
       "      <td>夏鹏</td>\n",
       "      <td>中广传播集团有限公司</td>\n",
       "      <td>投融资部总经理</td>\n",
       "    </tr>\n",
       "    <tr>\n",
       "      <th>18</th>\n",
       "      <td>企业类</td>\n",
       "      <td>企业一期</td>\n",
       "      <td>严九</td>\n",
       "      <td>中国石油冀东油田公司</td>\n",
       "      <td>总会计师</td>\n",
       "    </tr>\n",
       "    <tr>\n",
       "      <th>19</th>\n",
       "      <td>企业类</td>\n",
       "      <td>企业一期</td>\n",
       "      <td>杨鸿雁</td>\n",
       "      <td>中国机械工业集团公司</td>\n",
       "      <td>资产财务部副部长</td>\n",
       "    </tr>\n",
       "    <tr>\n",
       "      <th>20</th>\n",
       "      <td>企业类</td>\n",
       "      <td>企业一期</td>\n",
       "      <td>杨津</td>\n",
       "      <td>邢台钢铁有限责任公司</td>\n",
       "      <td>财务部副主任</td>\n",
       "    </tr>\n",
       "    <tr>\n",
       "      <th>21</th>\n",
       "      <td>企业类</td>\n",
       "      <td>企业一期</td>\n",
       "      <td>杨少良</td>\n",
       "      <td>广东省本草药业有限公司</td>\n",
       "      <td>党委书记</td>\n",
       "    </tr>\n",
       "    <tr>\n",
       "      <th>22</th>\n",
       "      <td>企业类</td>\n",
       "      <td>企业一期</td>\n",
       "      <td>余建国</td>\n",
       "      <td>武汉国有资产经营公司</td>\n",
       "      <td>副总经理</td>\n",
       "    </tr>\n",
       "    <tr>\n",
       "      <th>23</th>\n",
       "      <td>企业类</td>\n",
       "      <td>企业一期</td>\n",
       "      <td>袁丰</td>\n",
       "      <td>德勤华永会计师事务所有限公司广州...</td>\n",
       "      <td>合伙人</td>\n",
       "    </tr>\n",
       "    <tr>\n",
       "      <th>24</th>\n",
       "      <td>企业类</td>\n",
       "      <td>企业一期</td>\n",
       "      <td>张大明</td>\n",
       "      <td>北京市建筑设计研究院</td>\n",
       "      <td>财务总监</td>\n",
       "    </tr>\n",
       "    <tr>\n",
       "      <th>25</th>\n",
       "      <td>企业类</td>\n",
       "      <td>企业一期</td>\n",
       "      <td>赵晓红</td>\n",
       "      <td>中国五矿集团公司</td>\n",
       "      <td>审计部总经理</td>\n",
       "    </tr>\n",
       "    <tr>\n",
       "      <th>26</th>\n",
       "      <td>企业类</td>\n",
       "      <td>企业一期</td>\n",
       "      <td>郑瑛</td>\n",
       "      <td>国家电网公司浙江金华电业局</td>\n",
       "      <td>金华电业局财务部主任...</td>\n",
       "    </tr>\n",
       "    <tr>\n",
       "      <th>27</th>\n",
       "      <td>企业类</td>\n",
       "      <td>企业一期</td>\n",
       "      <td>陈祖友</td>\n",
       "      <td>河南农开产业基金投资公司</td>\n",
       "      <td>总经理</td>\n",
       "    </tr>\n",
       "    <tr>\n",
       "      <th>28</th>\n",
       "      <td>企业类</td>\n",
       "      <td>企业一期</td>\n",
       "      <td>丁自明</td>\n",
       "      <td>宁夏银行股份有限公司</td>\n",
       "      <td>支行副行长</td>\n",
       "    </tr>\n",
       "    <tr>\n",
       "      <th>29</th>\n",
       "      <td>企业类</td>\n",
       "      <td>企业一期</td>\n",
       "      <td>房小兵</td>\n",
       "      <td>中国交通建设股份有限公司</td>\n",
       "      <td>海外事业部总会计师</td>\n",
       "    </tr>\n",
       "    <tr>\n",
       "      <th>...</th>\n",
       "      <td>...</td>\n",
       "      <td>...</td>\n",
       "      <td>...</td>\n",
       "      <td>...</td>\n",
       "      <td>...</td>\n",
       "    </tr>\n",
       "    <tr>\n",
       "      <th>1013</th>\n",
       "      <td>大赛类</td>\n",
       "      <td>大赛班</td>\n",
       "      <td>向微</td>\n",
       "      <td>南昌铁路局财务处</td>\n",
       "      <td>会计师</td>\n",
       "    </tr>\n",
       "    <tr>\n",
       "      <th>1014</th>\n",
       "      <td>大赛类</td>\n",
       "      <td>大赛班</td>\n",
       "      <td>向自力</td>\n",
       "      <td>深圳市投资控股有限公司</td>\n",
       "      <td>高级主管</td>\n",
       "    </tr>\n",
       "    <tr>\n",
       "      <th>1015</th>\n",
       "      <td>大赛类</td>\n",
       "      <td>大赛班</td>\n",
       "      <td>肖烈汗</td>\n",
       "      <td>大华会计师事务所（特殊普通合伙）深...</td>\n",
       "      <td>部门经理</td>\n",
       "    </tr>\n",
       "    <tr>\n",
       "      <th>1016</th>\n",
       "      <td>大赛类</td>\n",
       "      <td>大赛班</td>\n",
       "      <td>杨敏</td>\n",
       "      <td>中国石油天然气集团公司财务资产部...</td>\n",
       "      <td>高级主管</td>\n",
       "    </tr>\n",
       "    <tr>\n",
       "      <th>1017</th>\n",
       "      <td>大赛类</td>\n",
       "      <td>大赛班</td>\n",
       "      <td>杨仁标</td>\n",
       "      <td>浙江省电力公司财务资产部</td>\n",
       "      <td>高级会计师</td>\n",
       "    </tr>\n",
       "    <tr>\n",
       "      <th>1018</th>\n",
       "      <td>大赛类</td>\n",
       "      <td>大赛班</td>\n",
       "      <td>包秋萍</td>\n",
       "      <td>萧甬铁路有限公司</td>\n",
       "      <td>高级会计师/副总兼总会...</td>\n",
       "    </tr>\n",
       "    <tr>\n",
       "      <th>1019</th>\n",
       "      <td>大赛类</td>\n",
       "      <td>大赛班</td>\n",
       "      <td>陈小波</td>\n",
       "      <td>安琪酵母股份有限公司</td>\n",
       "      <td>财务部副部长</td>\n",
       "    </tr>\n",
       "    <tr>\n",
       "      <th>1020</th>\n",
       "      <td>大赛类</td>\n",
       "      <td>大赛班</td>\n",
       "      <td>陈珍红</td>\n",
       "      <td>杭州师范大学</td>\n",
       "      <td>财务处处长</td>\n",
       "    </tr>\n",
       "    <tr>\n",
       "      <th>1021</th>\n",
       "      <td>大赛类</td>\n",
       "      <td>大赛班</td>\n",
       "      <td>程妮妮</td>\n",
       "      <td>中国人民解放军63918部队</td>\n",
       "      <td>正营职助理员</td>\n",
       "    </tr>\n",
       "    <tr>\n",
       "      <th>1022</th>\n",
       "      <td>大赛类</td>\n",
       "      <td>大赛班</td>\n",
       "      <td>丁琴丽</td>\n",
       "      <td>天健会计师事务所</td>\n",
       "      <td>助理会计师/项目经理</td>\n",
       "    </tr>\n",
       "    <tr>\n",
       "      <th>1023</th>\n",
       "      <td>大赛类</td>\n",
       "      <td>大赛班</td>\n",
       "      <td>董学刚</td>\n",
       "      <td>中广传播集团有限公司</td>\n",
       "      <td>集团财务部总经理助理...</td>\n",
       "    </tr>\n",
       "    <tr>\n",
       "      <th>1024</th>\n",
       "      <td>大赛类</td>\n",
       "      <td>大赛班</td>\n",
       "      <td>付辉平</td>\n",
       "      <td>中国石油天然气集团公司财务资产部...</td>\n",
       "      <td>高级会计师/高级主管</td>\n",
       "    </tr>\n",
       "    <tr>\n",
       "      <th>1025</th>\n",
       "      <td>大赛类</td>\n",
       "      <td>大赛班</td>\n",
       "      <td>顾先英</td>\n",
       "      <td>中国石油天然气集团公司财务资产部...</td>\n",
       "      <td>高级会计师/高级主管</td>\n",
       "    </tr>\n",
       "    <tr>\n",
       "      <th>1026</th>\n",
       "      <td>大赛类</td>\n",
       "      <td>大赛班</td>\n",
       "      <td>何显祥</td>\n",
       "      <td>国家电网公司财务部</td>\n",
       "      <td>高级会计师</td>\n",
       "    </tr>\n",
       "    <tr>\n",
       "      <th>1027</th>\n",
       "      <td>大赛类</td>\n",
       "      <td>大赛班</td>\n",
       "      <td>贺凤梅</td>\n",
       "      <td>浙江德威会计师事务所有限公司</td>\n",
       "      <td>审计师</td>\n",
       "    </tr>\n",
       "    <tr>\n",
       "      <th>1028</th>\n",
       "      <td>大赛类</td>\n",
       "      <td>大赛班</td>\n",
       "      <td>贾波</td>\n",
       "      <td>中粮集团有限公司</td>\n",
       "      <td>高级主管</td>\n",
       "    </tr>\n",
       "    <tr>\n",
       "      <th>1029</th>\n",
       "      <td>大赛类</td>\n",
       "      <td>大赛班</td>\n",
       "      <td>柯震虹</td>\n",
       "      <td>武汉铁路局财务处</td>\n",
       "      <td>会计监察科副科长、高师...</td>\n",
       "    </tr>\n",
       "    <tr>\n",
       "      <th>1030</th>\n",
       "      <td>大赛类</td>\n",
       "      <td>大赛班</td>\n",
       "      <td>李崇敏</td>\n",
       "      <td>慈溪永敬会计师事务所有限公司</td>\n",
       "      <td>高级会计师/部门经理</td>\n",
       "    </tr>\n",
       "    <tr>\n",
       "      <th>1031</th>\n",
       "      <td>大赛类</td>\n",
       "      <td>大赛班</td>\n",
       "      <td>李亚利</td>\n",
       "      <td>中国石油集团公司预算管理办公室</td>\n",
       "      <td>高级会计师/高级主管</td>\n",
       "    </tr>\n",
       "    <tr>\n",
       "      <th>1032</th>\n",
       "      <td>大赛类</td>\n",
       "      <td>大赛班</td>\n",
       "      <td>梁文芳</td>\n",
       "      <td>德勤华永会计师事务所有限公司北京...</td>\n",
       "      <td>经理</td>\n",
       "    </tr>\n",
       "    <tr>\n",
       "      <th>1033</th>\n",
       "      <td>大赛类</td>\n",
       "      <td>大赛班</td>\n",
       "      <td>廖云龙</td>\n",
       "      <td>鲁证创业投资有限公司</td>\n",
       "      <td>高级经理</td>\n",
       "    </tr>\n",
       "    <tr>\n",
       "      <th>1034</th>\n",
       "      <td>大赛类</td>\n",
       "      <td>大赛班</td>\n",
       "      <td>刘桂芝</td>\n",
       "      <td>湖北圆通实业集团</td>\n",
       "      <td>财务总监助理、高师、武...</td>\n",
       "    </tr>\n",
       "    <tr>\n",
       "      <th>1035</th>\n",
       "      <td>大赛类</td>\n",
       "      <td>大赛班</td>\n",
       "      <td>罗慧</td>\n",
       "      <td>江苏省电力公司</td>\n",
       "      <td>运营监控中心分析处副...</td>\n",
       "    </tr>\n",
       "    <tr>\n",
       "      <th>1036</th>\n",
       "      <td>大赛类</td>\n",
       "      <td>大赛班</td>\n",
       "      <td>莫晓燕</td>\n",
       "      <td>中国民生银行天津分行</td>\n",
       "      <td>产品经理</td>\n",
       "    </tr>\n",
       "    <tr>\n",
       "      <th>1037</th>\n",
       "      <td>大赛类</td>\n",
       "      <td>大赛班</td>\n",
       "      <td>欧春红</td>\n",
       "      <td>安徽省电力公司宿州供电公司</td>\n",
       "      <td>财务部主任、高师</td>\n",
       "    </tr>\n",
       "    <tr>\n",
       "      <th>1038</th>\n",
       "      <td>大赛类</td>\n",
       "      <td>大赛班</td>\n",
       "      <td>张金华</td>\n",
       "      <td>湖北省荆门市会计管理局</td>\n",
       "      <td>副局长</td>\n",
       "    </tr>\n",
       "    <tr>\n",
       "      <th>1039</th>\n",
       "      <td>大赛类</td>\n",
       "      <td>大赛班</td>\n",
       "      <td>张莉莉</td>\n",
       "      <td>宁波市北仑昌润税务师事务所</td>\n",
       "      <td>主管</td>\n",
       "    </tr>\n",
       "    <tr>\n",
       "      <th>1040</th>\n",
       "      <td>大赛类</td>\n",
       "      <td>大赛班</td>\n",
       "      <td>赵妍</td>\n",
       "      <td>国家能源局华东监管局</td>\n",
       "      <td>高师</td>\n",
       "    </tr>\n",
       "    <tr>\n",
       "      <th>1041</th>\n",
       "      <td>大赛类</td>\n",
       "      <td>大赛班</td>\n",
       "      <td>周瑞</td>\n",
       "      <td>呼和浩特铁路局财务处</td>\n",
       "      <td>副科长</td>\n",
       "    </tr>\n",
       "    <tr>\n",
       "      <th>1042</th>\n",
       "      <td>大赛类</td>\n",
       "      <td>大赛班</td>\n",
       "      <td>周成</td>\n",
       "      <td>宁波申洲针织有限公司</td>\n",
       "      <td>内审部副部长</td>\n",
       "    </tr>\n",
       "  </tbody>\n",
       "</table>\n",
       "<p>1043 rows × 5 columns</p>\n",
       "</div>"
      ],
      "text/plain": [
       "        0     1    2                     3               4\n",
       "0     企业类  企业一期   冯锐       亿加乐集团 董事、中国区ＣＥＯ          财务部总经理\n",
       "1     企业类  企业一期   韩杰       嘉里建设上海吉祥房地产有限公司            财务总监\n",
       "2     企业类  企业一期  何世刚            特变电工股份有限公司            总经济师\n",
       "3     企业类  企业一期   侯锐              中国通信服务公司             副总裁\n",
       "4     企业类  企业一期  侯玲钦            中服嘉运国际贸易公司             总经理\n",
       "5     企业类  企业一期  胡志军   中国人寿保险股份有限公司天津市分...           总经理助理\n",
       "6     企业类  企业一期  姜小华            宝业集团股份有限公司            副总经理\n",
       "7     企业类  企业一期  李爱群              湘电集团有限公司           总经理助理\n",
       "8     企业类  企业一期  李殿承                中国建设银行         资金结算部处长\n",
       "9     企业类  企业一期  李惊涛            广东发展银行南京分行   分行副行长兼财务总监...\n",
       "10    企业类  企业一期  王淑霞             厦门市财政审核中心             调研员\n",
       "11    企业类  企业一期  韦秀长        中国联通有限公司河北省分公司             总经理\n",
       "12    企业类  企业一期  魏永春   中国电力投资集团公司宁夏能源铝业...            总会计师\n",
       "13    企业类  企业一期  巫升柱   厦门路桥建设集团有限公司计划财务...         财务部副总经理\n",
       "14    企业类  企业一期  吴琨宗            宝钢集团有限公司经营   财务部总经理兼资产管...\n",
       "15    企业类  企业一期  伍李明   中国银河证券股份有限公司战略研究...            高级经理\n",
       "16    企业类  企业一期  夏存海             武汉邮电科学研究院            总会计师\n",
       "17    企业类  企业一期   夏鹏            中广传播集团有限公司         投融资部总经理\n",
       "18    企业类  企业一期   严九            中国石油冀东油田公司            总会计师\n",
       "19    企业类  企业一期  杨鸿雁            中国机械工业集团公司        资产财务部副部长\n",
       "20    企业类  企业一期   杨津            邢台钢铁有限责任公司          财务部副主任\n",
       "21    企业类  企业一期  杨少良           广东省本草药业有限公司            党委书记\n",
       "22    企业类  企业一期  余建国            武汉国有资产经营公司            副总经理\n",
       "23    企业类  企业一期   袁丰   德勤华永会计师事务所有限公司广州...             合伙人\n",
       "24    企业类  企业一期  张大明            北京市建筑设计研究院            财务总监\n",
       "25    企业类  企业一期  赵晓红              中国五矿集团公司          审计部总经理\n",
       "26    企业类  企业一期   郑瑛         国家电网公司浙江金华电业局   金华电业局财务部主任...\n",
       "27    企业类  企业一期  陈祖友          河南农开产业基金投资公司             总经理\n",
       "28    企业类  企业一期  丁自明            宁夏银行股份有限公司           支行副行长\n",
       "29    企业类  企业一期  房小兵          中国交通建设股份有限公司       海外事业部总会计师\n",
       "...   ...   ...  ...                   ...             ...\n",
       "1013  大赛类   大赛班   向微              南昌铁路局财务处             会计师\n",
       "1014  大赛类   大赛班  向自力           深圳市投资控股有限公司            高级主管\n",
       "1015  大赛类   大赛班  肖烈汗  大华会计师事务所（特殊普通合伙）深...            部门经理\n",
       "1016  大赛类   大赛班   杨敏   中国石油天然气集团公司财务资产部...            高级主管\n",
       "1017  大赛类   大赛班  杨仁标          浙江省电力公司财务资产部           高级会计师\n",
       "1018  大赛类   大赛班  包秋萍              萧甬铁路有限公司  高级会计师/副总兼总会...\n",
       "1019  大赛类   大赛班  陈小波            安琪酵母股份有限公司          财务部副部长\n",
       "1020  大赛类   大赛班  陈珍红                杭州师范大学           财务处处长\n",
       "1021  大赛类   大赛班  程妮妮        中国人民解放军63918部队          正营职助理员\n",
       "1022  大赛类   大赛班  丁琴丽              天健会计师事务所      助理会计师/项目经理\n",
       "1023  大赛类   大赛班  董学刚            中广传播集团有限公司   集团财务部总经理助理...\n",
       "1024  大赛类   大赛班  付辉平   中国石油天然气集团公司财务资产部...      高级会计师/高级主管\n",
       "1025  大赛类   大赛班  顾先英   中国石油天然气集团公司财务资产部...      高级会计师/高级主管\n",
       "1026  大赛类   大赛班  何显祥             国家电网公司财务部           高级会计师\n",
       "1027  大赛类   大赛班  贺凤梅        浙江德威会计师事务所有限公司             审计师\n",
       "1028  大赛类   大赛班   贾波              中粮集团有限公司            高级主管\n",
       "1029  大赛类   大赛班  柯震虹              武汉铁路局财务处  会计监察科副科长、高师...\n",
       "1030  大赛类   大赛班  李崇敏        慈溪永敬会计师事务所有限公司      高级会计师/部门经理\n",
       "1031  大赛类   大赛班  李亚利       中国石油集团公司预算管理办公室      高级会计师/高级主管\n",
       "1032  大赛类   大赛班  梁文芳   德勤华永会计师事务所有限公司北京...              经理\n",
       "1033  大赛类   大赛班  廖云龙            鲁证创业投资有限公司            高级经理\n",
       "1034  大赛类   大赛班  刘桂芝              湖北圆通实业集团  财务总监助理、高师、武...\n",
       "1035  大赛类   大赛班   罗慧               江苏省电力公司   运营监控中心分析处副...\n",
       "1036  大赛类   大赛班  莫晓燕            中国民生银行天津分行            产品经理\n",
       "1037  大赛类   大赛班  欧春红         安徽省电力公司宿州供电公司        财务部主任、高师\n",
       "1038  大赛类   大赛班  张金华           湖北省荆门市会计管理局             副局长\n",
       "1039  大赛类   大赛班  张莉莉         宁波市北仑昌润税务师事务所              主管\n",
       "1040  大赛类   大赛班   赵妍            国家能源局华东监管局              高师\n",
       "1041  大赛类   大赛班   周瑞            呼和浩特铁路局财务处             副科长\n",
       "1042  大赛类   大赛班   周成            宁波申洲针织有限公司          内审部副部长\n",
       "\n",
       "[1043 rows x 5 columns]"
      ]
     },
     "execution_count": 236,
     "metadata": {},
     "output_type": "execute_result"
    }
   ],
   "source": [
    "final"
   ]
  },
  {
   "cell_type": "code",
   "execution_count": null,
   "metadata": {},
   "outputs": [],
   "source": []
  },
  {
   "cell_type": "code",
   "execution_count": null,
   "metadata": {},
   "outputs": [],
   "source": []
  },
  {
   "cell_type": "code",
   "execution_count": null,
   "metadata": {},
   "outputs": [],
   "source": []
  },
  {
   "cell_type": "code",
   "execution_count": null,
   "metadata": {},
   "outputs": [],
   "source": []
  },
  {
   "cell_type": "code",
   "execution_count": null,
   "metadata": {},
   "outputs": [],
   "source": []
  },
  {
   "cell_type": "code",
   "execution_count": null,
   "metadata": {},
   "outputs": [],
   "source": [
    "browser.find_element_by_xpath('//*[@id=\"_input\"]').clear()"
   ]
  },
  {
   "cell_type": "code",
   "execution_count": null,
   "metadata": {},
   "outputs": [],
   "source": [
    "browser.find_element_by_xpath('//*[@id=\"_input\"]').send_keys(3)"
   ]
  },
  {
   "cell_type": "code",
   "execution_count": null,
   "metadata": {},
   "outputs": [],
   "source": [
    "browser.find_element_by_xpath('//*[@id=\"_button\"]').click()"
   ]
  },
  {
   "cell_type": "code",
   "execution_count": null,
   "metadata": {},
   "outputs": [],
   "source": [
    "last_page=browser.find_element_by_xpath('/html/body/div[5]/div[2]/div[2]/div/div[2]/div[4]/span[2]').text"
   ]
  },
  {
   "cell_type": "code",
   "execution_count": null,
   "metadata": {},
   "outputs": [],
   "source": [
    "temp=[]"
   ]
  },
  {
   "cell_type": "code",
   "execution_count": null,
   "metadata": {},
   "outputs": [],
   "source": [
    "for i in range(int(list(last_page)[1])):\n",
    "    #print(i)\n",
    "    page=i+1\n",
    "    browser.find_element_by_xpath('//*[@id=\"_input\"]').clear()\n",
    "    browser.find_element_by_xpath('//*[@id=\"_input\"]').send_keys(3)\n",
    "    browser.find_element_by_xpath('//*[@id=\"_button\"]').click()\n",
    "    get_data()"
   ]
  },
  {
   "cell_type": "code",
   "execution_count": 38,
   "metadata": {},
   "outputs": [
    {
     "name": "stdout",
     "output_type": "stream",
     "text": [
      "企业类\n",
      "行政事业类\n",
      "学术类\n",
      "注册会计师\n",
      "大赛类\n"
     ]
    }
   ],
   "source": [
    "for corp in corps:\n",
    "    print(corp.text)\n",
    "#     corp.click()\n",
    "#     corps=browser.find_elements_by_xpath('/html/body/div[5]/div[1]/div/div/ul/li')\n",
    "#     sleep(2)\n",
    "    "
   ]
  },
  {
   "cell_type": "code",
   "execution_count": null,
   "metadata": {},
   "outputs": [],
   "source": []
  },
  {
   "cell_type": "code",
   "execution_count": null,
   "metadata": {},
   "outputs": [],
   "source": []
  },
  {
   "cell_type": "code",
   "execution_count": 28,
   "metadata": {},
   "outputs": [],
   "source": [
    "corps=browser.find_elements_by_xpath('/html/body/div[5]/div[1]/div/div/ul/li')"
   ]
  },
  {
   "cell_type": "code",
   "execution_count": 26,
   "metadata": {},
   "outputs": [],
   "source": [
    "corps[1].click()"
   ]
  },
  {
   "cell_type": "code",
   "execution_count": 29,
   "metadata": {},
   "outputs": [
    {
     "data": {
      "text/plain": [
       "'行政事业类'"
      ]
     },
     "execution_count": 29,
     "metadata": {},
     "output_type": "execute_result"
    }
   ],
   "source": [
    "corps[1].text"
   ]
  },
  {
   "cell_type": "code",
   "execution_count": null,
   "metadata": {},
   "outputs": [],
   "source": []
  },
  {
   "cell_type": "code",
   "execution_count": 45,
   "metadata": {},
   "outputs": [],
   "source": [
    "catergorys=browser.find_elements_by_xpath('/html/body/div[5]/div[2]/div[2]/div/div[1]/ul/li')"
   ]
  },
  {
   "cell_type": "code",
   "execution_count": 48,
   "metadata": {},
   "outputs": [
    {
     "ename": "StaleElementReferenceException",
     "evalue": "Message: stale element reference: element is not attached to the page document\n  (Session info: chrome=75.0.3770.100)\n  (Driver info: chromedriver=72.0.3626.7 (efcef9a3ecda02b2132af215116a03852d08b9cb),platform=Windows NT 10.0.17134 x86_64)\n",
     "output_type": "error",
     "traceback": [
      "\u001b[1;31m---------------------------------------------------------------------------\u001b[0m",
      "\u001b[1;31mStaleElementReferenceException\u001b[0m            Traceback (most recent call last)",
      "\u001b[1;32m<ipython-input-48-10334f467664>\u001b[0m in \u001b[0;36m<module>\u001b[1;34m()\u001b[0m\n\u001b[1;32m----> 1\u001b[1;33m \u001b[0mcatergorys\u001b[0m\u001b[1;33m[\u001b[0m\u001b[1;36m1\u001b[0m\u001b[1;33m]\u001b[0m\u001b[1;33m.\u001b[0m\u001b[0mtext\u001b[0m\u001b[1;33m\u001b[0m\u001b[0m\n\u001b[0m",
      "\u001b[1;32mC:\\ProgramData\\Anaconda3\\lib\\site-packages\\selenium\\webdriver\\remote\\webelement.py\u001b[0m in \u001b[0;36mtext\u001b[1;34m(self)\u001b[0m\n\u001b[0;32m     74\u001b[0m     \u001b[1;32mdef\u001b[0m \u001b[0mtext\u001b[0m\u001b[1;33m(\u001b[0m\u001b[0mself\u001b[0m\u001b[1;33m)\u001b[0m\u001b[1;33m:\u001b[0m\u001b[1;33m\u001b[0m\u001b[0m\n\u001b[0;32m     75\u001b[0m         \u001b[1;34m\"\"\"The text of the element.\"\"\"\u001b[0m\u001b[1;33m\u001b[0m\u001b[0m\n\u001b[1;32m---> 76\u001b[1;33m         \u001b[1;32mreturn\u001b[0m \u001b[0mself\u001b[0m\u001b[1;33m.\u001b[0m\u001b[0m_execute\u001b[0m\u001b[1;33m(\u001b[0m\u001b[0mCommand\u001b[0m\u001b[1;33m.\u001b[0m\u001b[0mGET_ELEMENT_TEXT\u001b[0m\u001b[1;33m)\u001b[0m\u001b[1;33m[\u001b[0m\u001b[1;34m'value'\u001b[0m\u001b[1;33m]\u001b[0m\u001b[1;33m\u001b[0m\u001b[0m\n\u001b[0m\u001b[0;32m     77\u001b[0m \u001b[1;33m\u001b[0m\u001b[0m\n\u001b[0;32m     78\u001b[0m     \u001b[1;32mdef\u001b[0m \u001b[0mclick\u001b[0m\u001b[1;33m(\u001b[0m\u001b[0mself\u001b[0m\u001b[1;33m)\u001b[0m\u001b[1;33m:\u001b[0m\u001b[1;33m\u001b[0m\u001b[0m\n",
      "\u001b[1;32mC:\\ProgramData\\Anaconda3\\lib\\site-packages\\selenium\\webdriver\\remote\\webelement.py\u001b[0m in \u001b[0;36m_execute\u001b[1;34m(self, command, params)\u001b[0m\n\u001b[0;32m    626\u001b[0m             \u001b[0mparams\u001b[0m \u001b[1;33m=\u001b[0m \u001b[1;33m{\u001b[0m\u001b[1;33m}\u001b[0m\u001b[1;33m\u001b[0m\u001b[0m\n\u001b[0;32m    627\u001b[0m         \u001b[0mparams\u001b[0m\u001b[1;33m[\u001b[0m\u001b[1;34m'id'\u001b[0m\u001b[1;33m]\u001b[0m \u001b[1;33m=\u001b[0m \u001b[0mself\u001b[0m\u001b[1;33m.\u001b[0m\u001b[0m_id\u001b[0m\u001b[1;33m\u001b[0m\u001b[0m\n\u001b[1;32m--> 628\u001b[1;33m         \u001b[1;32mreturn\u001b[0m \u001b[0mself\u001b[0m\u001b[1;33m.\u001b[0m\u001b[0m_parent\u001b[0m\u001b[1;33m.\u001b[0m\u001b[0mexecute\u001b[0m\u001b[1;33m(\u001b[0m\u001b[0mcommand\u001b[0m\u001b[1;33m,\u001b[0m \u001b[0mparams\u001b[0m\u001b[1;33m)\u001b[0m\u001b[1;33m\u001b[0m\u001b[0m\n\u001b[0m\u001b[0;32m    629\u001b[0m \u001b[1;33m\u001b[0m\u001b[0m\n\u001b[0;32m    630\u001b[0m     \u001b[1;32mdef\u001b[0m \u001b[0mfind_element\u001b[0m\u001b[1;33m(\u001b[0m\u001b[0mself\u001b[0m\u001b[1;33m,\u001b[0m \u001b[0mby\u001b[0m\u001b[1;33m=\u001b[0m\u001b[0mBy\u001b[0m\u001b[1;33m.\u001b[0m\u001b[0mID\u001b[0m\u001b[1;33m,\u001b[0m \u001b[0mvalue\u001b[0m\u001b[1;33m=\u001b[0m\u001b[1;32mNone\u001b[0m\u001b[1;33m)\u001b[0m\u001b[1;33m:\u001b[0m\u001b[1;33m\u001b[0m\u001b[0m\n",
      "\u001b[1;32mC:\\ProgramData\\Anaconda3\\lib\\site-packages\\selenium\\webdriver\\remote\\webdriver.py\u001b[0m in \u001b[0;36mexecute\u001b[1;34m(self, driver_command, params)\u001b[0m\n\u001b[0;32m    318\u001b[0m         \u001b[0mresponse\u001b[0m \u001b[1;33m=\u001b[0m \u001b[0mself\u001b[0m\u001b[1;33m.\u001b[0m\u001b[0mcommand_executor\u001b[0m\u001b[1;33m.\u001b[0m\u001b[0mexecute\u001b[0m\u001b[1;33m(\u001b[0m\u001b[0mdriver_command\u001b[0m\u001b[1;33m,\u001b[0m \u001b[0mparams\u001b[0m\u001b[1;33m)\u001b[0m\u001b[1;33m\u001b[0m\u001b[0m\n\u001b[0;32m    319\u001b[0m         \u001b[1;32mif\u001b[0m \u001b[0mresponse\u001b[0m\u001b[1;33m:\u001b[0m\u001b[1;33m\u001b[0m\u001b[0m\n\u001b[1;32m--> 320\u001b[1;33m             \u001b[0mself\u001b[0m\u001b[1;33m.\u001b[0m\u001b[0merror_handler\u001b[0m\u001b[1;33m.\u001b[0m\u001b[0mcheck_response\u001b[0m\u001b[1;33m(\u001b[0m\u001b[0mresponse\u001b[0m\u001b[1;33m)\u001b[0m\u001b[1;33m\u001b[0m\u001b[0m\n\u001b[0m\u001b[0;32m    321\u001b[0m             response['value'] = self._unwrap_value(\n\u001b[0;32m    322\u001b[0m                 response.get('value', None))\n",
      "\u001b[1;32mC:\\ProgramData\\Anaconda3\\lib\\site-packages\\selenium\\webdriver\\remote\\errorhandler.py\u001b[0m in \u001b[0;36mcheck_response\u001b[1;34m(self, response)\u001b[0m\n\u001b[0;32m    240\u001b[0m                 \u001b[0malert_text\u001b[0m \u001b[1;33m=\u001b[0m \u001b[0mvalue\u001b[0m\u001b[1;33m[\u001b[0m\u001b[1;34m'alert'\u001b[0m\u001b[1;33m]\u001b[0m\u001b[1;33m.\u001b[0m\u001b[0mget\u001b[0m\u001b[1;33m(\u001b[0m\u001b[1;34m'text'\u001b[0m\u001b[1;33m)\u001b[0m\u001b[1;33m\u001b[0m\u001b[0m\n\u001b[0;32m    241\u001b[0m             \u001b[1;32mraise\u001b[0m \u001b[0mexception_class\u001b[0m\u001b[1;33m(\u001b[0m\u001b[0mmessage\u001b[0m\u001b[1;33m,\u001b[0m \u001b[0mscreen\u001b[0m\u001b[1;33m,\u001b[0m \u001b[0mstacktrace\u001b[0m\u001b[1;33m,\u001b[0m \u001b[0malert_text\u001b[0m\u001b[1;33m)\u001b[0m\u001b[1;33m\u001b[0m\u001b[0m\n\u001b[1;32m--> 242\u001b[1;33m         \u001b[1;32mraise\u001b[0m \u001b[0mexception_class\u001b[0m\u001b[1;33m(\u001b[0m\u001b[0mmessage\u001b[0m\u001b[1;33m,\u001b[0m \u001b[0mscreen\u001b[0m\u001b[1;33m,\u001b[0m \u001b[0mstacktrace\u001b[0m\u001b[1;33m)\u001b[0m\u001b[1;33m\u001b[0m\u001b[0m\n\u001b[0m\u001b[0;32m    243\u001b[0m \u001b[1;33m\u001b[0m\u001b[0m\n\u001b[0;32m    244\u001b[0m     \u001b[1;32mdef\u001b[0m \u001b[0m_value_or_default\u001b[0m\u001b[1;33m(\u001b[0m\u001b[0mself\u001b[0m\u001b[1;33m,\u001b[0m \u001b[0mobj\u001b[0m\u001b[1;33m,\u001b[0m \u001b[0mkey\u001b[0m\u001b[1;33m,\u001b[0m \u001b[0mdefault\u001b[0m\u001b[1;33m)\u001b[0m\u001b[1;33m:\u001b[0m\u001b[1;33m\u001b[0m\u001b[0m\n",
      "\u001b[1;31mStaleElementReferenceException\u001b[0m: Message: stale element reference: element is not attached to the page document\n  (Session info: chrome=75.0.3770.100)\n  (Driver info: chromedriver=72.0.3626.7 (efcef9a3ecda02b2132af215116a03852d08b9cb),platform=Windows NT 10.0.17134 x86_64)\n"
     ]
    }
   ],
   "source": [
    "catergorys[1].text"
   ]
  },
  {
   "cell_type": "code",
   "execution_count": 47,
   "metadata": {},
   "outputs": [],
   "source": [
    "catergorys[1].click()"
   ]
  },
  {
   "cell_type": "code",
   "execution_count": null,
   "metadata": {},
   "outputs": [],
   "source": []
  },
  {
   "cell_type": "code",
   "execution_count": null,
   "metadata": {},
   "outputs": [],
   "source": []
  },
  {
   "cell_type": "code",
   "execution_count": null,
   "metadata": {},
   "outputs": [],
   "source": []
  },
  {
   "cell_type": "code",
   "execution_count": null,
   "metadata": {},
   "outputs": [],
   "source": []
  },
  {
   "cell_type": "code",
   "execution_count": null,
   "metadata": {},
   "outputs": [],
   "source": []
  },
  {
   "cell_type": "code",
   "execution_count": 11,
   "metadata": {},
   "outputs": [
    {
     "data": {
      "text/plain": [
       "'共4页,'"
      ]
     },
     "execution_count": 11,
     "metadata": {},
     "output_type": "execute_result"
    }
   ],
   "source": [
    "browser.find_element_by_xpath('/html/body/div[5]/div[2]/div[2]/div/div[2]/div[4]/span[2]').text"
   ]
  },
  {
   "cell_type": "code",
   "execution_count": 12,
   "metadata": {},
   "outputs": [],
   "source": [
    "temp=browser.find_element_by_xpath('/html/body/div[5]/div[2]/div[2]/div/div[2]/div[4]/span[2]').text"
   ]
  },
  {
   "cell_type": "code",
   "execution_count": 16,
   "metadata": {},
   "outputs": [
    {
     "data": {
      "text/plain": [
       "'4'"
      ]
     },
     "execution_count": 16,
     "metadata": {},
     "output_type": "execute_result"
    }
   ],
   "source": [
    "list(temp)[1]"
   ]
  },
  {
   "cell_type": "code",
   "execution_count": 19,
   "metadata": {},
   "outputs": [
    {
     "name": "stdout",
     "output_type": "stream",
     "text": [
      "1\n",
      "2\n",
      "3\n",
      "4\n"
     ]
    }
   ],
   "source": [
    "for i in range(int(list(temp)[1])):\n",
    "    #print(i)\n",
    "    page=i+1\n",
    "    print(page)"
   ]
  },
  {
   "cell_type": "code",
   "execution_count": null,
   "metadata": {},
   "outputs": [],
   "source": [
    "/html/body/div[5]/div[2]/div[2]/div/div[2]/div[2]/ul/li[1]"
   ]
  },
  {
   "cell_type": "code",
   "execution_count": 20,
   "metadata": {},
   "outputs": [],
   "source": [
    "trs=browser.find_elements_by_xpath('/html/body/div[5]/div[2]/div[2]/div/div[2]/div[2]/ul/li')"
   ]
  },
  {
   "cell_type": "code",
   "execution_count": 21,
   "metadata": {},
   "outputs": [
    {
     "data": {
      "text/plain": [
       "[<selenium.webdriver.remote.webelement.WebElement (session=\"30289d867d7f0d203ea1d21d05bd726d\", element=\"0.4289543759405521-12\")>,\n",
       " <selenium.webdriver.remote.webelement.WebElement (session=\"30289d867d7f0d203ea1d21d05bd726d\", element=\"0.4289543759405521-13\")>,\n",
       " <selenium.webdriver.remote.webelement.WebElement (session=\"30289d867d7f0d203ea1d21d05bd726d\", element=\"0.4289543759405521-14\")>]"
      ]
     },
     "execution_count": 21,
     "metadata": {},
     "output_type": "execute_result"
    }
   ],
   "source": [
    "trs[0].find_elements_by_xpath('span')"
   ]
  },
  {
   "cell_type": "code",
   "execution_count": 22,
   "metadata": {},
   "outputs": [],
   "source": [
    "tds=trs[0].find_elements_by_xpath('span')"
   ]
  },
  {
   "cell_type": "code",
   "execution_count": 23,
   "metadata": {},
   "outputs": [
    {
     "data": {
      "text/plain": [
       "'蔡丽兰'"
      ]
     },
     "execution_count": 23,
     "metadata": {},
     "output_type": "execute_result"
    }
   ],
   "source": [
    "tds[0].text"
   ]
  },
  {
   "cell_type": "code",
   "execution_count": null,
   "metadata": {},
   "outputs": [],
   "source": []
  }
 ],
 "metadata": {
  "kernelspec": {
   "display_name": "Python 3",
   "language": "python",
   "name": "python3"
  },
  "language_info": {
   "codemirror_mode": {
    "name": "ipython",
    "version": 3
   },
   "file_extension": ".py",
   "mimetype": "text/x-python",
   "name": "python",
   "nbconvert_exporter": "python",
   "pygments_lexer": "ipython3",
   "version": "3.6.5"
  }
 },
 "nbformat": 4,
 "nbformat_minor": 2
}
