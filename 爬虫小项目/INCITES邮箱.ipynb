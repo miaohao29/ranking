{
 "cells": [
  {
   "cell_type": "code",
   "execution_count": 1,
   "metadata": {},
   "outputs": [],
   "source": [
    "from selenium import webdriver\n",
    "from selenium.webdriver.common.keys import Keys\n",
    "#import os\n",
    "import csv\n",
    "import time\n",
    "import random"
   ]
  },
  {
   "cell_type": "code",
   "execution_count": null,
   "metadata": {},
   "outputs": [],
   "source": [
    "with open(r'C:\\Users\\rk\\Desktop\\Mapp.csv',) as f:\n",
    "    csv_reader=csv.reader(f)\n",
    "    lis_a = list(csv_reader)"
   ]
  },
  {
   "cell_type": "code",
   "execution_count": 2,
   "metadata": {},
   "outputs": [],
   "source": [
    "browser = webdriver.Chrome('C:/Users/rk/Desktop/chromedriver.exe') #锁定浏览器\n",
    "browser.get(\"https://incites.clarivate.com/\")#访问网页"
   ]
  },
  {
   "cell_type": "code",
   "execution_count": 11,
   "metadata": {},
   "outputs": [],
   "source": [
    "path1='//*[@id=\"popover-modal-tu1o8gpaz\"]/div/div/span/input'"
   ]
  },
  {
   "cell_type": "code",
   "execution_count": 18,
   "metadata": {},
   "outputs": [],
   "source": [
    "browser.find_element_by_xpath('//*[@id=\"undefined\"]/ic-analysis-table/section/div/div/div[1]/div/ic-analysis-table-search/cl-popover-modal/div/cl-popover-modal-button/button/span').click()\n",
    "try:\n",
    "    path1='//*[@id=\"popover-modal-tu1o8gpaz\"]/div/div/span/input'\n",
    "    browser.find_element_by_xpath(path1).clear()\n",
    "    browser.find_element_by_xpath(path1).send_keys('Li, Can')\n",
    "    browser.find_element_by_xpath(path1).send_keys(Keys.ENTER)\n",
    "except:\n",
    "    path2 = '//*[@id=\"popover-modal-p12apag5g\"]/div/div/span/input'\n",
    "    browser.find_element_by_xpath(path2).clear()\n",
    "    browser.find_element_by_xpath(path2).send_keys('Li, Can')\n",
    "    browser.find_element_by_xpath(path2).send_keys(Keys.ENTER)\n",
    "    "
   ]
  }
 ],
 "metadata": {
  "kernelspec": {
   "display_name": "Python 3",
   "language": "python",
   "name": "python3"
  },
  "language_info": {
   "codemirror_mode": {
    "name": "ipython",
    "version": 3
   },
   "file_extension": ".py",
   "mimetype": "text/x-python",
   "name": "python",
   "nbconvert_exporter": "python",
   "pygments_lexer": "ipython3",
   "version": "3.6.5"
  }
 },
 "nbformat": 4,
 "nbformat_minor": 2
}
