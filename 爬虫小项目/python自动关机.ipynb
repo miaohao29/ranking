{
 "cells": [
  {
   "cell_type": "code",
   "execution_count": null,
   "metadata": {},
   "outputs": [],
   "source": [
    "from datetime import *\n",
    "import os\n",
    "\n",
    "tmNow = datetime.now()\n",
    "d = date.today()\n",
    "t = time(16,50,0)\n",
    "shtdownTime = datetime.combine(d,t)\n",
    "\n",
    "def ShutDown():\n",
    "    while True:\n",
    "        tmNow = datetime.now()\n",
    "        timedDelta = (shtdownTime - tmNow).total_seconds()\n",
    "        if timedDelta < 60:\n",
    "            os.system('shutdown -s -f -t 59')\n",
    "            break\n",
    "        else:\n",
    "            continue\n",
    "            \n",
    "if __name__ == '__main__':\n",
    "    ShutDown()"
   ]
  },
  {
   "cell_type": "code",
   "execution_count": null,
   "metadata": {},
   "outputs": [],
   "source": [
    "from datetime import *\n",
    "import os\n",
    "\n",
    "tmNow = datetime.now()\n",
    "d = date.today()\n",
    "t = time(23,10,0)\n",
    "shtdownTime = datetime.combine(d,t)\n",
    "\n",
    "def ShutDown():\n",
    "    while True:\n",
    "        tmNow = datetime.now()\n",
    "        timedDelta = (shtdownTime - tmNow).total_seconds()\n",
    "        if timedDelta < 60:\n",
    "            win32api.MessageBox(win32con.NULL, u'还有59s关机，赶快保存一下！', u'温馨提醒', win32con.MB_OK)\n",
    "            os.system('shutdown -s -f -t 59')\n",
    "            break\n",
    "        else:\n",
    "            continue\n",
    "\n",
    "if __name__ == '__main__':\n",
    "    ShutDown()"
   ]
  },
  {
   "cell_type": "code",
   "execution_count": null,
   "metadata": {},
   "outputs": [],
   "source": []
  },
  {
   "cell_type": "code",
   "execution_count": null,
   "metadata": {},
   "outputs": [],
   "source": []
  },
  {
   "cell_type": "code",
   "execution_count": null,
   "metadata": {},
   "outputs": [],
   "source": []
  },
  {
   "cell_type": "code",
   "execution_count": null,
   "metadata": {},
   "outputs": [],
   "source": []
  },
  {
   "cell_type": "code",
   "execution_count": null,
   "metadata": {},
   "outputs": [],
   "source": []
  },
  {
   "cell_type": "code",
   "execution_count": null,
   "metadata": {},
   "outputs": [],
   "source": []
  },
  {
   "cell_type": "code",
   "execution_count": null,
   "metadata": {},
   "outputs": [],
   "source": []
  },
  {
   "cell_type": "code",
   "execution_count": null,
   "metadata": {},
   "outputs": [],
   "source": []
  },
  {
   "cell_type": "code",
   "execution_count": null,
   "metadata": {},
   "outputs": [],
   "source": []
  },
  {
   "cell_type": "code",
   "execution_count": null,
   "metadata": {},
   "outputs": [],
   "source": []
  },
  {
   "cell_type": "code",
   "execution_count": null,
   "metadata": {},
   "outputs": [],
   "source": []
  },
  {
   "cell_type": "code",
   "execution_count": null,
   "metadata": {},
   "outputs": [],
   "source": []
  }
 ],
 "metadata": {
  "kernelspec": {
   "display_name": "Python 3",
   "language": "python",
   "name": "python3"
  },
  "language_info": {
   "codemirror_mode": {
    "name": "ipython",
    "version": 3
   },
   "file_extension": ".py",
   "mimetype": "text/x-python",
   "name": "python",
   "nbconvert_exporter": "python",
   "pygments_lexer": "ipython3",
   "version": "3.6.5"
  }
 },
 "nbformat": 4,
 "nbformat_minor": 2
}
