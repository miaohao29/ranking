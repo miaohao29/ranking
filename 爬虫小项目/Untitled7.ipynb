{
 "cells": [
  {
   "cell_type": "code",
   "execution_count": 1,
   "metadata": {},
   "outputs": [],
   "source": [
    "import numpy as np\n",
    "import pandas as pd"
   ]
  },
  {
   "cell_type": "code",
   "execution_count": 50,
   "metadata": {},
   "outputs": [],
   "source": [
    "import copy"
   ]
  },
  {
   "cell_type": "code",
   "execution_count": 61,
   "metadata": {},
   "outputs": [],
   "source": [
    "normal_file=pd.ExcelFile(r\"C:\\Users\\rk\\Desktop\\财经人才\\上交所深交所2020(1) - 副本.xlsx\")"
   ]
  },
  {
   "cell_type": "code",
   "execution_count": 62,
   "metadata": {},
   "outputs": [
    {
     "data": {
      "text/plain": [
       "['上交所深交所2020']"
      ]
     },
     "execution_count": 62,
     "metadata": {},
     "output_type": "execute_result"
    }
   ],
   "source": [
    "normal_file.sheet_names"
   ]
  },
  {
   "cell_type": "code",
   "execution_count": 63,
   "metadata": {},
   "outputs": [],
   "source": [
    "data=normal_file.parse('上交所深交所2020')"
   ]
  },
  {
   "cell_type": "code",
   "execution_count": 65,
   "metadata": {},
   "outputs": [
    {
     "data": {
      "text/html": [
       "<div>\n",
       "<style scoped>\n",
       "    .dataframe tbody tr th:only-of-type {\n",
       "        vertical-align: middle;\n",
       "    }\n",
       "\n",
       "    .dataframe tbody tr th {\n",
       "        vertical-align: top;\n",
       "    }\n",
       "\n",
       "    .dataframe thead th {\n",
       "        text-align: right;\n",
       "    }\n",
       "</style>\n",
       "<table border=\"1\" class=\"dataframe\">\n",
       "  <thead>\n",
       "    <tr style=\"text-align: right;\">\n",
       "      <th></th>\n",
       "      <th>0</th>\n",
       "      <th>1</th>\n",
       "      <th>2</th>\n",
       "      <th>3</th>\n",
       "      <th>4</th>\n",
       "      <th>5</th>\n",
       "      <th>6</th>\n",
       "      <th>7</th>\n",
       "      <th>8</th>\n",
       "      <th>9</th>\n",
       "      <th>10</th>\n",
       "      <th>Unnamed: 11</th>\n",
       "      <th>Unnamed: 12</th>\n",
       "      <th>Unnamed: 13</th>\n",
       "    </tr>\n",
       "  </thead>\n",
       "  <tbody>\n",
       "    <tr>\n",
       "      <th>0</th>\n",
       "      <td>A股代码</td>\n",
       "      <td>公司名</td>\n",
       "      <td>董事长</td>\n",
       "      <td>最高学历1</td>\n",
       "      <td>总裁/CEO/总经理</td>\n",
       "      <td>最高学历2</td>\n",
       "      <td>财务负责人/财务总监/CFO</td>\n",
       "      <td>最高学历3</td>\n",
       "      <td>财务职称</td>\n",
       "      <td>数据来源1</td>\n",
       "      <td>数据来源2</td>\n",
       "      <td>part</td>\n",
       "      <td>交易所</td>\n",
       "      <td>是否为金融</td>\n",
       "    </tr>\n",
       "    <tr>\n",
       "      <th>1</th>\n",
       "      <td>600351</td>\n",
       "      <td>亚宝药业集团股份有限公司</td>\n",
       "      <td>任武贤</td>\n",
       "      <td>硕士</td>\n",
       "      <td>任伟</td>\n",
       "      <td>硕士</td>\n",
       "      <td>左哲峰</td>\n",
       "      <td>本科</td>\n",
       "      <td>财务总监</td>\n",
       "      <td>www.yabao.com.cn</td>\n",
       "      <td>https://www.tianyancha.com/company/689086</td>\n",
       "      <td>上非金</td>\n",
       "      <td>上海</td>\n",
       "      <td>否</td>\n",
       "    </tr>\n",
       "    <tr>\n",
       "      <th>2</th>\n",
       "      <td>600666</td>\n",
       "      <td>奥瑞德光电股份有限公司</td>\n",
       "      <td>杨鑫宏</td>\n",
       "      <td>博士</td>\n",
       "      <td>霍光</td>\n",
       "      <td>硕士</td>\n",
       "      <td>未找到</td>\n",
       "      <td>未找到</td>\n",
       "      <td>未找到</td>\n",
       "      <td>www.aurora-sapphire.cn</td>\n",
       "      <td>https://www.tianyancha.com/company/151521126</td>\n",
       "      <td>上非金</td>\n",
       "      <td>上海</td>\n",
       "      <td>否</td>\n",
       "    </tr>\n",
       "  </tbody>\n",
       "</table>\n",
       "</div>"
      ],
      "text/plain": [
       "        0             1    2      3           4      5               6      7  \\\n",
       "0    A股代码           公司名  董事长  最高学历1  总裁/CEO/总经理  最高学历2  财务负责人/财务总监/CFO  最高学历3   \n",
       "1  600351  亚宝药业集团股份有限公司  任武贤     硕士          任伟     硕士             左哲峰     本科   \n",
       "2  600666   奥瑞德光电股份有限公司  杨鑫宏     博士          霍光     硕士             未找到    未找到   \n",
       "\n",
       "      8                       9                                            10  \\\n",
       "0  财务职称                   数据来源1                                         数据来源2   \n",
       "1  财务总监        www.yabao.com.cn     https://www.tianyancha.com/company/689086   \n",
       "2   未找到  www.aurora-sapphire.cn  https://www.tianyancha.com/company/151521126   \n",
       "\n",
       "  Unnamed: 11 Unnamed: 12 Unnamed: 13  \n",
       "0        part         交易所       是否为金融  \n",
       "1         上非金          上海           否  \n",
       "2         上非金          上海           否  "
      ]
     },
     "execution_count": 65,
     "metadata": {},
     "output_type": "execute_result"
    }
   ],
   "source": [
    "data[:3]"
   ]
  },
  {
   "cell_type": "code",
   "execution_count": 66,
   "metadata": {},
   "outputs": [],
   "source": [
    "data_values=data.values"
   ]
  },
  {
   "cell_type": "code",
   "execution_count": 67,
   "metadata": {},
   "outputs": [
    {
     "data": {
      "text/plain": [
       "array([['A股代码', '公司名', '董事长', '最高学历1', '总裁/CEO/总经理', '最高学历2',\n",
       "        '财务负责人/财务总监/CFO', '最高学历3', '财务职称', '数据来源1', '数据来源2', 'part',\n",
       "        '交易所', '是否为金融'],\n",
       "       [600351, '亚宝药业集团股份有限公司', '任武贤', '硕士', '任伟', '硕士', '左哲峰', '本科',\n",
       "        '财务总监', 'www.yabao.com.cn',\n",
       "        'https://www.tianyancha.com/company/689086', '上非金', '上海', '否'],\n",
       "       [600666, '奥瑞德光电股份有限公司', '杨鑫宏', '博士', '霍光', '硕士', '未找到', '未找到',\n",
       "        '未找到', 'www.aurora-sapphire.cn',\n",
       "        'https://www.tianyancha.com/company/151521126', '上非金', '上海', '否']],\n",
       "      dtype=object)"
      ]
     },
     "execution_count": 67,
     "metadata": {},
     "output_type": "execute_result"
    }
   ],
   "source": [
    "data_values[:3]"
   ]
  },
  {
   "cell_type": "code",
   "execution_count": 45,
   "metadata": {},
   "outputs": [
    {
     "data": {
      "text/plain": [
       "array(['亚宝药业集团股份有限公司', '奥瑞德光电股份有限公司', '上海现代制药股份有限公司', '香飘飘食品股份有限公司',\n",
       "       '营口港务股份有限公司', '苏州道森钻采设备股份有限公司'], dtype=object)"
      ]
     },
     "execution_count": 45,
     "metadata": {},
     "output_type": "execute_result"
    }
   ],
   "source": [
    "data_values[:6,1]"
   ]
  },
  {
   "cell_type": "code",
   "execution_count": 46,
   "metadata": {},
   "outputs": [
    {
     "data": {
      "text/plain": [
       "(4037, 14)"
      ]
     },
     "execution_count": 46,
     "metadata": {},
     "output_type": "execute_result"
    }
   ],
   "source": [
    "data_values.shape"
   ]
  },
  {
   "cell_type": "code",
   "execution_count": 68,
   "metadata": {},
   "outputs": [],
   "source": [
    "result=[]\n",
    "for i in range(4037):\n",
    "    tp1=[]\n",
    "    tp2=[]\n",
    "    tp3=[]\n",
    "    tp1.extend(data_values[i,:4])\n",
    "    tp1.append('董事长')\n",
    "    tp1.extend(data_values[i,-5:])\n",
    "    tp2.extend(data_values[i,:2])\n",
    "    tp2.extend(data_values[i,4:6])\n",
    "    tp2.append('总裁/CEO/总经理')\n",
    "    tp2.extend(data_values[i,-5:])\n",
    "    tp3.extend(data_values[i,:2])\n",
    "    tp3.extend(data_values[i,6:])\n",
    "    c1=copy.deepcopy(tp1)\n",
    "    c2=copy.deepcopy(tp2)\n",
    "    c3=copy.deepcopy(tp3)\n",
    "    result.extend([c1,c2,c3])"
   ]
  },
  {
   "cell_type": "code",
   "execution_count": 69,
   "metadata": {
    "scrolled": false
   },
   "outputs": [
    {
     "data": {
      "text/plain": [
       "[['300856',\n",
       "  '南京科思化学股份有限公司',\n",
       "  '周旭明',\n",
       "  '本科',\n",
       "  '董事长',\n",
       "  'www.cosmoschem.com',\n",
       "  'https://www.tianyancha.com/company/3161493234',\n",
       "  '深交所',\n",
       "  '深圳',\n",
       "  nan],\n",
       " ['300856',\n",
       "  '南京科思化学股份有限公司',\n",
       "  '杨军',\n",
       "  '本科',\n",
       "  '总裁/CEO/总经理',\n",
       "  'www.cosmoschem.com',\n",
       "  'https://www.tianyancha.com/company/3161493234',\n",
       "  '深交所',\n",
       "  '深圳',\n",
       "  nan],\n",
       " ['300856',\n",
       "  '南京科思化学股份有限公司',\n",
       "  '孟海斌',\n",
       "  '本科',\n",
       "  '财务总监',\n",
       "  'www.cosmoschem.com',\n",
       "  'https://www.tianyancha.com/company/3161493234',\n",
       "  '深交所',\n",
       "  '深圳',\n",
       "  nan],\n",
       " ['300857',\n",
       "  '协创数据技术股份有限公司',\n",
       "  '耿四化',\n",
       "  '硕士',\n",
       "  '董事长',\n",
       "  'www.sharetronic.com',\n",
       "  'https://www.tianyancha.com/company/2944143481',\n",
       "  '深交所',\n",
       "  '深圳',\n",
       "  nan],\n",
       " ['300857',\n",
       "  '协创数据技术股份有限公司',\n",
       "  '潘文俊',\n",
       "  '本科',\n",
       "  '总裁/CEO/总经理',\n",
       "  'www.sharetronic.com',\n",
       "  'https://www.tianyancha.com/company/2944143481',\n",
       "  '深交所',\n",
       "  '深圳',\n",
       "  nan],\n",
       " ['300857',\n",
       "  '协创数据技术股份有限公司',\n",
       "  '吴春兰',\n",
       "  '本科',\n",
       "  '副总经理,财务总监',\n",
       "  'www.sharetronic.com',\n",
       "  'https://www.tianyancha.com/company/2944143481',\n",
       "  '深交所',\n",
       "  '深圳',\n",
       "  nan],\n",
       " ['300858',\n",
       "  '北京科拓恒通生物技术股份有限公司',\n",
       "  '孙天松',\n",
       "  '博士',\n",
       "  '董事长',\n",
       "  'www.scitop.cn',\n",
       "  'https://www.tianyancha.com/company/2983132078',\n",
       "  '深交所',\n",
       "  '深圳',\n",
       "  nan],\n",
       " ['300858',\n",
       "  '北京科拓恒通生物技术股份有限公司',\n",
       "  '刘晓军',\n",
       "  '硕士',\n",
       "  '总裁/CEO/总经理',\n",
       "  'www.scitop.cn',\n",
       "  'https://www.tianyancha.com/company/2983132078',\n",
       "  '深交所',\n",
       "  '深圳',\n",
       "  nan],\n",
       " ['300858',\n",
       "  '北京科拓恒通生物技术股份有限公司',\n",
       "  '余子英',\n",
       "  '本科',\n",
       "  '副总经理,财务总监',\n",
       "  'www.scitop.cn',\n",
       "  'https://www.tianyancha.com/company/2983132078',\n",
       "  '深交所',\n",
       "  '深圳',\n",
       "  nan]]"
      ]
     },
     "execution_count": 69,
     "metadata": {},
     "output_type": "execute_result"
    }
   ],
   "source": [
    "result[-9:]"
   ]
  },
  {
   "cell_type": "code",
   "execution_count": 71,
   "metadata": {},
   "outputs": [],
   "source": [
    "final=pd.DataFrame(np.array(result))\n",
    "final.to_excel(r\"C:\\Users\\rk\\Desktop\\财经人才\\上交所深交所2020.xlsx\",index=False)"
   ]
  },
  {
   "cell_type": "code",
   "execution_count": null,
   "metadata": {},
   "outputs": [],
   "source": []
  },
  {
   "cell_type": "code",
   "execution_count": null,
   "metadata": {},
   "outputs": [],
   "source": []
  },
  {
   "cell_type": "code",
   "execution_count": null,
   "metadata": {},
   "outputs": [],
   "source": []
  },
  {
   "cell_type": "code",
   "execution_count": null,
   "metadata": {},
   "outputs": [],
   "source": []
  },
  {
   "cell_type": "code",
   "execution_count": null,
   "metadata": {},
   "outputs": [],
   "source": []
  },
  {
   "cell_type": "code",
   "execution_count": null,
   "metadata": {},
   "outputs": [],
   "source": []
  },
  {
   "cell_type": "code",
   "execution_count": null,
   "metadata": {},
   "outputs": [],
   "source": []
  },
  {
   "cell_type": "code",
   "execution_count": null,
   "metadata": {},
   "outputs": [],
   "source": []
  }
 ],
 "metadata": {
  "kernelspec": {
   "display_name": "Python 3",
   "language": "python",
   "name": "python3"
  },
  "language_info": {
   "codemirror_mode": {
    "name": "ipython",
    "version": 3
   },
   "file_extension": ".py",
   "mimetype": "text/x-python",
   "name": "python",
   "nbconvert_exporter": "python",
   "pygments_lexer": "ipython3",
   "version": "3.6.5"
  }
 },
 "nbformat": 4,
 "nbformat_minor": 2
}
