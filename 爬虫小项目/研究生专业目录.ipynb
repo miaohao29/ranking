{
 "cells": [
  {
   "cell_type": "code",
   "execution_count": 1,
   "metadata": {},
   "outputs": [],
   "source": [
    "#_*_coding: utf-8_*_\n",
    "#import pandas as pd\n",
    "#import numpy as np\n",
    "from selenium import webdriver #从selenium中调入webdriver\n",
    "import time\n",
    "#from selenium.webdriver.common.keys import Keys\n",
    "import random\n",
    "#from selenium.webdriver.common.action_chains import ActionChains"
   ]
  },
  {
   "cell_type": "code",
   "execution_count": 2,
   "metadata": {},
   "outputs": [],
   "source": [
    "import copy"
   ]
  },
  {
   "cell_type": "code",
   "execution_count": 708,
   "metadata": {},
   "outputs": [],
   "source": [
    "browser = webdriver.Chrome('C:/Users/rk/Desktop/chromedriver.exe') #锁定浏览器"
   ]
  },
  {
   "cell_type": "code",
   "execution_count": 709,
   "metadata": {},
   "outputs": [],
   "source": [
    "browser.get(\"https://yz.chsi.com.cn/zsml/queryAction.do\") #访问页面"
   ]
  },
  {
   "cell_type": "code",
   "execution_count": 10,
   "metadata": {},
   "outputs": [],
   "source": [
    "def getInformations(name,result):\n",
    "    '''查找页面信息'''\n",
    "    allInformations=browser.find_elements_by_xpath('/html/body/div[2]/div[3]/div/div[2]/table/tbody/tr')\n",
    "    for information in allInformations:\n",
    "        infors=information.find_elements_by_xpath('td')\n",
    "        tempter=[]\n",
    "        tempter.append(name)\n",
    "        for infor in infors:\n",
    "            if infor.text != '':\n",
    "                if infor.text == '':\n",
    "                    tempter.append('YES')\n",
    "                else:\n",
    "                    tempter.append(infor.text)\n",
    "            else:\n",
    "                tempter.append('NO')\n",
    "        record(tempter)\n",
    "        result.append(tempter)\n",
    "        print(result[-1])"
   ]
  },
  {
   "cell_type": "code",
   "execution_count": null,
   "metadata": {},
   "outputs": [],
   "source": []
  },
  {
   "cell_type": "code",
   "execution_count": 853,
   "metadata": {},
   "outputs": [
    {
     "data": {
      "text/plain": [
       "10"
      ]
     },
     "execution_count": 853,
     "metadata": {},
     "output_type": "execute_result"
    }
   ],
   "source": [
    "allInformations=browser.find_elements_by_xpath('/html/body/div[2]/div[3]/div/div[2]/table/tbody/tr')\n",
    "len(allInformations)"
   ]
  },
  {
   "cell_type": "code",
   "execution_count": null,
   "metadata": {},
   "outputs": [],
   "source": []
  },
  {
   "cell_type": "code",
   "execution_count": null,
   "metadata": {},
   "outputs": [],
   "source": []
  },
  {
   "cell_type": "code",
   "execution_count": null,
   "metadata": {},
   "outputs": [],
   "source": []
  },
  {
   "cell_type": "code",
   "execution_count": 171,
   "metadata": {},
   "outputs": [],
   "source": [
    "def clickpage():\n",
    "    '''点击下一页'''\n",
    "    allpage=browser.find_elements_by_xpath('/html/body/div[2]/div[3]/div/div[4]/ul/li')#查找所有页码\n",
    "    flag=browser.find_element_by_xpath('/html/body/div[2]/div[3]/div/div[4]/ul/li[8]').get_attribute('class')\n",
    "    if flag != 'lip unable lip-last':\n",
    "        time.sleep(3)\n",
    "        browser.find_elements_by_xpath('/html/body/div[2]/div[3]/div/div[4]/ul/li')[-1].find_element_by_xpath('a').click()\n",
    "    else:\n",
    "        print('Last page')"
   ]
  },
  {
   "cell_type": "code",
   "execution_count": null,
   "metadata": {},
   "outputs": [],
   "source": [
    "clickpage()"
   ]
  },
  {
   "cell_type": "code",
   "execution_count": 9,
   "metadata": {},
   "outputs": [
    {
     "data": {
      "text/plain": [
       "<selenium.webdriver.remote.webelement.WebElement (session=\"12bd4b0d534c13c7e5f30311e074c7a3\", element=\"0.726815177670405-10\")>"
      ]
     },
     "execution_count": 9,
     "metadata": {},
     "output_type": "execute_result"
    }
   ],
   "source": [
    "browser.find_element_by_xpath('/html/body/div[2]/div[3]/div/div[4]/ul/li[8]/a/i')\n"
   ]
  },
  {
   "cell_type": "code",
   "execution_count": 6,
   "metadata": {},
   "outputs": [],
   "source": [
    "browser.find_elements_by_xpath('/html/body/div[2]/div[3]/div/div[4]/ul/li')[-1].find_element_by_xpath('a').click()"
   ]
  },
  {
   "cell_type": "code",
   "execution_count": 14,
   "metadata": {},
   "outputs": [],
   "source": [
    "result=[]"
   ]
  },
  {
   "cell_type": "code",
   "execution_count": null,
   "metadata": {},
   "outputs": [],
   "source": [
    "171\n"
   ]
  },
  {
   "cell_type": "code",
   "execution_count": 705,
   "metadata": {},
   "outputs": [
    {
     "name": "stdout",
     "output_type": "stream",
     "text": [
      "(1351)艺术\n",
      "['(1351)艺术', '(10731)兰州理工大学', '(62)甘肃省', 'NO', 'NO', 'YES']\n",
      "['(1351)艺术', '(10732)兰州交通大学', '(62)甘肃省', 'NO', 'NO', 'YES']\n",
      "['(1351)艺术', '(10736)西北师范大学', '(62)甘肃省', 'NO', 'NO', 'YES']\n",
      "['(1351)艺术', '(10742)西北民族大学', '(62)甘肃省', 'NO', 'NO', 'YES']\n",
      "['(1351)艺术', '(10746)青海师范大学', '(63)青海省', 'NO', 'NO', 'YES']\n",
      "['(1351)艺术', '(10749)宁夏大学', '(64)宁夏回族自治区', 'NO', 'NO', 'YES']\n",
      "['(1351)艺术', '(11407)北方民族大学', '(64)宁夏回族自治区', 'NO', 'NO', 'YES']\n",
      "['(1351)艺术', '(10759)石河子大学', '(65)新疆维吾尔自治区', 'NO', 'NO', 'YES']\n",
      "['(1351)艺术', '(10762)新疆师范大学', '(65)新疆维吾尔自治区', 'NO', 'NO', 'YES']\n",
      "['(1351)艺术', '(10768)新疆艺术学院', '(65)新疆维吾尔自治区', 'NO', 'NO', 'NO']\n"
     ]
    }
   ],
   "source": [
    "subjects=browser.find_elements_by_xpath('//*[@id=\"yjxkdm\"]/option')#查找所有学科\n",
    "subjectName=subjects[187].text\n",
    "print(subjectName)\n",
    "getInformations(subjectName,result)"
   ]
  },
  {
   "cell_type": "code",
   "execution_count": null,
   "metadata": {},
   "outputs": [],
   "source": []
  },
  {
   "cell_type": "code",
   "execution_count": 11,
   "metadata": {},
   "outputs": [],
   "source": [
    "def record(item):\n",
    "    with open(r'C:\\Users\\rk\\Desktop\\shuoshi.txt','a+') as f:\n",
    "        string='、'.join(item)\n",
    "        f.write(string+'\\n')"
   ]
  },
  {
   "cell_type": "code",
   "execution_count": 149,
   "metadata": {},
   "outputs": [],
   "source": [
    "result=[]"
   ]
  },
  {
   "cell_type": "code",
   "execution_count": 158,
   "metadata": {},
   "outputs": [],
   "source": [
    "subjects=browser.find_elements_by_xpath('//*[@id=\"yjxkdm\"]/option')#查找所有学科"
   ]
  },
  {
   "cell_type": "code",
   "execution_count": 159,
   "metadata": {},
   "outputs": [
    {
     "data": {
      "text/plain": [
       "188"
      ]
     },
     "execution_count": 159,
     "metadata": {},
     "output_type": "execute_result"
    }
   ],
   "source": [
    "interval=len(subjects)\n",
    "interval"
   ]
  },
  {
   "cell_type": "code",
   "execution_count": 160,
   "metadata": {},
   "outputs": [
    {
     "data": {
      "text/plain": [
       "'(0201)理论经济学'"
      ]
     },
     "execution_count": 160,
     "metadata": {},
     "output_type": "execute_result"
    }
   ],
   "source": [
    "subjects[2].text"
   ]
  },
  {
   "cell_type": "code",
   "execution_count": 172,
   "metadata": {},
   "outputs": [
    {
     "name": "stdout",
     "output_type": "stream",
     "text": [
      "['(0101)哲学', '(10359)合肥工业大学', '(34)安徽省', 'NO', 'NO', 'YES']\n",
      "['(0101)哲学', '(10370)安徽师范大学', '(34)安徽省', 'NO', 'NO', 'YES']\n",
      "['(0101)哲学', '(10373)淮北师范大学', '(34)安徽省', 'NO', 'NO', 'NO']\n",
      "['(0101)哲学', '(10378)安徽财经大学', '(34)安徽省', 'NO', 'NO', 'NO']\n",
      "['(0101)哲学', '(10384)厦门大学', '(35)福建省', 'YES', 'YES', 'YES']\n",
      "['(0101)哲学', '(10386)福州大学', '(35)福建省', 'NO', 'NO', 'YES']\n",
      "['(0101)哲学', '(10394)福建师范大学', '(35)福建省', 'NO', 'NO', 'YES']\n",
      "['(0101)哲学', '(10403)南昌大学', '(36)江西省', 'NO', 'NO', 'YES']\n",
      "['(0101)哲学', '(10410)江西农业大学', '(36)江西省', 'NO', 'NO', 'YES']\n",
      "['(0101)哲学', '(10421)江西财经大学', '(36)江西省', 'NO', 'NO', 'YES']\n",
      "['(0101)哲学', '(10422)山东大学', '(37)山东省', 'YES', 'YES', 'YES']\n",
      "['(0101)哲学', '(10445)山东师范大学', '(37)山东省', 'NO', 'NO', 'YES']\n",
      "['(0101)哲学', '(10446)曲阜师范大学', '(37)山东省', 'NO', 'NO', 'YES']\n",
      "['(0101)哲学', '(10456)山东财经大学', '(37)山东省', 'NO', 'NO', 'YES']\n",
      "['(0101)哲学', '(11065)青岛大学', '(37)山东省', 'NO', 'NO', 'YES']\n",
      "['(0101)哲学', '(89637)中共山东省委党校(山东行政学院）', '(37)山东省', 'NO', 'NO', 'NO']\n",
      "['(0101)哲学', '(10459)郑州大学', '(41)河南省', 'NO', 'NO', 'YES']\n",
      "['(0101)哲学', '(10463)河南工业大学', '(41)河南省', 'NO', 'NO', 'YES']\n",
      "['(0101)哲学', '(10475)河南大学', '(41)河南省', 'NO', 'NO', 'YES']\n",
      "['(0101)哲学', '(10477)信阳师范学院', '(41)河南省', 'NO', 'NO', 'NO']\n",
      "['(0101)哲学', '(10484)河南财经政法大学', '(41)河南省', 'NO', 'NO', 'NO']\n",
      "['(0101)哲学', '(10486)武汉大学', '(42)湖北省', 'YES', 'YES', 'YES']\n",
      "['(0101)哲学', '(10487)华中科技大学', '(42)湖北省', 'YES', 'YES', 'YES']\n",
      "['(0101)哲学', '(10512)湖北大学', '(42)湖北省', 'NO', 'NO', 'YES']\n",
      "['(0101)哲学', '(10520)中南财经政法大学', '(42)湖北省', 'NO', 'NO', 'YES']\n",
      "['(0101)哲学', '(10524)中南民族大学', '(42)湖北省', 'NO', 'NO', 'YES']\n",
      "['(0101)哲学', '(89642)中共湖北省委党校', '(42)湖北省', 'NO', 'NO', 'NO']\n",
      "['(0101)哲学', '(10530)湘潭大学', '(43)湖南省', 'NO', 'NO', 'YES']\n",
      "['(0101)哲学', '(10532)湖南大学', '(43)湖南省', 'YES', 'YES', 'YES']\n",
      "['(0101)哲学', '(10542)湖南师范大学', '(43)湖南省', 'NO', 'NO', 'YES']\n"
     ]
    },
    {
     "ename": "NoSuchElementException",
     "evalue": "Message: no such element: Unable to locate element: {\"method\":\"xpath\",\"selector\":\"/html/body/div[2]/div[3]/div/div[4]/ul/li[8]\"}\n  (Session info: chrome=78.0.3904.108)\n  (Driver info: chromedriver=72.0.3626.7 (efcef9a3ecda02b2132af215116a03852d08b9cb),platform=Windows NT 10.0.18362 x86_64)\n",
     "output_type": "error",
     "traceback": [
      "\u001b[1;31m---------------------------------------------------------------------------\u001b[0m",
      "\u001b[1;31mNoSuchElementException\u001b[0m                    Traceback (most recent call last)",
      "\u001b[1;32m<ipython-input-172-82f8069f091d>\u001b[0m in \u001b[0;36m<module>\u001b[1;34m()\u001b[0m\n\u001b[0;32m      7\u001b[0m     \u001b[0mbrowser\u001b[0m\u001b[1;33m.\u001b[0m\u001b[0mfind_element_by_xpath\u001b[0m\u001b[1;33m(\u001b[0m\u001b[1;34m'//*[@id=\"form2\"]/input[3]'\u001b[0m\u001b[1;33m)\u001b[0m\u001b[1;33m.\u001b[0m\u001b[0mclick\u001b[0m\u001b[1;33m(\u001b[0m\u001b[1;33m)\u001b[0m\u001b[1;31m#点击确定\u001b[0m\u001b[1;33m\u001b[0m\u001b[0m\n\u001b[0;32m      8\u001b[0m     \u001b[0mgetInformations\u001b[0m\u001b[1;33m(\u001b[0m\u001b[0msubjectName\u001b[0m\u001b[1;33m,\u001b[0m\u001b[0mresult\u001b[0m\u001b[1;33m)\u001b[0m\u001b[1;33m\u001b[0m\u001b[0m\n\u001b[1;32m----> 9\u001b[1;33m     \u001b[0mclickpage\u001b[0m\u001b[1;33m(\u001b[0m\u001b[1;33m)\u001b[0m\u001b[1;33m\u001b[0m\u001b[0m\n\u001b[0m",
      "\u001b[1;32m<ipython-input-171-cbcf58b343a5>\u001b[0m in \u001b[0;36mclickpage\u001b[1;34m()\u001b[0m\n\u001b[0;32m      2\u001b[0m     \u001b[1;34m'''点击下一页'''\u001b[0m\u001b[1;33m\u001b[0m\u001b[0m\n\u001b[0;32m      3\u001b[0m     \u001b[0mallpage\u001b[0m\u001b[1;33m=\u001b[0m\u001b[0mbrowser\u001b[0m\u001b[1;33m.\u001b[0m\u001b[0mfind_elements_by_xpath\u001b[0m\u001b[1;33m(\u001b[0m\u001b[1;34m'/html/body/div[2]/div[3]/div/div[4]/ul/li'\u001b[0m\u001b[1;33m)\u001b[0m\u001b[1;31m#查找所有页码\u001b[0m\u001b[1;33m\u001b[0m\u001b[0m\n\u001b[1;32m----> 4\u001b[1;33m     \u001b[0mflag\u001b[0m\u001b[1;33m=\u001b[0m\u001b[0mbrowser\u001b[0m\u001b[1;33m.\u001b[0m\u001b[0mfind_element_by_xpath\u001b[0m\u001b[1;33m(\u001b[0m\u001b[1;34m'/html/body/div[2]/div[3]/div/div[4]/ul/li[8]'\u001b[0m\u001b[1;33m)\u001b[0m\u001b[1;33m.\u001b[0m\u001b[0mget_attribute\u001b[0m\u001b[1;33m(\u001b[0m\u001b[1;34m'class'\u001b[0m\u001b[1;33m)\u001b[0m\u001b[1;33m\u001b[0m\u001b[0m\n\u001b[0m\u001b[0;32m      5\u001b[0m     \u001b[1;32mif\u001b[0m \u001b[0mflag\u001b[0m \u001b[1;33m!=\u001b[0m \u001b[1;34m'lip unable lip-last'\u001b[0m\u001b[1;33m:\u001b[0m\u001b[1;33m\u001b[0m\u001b[0m\n\u001b[0;32m      6\u001b[0m         \u001b[0mtime\u001b[0m\u001b[1;33m.\u001b[0m\u001b[0msleep\u001b[0m\u001b[1;33m(\u001b[0m\u001b[1;36m3\u001b[0m\u001b[1;33m)\u001b[0m\u001b[1;33m\u001b[0m\u001b[0m\n",
      "\u001b[1;32mC:\\ProgramData\\Anaconda3\\lib\\site-packages\\selenium\\webdriver\\remote\\webdriver.py\u001b[0m in \u001b[0;36mfind_element_by_xpath\u001b[1;34m(self, xpath)\u001b[0m\n\u001b[0;32m    391\u001b[0m             \u001b[0melement\u001b[0m \u001b[1;33m=\u001b[0m \u001b[0mdriver\u001b[0m\u001b[1;33m.\u001b[0m\u001b[0mfind_element_by_xpath\u001b[0m\u001b[1;33m(\u001b[0m\u001b[1;34m'//div/td[1]'\u001b[0m\u001b[1;33m)\u001b[0m\u001b[1;33m\u001b[0m\u001b[0m\n\u001b[0;32m    392\u001b[0m         \"\"\"\n\u001b[1;32m--> 393\u001b[1;33m         \u001b[1;32mreturn\u001b[0m \u001b[0mself\u001b[0m\u001b[1;33m.\u001b[0m\u001b[0mfind_element\u001b[0m\u001b[1;33m(\u001b[0m\u001b[0mby\u001b[0m\u001b[1;33m=\u001b[0m\u001b[0mBy\u001b[0m\u001b[1;33m.\u001b[0m\u001b[0mXPATH\u001b[0m\u001b[1;33m,\u001b[0m \u001b[0mvalue\u001b[0m\u001b[1;33m=\u001b[0m\u001b[0mxpath\u001b[0m\u001b[1;33m)\u001b[0m\u001b[1;33m\u001b[0m\u001b[0m\n\u001b[0m\u001b[0;32m    394\u001b[0m \u001b[1;33m\u001b[0m\u001b[0m\n\u001b[0;32m    395\u001b[0m     \u001b[1;32mdef\u001b[0m \u001b[0mfind_elements_by_xpath\u001b[0m\u001b[1;33m(\u001b[0m\u001b[0mself\u001b[0m\u001b[1;33m,\u001b[0m \u001b[0mxpath\u001b[0m\u001b[1;33m)\u001b[0m\u001b[1;33m:\u001b[0m\u001b[1;33m\u001b[0m\u001b[0m\n",
      "\u001b[1;32mC:\\ProgramData\\Anaconda3\\lib\\site-packages\\selenium\\webdriver\\remote\\webdriver.py\u001b[0m in \u001b[0;36mfind_element\u001b[1;34m(self, by, value)\u001b[0m\n\u001b[0;32m    964\u001b[0m         return self.execute(Command.FIND_ELEMENT, {\n\u001b[0;32m    965\u001b[0m             \u001b[1;34m'using'\u001b[0m\u001b[1;33m:\u001b[0m \u001b[0mby\u001b[0m\u001b[1;33m,\u001b[0m\u001b[1;33m\u001b[0m\u001b[0m\n\u001b[1;32m--> 966\u001b[1;33m             'value': value})['value']\n\u001b[0m\u001b[0;32m    967\u001b[0m \u001b[1;33m\u001b[0m\u001b[0m\n\u001b[0;32m    968\u001b[0m     \u001b[1;32mdef\u001b[0m \u001b[0mfind_elements\u001b[0m\u001b[1;33m(\u001b[0m\u001b[0mself\u001b[0m\u001b[1;33m,\u001b[0m \u001b[0mby\u001b[0m\u001b[1;33m=\u001b[0m\u001b[0mBy\u001b[0m\u001b[1;33m.\u001b[0m\u001b[0mID\u001b[0m\u001b[1;33m,\u001b[0m \u001b[0mvalue\u001b[0m\u001b[1;33m=\u001b[0m\u001b[1;32mNone\u001b[0m\u001b[1;33m)\u001b[0m\u001b[1;33m:\u001b[0m\u001b[1;33m\u001b[0m\u001b[0m\n",
      "\u001b[1;32mC:\\ProgramData\\Anaconda3\\lib\\site-packages\\selenium\\webdriver\\remote\\webdriver.py\u001b[0m in \u001b[0;36mexecute\u001b[1;34m(self, driver_command, params)\u001b[0m\n\u001b[0;32m    318\u001b[0m         \u001b[0mresponse\u001b[0m \u001b[1;33m=\u001b[0m \u001b[0mself\u001b[0m\u001b[1;33m.\u001b[0m\u001b[0mcommand_executor\u001b[0m\u001b[1;33m.\u001b[0m\u001b[0mexecute\u001b[0m\u001b[1;33m(\u001b[0m\u001b[0mdriver_command\u001b[0m\u001b[1;33m,\u001b[0m \u001b[0mparams\u001b[0m\u001b[1;33m)\u001b[0m\u001b[1;33m\u001b[0m\u001b[0m\n\u001b[0;32m    319\u001b[0m         \u001b[1;32mif\u001b[0m \u001b[0mresponse\u001b[0m\u001b[1;33m:\u001b[0m\u001b[1;33m\u001b[0m\u001b[0m\n\u001b[1;32m--> 320\u001b[1;33m             \u001b[0mself\u001b[0m\u001b[1;33m.\u001b[0m\u001b[0merror_handler\u001b[0m\u001b[1;33m.\u001b[0m\u001b[0mcheck_response\u001b[0m\u001b[1;33m(\u001b[0m\u001b[0mresponse\u001b[0m\u001b[1;33m)\u001b[0m\u001b[1;33m\u001b[0m\u001b[0m\n\u001b[0m\u001b[0;32m    321\u001b[0m             response['value'] = self._unwrap_value(\n\u001b[0;32m    322\u001b[0m                 response.get('value', None))\n",
      "\u001b[1;32mC:\\ProgramData\\Anaconda3\\lib\\site-packages\\selenium\\webdriver\\remote\\errorhandler.py\u001b[0m in \u001b[0;36mcheck_response\u001b[1;34m(self, response)\u001b[0m\n\u001b[0;32m    240\u001b[0m                 \u001b[0malert_text\u001b[0m \u001b[1;33m=\u001b[0m \u001b[0mvalue\u001b[0m\u001b[1;33m[\u001b[0m\u001b[1;34m'alert'\u001b[0m\u001b[1;33m]\u001b[0m\u001b[1;33m.\u001b[0m\u001b[0mget\u001b[0m\u001b[1;33m(\u001b[0m\u001b[1;34m'text'\u001b[0m\u001b[1;33m)\u001b[0m\u001b[1;33m\u001b[0m\u001b[0m\n\u001b[0;32m    241\u001b[0m             \u001b[1;32mraise\u001b[0m \u001b[0mexception_class\u001b[0m\u001b[1;33m(\u001b[0m\u001b[0mmessage\u001b[0m\u001b[1;33m,\u001b[0m \u001b[0mscreen\u001b[0m\u001b[1;33m,\u001b[0m \u001b[0mstacktrace\u001b[0m\u001b[1;33m,\u001b[0m \u001b[0malert_text\u001b[0m\u001b[1;33m)\u001b[0m\u001b[1;33m\u001b[0m\u001b[0m\n\u001b[1;32m--> 242\u001b[1;33m         \u001b[1;32mraise\u001b[0m \u001b[0mexception_class\u001b[0m\u001b[1;33m(\u001b[0m\u001b[0mmessage\u001b[0m\u001b[1;33m,\u001b[0m \u001b[0mscreen\u001b[0m\u001b[1;33m,\u001b[0m \u001b[0mstacktrace\u001b[0m\u001b[1;33m)\u001b[0m\u001b[1;33m\u001b[0m\u001b[0m\n\u001b[0m\u001b[0;32m    243\u001b[0m \u001b[1;33m\u001b[0m\u001b[0m\n\u001b[0;32m    244\u001b[0m     \u001b[1;32mdef\u001b[0m \u001b[0m_value_or_default\u001b[0m\u001b[1;33m(\u001b[0m\u001b[0mself\u001b[0m\u001b[1;33m,\u001b[0m \u001b[0mobj\u001b[0m\u001b[1;33m,\u001b[0m \u001b[0mkey\u001b[0m\u001b[1;33m,\u001b[0m \u001b[0mdefault\u001b[0m\u001b[1;33m)\u001b[0m\u001b[1;33m:\u001b[0m\u001b[1;33m\u001b[0m\u001b[0m\n",
      "\u001b[1;31mNoSuchElementException\u001b[0m: Message: no such element: Unable to locate element: {\"method\":\"xpath\",\"selector\":\"/html/body/div[2]/div[3]/div/div[4]/ul/li[8]\"}\n  (Session info: chrome=78.0.3904.108)\n  (Driver info: chromedriver=72.0.3626.7 (efcef9a3ecda02b2132af215116a03852d08b9cb),platform=Windows NT 10.0.18362 x86_64)\n"
     ]
    }
   ],
   "source": [
    "for i in range(interval)[1:3]:\n",
    "    subjects=browser.find_elements_by_xpath('//*[@id=\"yjxkdm\"]/option')#查找所有学科\n",
    "    subjectName=subjects[i].text\n",
    "#     temp=[]\n",
    "#     temp.append(subjectName)\n",
    "    subjects[i].click()#点击学科\n",
    "    browser.find_element_by_xpath('//*[@id=\"form2\"]/input[3]').click()#点击确定\n",
    "    getInformations(subjectName,result)\n",
    "    clickpage()"
   ]
  },
  {
   "cell_type": "code",
   "execution_count": null,
   "metadata": {},
   "outputs": [],
   "source": []
  },
  {
   "cell_type": "code",
   "execution_count": null,
   "metadata": {},
   "outputs": [],
   "source": []
  },
  {
   "cell_type": "code",
   "execution_count": 47,
   "metadata": {},
   "outputs": [],
   "source": [
    "browser.find_element_by_xpath('/html/body/div[2]/div[3]/div/div[4]/ul/li[8]/a/i').click()"
   ]
  },
  {
   "cell_type": "code",
   "execution_count": null,
   "metadata": {},
   "outputs": [],
   "source": [
    "/html/body/div[2]/div[3]/div/div[4]/ul/li[8]/a/i"
   ]
  },
  {
   "cell_type": "code",
   "execution_count": null,
   "metadata": {},
   "outputs": [],
   "source": []
  },
  {
   "cell_type": "code",
   "execution_count": null,
   "metadata": {},
   "outputs": [],
   "source": []
  },
  {
   "cell_type": "code",
   "execution_count": 199,
   "metadata": {},
   "outputs": [],
   "source": [
    "aaa=browser.find_element_by_class_name('ch-page').find_elements_by_xpath('li')"
   ]
  },
  {
   "cell_type": "code",
   "execution_count": 200,
   "metadata": {},
   "outputs": [
    {
     "name": "stdout",
     "output_type": "stream",
     "text": [
      "\n",
      "1\n",
      "2\n",
      "3\n",
      "4\n",
      "5\n",
      "6\n",
      "\n"
     ]
    }
   ],
   "source": [
    "for a in aaa:\n",
    "    print(a.text)"
   ]
  },
  {
   "cell_type": "code",
   "execution_count": 15,
   "metadata": {},
   "outputs": [],
   "source": [
    "browser.find_element_by_xpath('/html/body/div[2]/div[3]/div/div[4]/ul/li[3]/a').click()"
   ]
  },
  {
   "cell_type": "code",
   "execution_count": 36,
   "metadata": {},
   "outputs": [],
   "source": [
    "b=browser.find_elements_by_xpath('/html/body/div[2]/div[3]/div/div[4]/ul/li')"
   ]
  },
  {
   "cell_type": "code",
   "execution_count": 37,
   "metadata": {},
   "outputs": [],
   "source": [
    "c=b[-1].find_element_by_xpath('a')"
   ]
  },
  {
   "cell_type": "code",
   "execution_count": null,
   "metadata": {},
   "outputs": [],
   "source": []
  },
  {
   "cell_type": "code",
   "execution_count": 40,
   "metadata": {},
   "outputs": [],
   "source": [
    "browser.get(\"https://yz.chsi.com.cn/zsml/queryAction.do\") #访问页面"
   ]
  },
  {
   "cell_type": "code",
   "execution_count": 42,
   "metadata": {},
   "outputs": [],
   "source": [
    "aa=browser.find_element_by_xpath('/html/body/div[2]/div[3]/div/div[4]/ul/li[8]')"
   ]
  },
  {
   "cell_type": "code",
   "execution_count": 43,
   "metadata": {},
   "outputs": [],
   "source": [
    "ActionChains(browser).click(aa).perform()"
   ]
  },
  {
   "cell_type": "code",
   "execution_count": null,
   "metadata": {},
   "outputs": [],
   "source": []
  },
  {
   "cell_type": "code",
   "execution_count": null,
   "metadata": {},
   "outputs": [],
   "source": []
  },
  {
   "cell_type": "code",
   "execution_count": null,
   "metadata": {},
   "outputs": [],
   "source": []
  },
  {
   "cell_type": "code",
   "execution_count": null,
   "metadata": {},
   "outputs": [],
   "source": []
  },
  {
   "cell_type": "code",
   "execution_count": null,
   "metadata": {},
   "outputs": [],
   "source": []
  },
  {
   "cell_type": "code",
   "execution_count": null,
   "metadata": {},
   "outputs": [],
   "source": []
  },
  {
   "cell_type": "code",
   "execution_count": null,
   "metadata": {},
   "outputs": [],
   "source": []
  },
  {
   "cell_type": "code",
   "execution_count": null,
   "metadata": {},
   "outputs": [],
   "source": []
  }
 ],
 "metadata": {
  "kernelspec": {
   "display_name": "Python 3",
   "language": "python",
   "name": "python3"
  },
  "language_info": {
   "codemirror_mode": {
    "name": "ipython",
    "version": 3
   },
   "file_extension": ".py",
   "mimetype": "text/x-python",
   "name": "python",
   "nbconvert_exporter": "python",
   "pygments_lexer": "ipython3",
   "version": "3.6.5"
  }
 },
 "nbformat": 4,
 "nbformat_minor": 2
}
