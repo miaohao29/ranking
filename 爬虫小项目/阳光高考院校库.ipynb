{
 "cells": [
  {
   "cell_type": "code",
   "execution_count": 1,
   "metadata": {},
   "outputs": [],
   "source": [
    "#_*_coding: utf-8_*_\n",
    "import pandas as pd\n",
    "import numpy as np\n",
    "from selenium import webdriver #从selenium中调入webdriver"
   ]
  },
  {
   "cell_type": "code",
   "execution_count": 2,
   "metadata": {},
   "outputs": [],
   "source": [
    "from selenium.webdriver.common.keys import Keys"
   ]
  },
  {
   "cell_type": "code",
   "execution_count": 3,
   "metadata": {},
   "outputs": [],
   "source": [
    "import time"
   ]
  },
  {
   "cell_type": "code",
   "execution_count": 4,
   "metadata": {},
   "outputs": [],
   "source": [
    "browser = webdriver.Chrome('C:/Users/rk/Desktop/chromedriver.exe') #锁定浏览器"
   ]
  },
  {
   "cell_type": "code",
   "execution_count": 5,
   "metadata": {},
   "outputs": [],
   "source": [
    "browser.get(\"https://gaokao.chsi.com.cn/sch/search.do?searchType=1&start=1960\") #访问页面"
   ]
  },
  {
   "cell_type": "code",
   "execution_count": 6,
   "metadata": {},
   "outputs": [],
   "source": [
    "result=[]"
   ]
  },
  {
   "cell_type": "code",
   "execution_count": 7,
   "metadata": {},
   "outputs": [],
   "source": [
    "counter=99#页码初始化\n",
    "count=0#当前页url"
   ]
  },
  {
   "cell_type": "code",
   "execution_count": 25,
   "metadata": {
    "scrolled": true
   },
   "outputs": [
    {
     "name": "stdout",
     "output_type": "stream",
     "text": [
      "['酒泉职业技术学院', 'https://gaokao.chsi.com.cn/sch/schoolInfo--schId-1086.dhtml', 'http://www.jqzy.com/', '甘肃省酒泉市肃州区解放路66号', 'one']\n",
      "['兰州外语职业学院', 'https://gaokao.chsi.com.cn/sch/schoolInfo--schId-1313.dhtml', 'http://www.lzwyedu.com/', '甘肃省兰州市和平开发区薇乐大道137号', 'two']\n",
      "['兰州职业技术学院', 'https://gaokao.chsi.com.cn/sch/schoolInfo--schId-1314.dhtml', 'http://www.lvu.edu.cn/', '兰州市安宁区刘沙公路37号', 'one']\n",
      "['甘肃警察职业学院', 'https://gaokao.chsi.com.cn/sch/schoolInfo--schId-1315.dhtml', 'http://www.gs-police.com/', '兰州市城关区左家湾169号', 'one']\n",
      "['甘肃林业职业技术学院', 'https://gaokao.chsi.com.cn/sch/schoolInfo--schId-1316.dhtml', 'http://www.gsfc.edu.cn/', '甘肃省天水市麦积区马跑泉路58号', 'one']\n",
      "['甘肃工业职业技术学院', 'https://gaokao.chsi.com.cn/sch/schoolInfo--schId-1317.dhtml', '甘肃工业职业技术学院（http://www.gipc.edu.cn/）', '甘肃省天水市羲皇大道中段', 'two']\n",
      "['西北师范大学知行学院', 'https://gaokao.chsi.com.cn/sch/schoolInfo--schId-1782.dhtml', 'http://zxxy.nwnu.edu.cn/default_zsb.asp', '西北师范大学知行学院招生办公室 地址：甘肃省兰州市安宁区长新路20号 邮编：730070', 'four']\n",
      "['兰州商学院陇桥学院', 'https://gaokao.chsi.com.cn/sch/schoolInfo--schId-1783.dhtml', 'www.lzlqc.com', '学院地址：甘肃省兰州市和平开发区薇乐大道68号', 'two']\n",
      "['兰州财经大学长青学院', 'https://gaokao.chsi.com.cn/sch/schoolInfo--schId-1784.dhtml', 'http://changqing.lzcc.edu.cn/', '甘肃省兰州市城关区店子街45号', 'one']\n",
      "['兰州交通大学博文学院', 'https://gaokao.chsi.com.cn/sch/schoolInfo--schId-1786.dhtml', 'http://www.bowenedu.cn/', '学院地址：兰州市和平开发区 邮编：730101 电话：（0931）5272600 传真：（0931）4511096 网址：http://www.bowenedu.cn 电子信箱：bwxy@bowenedu.cn', 'one']\n",
      "['兰州理工大学技术工程学院', 'https://gaokao.chsi.com.cn/sch/schoolInfo--schId-1787.dhtml', '     Http://www.lutcte.cn', '甘肃省兰州市七里河区龚家坪北路211号', 'three']\n",
      "['武威职业学院', 'https://gaokao.chsi.com.cn/sch/schoolInfo--schId-1788.dhtml', 'http://www.wwoc.cn/', '学院地址：武威市凉州区皇台路102号', 'one']\n",
      "['甘肃交通职业技术学院', 'https://gaokao.chsi.com.cn/sch/schoolInfo--schId-1789.dhtml', 'http://www.gsjtxy.edu.cn/', '兰州市安宁区邱家湾128号', 'one']\n",
      "['兰州资源环境职业技术学院', 'https://gaokao.chsi.com.cn/sch/schoolInfo--schId-432891.dhtml', 'http://www.lzre.edu.cn/', '甘肃省兰州市城关区东岗镇窦家山36号，邮编：730021', 'one']\n",
      "['甘肃农业职业技术学院', 'https://gaokao.chsi.com.cn/sch/schoolInfo--schId-7199072.dhtml', '', '学校地址：甘肃省兰州市城关区段家滩路425号 邮编：730020 院办电话：0931-4674246 招办电话：0931-4673806 传真：0931-4673806 网址：http://www.gscat.cn E-mail: gnzyzb@126.com', 'two']\n",
      "['甘肃畜牧工程职业技术学院', 'https://gaokao.chsi.com.cn/sch/schoolInfo--schId-7220636.dhtml', 'http://www.xmgcxy.gsedu.cn/', '甘肃省武威市黄羊镇镇北路6号', 'one']\n",
      "['甘肃钢铁职业技术学院', 'https://gaokao.chsi.com.cn/sch/schoolInfo--schId-57306879.dhtml', 'http://www.ggzy.edu.cn/gs/default.html', '甘肃省嘉峪关市体育大道2222号（东湖校区）', 'four']\n",
      "['甘肃机电职业技术学院', 'https://gaokao.chsi.com.cn/sch/schoolInfo--schId-57297957.dhtml', 'NA', 'NA', 'NA']\n",
      "['甘肃有色冶金职业技术学院', 'https://gaokao.chsi.com.cn/sch/schoolInfo--schId-341430649.dhtml', 'www.gsysyj.org', '学院地址：甘肃省金昌市天津路101号 邮 编：737100', 'two']\n",
      "['白银矿冶职业技术学院', 'https://gaokao.chsi.com.cn/sch/schoolInfo--schId-18695209.dhtml', 'http://www.bymu.cn/', '甘肃省白银市白银区南环路1号', 'one']\n",
      "['甘肃卫生职业学院', 'https://gaokao.chsi.com.cn/sch/schoolInfo--schId-1812006638.dhtml', 'NA', 'NA', 'NA']\n",
      "['兰州科技职业学院', 'https://gaokao.chsi.com.cn/sch/schoolInfo--schId-1818750755.dhtml', 'http://www.lzust.com', '甘肃省兰州市定远东部科技新城园区大道1号', 'four']\n",
      "['庆阳职业技术学院', 'https://gaokao.chsi.com.cn/sch/schoolInfo--schId-1807486312.dhtml', 'NA', 'NA', 'NA']\n",
      "['临夏现代职业学院', 'https://gaokao.chsi.com.cn/sch/schoolInfo--schId-1815304699.dhtml', 'http://www.lxxdzy.com/', '甘肃省临夏市北滨河东路50号。邮编：731199', 'four']\n",
      "['甘肃能源化工职业学院', 'https://gaokao.chsi.com.cn/sch/schoolInfo--schId-1832284701.dhtml', 'NA', 'NA', 'NA']\n",
      "['兰州现代职业学院', 'https://gaokao.chsi.com.cn/sch/schoolInfo--schId-1808924577.dhtml', 'www.lzmvc.com', '甘肃省兰州新区职教园区（兰州新区九龙江路500号）', 'two']\n",
      "['平凉职业技术学院', 'https://gaokao.chsi.com.cn/sch/schoolInfo--schId-1825325537.dhtml', 'http://www.plvtc.cn', '学院地址：甘肃省平凉市崆峒区泾河大道东段 邮政编码：744000 学院官网：http://www.plvtc.cn 微信公众号：PLZYJSXY', 'three']\n",
      "['兰州航空工业职工大学', 'https://gaokao.chsi.com.cn/sch/schoolInfo--schId-7199952.dhtml', 'http://www.lzavu.cn/', '甘肃省兰州市安宁区万新路274号', 'one']\n",
      "['甘肃财贸职业学院', 'https://gaokao.chsi.com.cn/sch/schoolInfo--schId-2015736014.dhtml', 'NA', 'NA', 'NA']\n",
      "['青海大学', 'https://gaokao.chsi.com.cn/sch/schoolInfo--schId-583.dhtml', 'http://www.qhu.edu.cn/', '青海省西宁市宁大路251号', 'one']\n",
      "['青海师范大学', 'https://gaokao.chsi.com.cn/sch/schoolInfo--schId-584.dhtml', 'http://www.qhnu.edu.cn/', '地址：青海省西宁市五四西路38号青海师范大学招生办公室 邮编：810008', 'one']\n",
      "['青海民族大学', 'https://gaokao.chsi.com.cn/sch/schoolInfo--schId-586.dhtml', 'http://www.qhmu.edu.cn/', '青海省西宁市八一中路3号', 'one']\n",
      "['青海卫生职业技术学院', 'https://gaokao.chsi.com.cn/sch/schoolInfo--schId-1096.dhtml', 'http://www.qhwszy.edu.cn/', '青海省西宁市七一路340号', 'one']\n",
      "['青海警官职业学院', 'https://gaokao.chsi.com.cn/sch/schoolInfo--schId-1333.dhtml', 'http://www.qhpolice.edu.cn/', '青海省西宁市城中区建新巷22号', 'one']\n",
      "['青海畜牧兽医职业技术学院', 'https://gaokao.chsi.com.cn/sch/schoolInfo--schId-1444.dhtml', 'http://www.qhxmzy.com.cn/', '青海省西宁市湟源县西大街13号', 'one']\n",
      "['青海交通职业技术学院', 'https://gaokao.chsi.com.cn/sch/schoolInfo--schId-1445.dhtml', 'http://www.qhctc.edu.cn/', '青海省西宁市城北生物园区经二路66号 邮编：810016', 'one']\n",
      "['青海建筑职业技术学院', 'https://gaokao.chsi.com.cn/sch/schoolInfo--schId-1446.dhtml', 'http://www.qhavtc.com/', '青海省西宁市城中区南川西路96号', 'two']\n",
      "['青海大学昆仑学院', 'https://gaokao.chsi.com.cn/sch/schoolInfo--schId-1915.dhtml', 'http://klc.qhu.edu.cn', '地址：青海省西宁市城北区生物园区宁张路175号 邮编：810016', 'three']\n",
      "['西宁城市职业技术学院', 'https://gaokao.chsi.com.cn/sch/schoolInfo--schId-1432285052.dhtml', 'http://www.xncszy.com', '世纪校区（院部）：青海省西宁市经济开发区东川工业园金汇路28号 邮编：810007 一职校区：青海省西宁市城北生物园区经三路42号 邮编：810028 甘河校区：青海省西宁市甘河工业园区东区甘东路二路 邮编：816000', 'two']\n",
      "['青海高等职业技术学院', 'https://gaokao.chsi.com.cn/sch/schoolInfo--schId-1432313015.dhtml', 'NA', 'NA', 'NA']\n",
      "['青海柴达木职业技术学院', 'https://gaokao.chsi.com.cn/sch/schoolInfo--schId-1432285567.dhtml', '院校网址：http://61.133.238.121', '青海省海西州德令哈市都兰西路（行政新区）', 'four']\n",
      "['宁夏大学', 'https://gaokao.chsi.com.cn/sch/schoolInfo--schId-587.dhtml', 'http://www.nxu.edu.cn/', '宁夏银川市西夏区贺兰山西路489号', 'one']\n",
      "['宁夏医科大学', 'https://gaokao.chsi.com.cn/sch/schoolInfo--schId-588.dhtml', 'http://www.nxmu.edu.cn/', '宁夏银川市兴庆区胜利街1160号', 'one']\n",
      "['宁夏师范学院', 'https://gaokao.chsi.com.cn/sch/schoolInfo--schId-589.dhtml', 'http://www.nxtu.cn/', '宁夏固原市高平路宁夏师范学院新校区', 'one']\n",
      "['北方民族大学', 'https://gaokao.chsi.com.cn/sch/schoolInfo--schId-797.dhtml', 'http://www.nun.edu.cn/', '宁夏回族自治区银川市西夏区文昌北街204号', 'two']\n",
      "['宁夏理工学院', 'https://gaokao.chsi.com.cn/sch/schoolInfo--schId-1088.dhtml', 'http://www.nxist.com/', '宁夏石嘴山市大武口区山水大道学院路1号', 'four']\n",
      "['宁夏民族职业技术学院', 'https://gaokao.chsi.com.cn/sch/schoolInfo--schId-1199.dhtml', 'http://www.nxmzy.com.cn', '地址：吴忠市教育园区(庆王路和开元大道（文化街）交汇处 ) 邮编：751100 网址： jsxy.wuzhong.gov.cn 联系电话：0953-2122789', 'one']\n",
      "['宁夏工业职业学院', 'https://gaokao.chsi.com.cn/sch/schoolInfo--schId-1318.dhtml', 'http://www.nxngzy.com', '宁夏回族自治区银川市西夏区朔方路5号 邮编：750021', 'two']\n",
      "['宁夏职业技术学院', 'https://gaokao.chsi.com.cn/sch/schoolInfo--schId-1524.dhtml', 'www.nxtc.edu.cn', '宁夏银川市西夏区文萃北路职业教育园区', 'two']\n",
      "['宁夏工商职业技术学院', 'https://gaokao.chsi.com.cn/sch/schoolInfo--schId-1525.dhtml', 'http://www.nxgs.edu.cn/', '宁夏银川市西夏区文萃北街宁夏职业教育实训基地暨宁夏工商职业技术学院', 'one']\n",
      "['宁夏财经职业技术学院', 'https://gaokao.chsi.com.cn/sch/schoolInfo--schId-1526.dhtml', 'http://www.nxcy.edu.cn/', '宁夏银川市西夏区学院西路31号', 'one']\n",
      "['宁夏警官职业学院', 'https://gaokao.chsi.com.cn/sch/schoolInfo--schId-1527.dhtml', 'http://www.nsjy.com.cn/', '宁夏省银川市西夏区学院东路350号', 'one']\n",
      "['宁夏建设职业技术学院', 'https://gaokao.chsi.com.cn/sch/schoolInfo--schId-1560.dhtml', 'http://www.nxjy.edu.cn/', '宁夏银川市西夏区学院东路300号', 'one']\n",
      "['宁夏大学新华学院', 'https://gaokao.chsi.com.cn/sch/schoolInfo--schId-1660.dhtml', 'http://xinhua.nxu.edu.cn/', '宁夏银川市西夏区贺兰山西路686号', 'one']\n",
      "['银川能源学院', 'https://gaokao.chsi.com.cn/sch/schoolInfo--schId-2059.dhtml', 'http://www.ycu.com.cn/', '宁夏银川市永宁县王太堡', 'one']\n",
      "['中国矿业大学银川学院', 'https://gaokao.chsi.com.cn/sch/schoolInfo--schId-6675760.dhtml', '', '地址：宁夏银川市西夏区金波北街 邮编：750011', 'one']\n",
      "['宁夏防沙治沙职业技术学院', 'https://gaokao.chsi.com.cn/sch/schoolInfo--schId-269933232.dhtml', 'http://www.nxst.cn/', '宁夏银川市永宁宁夏防沙治沙职业技术学院 邮编：750199', 'one']\n",
      "['宁夏幼儿师范高等专科学校', 'https://gaokao.chsi.com.cn/sch/schoolInfo--schId-1103997562.dhtml', 'http://www.nxpec.edu.cn', '宁夏回族自治区银川市滨河新区业勤南街', 'four']\n",
      "['宁夏艺术职业学院', 'https://gaokao.chsi.com.cn/sch/schoolInfo--schId-1094440680.dhtml', 'www.nxyszyxy.com', '宁夏银川市西夏区同心北街666号', 'four']\n",
      "['宁夏体育职业学院', 'https://gaokao.chsi.com.cn/sch/schoolInfo--schId-1993425031.dhtml', 'NA', 'NA', 'NA']\n"
     ]
    },
    {
     "name": "stdout",
     "output_type": "stream",
     "text": [
      "['新疆大学', 'https://gaokao.chsi.com.cn/sch/schoolInfo--schId-590.dhtml', 'http://www.xju.edu.cn/', '新疆乌鲁木齐市胜利路666号', 'one']\n",
      "['塔里木大学', 'https://gaokao.chsi.com.cn/sch/schoolInfo--schId-591.dhtml', 'http://www.taru.edu.cn/', '新疆维吾尔自治区阿拉尔市塔里木大道', 'one']\n",
      "['新疆农业大学', 'https://gaokao.chsi.com.cn/sch/schoolInfo--schId-592.dhtml', 'http://www.xjau.edu.cn/', '乌鲁木齐市农大东路311号', 'one']\n",
      "['石河子大学', 'https://gaokao.chsi.com.cn/sch/schoolInfo--schId-593.dhtml', 'http://www.shzu.edu.cn/', '新疆石河子市北四路 石河子大学招生办公室', 'two']\n",
      "['新疆医科大学', 'https://gaokao.chsi.com.cn/sch/schoolInfo--schId-594.dhtml', 'http://www2.xjmu.edu.cn/', '新疆乌鲁木齐市新医路393号', 'one']\n",
      "['新疆师范大学', 'https://gaokao.chsi.com.cn/sch/schoolInfo--schId-595.dhtml', 'http://www.xjnu.edu.cn', '(新医路校区)乌鲁木齐市沙依巴克区新医路102号 (文光校区)乌鲁木齐市新市区喀什东路16号 (温泉校区)乌鲁木齐市温泉东路', 'one']\n",
      "['喀什大学', 'https://gaokao.chsi.com.cn/sch/schoolInfo--schId-596.dhtml', 'http://www.ksu.edu.cn/', '喀什市学院路29号', 'two']\n",
      "['伊犁师范学院', 'https://gaokao.chsi.com.cn/sch/schoolInfo--schId-597.dhtml', 'http://www.ylsy.edu.cn/', '新疆维吾尔自治区伊宁市解放西路448号', 'one']\n",
      "['和田师范专科学校', 'https://gaokao.chsi.com.cn/sch/schoolInfo--schId-598.dhtml', 'http://www.htsz.edu.cn/', '新疆和田市北京西路287号', 'one']\n",
      "['新疆财经大学', 'https://gaokao.chsi.com.cn/sch/schoolInfo--schId-599.dhtml', 'http://www.xjufe.edu.cn/', '新疆乌鲁木齐市北京中路449号', 'one']\n",
      "['新疆艺术学院', 'https://gaokao.chsi.com.cn/sch/schoolInfo--schId-601.dhtml', 'http://www.xjart.edu.cn/', '新疆乌鲁木齐市团结路734号', 'one']\n",
      "['新疆工程学院', 'https://gaokao.chsi.com.cn/sch/schoolInfo--schId-684.dhtml', 'http://www.xjie.edu.cn/', '乌鲁木齐市南昌路236号', 'two']\n",
      "['新疆农业职业技术学院', 'https://gaokao.chsi.com.cn/sch/schoolInfo--schId-685.dhtml', 'http://www.xjnzy.edu.cn/', '新疆维吾尔自治区昌吉市文化东路29号', 'one']\n",
      "['昌吉学院', 'https://gaokao.chsi.com.cn/sch/schoolInfo--schId-686.dhtml', 'http://www.cjc.edu.cn/', '新疆昌吉市世纪大道9号昌吉学院', 'one']\n",
      "['乌鲁木齐职业大学', 'https://gaokao.chsi.com.cn/sch/schoolInfo--schId-858.dhtml', 'http://www.uvu.edu.cn/', '新疆乌鲁木齐市天山区幸福路723号', 'one']\n",
      "['新疆兵团警官高等专科学校', 'https://gaokao.chsi.com.cn/sch/schoolInfo--schId-1813.dhtml', 'http://www.xjbtjx.com', '新疆五家渠市前进东街158号', 'two']\n",
      "['克拉玛依职业技术学院', 'https://gaokao.chsi.com.cn/sch/schoolInfo--schId-1072.dhtml', 'http://www.kzjsxy.net', '克拉玛依校区地址：新疆·克拉玛依市克拉玛依区安定路355号 邮编:834000； 独山子校区地址：新疆·克拉玛依市独山子区北京路10号 邮编:833699。', 'four']\n",
      "['新疆机电职业技术学院', 'https://gaokao.chsi.com.cn/sch/schoolInfo--schId-1083.dhtml', 'http://www.xjjd.com.cn/', '新疆乌鲁木齐市天津北路176号', 'one']\n",
      "['新疆轻工职业技术学院', 'https://gaokao.chsi.com.cn/sch/schoolInfo--schId-1084.dhtml', 'www.xjqg.edu.cn', '新疆乌鲁木齐市米东南路西四巷259号', 'one']\n",
      "['新疆能源职业技术学院', 'https://gaokao.chsi.com.cn/sch/schoolInfo--schId-6407788.dhtml', 'http://www.xjnyedu.com/', '新疆乌鲁木齐达坂城区洛宾路', 'one']\n",
      "['新疆警察学院', 'https://gaokao.chsi.com.cn/sch/schoolInfo--schId-1216.dhtml', 'http://www.xjjz.cn/', '乌鲁木齐市长沙路6号', 'one']\n",
      "['昌吉职业技术学院', 'https://gaokao.chsi.com.cn/sch/schoolInfo--schId-1319.dhtml', 'http://www.cjpt.cn/', '新疆昌吉高新技术产业开发区兴业大道8号（昌吉乌伊西路榆树沟收费站过去5公里处）', 'one']\n",
      "['伊犁职业技术学院', 'https://gaokao.chsi.com.cn/sch/schoolInfo--schId-1447.dhtml', 'www.ylzyjs.cn', '新疆维吾尔自治区伊宁市胜利街179号', 'one']\n",
      "['阿克苏职业技术学院', 'https://gaokao.chsi.com.cn/sch/schoolInfo--schId-1529.dhtml', 'www.akszy.com', '新疆阿克苏市迎宾路59号', 'one']\n",
      "['巴音郭楞职业技术学院', 'https://gaokao.chsi.com.cn/sch/schoolInfo--schId-1530.dhtml', 'http://www.xjbyxy.cn', '新疆库尔勒市库尔勒经济技术开发区', 'two']\n",
      "['新疆大学科学技术学院', 'https://gaokao.chsi.com.cn/sch/schoolInfo--schId-1808.dhtml', 'www.kj.xju.edu.cn', '新疆乌鲁木齐市西北路499号', 'one']\n",
      "['新疆农业大学科学技术学院', 'https://gaokao.chsi.com.cn/sch/schoolInfo--schId-1809.dhtml', 'http://www.xjstc.net.cn/', '农大东路校区：新疆乌鲁木齐市农大东路110号 西山校区：新疆乌鲁木齐市沙依巴克区西山新镇聚安路888号', 'two']\n",
      "['新疆医科大学厚博学院', 'https://gaokao.chsi.com.cn/sch/schoolInfo--schId-1810.dhtml', 'www.xjmu.edu.cn', '新疆维吾尔自治区乌鲁木齐市鲤鱼山路附29号', 'one']\n",
      "['新疆财经大学商务学院', 'https://gaokao.chsi.com.cn/sch/schoolInfo--schId-1811.dhtml', 'www.xjufe.edu.cn', '新疆乌鲁木齐市杭州西街237号,邮编：830026', 'one']\n",
      "['新疆建设职业技术学院', 'https://gaokao.chsi.com.cn/sch/schoolInfo--schId-1812.dhtml', 'www.xjjszy.net', '新疆乌鲁木齐市杭州西街272号（主校区—城建校区） 新疆乌鲁木齐市西八家户路528号（建工校区）', 'one']\n",
      "['石河子大学科技学院', 'https://gaokao.chsi.com.cn/sch/schoolInfo--schId-1871.dhtml', 'http://kjxy.shzu.edu.cn/', '新疆石河子市北四路(市31小区)', 'one']\n",
      "['新疆现代职业技术学院', 'https://gaokao.chsi.com.cn/sch/schoolInfo--schId-1965.dhtml', 'http://xjxdxy.edude.net/', '新疆乌鲁木齐市头顿河区祥云东街1600号，邮编：830023', 'one']\n",
      "['新疆天山职业技术学院', 'https://gaokao.chsi.com.cn/sch/schoolInfo--schId-1966.dhtml', 'http://www.xjtsxy.cn/', '新疆乌鲁木齐市水磨沟区观园路1066号', 'one']\n",
      "['新疆交通职业技术学院', 'https://gaokao.chsi.com.cn/sch/schoolInfo--schId-4995010.dhtml', 'http://www.xjjtedu.com/', '新疆乌鲁木齐市米东区友好路20号', 'one']\n",
      "['新疆石河子职业技术学院', 'https://gaokao.chsi.com.cn/sch/schoolInfo--schId-5051738.dhtml', 'http://www.xjshzzy.com/', '新疆石河子职业技术学院(新疆石河子市北五路185号)', 'one']\n",
      "['新疆职业大学', 'https://gaokao.chsi.com.cn/sch/schoolInfo--schId-5567940.dhtml', 'http://www.xjvu.edu.cn/', '北京路校区位于北京北路1075号，巴州路校区位于巴州路14号,友好路校区位于友好南路413号', 'one']\n",
      "['新疆体育职业技术学院', 'https://gaokao.chsi.com.cn/sch/schoolInfo--schId-361988187.dhtml', '学校网址：http://www.xjsvtc.com', '新疆乌鲁木齐市天山区明华街41号', 'four']\n",
      "['新疆应用职业技术学院', 'https://gaokao.chsi.com.cn/sch/schoolInfo--schId-364879297.dhtml', 'www.xjyy.edu.cn', '地址：新疆维吾尔自治区奎屯市北京西路62号 邮编：833200', 'two']\n",
      "['新疆师范高等专科学校', 'https://gaokao.chsi.com.cn/sch/schoolInfo--schId-5572624.dhtml', 'http://www.xjei.cn/', '乌鲁木齐市光明路333号（新疆教育学院校本部） 乌鲁木齐市五星北路西二巷28号（新疆教育学院东校区) 乌鲁木齐市天山区中湾街45号（新疆师范高等专科学校学前教育学院）（原新疆幼儿师范学校）', 'one']\n",
      "['新疆铁道职业技术学院', 'https://gaokao.chsi.com.cn/sch/schoolInfo--schId-609659719.dhtml', 'www.xjtzy.', '乌鲁木齐校区：乌鲁木齐市新市区北京中路233号 哈密校区： 新疆哈密市西郊火石泉车站南侧', 'two']\n",
      "['新疆生产建设兵团兴新职业技术学院', 'https://gaokao.chsi.com.cn/sch/schoolInfo--schId-1431788816.dhtml', 'http://btc.edu.cn/', '新疆乌鲁木齐市头屯街兵友路45号', 'four']\n",
      "['哈密职业技术学院', 'https://gaokao.chsi.com.cn/sch/schoolInfo--schId-1011433472.dhtml', '学院网址：http://www.hmzyedu.cn', '新疆哈密市八一路17号院', 'four']\n",
      "['新疆科技职业技术学院', 'https://gaokao.chsi.com.cn/sch/schoolInfo--schId-962177812.dhtml', 'http://www.xjkjzyjsxy.com/', '新疆五家渠市，猛进南路980号', 'four']\n",
      "['吐鲁番职业技术学院', 'https://gaokao.chsi.com.cn/sch/schoolInfo--schId-1672680699.dhtml', 'NA', 'NA', 'NA']\n",
      "['博尔塔拉职业技术学院', 'https://gaokao.chsi.com.cn/sch/schoolInfo--schId-2019115137.dhtml', 'NA', 'NA', 'NA']\n",
      "['和田职业技术学院', 'https://gaokao.chsi.com.cn/sch/schoolInfo--schId-2028629974.dhtml', 'NA', 'NA', 'NA']\n",
      "['铁门关职业技术学院', 'https://gaokao.chsi.com.cn/sch/schoolInfo--schId-2021837388.dhtml', 'NA', 'NA', 'NA']\n",
      "['石河子工程职业技术学院', 'https://gaokao.chsi.com.cn/sch/schoolInfo--schId-2022256837.dhtml', 'http:/www.shzvce.cn', '石河子经济技术开发区北工业园区北十二路', 'three']\n",
      "['中国石油大学(北京)克拉玛依校区', 'https://gaokao.chsi.com.cn/sch/schoolInfo--schId-1670654056.dhtml', 'www.cupk.edu.cn', '北京校区：北京市昌平区府学路18号中国石油大学（北京）, 邮编：102249 克拉玛依校区：新疆维吾尔自治区克拉玛依市安定路355号，邮编：834000', 'two']\n",
      "['新疆工业职业技术学院', 'https://gaokao.chsi.com.cn/sch/schoolInfo--schId-1677831015.dhtml', 'http://www.xjgzy.edu.cn', '新疆乌鲁木齐市经济技术开发区（头屯河区）头屯河公路555号', 'four']\n"
     ]
    }
   ],
   "source": [
    "while True:\n",
    "    url_nowelements=browser.find_elements_by_xpath(\"//tbody/tr//a[@target='_blank']\")#获取整个页面的高校url元素信息\n",
    "    url_now=[]#存储当前页面高校url\n",
    "    for url_nowelement in url_nowelements:\n",
    "        url_nowpage=[]#存储当前高校校名及url的临时列表\n",
    "        url_nowpage.append(url_nowelement.text)#存储校名\n",
    "        url_nowpage.append(url_nowelement.get_attribute('href'))#获取学校url并存储到url_nowpage中\n",
    "        url_now.append(url_nowpage)#将存储校名，url的临时列表存储到url_now中\n",
    "    for url in url_now[count:]:#访问当前页面的学校，设置count是为了防止访问到某个学校后出问题，重新执行后从此学校开始\n",
    "        time.sleep(1)\n",
    "        try:#防止打开网页出现问题\n",
    "            browser.get(url[1])#访问相应学校\n",
    "        except:\n",
    "            time.sleep(1)\n",
    "            coun+=1\n",
    "            if coun>=5:\n",
    "                break\n",
    "        flag=0#获取网页数据格式不一致，基本上存在四种形式（定位网址元素有四种不同的路径）\n",
    "        try:\n",
    "            webaddr=browser.find_element_by_xpath('/html/body/div[2]/div[4]/div[1]/div[2]/div[1]/span[1]/a').text\n",
    "            url.append(webaddr)\n",
    "            addr=browser.find_element_by_xpath('/html/body/div[2]/div[4]/div[1]/div[2]/div[2]/span').text\n",
    "            url.append(addr)\n",
    "            url.append('one')#后面将数据写入TXT只能是字符串，数字不行，\n",
    "        except:\n",
    "            flag=1#第一中情况没有找到网址，flag设置为1，接着查找第二中情况\n",
    "        if flag==1:\n",
    "            try:\n",
    "                webaddr=browser.find_element_by_xpath('/html/body/div[2]/div[4]/div[1]/div[2]/div[1]/span[1]/p[1]/a').text\n",
    "                url.append(webaddr)\n",
    "                addr=browser.find_element_by_xpath('/html/body/div[2]/div[4]/div[1]/div[2]/div[2]/span').text\n",
    "                url.append(addr)\n",
    "                url.append('two')\n",
    "            except:\n",
    "                flag=2\n",
    "                \n",
    "        if flag==2:\n",
    "            try:\n",
    "                webaddr=browser.find_element_by_xpath('/html/body/div[2]/div[4]/div[1]/div[2]/div[1]/span[1]/p/span').text\n",
    "                url.append(webaddr)\n",
    "                addr=browser.find_element_by_xpath('/html/body/div[2]/div[4]/div[1]/div[2]/div[2]/span').text\n",
    "                url.append(addr)\n",
    "                url.append('three')\n",
    "            except:\n",
    "                flag=3\n",
    "        if flag==3:\n",
    "            try:\n",
    "                webaddr=browser.find_element_by_xpath('/html/body/div[2]/div[4]/div[1]/div[2]/div[1]/span[1]/p').text\n",
    "                url.append(webaddr)\n",
    "                addr=browser.find_element_by_xpath('/html/body/div[2]/div[4]/div[1]/div[2]/div[2]/span').text\n",
    "                url.append(addr)\n",
    "                url.append('four')\n",
    "            except:\n",
    "                flag=4\n",
    "        if flag==4:#如果四种情况都没有找到相应网址，就相应处理一下，为了最后生成dataframe不出问题\n",
    "            url.append('NA')\n",
    "            url.append('NA')\n",
    "            url.append('NA')\n",
    "        print(url)#输出每个学校的查询结果\n",
    "        with open(r'C:\\Users\\rk\\Desktop\\university0329.txt','a+') as f:#及时保存查询结果\n",
    "            str='、'.join(url)#列表生成字符串\n",
    "            f.write(str+'\\n')#write只能保存字符串，不能保存列表\n",
    "        result.append(url)#将每所学校的查询结果保存到最终的列表里\n",
    "        browser.back()#查询一所学校结束后就后退网页，防止出现仅显示本科院校的情况\n",
    "        time.sleep(0.5)\n",
    "        count+=1#每访问一所学校就加1，防止访问学校出现崩溃情况而重新执行\n",
    "    count=0#当前页面访问完成后，count置为0\n",
    "    counter+=1#访问页面所有学校后，当前页码增加1\n",
    "    if counter>137:#当前页码大于最后页码后跳出循环\n",
    "        break\n",
    "    time.sleep(3)\n",
    "    #browser.get(\"https://gaokao.chsi.com.cn/sch/search.do?searchType=1&yxmc=&zymc=&sySsdm=&ssdm=&yxls=&yxlx=&xlcc=bk\") \n",
    "    browser.find_element_by_xpath('//*[@id=\"p_num\"]').clear()#清空页码输入框\n",
    "    browser.find_element_by_xpath('//*[@id=\"p_num\"]').send_keys(counter)#输入页码\n",
    "    browser.find_element_by_xpath('/html/body/div[2]/div[3]/div/div/div/form/ul//input[2]').click()#访问页码"
   ]
  },
  {
   "cell_type": "code",
   "execution_count": 21,
   "metadata": {},
   "outputs": [
    {
     "name": "stdout",
     "output_type": "stream",
     "text": [
      "12\n"
     ]
    }
   ],
   "source": [
    "print(count)"
   ]
  },
  {
   "cell_type": "code",
   "execution_count": 24,
   "metadata": {},
   "outputs": [
    {
     "name": "stdout",
     "output_type": "stream",
     "text": [
      "131\n"
     ]
    }
   ],
   "source": [
    "print(counter)"
   ]
  },
  {
   "cell_type": "code",
   "execution_count": 23,
   "metadata": {},
   "outputs": [
    {
     "name": "stdout",
     "output_type": "stream",
     "text": [
      "13\n"
     ]
    }
   ],
   "source": [
    "count+=1\n",
    "print(count)"
   ]
  },
  {
   "cell_type": "code",
   "execution_count": null,
   "metadata": {},
   "outputs": [],
   "source": [
    "['甘肃医学院', 'https://gaokao.chsi.com.cn/sch/schoolInfo--schId-915.dhtml', 'http://www.plmc.edu.cn/', '甘肃省平凉市崆峒区柳湖路东路38号', 'one']\n",
    "['陇南师范高等专科学校', 'https://gaokao.chsi.com.cn/sch/schoolInfo--schId-916.dhtml', 'http://www.lntc.edu.cn/', '地址：甘肃省成县河东区陇南路34号 邮政编码：742500', 'two']\n",
    "['兰州工业学院', 'https://gaokao.chsi.com.cn/sch/schoolInfo--schId-917.dhtml', 'http://www.lzit.edu.cn/', '兰州市七里河区龚家坪东路1号 邮编：730050', 'two']\n",
    "['定西师范高等专科学校', 'https://gaokao.chsi.com.cn/sch/schoolInfo--schId-918.dhtml', 'http://www.dxatc.cn/', '甘肃省定西市定临路4号', 'one']"
   ]
  },
  {
   "cell_type": "code",
   "execution_count": null,
   "metadata": {},
   "outputs": [],
   "source": [
    "广西培贤国际职业学院\n",
    "重庆传媒\n",
    "四川大学锦江学院\n",
    "甘肃建筑职业技术学院"
   ]
  },
  {
   "cell_type": "code",
   "execution_count": 22,
   "metadata": {},
   "outputs": [
    {
     "name": "stdout",
     "output_type": "stream",
     "text": [
      "115\n"
     ]
    }
   ],
   "source": [
    "print(counter)"
   ]
  },
  {
   "cell_type": "code",
   "execution_count": 20,
   "metadata": {},
   "outputs": [],
   "source": [
    "counter=110"
   ]
  },
  {
   "cell_type": "code",
   "execution_count": null,
   "metadata": {},
   "outputs": [],
   "source": []
  },
  {
   "cell_type": "code",
   "execution_count": 23,
   "metadata": {},
   "outputs": [],
   "source": [
    "counter+=1"
   ]
  },
  {
   "cell_type": "code",
   "execution_count": null,
   "metadata": {},
   "outputs": [],
   "source": []
  },
  {
   "cell_type": "code",
   "execution_count": null,
   "metadata": {},
   "outputs": [],
   "source": []
  },
  {
   "cell_type": "code",
   "execution_count": null,
   "metadata": {},
   "outputs": [],
   "source": []
  },
  {
   "cell_type": "code",
   "execution_count": null,
   "metadata": {},
   "outputs": [],
   "source": []
  },
  {
   "cell_type": "code",
   "execution_count": null,
   "metadata": {},
   "outputs": [],
   "source": [
    "运城学院"
   ]
  },
  {
   "cell_type": "code",
   "execution_count": null,
   "metadata": {},
   "outputs": [],
   "source": [
    "内蒙古\n"
   ]
  },
  {
   "cell_type": "code",
   "execution_count": null,
   "metadata": {},
   "outputs": [],
   "source": [
    "河南护理职业学院\n",
    "106:广西培贤。。。桂林生命与健康职业技术学院"
   ]
  },
  {
   "cell_type": "code",
   "execution_count": null,
   "metadata": {},
   "outputs": [],
   "source": [
    "109：重庆警察。。。\n",
    "115：四川大学锦江学院。。。。\n"
   ]
  },
  {
   "cell_type": "code",
   "execution_count": null,
   "metadata": {},
   "outputs": [],
   "source": []
  },
  {
   "cell_type": "code",
   "execution_count": 374,
   "metadata": {},
   "outputs": [
    {
     "data": {
      "text/plain": [
       "'北京邮电大学\\ue835'"
      ]
     },
     "execution_count": 374,
     "metadata": {},
     "output_type": "execute_result"
    }
   ],
   "source": [
    "browser.find_element_by_xpath('/html/body/div[2]/div[2]/div/h1/a').text"
   ]
  },
  {
   "cell_type": "code",
   "execution_count": 32,
   "metadata": {},
   "outputs": [],
   "source": [
    " browser.find_element_by_xpath('/html/body/div[2]/div[3]/div/div/div/form/ul//input[2]').click()"
   ]
  },
  {
   "cell_type": "code",
   "execution_count": 20,
   "metadata": {},
   "outputs": [],
   "source": [
    "a=['s','b']"
   ]
  },
  {
   "cell_type": "code",
   "execution_count": 23,
   "metadata": {},
   "outputs": [
    {
     "data": {
      "text/plain": [
       "'s、b'"
      ]
     },
     "execution_count": 23,
     "metadata": {},
     "output_type": "execute_result"
    }
   ],
   "source": [
    "'、'.join(a)"
   ]
  },
  {
   "cell_type": "code",
   "execution_count": 28,
   "metadata": {},
   "outputs": [],
   "source": [
    "browser.back()"
   ]
  },
  {
   "cell_type": "code",
   "execution_count": 7,
   "metadata": {},
   "outputs": [],
   "source": [
    "url_nowelements=browser.find_elements_by_xpath(\"//tbody/tr//a[@target='_blank']\")#"
   ]
  },
  {
   "cell_type": "code",
   "execution_count": 8,
   "metadata": {},
   "outputs": [
    {
     "data": {
      "text/plain": [
       "'北京大学'"
      ]
     },
     "execution_count": 8,
     "metadata": {},
     "output_type": "execute_result"
    }
   ],
   "source": [
    "url_nowelements[0].text"
   ]
  },
  {
   "cell_type": "code",
   "execution_count": 9,
   "metadata": {},
   "outputs": [],
   "source": [
    "url_now=[]\n",
    "for url_nowelement in url_nowelements:\n",
    "    url_nowpage=[]\n",
    "    url_nowpage.append(url_nowelement.text)\n",
    "    url_nowpage.append(url_nowelement.get_attribute('href'))\n",
    "    url_now.append(url_nowpage)"
   ]
  },
  {
   "cell_type": "code",
   "execution_count": 10,
   "metadata": {
    "scrolled": false
   },
   "outputs": [
    {
     "data": {
      "text/plain": [
       "[['北京大学', 'https://gaokao.chsi.com.cn/sch/schoolInfo--schId-1.dhtml'],\n",
       " ['中国人民大学', 'https://gaokao.chsi.com.cn/sch/schoolInfo--schId-2.dhtml'],\n",
       " ['清华大学', 'https://gaokao.chsi.com.cn/sch/schoolInfo--schId-3.dhtml'],\n",
       " ['北京交通大学', 'https://gaokao.chsi.com.cn/sch/schoolInfo--schId-4.dhtml'],\n",
       " ['北京工业大学', 'https://gaokao.chsi.com.cn/sch/schoolInfo--schId-5.dhtml'],\n",
       " ['北京航空航天大学', 'https://gaokao.chsi.com.cn/sch/schoolInfo--schId-6.dhtml'],\n",
       " ['北京理工大学', 'https://gaokao.chsi.com.cn/sch/schoolInfo--schId-7.dhtml'],\n",
       " ['北京科技大学', 'https://gaokao.chsi.com.cn/sch/schoolInfo--schId-8.dhtml'],\n",
       " ['北方工业大学', 'https://gaokao.chsi.com.cn/sch/schoolInfo--schId-9.dhtml'],\n",
       " ['北京化工大学', 'https://gaokao.chsi.com.cn/sch/schoolInfo--schId-10.dhtml'],\n",
       " ['北京工商大学', 'https://gaokao.chsi.com.cn/sch/schoolInfo--schId-11.dhtml'],\n",
       " ['北京服装学院', 'https://gaokao.chsi.com.cn/sch/schoolInfo--schId-12.dhtml'],\n",
       " ['北京邮电大学', 'https://gaokao.chsi.com.cn/sch/schoolInfo--schId-13.dhtml'],\n",
       " ['北京印刷学院', 'https://gaokao.chsi.com.cn/sch/schoolInfo--schId-14.dhtml'],\n",
       " ['北京建筑大学', 'https://gaokao.chsi.com.cn/sch/schoolInfo--schId-15.dhtml'],\n",
       " ['北京石油化工学院', 'https://gaokao.chsi.com.cn/sch/schoolInfo--schId-16.dhtml'],\n",
       " ['北京电子科技学院', 'https://gaokao.chsi.com.cn/sch/schoolInfo--schId-17.dhtml'],\n",
       " ['中国农业大学', 'https://gaokao.chsi.com.cn/sch/schoolInfo--schId-18.dhtml'],\n",
       " ['北京农学院', 'https://gaokao.chsi.com.cn/sch/schoolInfo--schId-19.dhtml'],\n",
       " ['北京林业大学', 'https://gaokao.chsi.com.cn/sch/schoolInfo--schId-20.dhtml']]"
      ]
     },
     "execution_count": 10,
     "metadata": {},
     "output_type": "execute_result"
    }
   ],
   "source": [
    "url_now"
   ]
  },
  {
   "cell_type": "code",
   "execution_count": 11,
   "metadata": {},
   "outputs": [],
   "source": [
    "i=13"
   ]
  },
  {
   "cell_type": "code",
   "execution_count": 12,
   "metadata": {},
   "outputs": [],
   "source": [
    "browser.get(url_now[i][1]) #"
   ]
  },
  {
   "cell_type": "code",
   "execution_count": 13,
   "metadata": {},
   "outputs": [],
   "source": [
    "browser.back()"
   ]
  },
  {
   "cell_type": "code",
   "execution_count": 61,
   "metadata": {},
   "outputs": [],
   "source": []
  },
  {
   "cell_type": "code",
   "execution_count": 78,
   "metadata": {},
   "outputs": [],
   "source": [
    "browser.find_element_by_xpath('//*[@id=\"p_num\"]').clear()"
   ]
  },
  {
   "cell_type": "code",
   "execution_count": 79,
   "metadata": {},
   "outputs": [],
   "source": [
    "browser.find_element_by_xpath('//*[@id=\"p_num\"]').send_keys(130)"
   ]
  },
  {
   "cell_type": "code",
   "execution_count": 81,
   "metadata": {},
   "outputs": [],
   "source": [
    "browser.find_element_by_xpath('/html/body/div[2]/div[3]/div/div/div/form/ul/li[10]/input[2]').click()"
   ]
  },
  {
   "cell_type": "code",
   "execution_count": null,
   "metadata": {},
   "outputs": [],
   "source": []
  },
  {
   "cell_type": "code",
   "execution_count": null,
   "metadata": {},
   "outputs": [],
   "source": []
  },
  {
   "cell_type": "code",
   "execution_count": 391,
   "metadata": {},
   "outputs": [
    {
     "data": {
      "text/plain": [
       "'北京市大兴区兴华大街（二段）1号'"
      ]
     },
     "execution_count": 391,
     "metadata": {},
     "output_type": "execute_result"
    }
   ],
   "source": [
    "browser.find_element_by_xpath('/html/body/div[2]/div[4]/div[1]/div[2]/div[2]/span').text"
   ]
  },
  {
   "cell_type": "code",
   "execution_count": null,
   "metadata": {},
   "outputs": [],
   "source": []
  },
  {
   "cell_type": "code",
   "execution_count": null,
   "metadata": {},
   "outputs": [],
   "source": []
  },
  {
   "cell_type": "code",
   "execution_count": null,
   "metadata": {},
   "outputs": [],
   "source": []
  },
  {
   "cell_type": "code",
   "execution_count": null,
   "metadata": {},
   "outputs": [],
   "source": []
  },
  {
   "cell_type": "code",
   "execution_count": null,
   "metadata": {},
   "outputs": [],
   "source": []
  },
  {
   "cell_type": "code",
   "execution_count": null,
   "metadata": {},
   "outputs": [],
   "source": []
  },
  {
   "cell_type": "code",
   "execution_count": null,
   "metadata": {},
   "outputs": [],
   "source": []
  },
  {
   "cell_type": "code",
   "execution_count": 332,
   "metadata": {},
   "outputs": [
    {
     "ename": "NoSuchElementException",
     "evalue": "Message: no such element: Unable to locate element: {\"method\":\"xpath\",\"selector\":\"/html/body/div[2]/div[4]/div[1]/div[2]/div[1]/span[1]/a\"}\n  (Session info: chrome=73.0.3683.86)\n  (Driver info: chromedriver=72.0.3626.7 (efcef9a3ecda02b2132af215116a03852d08b9cb),platform=Windows NT 10.0.17134 x86_64)\n",
     "output_type": "error",
     "traceback": [
      "\u001b[1;31m---------------------------------------------------------------------------\u001b[0m",
      "\u001b[1;31mNoSuchElementException\u001b[0m                    Traceback (most recent call last)",
      "\u001b[1;32m<ipython-input-332-7442bd212d94>\u001b[0m in \u001b[0;36m<module>\u001b[1;34m()\u001b[0m\n\u001b[1;32m----> 1\u001b[1;33m \u001b[0mbrowser\u001b[0m\u001b[1;33m.\u001b[0m\u001b[0mfind_element_by_xpath\u001b[0m\u001b[1;33m(\u001b[0m\u001b[1;34m'/html/body/div[2]/div[4]/div[1]/div[2]/div[1]/span[1]/a'\u001b[0m\u001b[1;33m)\u001b[0m\u001b[1;33m.\u001b[0m\u001b[0mtext\u001b[0m\u001b[1;33m\u001b[0m\u001b[0m\n\u001b[0m",
      "\u001b[1;32mC:\\ProgramData\\Anaconda3\\lib\\site-packages\\selenium\\webdriver\\remote\\webdriver.py\u001b[0m in \u001b[0;36mfind_element_by_xpath\u001b[1;34m(self, xpath)\u001b[0m\n\u001b[0;32m    391\u001b[0m             \u001b[0melement\u001b[0m \u001b[1;33m=\u001b[0m \u001b[0mdriver\u001b[0m\u001b[1;33m.\u001b[0m\u001b[0mfind_element_by_xpath\u001b[0m\u001b[1;33m(\u001b[0m\u001b[1;34m'//div/td[1]'\u001b[0m\u001b[1;33m)\u001b[0m\u001b[1;33m\u001b[0m\u001b[0m\n\u001b[0;32m    392\u001b[0m         \"\"\"\n\u001b[1;32m--> 393\u001b[1;33m         \u001b[1;32mreturn\u001b[0m \u001b[0mself\u001b[0m\u001b[1;33m.\u001b[0m\u001b[0mfind_element\u001b[0m\u001b[1;33m(\u001b[0m\u001b[0mby\u001b[0m\u001b[1;33m=\u001b[0m\u001b[0mBy\u001b[0m\u001b[1;33m.\u001b[0m\u001b[0mXPATH\u001b[0m\u001b[1;33m,\u001b[0m \u001b[0mvalue\u001b[0m\u001b[1;33m=\u001b[0m\u001b[0mxpath\u001b[0m\u001b[1;33m)\u001b[0m\u001b[1;33m\u001b[0m\u001b[0m\n\u001b[0m\u001b[0;32m    394\u001b[0m \u001b[1;33m\u001b[0m\u001b[0m\n\u001b[0;32m    395\u001b[0m     \u001b[1;32mdef\u001b[0m \u001b[0mfind_elements_by_xpath\u001b[0m\u001b[1;33m(\u001b[0m\u001b[0mself\u001b[0m\u001b[1;33m,\u001b[0m \u001b[0mxpath\u001b[0m\u001b[1;33m)\u001b[0m\u001b[1;33m:\u001b[0m\u001b[1;33m\u001b[0m\u001b[0m\n",
      "\u001b[1;32mC:\\ProgramData\\Anaconda3\\lib\\site-packages\\selenium\\webdriver\\remote\\webdriver.py\u001b[0m in \u001b[0;36mfind_element\u001b[1;34m(self, by, value)\u001b[0m\n\u001b[0;32m    964\u001b[0m         return self.execute(Command.FIND_ELEMENT, {\n\u001b[0;32m    965\u001b[0m             \u001b[1;34m'using'\u001b[0m\u001b[1;33m:\u001b[0m \u001b[0mby\u001b[0m\u001b[1;33m,\u001b[0m\u001b[1;33m\u001b[0m\u001b[0m\n\u001b[1;32m--> 966\u001b[1;33m             'value': value})['value']\n\u001b[0m\u001b[0;32m    967\u001b[0m \u001b[1;33m\u001b[0m\u001b[0m\n\u001b[0;32m    968\u001b[0m     \u001b[1;32mdef\u001b[0m \u001b[0mfind_elements\u001b[0m\u001b[1;33m(\u001b[0m\u001b[0mself\u001b[0m\u001b[1;33m,\u001b[0m \u001b[0mby\u001b[0m\u001b[1;33m=\u001b[0m\u001b[0mBy\u001b[0m\u001b[1;33m.\u001b[0m\u001b[0mID\u001b[0m\u001b[1;33m,\u001b[0m \u001b[0mvalue\u001b[0m\u001b[1;33m=\u001b[0m\u001b[1;32mNone\u001b[0m\u001b[1;33m)\u001b[0m\u001b[1;33m:\u001b[0m\u001b[1;33m\u001b[0m\u001b[0m\n",
      "\u001b[1;32mC:\\ProgramData\\Anaconda3\\lib\\site-packages\\selenium\\webdriver\\remote\\webdriver.py\u001b[0m in \u001b[0;36mexecute\u001b[1;34m(self, driver_command, params)\u001b[0m\n\u001b[0;32m    318\u001b[0m         \u001b[0mresponse\u001b[0m \u001b[1;33m=\u001b[0m \u001b[0mself\u001b[0m\u001b[1;33m.\u001b[0m\u001b[0mcommand_executor\u001b[0m\u001b[1;33m.\u001b[0m\u001b[0mexecute\u001b[0m\u001b[1;33m(\u001b[0m\u001b[0mdriver_command\u001b[0m\u001b[1;33m,\u001b[0m \u001b[0mparams\u001b[0m\u001b[1;33m)\u001b[0m\u001b[1;33m\u001b[0m\u001b[0m\n\u001b[0;32m    319\u001b[0m         \u001b[1;32mif\u001b[0m \u001b[0mresponse\u001b[0m\u001b[1;33m:\u001b[0m\u001b[1;33m\u001b[0m\u001b[0m\n\u001b[1;32m--> 320\u001b[1;33m             \u001b[0mself\u001b[0m\u001b[1;33m.\u001b[0m\u001b[0merror_handler\u001b[0m\u001b[1;33m.\u001b[0m\u001b[0mcheck_response\u001b[0m\u001b[1;33m(\u001b[0m\u001b[0mresponse\u001b[0m\u001b[1;33m)\u001b[0m\u001b[1;33m\u001b[0m\u001b[0m\n\u001b[0m\u001b[0;32m    321\u001b[0m             response['value'] = self._unwrap_value(\n\u001b[0;32m    322\u001b[0m                 response.get('value', None))\n",
      "\u001b[1;32mC:\\ProgramData\\Anaconda3\\lib\\site-packages\\selenium\\webdriver\\remote\\errorhandler.py\u001b[0m in \u001b[0;36mcheck_response\u001b[1;34m(self, response)\u001b[0m\n\u001b[0;32m    240\u001b[0m                 \u001b[0malert_text\u001b[0m \u001b[1;33m=\u001b[0m \u001b[0mvalue\u001b[0m\u001b[1;33m[\u001b[0m\u001b[1;34m'alert'\u001b[0m\u001b[1;33m]\u001b[0m\u001b[1;33m.\u001b[0m\u001b[0mget\u001b[0m\u001b[1;33m(\u001b[0m\u001b[1;34m'text'\u001b[0m\u001b[1;33m)\u001b[0m\u001b[1;33m\u001b[0m\u001b[0m\n\u001b[0;32m    241\u001b[0m             \u001b[1;32mraise\u001b[0m \u001b[0mexception_class\u001b[0m\u001b[1;33m(\u001b[0m\u001b[0mmessage\u001b[0m\u001b[1;33m,\u001b[0m \u001b[0mscreen\u001b[0m\u001b[1;33m,\u001b[0m \u001b[0mstacktrace\u001b[0m\u001b[1;33m,\u001b[0m \u001b[0malert_text\u001b[0m\u001b[1;33m)\u001b[0m\u001b[1;33m\u001b[0m\u001b[0m\n\u001b[1;32m--> 242\u001b[1;33m         \u001b[1;32mraise\u001b[0m \u001b[0mexception_class\u001b[0m\u001b[1;33m(\u001b[0m\u001b[0mmessage\u001b[0m\u001b[1;33m,\u001b[0m \u001b[0mscreen\u001b[0m\u001b[1;33m,\u001b[0m \u001b[0mstacktrace\u001b[0m\u001b[1;33m)\u001b[0m\u001b[1;33m\u001b[0m\u001b[0m\n\u001b[0m\u001b[0;32m    243\u001b[0m \u001b[1;33m\u001b[0m\u001b[0m\n\u001b[0;32m    244\u001b[0m     \u001b[1;32mdef\u001b[0m \u001b[0m_value_or_default\u001b[0m\u001b[1;33m(\u001b[0m\u001b[0mself\u001b[0m\u001b[1;33m,\u001b[0m \u001b[0mobj\u001b[0m\u001b[1;33m,\u001b[0m \u001b[0mkey\u001b[0m\u001b[1;33m,\u001b[0m \u001b[0mdefault\u001b[0m\u001b[1;33m)\u001b[0m\u001b[1;33m:\u001b[0m\u001b[1;33m\u001b[0m\u001b[0m\n",
      "\u001b[1;31mNoSuchElementException\u001b[0m: Message: no such element: Unable to locate element: {\"method\":\"xpath\",\"selector\":\"/html/body/div[2]/div[4]/div[1]/div[2]/div[1]/span[1]/a\"}\n  (Session info: chrome=73.0.3683.86)\n  (Driver info: chromedriver=72.0.3626.7 (efcef9a3ecda02b2132af215116a03852d08b9cb),platform=Windows NT 10.0.17134 x86_64)\n"
     ]
    }
   ],
   "source": [
    "browser.find_element_by_xpath('/html/body/div[2]/div[4]/div[1]/div[2]/div[1]/span[1]/a').text"
   ]
  },
  {
   "cell_type": "code",
   "execution_count": 333,
   "metadata": {},
   "outputs": [
    {
     "data": {
      "text/plain": [
       "'www.cfau.edu.cn'"
      ]
     },
     "execution_count": 333,
     "metadata": {},
     "output_type": "execute_result"
    }
   ],
   "source": [
    "browser.find_element_by_xpath('/html/body/div[2]/div[4]/div[1]/div[2]/div[1]/span[1]/p[1]/a').text"
   ]
  },
  {
   "cell_type": "code",
   "execution_count": 277,
   "metadata": {},
   "outputs": [
    {
     "data": {
      "text/plain": [
       "'http://www.cau.edu.cn '"
      ]
     },
     "execution_count": 277,
     "metadata": {},
     "output_type": "execute_result"
    }
   ],
   "source": [
    "browser.find_element_by_xpath('/html/body/div[2]/div[4]/div[1]/div[2]/div[1]/span[1]/p/span').text"
   ]
  },
  {
   "cell_type": "code",
   "execution_count": 278,
   "metadata": {},
   "outputs": [
    {
     "data": {
      "text/plain": [
       "'http://www.cau.edu.cn  招办网站：http://jwzs.cau.edu.cn/'"
      ]
     },
     "execution_count": 278,
     "metadata": {},
     "output_type": "execute_result"
    }
   ],
   "source": [
    "browser.find_element_by_xpath('/html/body/div[2]/div[4]/div[1]/div[2]/div[1]/span[1]/p').text"
   ]
  },
  {
   "cell_type": "code",
   "execution_count": null,
   "metadata": {},
   "outputs": [],
   "source": []
  },
  {
   "cell_type": "code",
   "execution_count": null,
   "metadata": {},
   "outputs": [],
   "source": []
  },
  {
   "cell_type": "code",
   "execution_count": null,
   "metadata": {},
   "outputs": [],
   "source": []
  },
  {
   "cell_type": "code",
   "execution_count": null,
   "metadata": {},
   "outputs": [],
   "source": []
  },
  {
   "cell_type": "code",
   "execution_count": null,
   "metadata": {},
   "outputs": [],
   "source": []
  },
  {
   "cell_type": "code",
   "execution_count": null,
   "metadata": {},
   "outputs": [],
   "source": []
  },
  {
   "cell_type": "code",
   "execution_count": null,
   "metadata": {},
   "outputs": [],
   "source": []
  },
  {
   "cell_type": "code",
   "execution_count": null,
   "metadata": {},
   "outputs": [],
   "source": []
  },
  {
   "cell_type": "code",
   "execution_count": null,
   "metadata": {},
   "outputs": [],
   "source": []
  },
  {
   "cell_type": "code",
   "execution_count": null,
   "metadata": {},
   "outputs": [],
   "source": []
  },
  {
   "cell_type": "code",
   "execution_count": null,
   "metadata": {},
   "outputs": [],
   "source": []
  },
  {
   "cell_type": "code",
   "execution_count": 239,
   "metadata": {},
   "outputs": [
    {
     "data": {
      "text/plain": [
       "'www.ncut.edu.cn'"
      ]
     },
     "execution_count": 239,
     "metadata": {},
     "output_type": "execute_result"
    }
   ],
   "source": [
    "browser.find_element_by_xpath('/html/body/div[2]/div[4]/div[1]/div[2]/div[1]/span[1]/a').text"
   ]
  },
  {
   "cell_type": "code",
   "execution_count": 232,
   "metadata": {},
   "outputs": [
    {
     "data": {
      "text/plain": [
       "'zhaosheng.ustb.edu.cn'"
      ]
     },
     "execution_count": 232,
     "metadata": {},
     "output_type": "execute_result"
    }
   ],
   "source": [
    "browser.find_element_by_xpath('/html/body/div[2]/div[4]/div[1]/div[2]/div[1]/span[1]/p/span').text"
   ]
  },
  {
   "cell_type": "code",
   "execution_count": null,
   "metadata": {},
   "outputs": [],
   "source": []
  },
  {
   "cell_type": "code",
   "execution_count": null,
   "metadata": {},
   "outputs": [],
   "source": []
  },
  {
   "cell_type": "code",
   "execution_count": null,
   "metadata": {},
   "outputs": [],
   "source": []
  },
  {
   "cell_type": "code",
   "execution_count": null,
   "metadata": {},
   "outputs": [],
   "source": []
  },
  {
   "cell_type": "code",
   "execution_count": null,
   "metadata": {},
   "outputs": [],
   "source": []
  }
 ],
 "metadata": {
  "kernelspec": {
   "display_name": "Python 3",
   "language": "python",
   "name": "python3"
  },
  "language_info": {
   "codemirror_mode": {
    "name": "ipython",
    "version": 3
   },
   "file_extension": ".py",
   "mimetype": "text/x-python",
   "name": "python",
   "nbconvert_exporter": "python",
   "pygments_lexer": "ipython3",
   "version": "3.6.5"
  }
 },
 "nbformat": 4,
 "nbformat_minor": 2
}
