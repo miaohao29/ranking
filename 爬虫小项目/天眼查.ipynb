{
 "cells": [
  {
   "cell_type": "code",
   "execution_count": 1,
   "metadata": {},
   "outputs": [],
   "source": [
    "# -*- coding: utf-8 -*-\n",
    "\"\"\"\n",
    "Created on Thu May 16 09:33:50 2019\n",
    "\n",
    "@author: ruanke\n",
    "\"\"\"\n",
    "from selenium import webdriver\n",
    "from selenium.webdriver.common.keys import Keys\n",
    "#from selenium.webdriver.common.action_chains import ActionChains\n",
    "from selenium.webdriver.common.by import By\n",
    "from selenium.webdriver.support.ui import WebDriverWait\n",
    "from selenium.webdriver.support import expected_conditions as EC\n",
    "#import re\n",
    "import time, os\n",
    "import pandas as pd\n"
   ]
  },
  {
   "cell_type": "code",
   "execution_count": 2,
   "metadata": {},
   "outputs": [],
   "source": [
    "def run_time(func):\n",
    "    print(1)\n",
    "    def new_fun(*args, **kwargs):\n",
    "        t0 = time.time()\n",
    "        print('开始运行程序！')\n",
    "        back = func(*args, **kwargs)\n",
    "        run_time = time.time() - t0\n",
    "        print('函数运行时间：%d分%.2f秒' % (run_time//60, run_time % 60))\n",
    "        return back\n",
    "    return new_fun\n"
   ]
  },
  {
   "cell_type": "code",
   "execution_count": 3,
   "metadata": {},
   "outputs": [],
   "source": [
    "def InitDriver():\n",
    "    print(2)\n",
    "    #初始化游览器选项：\n",
    "    options = webdriver.ChromeOptions()\n",
    "    options.add_argument('--ignore-certificate-errors')\n",
    "    options.add_argument(\"--test-type\")\n",
    "    \n",
    "    #打开Chrome游览器，并窗口最大化：\n",
    "    driver = webdriver.Chrome(r'C:\\Users\\rk\\Desktop\\chromedriver.exe', chrome_options=options)\n",
    "    driver.implicitly_wait(10)\n",
    "    driver.maximize_window()\n",
    "    \n",
    "    #打开网址，并给其5秒加载时间：\n",
    "    driver.get(url)\n",
    "    time.sleep(5)\n",
    "    return driver\n"
   ]
  },
  {
   "cell_type": "code",
   "execution_count": 4,
   "metadata": {},
   "outputs": [],
   "source": [
    "def Login(driver):\n",
    "    print(3)\n",
    "    #关闭最下方的广告栏，防止影响后续操作\n",
    "    try:\n",
    "        driver.find_element(By.XPATH, '//*[@id=\"tyc_banner_close\"]').click()\n",
    "        time.sleep(1)\n",
    "    except:\n",
    "        pass\n",
    "    #点击登录/注册按钮\n",
    "    driver.find_element_by_xpath('//*[@id=\"web-content\"]/div/div[1]/div[1]/div/div/div[2]/div/div[5]/a').click()\n",
    "    time.sleep(1)\n",
    "    \n",
    "    #点击密码登录\n",
    "    LI = driver.find_element_by_xpath('//*[@id=\"dialog_06742228\"]/div/div[2]/div/div/div[3]/div[3]')\n",
    "    LI.find_element_by_xpath('div[1]/div[2]').click()\n",
    "    time.sleep(0.5)\n",
    "    \n",
    "    #输入手机号、密码，并点击登录\n",
    "    LI.find_element_by_xpath('div[2]/div[2]/input').send_keys(mbn)\n",
    "    time.sleep(0.5)\n",
    "    LI.find_element_by_xpath('div[2]/div[3]/input').send_keys(psw)\n",
    "    time.sleep(0.5)\n",
    "    LI.find_element_by_xpath('div[2]/div[5]').click()\n",
    "    #需要手动验证！！\n"
   ]
  },
  {
   "cell_type": "code",
   "execution_count": null,
   "metadata": {},
   "outputs": [],
   "source": []
  },
  {
   "cell_type": "code",
   "execution_count": 5,
   "metadata": {},
   "outputs": [],
   "source": [
    "def Input_name(driver, Inputing, Company_code, Company_name):\n",
    "    print(4)\n",
    "    Inputing.send_keys(int(Company_code))\n",
    "    time.sleep(1.5)\n",
    "    \n",
    "    #查询该公司，并打开网址\n",
    "    Search_list = driver.find_elements_by_xpath('//*[@id=\"web-content\"]/div/div[1]/div[2]/div/div/div[2]/div[2]/div[1]/form/div/ul/li')\n",
    "    for search in Search_list:\n",
    "        if Company_name in search.text:\n",
    "            search.click()\n",
    "            time.sleep(1)\n",
    "            break\n",
    "    \n",
    "    #如果公司代码无效，则输入公司名：\n",
    "    if len(driver.window_handles) != 2:\n",
    "        for j in range(30):\n",
    "            Inputing.send_keys(Keys.BACKSPACE)\n",
    "        \n",
    "        Inputing.send_keys(Company_name)\n",
    "        time.sleep(1.5)\n",
    "        \n",
    "        Search_list = driver.find_elements_by_xpath('//*[@id=\"web-content\"]/div/div[1]/div[2]/div/div/div[2]/div[2]/div[1]/form/div/ul/li')\n",
    "        for search in Search_list:\n",
    "            if Company_name in search.text:\n",
    "                search.click()\n",
    "                time.sleep(1)\n",
    "                break\n"
   ]
  },
  {
   "cell_type": "code",
   "execution_count": 6,
   "metadata": {},
   "outputs": [],
   "source": [
    "def get_position(driver,chair_name,CEO_name):\n",
    "    print(5)\n",
    "    chair_edu, CEO_edu, CFO_name, CFO_pos, CFO_edu = '未找到','未找到','未找到','未找到','未找到'\n",
    "    while True:\n",
    "        #定位高管成员元素以及更改页面元素：\n",
    "        Senior_people = driver.find_elements_by_xpath('//*[@id=\"_container_seniorPeople\"]/table/tbody/tr')\n",
    "        Change_page = driver.find_elements_by_xpath('//*[@id=\"_container_seniorPeople\"]/div/ul/li')\n",
    "        \n",
    "        #遍历高管成员列表，寻找高管学历及财务负责人信息\n",
    "        for people in Senior_people:\n",
    "            if '财务' in people.find_element_by_xpath('td[3]').text:\n",
    "                try:\n",
    "                    CFO_name = people.find_element_by_xpath('td[2]/table/tbody/tr/td[2]/a').text\n",
    "                except:\n",
    "                    CFO_name = people.find_element_by_xpath('td[2]/table/tbody/tr/td[2]/span').text\n",
    "                CFO_pos = people.find_element_by_xpath('td[3]').text\n",
    "                CFO_edu = people.find_element_by_xpath('td[6]').text\n",
    "            if chair_name == people.find_element_by_xpath('td[2]/table/tbody/tr/td[2]').text:\n",
    "                chair_edu = people.find_element_by_xpath('td[6]').text\n",
    "            if CEO_name == people.find_element_by_xpath('td[2]/table/tbody/tr/td[2]').text:\n",
    "                CEO_edu = people.find_element_by_xpath('td[6]').text\n",
    "        \n",
    "        time.sleep(2)\n",
    "        if Change_page[-1].text == '>':\n",
    "            driver.execute_script('arguments[0].scrollIntoView(false);', Change_page[-1])\n",
    "            wait = WebDriverWait(driver, 10)\n",
    "            wait.until(EC.element_to_be_clickable((By.XPATH, '//*[@id=\"_container_seniorPeople\"]/div/ul/li[%s]'%len(Change_page)))).click()\n",
    "            #Change_page[-1].click()\n",
    "            time.sleep(2)\n",
    "        else:\n",
    "            return chair_edu, CEO_edu, CFO_name, CFO_pos, CFO_edu\n"
   ]
  },
  {
   "cell_type": "code",
   "execution_count": 7,
   "metadata": {},
   "outputs": [
    {
     "name": "stdout",
     "output_type": "stream",
     "text": [
      "1\n"
     ]
    }
   ],
   "source": [
    "@run_time\n",
    "def Finding1(driver, sub_indexs):\n",
    "    print(6)\n",
    "    #读取数据，即需要搜索的交易所信息；创建报错指数列表\n",
    "    #列名：0：公司代码、1：公司全称、2：董事长、3：最高学历1、4：CEO、\n",
    "    #     5：最高学历2、6：CFO、7：财务职称、8：最高学历3、9：公司官网\n",
    "    #     10：天眼查网页\n",
    "    data = pd.read_excel(os.path.join(filepath, filename + '.xlsx')).fillna('未找到')\n",
    "    error_indexs = []\n",
    "    \n",
    "    #定位搜索框\n",
    "    Inputing = driver.find_element_by_xpath('//*[@id=\"home-main-search\"]')\n",
    "    time.sleep(1)\n",
    "    \n",
    "    #遍历整个Dataframe\n",
    "    for i in sub_indexs:\n",
    "        #清楚搜索框数据\n",
    "        for j in range(30):\n",
    "            Inputing.send_keys(Keys.BACKSPACE)\n",
    "        \n",
    "        #修改公司代码为字符串，例如263 -> 000263\n",
    "        data.iloc[i,0] = str(data.iloc[i,0])\n",
    "        for j in range(6-len(str(data.iloc[i,0]))):\n",
    "            data.iloc[i,0] = '0' + str(data.iloc[i,0])\n",
    "        \n",
    "        #输入公司名代码\n",
    "        Company_code = data.iloc[i, 0]\n",
    "        Company_name = data.iloc[i, 1]\n",
    "        print('正在抓取第{}个公司的数据：\\n{}'.format(i, Company_name))\n",
    "        \n",
    "        #输入公司代码或者公司名：\n",
    "        Input_name(driver, Inputing, Company_code, Company_name)\n",
    "        \n",
    "        #进入公司页面，若切换窗口失败，则报错并退出循环\n",
    "        try:\n",
    "            driver.switch_to.window(driver.window_handles[1])\n",
    "        except Exception as e:\n",
    "            print('搜索框发生错误，需要重新下载：\\n%s\\n' % e)\n",
    "            error_indexs.append(i)\n",
    "            continue\n",
    "        time.sleep(1)\n",
    "        \n",
    "        #抓取数据，分别对应：天眼查网页、董事长、总经理\n",
    "        data.iloc[i,10] = driver.current_url\n",
    "        try:\n",
    "            data.iloc[i,2] = driver.find_element_by_xpath('//*[@id=\"nav-main-stockNum\"]/div[2]/table/tbody/tr[5]/td[2]').text\n",
    "        except:\n",
    "            data.iloc[i,2] = driver.find_element_by_xpath('//*[@id=\"nav-main-stockNum\"]/div[2]/table/tbody/tr[5]/td[2]/a').text\n",
    "        data.iloc[i,4] = driver.find_element_by_xpath('//*[@id=\"nav-main-stockNum\"]/div[2]/table/tbody/tr[6]/td[4]/a').text\n",
    "        \n",
    "        #公司官网\n",
    "        try:\n",
    "            data.iloc[i,9] = driver.find_element_by_xpath('//*[@id=\"_container_corpContactInfo\"]/table/tbody/tr[2]/td[4]').text\n",
    "        except:\n",
    "            data.iloc[i,9] = '-'\n",
    "        \n",
    "        time.sleep(2)\n",
    "        \n",
    "        #查找财其他数据\n",
    "        try:\n",
    "            data.iloc[i,3], data.iloc[i,5], data.iloc[i,6], data.iloc[i,7], data.iloc[i,8] = get_position(driver,data.iloc[i,2],data.iloc[i,4])\n",
    "        except Exception as e:\n",
    "            print('查询数据时发生错误，需要重新下载：\\n%s\\n' % e)\n",
    "            error_indexs.append(i)\n",
    "        else:\n",
    "            print('数据抓取成功！\\n')\n",
    "        #关闭该标签页，并返回主页面\n",
    "        driver.close()\n",
    "        driver.switch_to.window(driver.window_handles[0])\n",
    "        time.sleep(0.5)\n",
    "        \n",
    "        #删除输入的公司名\n",
    "        for j in range(30):\n",
    "            Inputing.send_keys(Keys.BACKSPACE)\n",
    "        time.sleep(3)\n",
    "    return data.loc[sub_indexs,:], error_indexs\n"
   ]
  },
  {
   "cell_type": "code",
   "execution_count": 8,
   "metadata": {},
   "outputs": [],
   "source": [
    "\n",
    "def Save_to_excel(data, sub_indexs):\n",
    "    print(7)\n",
    "    top = max(sub_indexs)\n",
    "    low = min(sub_indexs)\n",
    "    data.to_excel(os.path.join(filepath, 'Result_'+filename+'_{}-{}'.format(low,top))+'.xlsx'\n",
    "                , index = False)\n",
    "    print('保存{}-{}成功！'.format(low,top))\n"
   ]
  },
  {
   "cell_type": "code",
   "execution_count": 9,
   "metadata": {},
   "outputs": [],
   "source": [
    "\n",
    "#讲Indexs拆分，没each个为一个sub_index，返回这个装有sub_index的列表\n",
    "def Split(Ind):\n",
    "    print(8)\n",
    "    Index = list(Ind)\n",
    "    li_indexs = []\n",
    "    num = len(Index)\n",
    "    if num % each:\n",
    "        step = num//each\n",
    "    else:\n",
    "        step = num//each - 1\n",
    "    for j in range(step+1):\n",
    "        sub_index = []\n",
    "        if j != step:\n",
    "            top = each+j*each\n",
    "        else:\n",
    "            top = num\n",
    "        for i in range(0+j*each, top):\n",
    "            sub_index.append(Index[i])\n",
    "        li_indexs.append(sub_index)\n",
    "    return li_indexs\n",
    "\n"
   ]
  },
  {
   "cell_type": "code",
   "execution_count": 10,
   "metadata": {},
   "outputs": [],
   "source": [
    "def Download(driver, Indexs):\n",
    "    print(9)\n",
    "    li_indexs = Split(Indexs)\n",
    "    Error_indexs = []\n",
    "    for li in li_indexs:\n",
    "        result, error_indexs = Finding1(driver, li)\n",
    "        Error_indexs.extend(error_indexs)\n",
    "        Save_to_excel(result,li)\n",
    "        for item in error_indexs:\n",
    "            with open(os.path.join(filepath,'Error_' + filename + '.txt'),'a+') as file:\n",
    "                file.write('{}\\n'.format(item))\n",
    "    return Error_indexs\n"
   ]
  },
  {
   "cell_type": "code",
   "execution_count": 11,
   "metadata": {},
   "outputs": [],
   "source": [
    "url = 'https://www.tianyancha.com/'\n",
    "filepath = r'C:\\Users\\rk\\Desktop\\天眼查'\n",
    "filename = '1'\n",
    "each = 70\n",
    "mbn = '18101898426'\n",
    "psw = 'qwerty123'\n",
    "Indexs = range(66)"
   ]
  },
  {
   "cell_type": "code",
   "execution_count": null,
   "metadata": {},
   "outputs": [],
   "source": [
    "if __name__ == '__main__':\n",
    "    driver = InitDriver()\n",
    "    #Login(driver)\n",
    "    Errors = Download(driver, Indexs)\n",
    "    driver.quit()\n",
    "    "
   ]
  },
  {
   "cell_type": "code",
   "execution_count": 12,
   "metadata": {},
   "outputs": [
    {
     "name": "stdout",
     "output_type": "stream",
     "text": [
      "2\n"
     ]
    }
   ],
   "source": [
    "driver = InitDriver()"
   ]
  },
  {
   "cell_type": "code",
   "execution_count": 13,
   "metadata": {
    "scrolled": true
   },
   "outputs": [
    {
     "name": "stdout",
     "output_type": "stream",
     "text": [
      "9\n",
      "8\n",
      "开始运行程序！\n",
      "6\n",
      "正在抓取第0个公司的数据：\n",
      "亚宝药业集团股份有限公司\n",
      "4\n",
      "5\n",
      "数据抓取成功！\n",
      "\n",
      "正在抓取第1个公司的数据：\n",
      "奥瑞德光电股份有限公司\n",
      "4\n",
      "5\n",
      "数据抓取成功！\n",
      "\n",
      "正在抓取第2个公司的数据：\n",
      "上海现代制药股份有限公司\n",
      "4\n",
      "5\n",
      "查询数据时发生错误，需要重新下载：\n",
      "Message: no such element: Unable to locate element: {\"method\":\"xpath\",\"selector\":\"td[2]/table/tbody/tr/td[2]/a\"}\n",
      "  (Session info: chrome=78.0.3904.108)\n",
      "  (Driver info: chromedriver=72.0.3626.7 (efcef9a3ecda02b2132af215116a03852d08b9cb),platform=Windows NT 10.0.18363 x86_64)\n",
      "\n",
      "\n",
      "正在抓取第3个公司的数据：\n",
      "香飘飘食品股份有限公司\n",
      "4\n",
      "5\n",
      "查询数据时发生错误，需要重新下载：\n",
      "list index out of range\n",
      "\n",
      "正在抓取第4个公司的数据：\n",
      "营口港务股份有限公司\n",
      "4\n"
     ]
    },
    {
     "ename": "KeyboardInterrupt",
     "evalue": "",
     "output_type": "error",
     "traceback": [
      "\u001b[1;31m---------------------------------------------------------------------------\u001b[0m",
      "\u001b[1;31mKeyboardInterrupt\u001b[0m                         Traceback (most recent call last)",
      "\u001b[1;32m<ipython-input-13-8f4c510b32ea>\u001b[0m in \u001b[0;36m<module>\u001b[1;34m()\u001b[0m\n\u001b[1;32m----> 1\u001b[1;33m \u001b[0mErrors\u001b[0m \u001b[1;33m=\u001b[0m \u001b[0mDownload\u001b[0m\u001b[1;33m(\u001b[0m\u001b[0mdriver\u001b[0m\u001b[1;33m,\u001b[0m \u001b[0mIndexs\u001b[0m\u001b[1;33m)\u001b[0m\u001b[1;33m\u001b[0m\u001b[0m\n\u001b[0m",
      "\u001b[1;32m<ipython-input-10-dbe941bfb2dd>\u001b[0m in \u001b[0;36mDownload\u001b[1;34m(driver, Indexs)\u001b[0m\n\u001b[0;32m      4\u001b[0m     \u001b[0mError_indexs\u001b[0m \u001b[1;33m=\u001b[0m \u001b[1;33m[\u001b[0m\u001b[1;33m]\u001b[0m\u001b[1;33m\u001b[0m\u001b[0m\n\u001b[0;32m      5\u001b[0m     \u001b[1;32mfor\u001b[0m \u001b[0mli\u001b[0m \u001b[1;32min\u001b[0m \u001b[0mli_indexs\u001b[0m\u001b[1;33m:\u001b[0m\u001b[1;33m\u001b[0m\u001b[0m\n\u001b[1;32m----> 6\u001b[1;33m         \u001b[0mresult\u001b[0m\u001b[1;33m,\u001b[0m \u001b[0merror_indexs\u001b[0m \u001b[1;33m=\u001b[0m \u001b[0mFinding1\u001b[0m\u001b[1;33m(\u001b[0m\u001b[0mdriver\u001b[0m\u001b[1;33m,\u001b[0m \u001b[0mli\u001b[0m\u001b[1;33m)\u001b[0m\u001b[1;33m\u001b[0m\u001b[0m\n\u001b[0m\u001b[0;32m      7\u001b[0m         \u001b[0mError_indexs\u001b[0m\u001b[1;33m.\u001b[0m\u001b[0mextend\u001b[0m\u001b[1;33m(\u001b[0m\u001b[0merror_indexs\u001b[0m\u001b[1;33m)\u001b[0m\u001b[1;33m\u001b[0m\u001b[0m\n\u001b[0;32m      8\u001b[0m         \u001b[0mSave_to_excel\u001b[0m\u001b[1;33m(\u001b[0m\u001b[0mresult\u001b[0m\u001b[1;33m,\u001b[0m\u001b[0mli\u001b[0m\u001b[1;33m)\u001b[0m\u001b[1;33m\u001b[0m\u001b[0m\n",
      "\u001b[1;32m<ipython-input-2-6f27b47623be>\u001b[0m in \u001b[0;36mnew_fun\u001b[1;34m(*args, **kwargs)\u001b[0m\n\u001b[0;32m      4\u001b[0m         \u001b[0mt0\u001b[0m \u001b[1;33m=\u001b[0m \u001b[0mtime\u001b[0m\u001b[1;33m.\u001b[0m\u001b[0mtime\u001b[0m\u001b[1;33m(\u001b[0m\u001b[1;33m)\u001b[0m\u001b[1;33m\u001b[0m\u001b[0m\n\u001b[0;32m      5\u001b[0m         \u001b[0mprint\u001b[0m\u001b[1;33m(\u001b[0m\u001b[1;34m'开始运行程序！'\u001b[0m\u001b[1;33m)\u001b[0m\u001b[1;33m\u001b[0m\u001b[0m\n\u001b[1;32m----> 6\u001b[1;33m         \u001b[0mback\u001b[0m \u001b[1;33m=\u001b[0m \u001b[0mfunc\u001b[0m\u001b[1;33m(\u001b[0m\u001b[1;33m*\u001b[0m\u001b[0margs\u001b[0m\u001b[1;33m,\u001b[0m \u001b[1;33m**\u001b[0m\u001b[0mkwargs\u001b[0m\u001b[1;33m)\u001b[0m\u001b[1;33m\u001b[0m\u001b[0m\n\u001b[0m\u001b[0;32m      7\u001b[0m         \u001b[0mrun_time\u001b[0m \u001b[1;33m=\u001b[0m \u001b[0mtime\u001b[0m\u001b[1;33m.\u001b[0m\u001b[0mtime\u001b[0m\u001b[1;33m(\u001b[0m\u001b[1;33m)\u001b[0m \u001b[1;33m-\u001b[0m \u001b[0mt0\u001b[0m\u001b[1;33m\u001b[0m\u001b[0m\n\u001b[0;32m      8\u001b[0m         \u001b[0mprint\u001b[0m\u001b[1;33m(\u001b[0m\u001b[1;34m'函数运行时间：%d分%.2f秒'\u001b[0m \u001b[1;33m%\u001b[0m \u001b[1;33m(\u001b[0m\u001b[0mrun_time\u001b[0m\u001b[1;33m//\u001b[0m\u001b[1;36m60\u001b[0m\u001b[1;33m,\u001b[0m \u001b[0mrun_time\u001b[0m \u001b[1;33m%\u001b[0m \u001b[1;36m60\u001b[0m\u001b[1;33m)\u001b[0m\u001b[1;33m)\u001b[0m\u001b[1;33m\u001b[0m\u001b[0m\n",
      "\u001b[1;32m<ipython-input-7-87ecd5a9369b>\u001b[0m in \u001b[0;36mFinding1\u001b[1;34m(driver, sub_indexs)\u001b[0m\n\u001b[0;32m     30\u001b[0m \u001b[1;33m\u001b[0m\u001b[0m\n\u001b[0;32m     31\u001b[0m         \u001b[1;31m#输入公司代码或者公司名：\u001b[0m\u001b[1;33m\u001b[0m\u001b[1;33m\u001b[0m\u001b[0m\n\u001b[1;32m---> 32\u001b[1;33m         \u001b[0mInput_name\u001b[0m\u001b[1;33m(\u001b[0m\u001b[0mdriver\u001b[0m\u001b[1;33m,\u001b[0m \u001b[0mInputing\u001b[0m\u001b[1;33m,\u001b[0m \u001b[0mCompany_code\u001b[0m\u001b[1;33m,\u001b[0m \u001b[0mCompany_name\u001b[0m\u001b[1;33m)\u001b[0m\u001b[1;33m\u001b[0m\u001b[0m\n\u001b[0m\u001b[0;32m     33\u001b[0m \u001b[1;33m\u001b[0m\u001b[0m\n\u001b[0;32m     34\u001b[0m         \u001b[1;31m#进入公司页面，若切换窗口失败，则报错并退出循环\u001b[0m\u001b[1;33m\u001b[0m\u001b[1;33m\u001b[0m\u001b[0m\n",
      "\u001b[1;32m<ipython-input-5-6adedf8a14bf>\u001b[0m in \u001b[0;36mInput_name\u001b[1;34m(driver, Inputing, Company_code, Company_name)\u001b[0m\n\u001b[0;32m     24\u001b[0m             \u001b[1;32mif\u001b[0m \u001b[0mCompany_name\u001b[0m \u001b[1;32min\u001b[0m \u001b[0msearch\u001b[0m\u001b[1;33m.\u001b[0m\u001b[0mtext\u001b[0m\u001b[1;33m:\u001b[0m\u001b[1;33m\u001b[0m\u001b[0m\n\u001b[0;32m     25\u001b[0m                 \u001b[0msearch\u001b[0m\u001b[1;33m.\u001b[0m\u001b[0mclick\u001b[0m\u001b[1;33m(\u001b[0m\u001b[1;33m)\u001b[0m\u001b[1;33m\u001b[0m\u001b[0m\n\u001b[1;32m---> 26\u001b[1;33m                 \u001b[0mtime\u001b[0m\u001b[1;33m.\u001b[0m\u001b[0msleep\u001b[0m\u001b[1;33m(\u001b[0m\u001b[1;36m1\u001b[0m\u001b[1;33m)\u001b[0m\u001b[1;33m\u001b[0m\u001b[0m\n\u001b[0m\u001b[0;32m     27\u001b[0m                 \u001b[1;32mbreak\u001b[0m\u001b[1;33m\u001b[0m\u001b[0m\n",
      "\u001b[1;31mKeyboardInterrupt\u001b[0m: "
     ]
    }
   ],
   "source": [
    "Errors = Download(driver, Indexs)"
   ]
  },
  {
   "cell_type": "code",
   "execution_count": 20,
   "metadata": {},
   "outputs": [
    {
     "ename": "NameError",
     "evalue": "name 'data' is not defined",
     "output_type": "error",
     "traceback": [
      "\u001b[1;31m---------------------------------------------------------------------------\u001b[0m",
      "\u001b[1;31mNameError\u001b[0m                                 Traceback (most recent call last)",
      "\u001b[1;32m<ipython-input-20-c5d84736ba45>\u001b[0m in \u001b[0;36m<module>\u001b[1;34m()\u001b[0m\n\u001b[1;32m----> 1\u001b[1;33m \u001b[0mdata\u001b[0m\u001b[1;33m\u001b[0m\u001b[0m\n\u001b[0m",
      "\u001b[1;31mNameError\u001b[0m: name 'data' is not defined"
     ]
    }
   ],
   "source": [
    "data"
   ]
  },
  {
   "cell_type": "code",
   "execution_count": null,
   "metadata": {},
   "outputs": [],
   "source": []
  }
 ],
 "metadata": {
  "kernelspec": {
   "display_name": "Python 3",
   "language": "python",
   "name": "python3"
  },
  "language_info": {
   "codemirror_mode": {
    "name": "ipython",
    "version": 3
   },
   "file_extension": ".py",
   "mimetype": "text/x-python",
   "name": "python",
   "nbconvert_exporter": "python",
   "pygments_lexer": "ipython3",
   "version": "3.6.5"
  }
 },
 "nbformat": 4,
 "nbformat_minor": 2
}
