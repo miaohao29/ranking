{
 "cells": [
  {
   "cell_type": "code",
   "execution_count": 1,
   "metadata": {},
   "outputs": [],
   "source": [
    "from time import sleep\n",
    "import pandas as pd\n",
    "import numpy as np\n",
    "from selenium import webdriver #从selenium中调入webdriver"
   ]
  },
  {
   "cell_type": "code",
   "execution_count": null,
   "metadata": {},
   "outputs": [],
   "source": [
    "from selenium.webdriver.common.keys import Keys"
   ]
  },
  {
   "cell_type": "code",
   "execution_count": 2,
   "metadata": {},
   "outputs": [],
   "source": [
    "from random import random"
   ]
  },
  {
   "cell_type": "code",
   "execution_count": 3,
   "metadata": {},
   "outputs": [],
   "source": [
    "browser = webdriver.Chrome('C:/Users/rk/Desktop/chromedriver.exe') #锁定浏览器\n"
   ]
  },
  {
   "cell_type": "code",
   "execution_count": 3,
   "metadata": {},
   "outputs": [],
   "source": [
    "browser.get(\"http://data.foundationcenter.org.cn/foundation.html\") #访问页面"
   ]
  },
  {
   "cell_type": "code",
   "execution_count": null,
   "metadata": {},
   "outputs": [],
   "source": []
  },
  {
   "cell_type": "code",
   "execution_count": 79,
   "metadata": {},
   "outputs": [],
   "source": [
    "links=[]"
   ]
  },
  {
   "cell_type": "code",
   "execution_count": 76,
   "metadata": {},
   "outputs": [
    {
     "name": "stdout",
     "output_type": "stream",
     "text": [
      "['深圳市汉源慈善公益基金会', 'http://data.foundationcenter.org.cn/content_732343.html']\n",
      "['北京同创医学发展基金会', 'http://data.foundationcenter.org.cn/content_732336.html']\n",
      "['北京彤馨慈善基金会', 'http://data.foundationcenter.org.cn/content_732335.html']\n",
      "['广州市海星公益基金会', 'http://data.foundationcenter.org.cn/content_732341.html']\n",
      "['江门市江海区英才教育发', 'http://data.foundationcenter.org.cn/content_732351.html']\n",
      "['莆田市人才发展基金会', 'http://data.foundationcenter.org.cn/content_732344.html']\n",
      "['重庆市大足应急救助基金会', 'http://data.foundationcenter.org.cn/content_732346.html']\n",
      "['甘肃天水师范学院教育发', 'http://data.foundationcenter.org.cn/content_732337.html']\n",
      "['山西省柳林县教育发展基', 'http://data.foundationcenter.org.cn/content_732501.html']\n",
      "['沅江市永固公益基金会', 'http://data.foundationcenter.org.cn/content_732354.html']\n",
      "['深圳市群英慈善基金会', 'http://data.foundationcenter.org.cn/content_732350.html']\n",
      "['临海市新时代文明实践基', 'http://data.foundationcenter.org.cn/content_732355.html']\n",
      "['北京开创者慈善基金会', 'http://data.foundationcenter.org.cn/content_732348.html']\n",
      "['重庆市渝北区教育发展基', 'http://data.foundationcenter.org.cn/content_732360.html']\n",
      "['北京德润公益基金会', 'http://data.foundationcenter.org.cn/content_732347.html']\n",
      "['北京石齐艺术基金会', 'http://data.foundationcenter.org.cn/content_732349.html']\n",
      "['孝感市槐荫教育基金会', 'http://data.foundationcenter.org.cn/content_732352.html']\n",
      "['广州市珠光霭德公益基金会', 'http://data.foundationcenter.org.cn/content_732366.html']\n",
      "['广州市东升实业慈善基金会', 'http://data.foundationcenter.org.cn/content_732367.html']\n",
      "['天津市赛恩正屹慈善基金会', 'http://data.foundationcenter.org.cn/content_732358.html']\n",
      "['河北省宏兴公益基金会', 'http://data.foundationcenter.org.cn/content_732376.html']\n",
      "['河北省天助慈善基金会', 'http://data.foundationcenter.org.cn/content_732375.html']\n",
      "['河北省长盛慈善基金会', 'http://data.foundationcenter.org.cn/content_732374.html']\n",
      "['深圳市慈航纳生慈善基金会', 'http://data.foundationcenter.org.cn/content_732365.html']\n",
      "['长沙市长沙农商银行慈善', 'http://data.foundationcenter.org.cn/content_732356.html']\n",
      "['安徽省乐善公益基金会', 'http://data.foundationcenter.org.cn/content_732357.html']\n",
      "['河北省关爱退役军人基金会', 'http://data.foundationcenter.org.cn/content_732361.html']\n",
      "['茂名市第一中学教育基金会', 'http://data.foundationcenter.org.cn/content_732364.html']\n",
      "['天津市点滴公益基金会', 'http://data.foundationcenter.org.cn/content_732363.html']\n",
      "['西安市兴邦扶贫公益慈善', 'http://data.foundationcenter.org.cn/content_732370.html']\n",
      "['松阳县中医药发展基金会', 'http://data.foundationcenter.org.cn/content_732362.html']\n",
      "['辽阳市第一高级中学助学', 'http://data.foundationcenter.org.cn/content_732497.html']\n",
      "['锦州市公安交警平安基金会', 'http://data.foundationcenter.org.cn/content_729666.html']\n",
      "['葫芦岛市洪润慈善公益基', 'http://data.foundationcenter.org.cn/content_729696.html']\n",
      "['宁夏减灾扶贫基金会', 'http://data.foundationcenter.org.cn/content_727932.html']\n",
      "['宁夏体育事业基金会', 'http://data.foundationcenter.org.cn/content_727931.html']\n",
      "['池州市九华山慈善基金会', 'http://data.foundationcenter.org.cn/content_730505.html']\n",
      "['洛阳市格致教育发展奖励', 'http://data.foundationcenter.org.cn/content_730510.html']\n",
      "['西安美术学院教育发展基', 'http://data.foundationcenter.org.cn/content_728397.html']\n"
     ]
    }
   ],
   "source": [
    "while True:\n",
    "    trs=browser.find_elements_by_xpath('/html/body/div[3]/div[1]/div[3]/div[2]/div[5]/div[2]/div[2]/table/tbody/tr')\n",
    "    for tr in trs[2:]:\n",
    "        temp=[]\n",
    "        link=tr.find_element_by_xpath('td[2]/a').get_attribute('href')\n",
    "        institution=tr.find_element_by_xpath('td[2]/a').text\n",
    "        temp.append(institution)\n",
    "        #print(institution)\n",
    "        temp.append(link)\n",
    "        links.append(temp)\n",
    "        #print(link)\n",
    "        print(temp)\n",
    "    page=browser.find_element_by_xpath('//*[@id=\"pageIndex1\"]').text\n",
    "    if page=='298':\n",
    "        break\n",
    "    browser.find_element_by_xpath('//*[@id=\"next1\"]').click()\n",
    "    sleep(5)"
   ]
  },
  {
   "cell_type": "code",
   "execution_count": null,
   "metadata": {},
   "outputs": [],
   "source": []
  },
  {
   "cell_type": "code",
   "execution_count": null,
   "metadata": {},
   "outputs": [],
   "source": []
  },
  {
   "cell_type": "code",
   "execution_count": null,
   "metadata": {},
   "outputs": [],
   "source": []
  },
  {
   "cell_type": "code",
   "execution_count": null,
   "metadata": {},
   "outputs": [],
   "source": []
  }
 ],
 "metadata": {
  "kernelspec": {
   "display_name": "Python 3",
   "language": "python",
   "name": "python3"
  },
  "language_info": {
   "codemirror_mode": {
    "name": "ipython",
    "version": 3
   },
   "file_extension": ".py",
   "mimetype": "text/x-python",
   "name": "python",
   "nbconvert_exporter": "python",
   "pygments_lexer": "ipython3",
   "version": "3.6.5"
  }
 },
 "nbformat": 4,
 "nbformat_minor": 2
}
