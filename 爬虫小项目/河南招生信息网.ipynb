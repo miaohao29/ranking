{
 "cells": [
  {
   "cell_type": "code",
   "execution_count": 1,
   "metadata": {},
   "outputs": [],
   "source": [
    "import pandas as pd\n",
    "import numpy as np\n",
    "from selenium import webdriver #从selenium中调入webdriver\n",
    "import time"
   ]
  },
  {
   "cell_type": "code",
   "execution_count": 2,
   "metadata": {},
   "outputs": [],
   "source": [
    "browser = webdriver.Chrome('C:/Users/rk/Desktop/chromedriver.exe') #锁定浏览器\n",
    "browser.get(\"http://www.heao.com.cn/main/html/xxcx/index.aspx?ExamId=3&TypeId=2\") #访问页面"
   ]
  },
  {
   "cell_type": "code",
   "execution_count": 3,
   "metadata": {},
   "outputs": [],
   "source": [
    "browser.switch_to.default_content()"
   ]
  },
  {
   "cell_type": "code",
   "execution_count": 3,
   "metadata": {},
   "outputs": [],
   "source": [
    "browser.switch_to.frame('contentpage')"
   ]
  },
  {
   "cell_type": "code",
   "execution_count": 4,
   "metadata": {},
   "outputs": [],
   "source": [
    "browser.switch_to.frame('mainFrame')"
   ]
  },
  {
   "cell_type": "code",
   "execution_count": 34,
   "metadata": {},
   "outputs": [],
   "source": [
    "def get_datas():\n",
    "    '''获取数据'''\n",
    "#     global lis\n",
    "    tr_datas=browser.find_elements_by_xpath('//*[@id=\"yxlqqktj_table\"]/tbody/tr')\n",
    "    print(len(tr_datas))\n",
    "    for tr_data in tr_datas[2:]:\n",
    "        template=[]\n",
    "        td_datas=tr_data.find_elements_by_xpath('td')\n",
    "        for td_data in td_datas:\n",
    "            template.append(td_data.text)\n",
    "        lis.append(template)\n",
    "        print(template)"
   ]
  },
  {
   "cell_type": "code",
   "execution_count": 20,
   "metadata": {},
   "outputs": [],
   "source": [
    "# def get_next_page(flag):\n",
    "#     '''点击下一页'''\n",
    "#     pagenum=browser.find_element_by_xpath('//*[@id=\"PagesUpDown_lblPageCount\"]').text\n",
    "#     print(pagenum)\n",
    "#     if pagenum=='25/25':\n",
    "#         flag=0\n",
    "#         return flag\n",
    "#     browser.find_element_by_xpath('//*[@id=\"PagesUpDown_btnNext\"]').click()"
   ]
  },
  {
   "cell_type": "code",
   "execution_count": 83,
   "metadata": {},
   "outputs": [],
   "source": [
    "flag=1"
   ]
  },
  {
   "cell_type": "code",
   "execution_count": 36,
   "metadata": {},
   "outputs": [],
   "source": [
    "lis=[]"
   ]
  },
  {
   "cell_type": "code",
   "execution_count": 37,
   "metadata": {
    "scrolled": true
   },
   "outputs": [
    {
     "name": "stdout",
     "output_type": "stream",
     "text": [
      "17\n",
      "['[4890]北京师范大学-香港浸会大学联合国际学院', '理科', '32', '32', '594', '544', '550.3']\n",
      "['[4925]桂林电子科技大学', '理科', '94', '96', '576', '556', '559.8']\n",
      "['[5005]海南医学院', '理科', '47', '50', '573', '549', '556.7']\n",
      "['[5010]海南师范大学', '理科', '39', '45', '542', '507', '516.0']\n",
      "['[5035]重庆理工大学', '理科', '99', '103', '573', '541', '561.7']\n",
      "['[5055]重庆师范大学', '理科', '30', '32', '564', '551', '555.0']\n",
      "['[5080]四川师范大学', '理科', '37', '37', '568', '553', '556.6']\n",
      "['[5095]成都信息工程大学(原成都信息工程学院)', '理科', '47', '57', '574', '554', '559.6']\n",
      "['[5100]西华大学', '理科', '68', '68', '563', '550', '553.4']\n",
      "['[5115]西南医科大学', '理科', '40', '42', '586', '562', '568.6']\n",
      "['[5190]遵义医学院', '理科', '22', '22', '582', '551', '558.6']\n",
      "['[5230]昆明理工大学', '理科', '81', '81', '579', '509', '563.1']\n",
      "['[5400]兰州理工大学', '理科', '102', '105', '550', '509', '519.8']\n",
      "['[5410]西北师范大学', '理科', '31', '31', '574', '513', '526.7']\n",
      "['[5415]兰州交通大学', '理科', '95', '100', '592', '554', '560.9']\n",
      "song\n",
      "22/25\n",
      "17\n",
      "['[5420]甘肃中医药大学(原甘肃中医学院)', '理科', '5', '6', '549', '527', '535.2']\n",
      "['[5485]宁夏医科大学', '理科', '6', '6', '573', '559', '565.3']\n",
      "['[5590]成都学院', '理科', '30', '30', '552', '538', '540.2']\n",
      "['[5595]上海电机学院', '理科', '68', '68', '558', '540', '546.9']\n",
      "['[5610]上海政法学院', '理科', '66', '66', '589', '563', '568.4']\n",
      "['[5835]成都医学院', '理科', '10', '10', '563', '554', '558.4']\n",
      "['[5995]郑州大学(中外合作办学)', '理科', '1670', '1722', '590', '499', '553.9']\n",
      "['[6000]郑州大学', '理科', '3356', '3416', '638', '540', '594.0']\n",
      "['[6005]河南大学', '理科', '2094', '2105', '601', '561', '568.6']\n",
      "['[6006]河南大学(软件类)', '理科', '650', '666', '571', '511', '525.2']\n",
      "['[6007]河南大学(与开封大学联合办学)(就读地点：开封大学)', '理科', '40', '41', '547', '506', '515.6']\n",
      "['[6008]河南大学(与濮阳市联办濮阳工学院)', '理科', '160', '165', '550', '499', '506.2']\n",
      "['[6009]河南大学(中外合作办学)', '理科', '911', '920', '556', '518', '529.9']\n",
      "['[6010]河南农业大学', '理科', '4051', '4110', '562', '501', '511.4']\n",
      "['[6012]河南农业大学(中外合作办学)', '理科', '550', '295', '554', '479', '494.9']\n",
      "song\n",
      "23/25\n",
      "17\n",
      "['[6014]河南大学(迈阿密学院)', '理科', '75', '78', '554', '520', '529.4']\n",
      "['[6015]河南中医药大学', '理科', '2382', '2443', '594', '515', '530.5']\n",
      "['[6020]新乡医学院', '理科', '1883', '1883', '608', '539', '557.1']\n",
      "['[6025]河南科技学院', '理科', '174', '179', '535', '480', '495.1']\n",
      "['[6030]河南师范大学', '理科', '2890', '2913', '574', '521', '534.0']\n",
      "['[6075]南阳理工学院', '理科', '64', '64', '527', '502', '509.5']\n",
      "['[6080]河南财经政法大学', '理科', '1332', '1347', '588', '538', '551.7']\n",
      "['[6085]河南科技大学', '理科', '4726', '4790', '585', '499', '533.4']\n",
      "['[6090]郑州航空工业管理学院', '理科', '1409', '1419', '555', '507', '517.2']\n",
      "['[6095]华北水利水电大学', '理科', '2947', '2974', '588', '530', '541.0']\n",
      "['[6100]河南理工大学', '理科', '5462', '5481', '574', '510', '520.4']\n",
      "['[6105]河南工业大学', '理科', '2615', '2642', '566', '525', '533.0']\n",
      "['[6110]郑州轻工业学院', '理科', '1798', '1844', '555', '507', '514.9']\n",
      "['[6115]中原工学院', '理科', '1450', '1451', '539', '502', '507.3']\n",
      "['[6116]中原工学院(中原彼得堡航空学院)', '理科', '63', '46', '529', '479', '495.7']\n",
      "song\n"
     ]
    },
    {
     "ename": "KeyboardInterrupt",
     "evalue": "",
     "output_type": "error",
     "traceback": [
      "\u001b[1;31m---------------------------------------------------------------------------\u001b[0m",
      "\u001b[1;31mKeyboardInterrupt\u001b[0m                         Traceback (most recent call last)",
      "\u001b[1;32m<ipython-input-37-4ad41fcf337c>\u001b[0m in \u001b[0;36m<module>\u001b[1;34m()\u001b[0m\n\u001b[0;32m      3\u001b[0m     \u001b[0mpri\u001b[0m\u001b[1;33m(\u001b[0m\u001b[1;33m)\u001b[0m\u001b[1;33m\u001b[0m\u001b[0m\n\u001b[0;32m      4\u001b[0m     \u001b[1;31m#print(get_datas())\u001b[0m\u001b[1;33m\u001b[0m\u001b[1;33m\u001b[0m\u001b[0m\n\u001b[1;32m----> 5\u001b[1;33m     \u001b[0mtime\u001b[0m\u001b[1;33m.\u001b[0m\u001b[0msleep\u001b[0m\u001b[1;33m(\u001b[0m\u001b[1;36m5\u001b[0m\u001b[1;33m)\u001b[0m\u001b[1;33m\u001b[0m\u001b[0m\n\u001b[0m\u001b[0;32m      6\u001b[0m     \u001b[0mpagenum\u001b[0m\u001b[1;33m=\u001b[0m\u001b[0mbrowser\u001b[0m\u001b[1;33m.\u001b[0m\u001b[0mfind_element_by_xpath\u001b[0m\u001b[1;33m(\u001b[0m\u001b[1;34m'//*[@id=\"PagesUpDown_lblPageCount\"]'\u001b[0m\u001b[1;33m)\u001b[0m\u001b[1;33m.\u001b[0m\u001b[0mtext\u001b[0m\u001b[1;33m\u001b[0m\u001b[0m\n\u001b[0;32m      7\u001b[0m     \u001b[0mprint\u001b[0m\u001b[1;33m(\u001b[0m\u001b[0mpagenum\u001b[0m\u001b[1;33m)\u001b[0m\u001b[1;33m\u001b[0m\u001b[0m\n",
      "\u001b[1;31mKeyboardInterrupt\u001b[0m: "
     ]
    }
   ],
   "source": [
    "while True:\n",
    "    get_datas()\n",
    "    time.sleep(5)\n",
    "    pagenum=browser.find_element_by_xpath('//*[@id=\"PagesUpDown_lblPageCount\"]').text\n",
    "    print(pagenum)\n",
    "    if pagenum=='25/25':#根据实际更改\n",
    "        break\n",
    "    browser.find_element_by_xpath('//*[@id=\"PagesUpDown_btnNext\"]').click()\n",
    "    time.sleep(2)"
   ]
  },
  {
   "cell_type": "code",
   "execution_count": null,
   "metadata": {},
   "outputs": [],
   "source": []
  },
  {
   "cell_type": "code",
   "execution_count": null,
   "metadata": {},
   "outputs": [],
   "source": []
  },
  {
   "cell_type": "code",
   "execution_count": 38,
   "metadata": {},
   "outputs": [
    {
     "ename": "SyntaxError",
     "evalue": "unexpected EOF while parsing (<ipython-input-38-3bc09d423dc0>, line 2)",
     "output_type": "error",
     "traceback": [
      "\u001b[1;36m  File \u001b[1;32m\"<ipython-input-38-3bc09d423dc0>\"\u001b[1;36m, line \u001b[1;32m2\u001b[0m\n\u001b[1;33m    \u001b[0m\n\u001b[1;37m    ^\u001b[0m\n\u001b[1;31mSyntaxError\u001b[0m\u001b[1;31m:\u001b[0m unexpected EOF while parsing\n"
     ]
    }
   ],
   "source": [
    "if '__names__'=='__main__':\n",
    "    "
   ]
  },
  {
   "cell_type": "code",
   "execution_count": 62,
   "metadata": {},
   "outputs": [
    {
     "data": {
      "text/plain": [
       "15"
      ]
     },
     "execution_count": 62,
     "metadata": {},
     "output_type": "execute_result"
    }
   ],
   "source": [
    "len(lis)"
   ]
  },
  {
   "cell_type": "code",
   "execution_count": 43,
   "metadata": {},
   "outputs": [
    {
     "data": {
      "text/html": [
       "<div>\n",
       "<style scoped>\n",
       "    .dataframe tbody tr th:only-of-type {\n",
       "        vertical-align: middle;\n",
       "    }\n",
       "\n",
       "    .dataframe tbody tr th {\n",
       "        vertical-align: top;\n",
       "    }\n",
       "\n",
       "    .dataframe thead th {\n",
       "        text-align: right;\n",
       "    }\n",
       "</style>\n",
       "<table border=\"1\" class=\"dataframe\">\n",
       "  <thead>\n",
       "    <tr style=\"text-align: right;\">\n",
       "      <th></th>\n",
       "      <th>0</th>\n",
       "      <th>1</th>\n",
       "      <th>2</th>\n",
       "      <th>3</th>\n",
       "      <th>4</th>\n",
       "      <th>5</th>\n",
       "      <th>6</th>\n",
       "    </tr>\n",
       "  </thead>\n",
       "  <tbody>\n",
       "    <tr>\n",
       "      <th>0</th>\n",
       "      <td>[0191]中国社会科学院大学</td>\n",
       "      <td>文科</td>\n",
       "      <td>16</td>\n",
       "      <td>16</td>\n",
       "      <td>652</td>\n",
       "      <td>639</td>\n",
       "      <td>643.6</td>\n",
       "    </tr>\n",
       "    <tr>\n",
       "      <th>1</th>\n",
       "      <td>[0195]上海海关学院</td>\n",
       "      <td>文科</td>\n",
       "      <td>10</td>\n",
       "      <td>10</td>\n",
       "      <td>605</td>\n",
       "      <td>589</td>\n",
       "      <td>593.3</td>\n",
       "    </tr>\n",
       "    <tr>\n",
       "      <th>2</th>\n",
       "      <td>[1100]中央民族大学</td>\n",
       "      <td>文科</td>\n",
       "      <td>24</td>\n",
       "      <td>24</td>\n",
       "      <td>639</td>\n",
       "      <td>611</td>\n",
       "      <td>628.2</td>\n",
       "    </tr>\n",
       "    <tr>\n",
       "      <th>3</th>\n",
       "      <td>[1103]中南民族大学</td>\n",
       "      <td>文科</td>\n",
       "      <td>94</td>\n",
       "      <td>94</td>\n",
       "      <td>603</td>\n",
       "      <td>568</td>\n",
       "      <td>583.1</td>\n",
       "    </tr>\n",
       "    <tr>\n",
       "      <th>4</th>\n",
       "      <td>[1105]北京大学</td>\n",
       "      <td>文科</td>\n",
       "      <td>32</td>\n",
       "      <td>32</td>\n",
       "      <td>689</td>\n",
       "      <td>666</td>\n",
       "      <td>672.9</td>\n",
       "    </tr>\n",
       "    <tr>\n",
       "      <th>5</th>\n",
       "      <td>[1110]中国人民大学</td>\n",
       "      <td>文科</td>\n",
       "      <td>42</td>\n",
       "      <td>42</td>\n",
       "      <td>666</td>\n",
       "      <td>658</td>\n",
       "      <td>661.1</td>\n",
       "    </tr>\n",
       "    <tr>\n",
       "      <th>6</th>\n",
       "      <td>[1113]中国人民大学(苏州校区)</td>\n",
       "      <td>文科</td>\n",
       "      <td>3</td>\n",
       "      <td>3</td>\n",
       "      <td>645</td>\n",
       "      <td>639</td>\n",
       "      <td>641.3</td>\n",
       "    </tr>\n",
       "    <tr>\n",
       "      <th>7</th>\n",
       "      <td>[1115]清华大学</td>\n",
       "      <td>文科</td>\n",
       "      <td>2</td>\n",
       "      <td>2</td>\n",
       "      <td>688</td>\n",
       "      <td>670</td>\n",
       "      <td>679.0</td>\n",
       "    </tr>\n",
       "    <tr>\n",
       "      <th>8</th>\n",
       "      <td>[1120]北京交通大学</td>\n",
       "      <td>文科</td>\n",
       "      <td>5</td>\n",
       "      <td>5</td>\n",
       "      <td>637</td>\n",
       "      <td>631</td>\n",
       "      <td>633.0</td>\n",
       "    </tr>\n",
       "    <tr>\n",
       "      <th>9</th>\n",
       "      <td>[1121]北京交通大学(威海校区)</td>\n",
       "      <td>文科</td>\n",
       "      <td>5</td>\n",
       "      <td>5</td>\n",
       "      <td>601</td>\n",
       "      <td>599</td>\n",
       "      <td>599.6</td>\n",
       "    </tr>\n",
       "    <tr>\n",
       "      <th>10</th>\n",
       "      <td>[1125]东南大学</td>\n",
       "      <td>文科</td>\n",
       "      <td>16</td>\n",
       "      <td>16</td>\n",
       "      <td>646</td>\n",
       "      <td>636</td>\n",
       "      <td>638.4</td>\n",
       "    </tr>\n",
       "    <tr>\n",
       "      <th>11</th>\n",
       "      <td>[1130]复旦大学</td>\n",
       "      <td>文科</td>\n",
       "      <td>11</td>\n",
       "      <td>11</td>\n",
       "      <td>665</td>\n",
       "      <td>663</td>\n",
       "      <td>663.9</td>\n",
       "    </tr>\n",
       "    <tr>\n",
       "      <th>12</th>\n",
       "      <td>[1135]湖南大学</td>\n",
       "      <td>文科</td>\n",
       "      <td>34</td>\n",
       "      <td>34</td>\n",
       "      <td>636</td>\n",
       "      <td>630</td>\n",
       "      <td>632.6</td>\n",
       "    </tr>\n",
       "    <tr>\n",
       "      <th>13</th>\n",
       "      <td>[1140]华中科技大学</td>\n",
       "      <td>文科</td>\n",
       "      <td>42</td>\n",
       "      <td>42</td>\n",
       "      <td>640</td>\n",
       "      <td>635</td>\n",
       "      <td>636.5</td>\n",
       "    </tr>\n",
       "    <tr>\n",
       "      <th>14</th>\n",
       "      <td>[1145]吉林大学</td>\n",
       "      <td>文科</td>\n",
       "      <td>68</td>\n",
       "      <td>71</td>\n",
       "      <td>647</td>\n",
       "      <td>627</td>\n",
       "      <td>630.3</td>\n",
       "    </tr>\n",
       "  </tbody>\n",
       "</table>\n",
       "</div>"
      ],
      "text/plain": [
       "                     0   1   2   3    4    5      6\n",
       "0      [0191]中国社会科学院大学  文科  16  16  652  639  643.6\n",
       "1         [0195]上海海关学院  文科  10  10  605  589  593.3\n",
       "2         [1100]中央民族大学  文科  24  24  639  611  628.2\n",
       "3         [1103]中南民族大学  文科  94  94  603  568  583.1\n",
       "4           [1105]北京大学  文科  32  32  689  666  672.9\n",
       "5         [1110]中国人民大学  文科  42  42  666  658  661.1\n",
       "6   [1113]中国人民大学(苏州校区)  文科   3   3  645  639  641.3\n",
       "7           [1115]清华大学  文科   2   2  688  670  679.0\n",
       "8         [1120]北京交通大学  文科   5   5  637  631  633.0\n",
       "9   [1121]北京交通大学(威海校区)  文科   5   5  601  599  599.6\n",
       "10          [1125]东南大学  文科  16  16  646  636  638.4\n",
       "11          [1130]复旦大学  文科  11  11  665  663  663.9\n",
       "12          [1135]湖南大学  文科  34  34  636  630  632.6\n",
       "13        [1140]华中科技大学  文科  42  42  640  635  636.5\n",
       "14          [1145]吉林大学  文科  68  71  647  627  630.3"
      ]
     },
     "execution_count": 43,
     "metadata": {},
     "output_type": "execute_result"
    }
   ],
   "source": [
    "da=pd.DataFrame(np.array(lis))\n",
    "da.to_csv(r'C:\\Users\\rk\\Desktop\\wemke1pi.csv',index=False,encoding='GB18030')\n",
    "da"
   ]
  },
  {
   "cell_type": "code",
   "execution_count": null,
   "metadata": {},
   "outputs": [],
   "source": []
  },
  {
   "cell_type": "code",
   "execution_count": null,
   "metadata": {},
   "outputs": [],
   "source": []
  },
  {
   "cell_type": "code",
   "execution_count": 45,
   "metadata": {},
   "outputs": [
    {
     "data": {
      "text/plain": [
       "'2/25'"
      ]
     },
     "execution_count": 45,
     "metadata": {},
     "output_type": "execute_result"
    }
   ],
   "source": [
    "browser.find_element_by_xpath('//*[@id=\"PagesUpDown_lblPageCount\"]').text"
   ]
  },
  {
   "cell_type": "code",
   "execution_count": null,
   "metadata": {},
   "outputs": [],
   "source": [
    "driver.switch_to.frame(reference)#切换到定位的iframe\n",
    "driver.switch_to.parent_frame()#切换到上一级iframe\n",
    "driver.switch_to.default_content()#切回到最初的iframe"
   ]
  },
  {
   "cell_type": "code",
   "execution_count": null,
   "metadata": {},
   "outputs": [],
   "source": []
  },
  {
   "cell_type": "code",
   "execution_count": null,
   "metadata": {},
   "outputs": [],
   "source": []
  }
 ],
 "metadata": {
  "kernelspec": {
   "display_name": "Python 3",
   "language": "python",
   "name": "python3"
  },
  "language_info": {
   "codemirror_mode": {
    "name": "ipython",
    "version": 3
   },
   "file_extension": ".py",
   "mimetype": "text/x-python",
   "name": "python",
   "nbconvert_exporter": "python",
   "pygments_lexer": "ipython3",
   "version": "3.6.5"
  }
 },
 "nbformat": 4,
 "nbformat_minor": 2
}
