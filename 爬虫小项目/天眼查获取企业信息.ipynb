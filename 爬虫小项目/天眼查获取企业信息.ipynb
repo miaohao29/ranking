{
 "cells": [
  {
   "cell_type": "code",
   "execution_count": 1,
   "metadata": {},
   "outputs": [],
   "source": [
    "#_*_coding: utf-8_*_\n",
    "import pandas as pd\n",
    "import numpy as np\n",
    "from selenium import webdriver #从selenium中调入webdriver\n",
    "import time\n",
    "#from selenium.webdriver.common.keys import Keys\n",
    "import random"
   ]
  },
  {
   "cell_type": "code",
   "execution_count": 2,
   "metadata": {},
   "outputs": [],
   "source": [
    "import csv"
   ]
  },
  {
   "cell_type": "markdown",
   "metadata": {},
   "source": [
    "mbn = '18101898426'\n",
    "psw = 'qwerty123'"
   ]
  },
  {
   "cell_type": "code",
   "execution_count": null,
   "metadata": {},
   "outputs": [],
   "source": []
  },
  {
   "cell_type": "code",
   "execution_count": 3,
   "metadata": {},
   "outputs": [],
   "source": [
    "filepath=r'C:\\Users\\rk\\Desktop\\天眼查\\1.csv'"
   ]
  },
  {
   "cell_type": "code",
   "execution_count": 4,
   "metadata": {},
   "outputs": [],
   "source": [
    "data=[]\n",
    "with open(filepath,encoding='GB18030') as f:\n",
    "    reader=csv.reader(f)\n",
    "    data=list(reader)"
   ]
  },
  {
   "cell_type": "code",
   "execution_count": 5,
   "metadata": {},
   "outputs": [
    {
     "data": {
      "text/plain": [
       "4037"
      ]
     },
     "execution_count": 5,
     "metadata": {},
     "output_type": "execute_result"
    }
   ],
   "source": [
    "len(data)"
   ]
  },
  {
   "cell_type": "code",
   "execution_count": 6,
   "metadata": {},
   "outputs": [
    {
     "data": {
      "text/plain": [
       "['600351', '亚宝药业集团股份有限公司']"
      ]
     },
     "execution_count": 6,
     "metadata": {},
     "output_type": "execute_result"
    }
   ],
   "source": [
    "data[0]"
   ]
  },
  {
   "cell_type": "code",
   "execution_count": 7,
   "metadata": {},
   "outputs": [
    {
     "data": {
      "text/plain": [
       "'600351'"
      ]
     },
     "execution_count": 7,
     "metadata": {},
     "output_type": "execute_result"
    }
   ],
   "source": [
    "data[0][0]"
   ]
  },
  {
   "cell_type": "code",
   "execution_count": 8,
   "metadata": {},
   "outputs": [
    {
     "data": {
      "text/plain": [
       "'600666'"
      ]
     },
     "execution_count": 8,
     "metadata": {},
     "output_type": "execute_result"
    }
   ],
   "source": [
    "data[1][0]"
   ]
  },
  {
   "cell_type": "code",
   "execution_count": 190,
   "metadata": {},
   "outputs": [],
   "source": [
    "browser = webdriver.Chrome('C:/Users/rk/Desktop/chromedriver.exe') #锁定浏览器\n",
    "browser.get(\"https://www.tianyancha.com/\") #访问页面"
   ]
  },
  {
   "cell_type": "code",
   "execution_count": 232,
   "metadata": {},
   "outputs": [],
   "source": []
  },
  {
   "cell_type": "code",
   "execution_count": 219,
   "metadata": {},
   "outputs": [],
   "source": [
    "Company_code=data[1][0].strip()\n",
    "Company_name=data[1][1].strip()\n",
    "\n",
    "Inputing.send_keys(Company_code)"
   ]
  },
  {
   "cell_type": "code",
   "execution_count": 218,
   "metadata": {},
   "outputs": [
    {
     "name": "stdout",
     "output_type": "stream",
     "text": [
      "600351 亚宝药业集团股份有限公司\n"
     ]
    }
   ],
   "source": [
    "print(Company_code,Company_name)"
   ]
  },
  {
   "cell_type": "code",
   "execution_count": 221,
   "metadata": {},
   "outputs": [],
   "source": [
    "def Input_name(browser, Inputing, Company_code, Company_name):\n",
    "    print(4)\n",
    "    Inputing.send_keys(Company_code)\n",
    "    time.sleep(1.5)\n",
    "    \n",
    "    #查询该公司，并打开网址\n",
    "    Search_list = browser.find_elements_by_xpath('//*[@id=\"web-content\"]/div/div[1]/div[2]/div/div/div[2]/div[2]/div[1]/form/div/ul/li')\n",
    "    for search in Search_list:\n",
    "        if Company_name in search.text:\n",
    "            search.click()\n",
    "            time.sleep(1)\n",
    "            break\n",
    "    \n",
    "    #如果公司代码无效，则输入公司名：\n",
    "    if len(browser.window_handles) != 2:\n",
    "        Inputing.clear()\n",
    "        \n",
    "        Inputing.send_keys(Company_name)\n",
    "        time.sleep(1.5)\n",
    "        \n",
    "        Search_list = browser.find_elements_by_xpath('//*[@id=\"web-content\"]/div/div[1]/div[2]/div/div/div[2]/div[2]/div[1]/form/div/ul/li')\n",
    "        for search in Search_list:\n",
    "            if Company_name in search.text:\n",
    "                search.click()\n",
    "                time.sleep(1)\n",
    "                break"
   ]
  },
  {
   "cell_type": "code",
   "execution_count": 233,
   "metadata": {},
   "outputs": [
    {
     "name": "stdout",
     "output_type": "stream",
     "text": [
      "4\n"
     ]
    }
   ],
   "source": [
    "Input_name(browser, Inputing, Company_code, Company_name)"
   ]
  },
  {
   "cell_type": "code",
   "execution_count": 234,
   "metadata": {},
   "outputs": [],
   "source": [
    "allwindows=browser.window_handles                                      #获取所有窗口句柄\n",
    "browser.switch_to.window(allwindows[-1])                                #切换到最新窗口"
   ]
  },
  {
   "cell_type": "code",
   "execution_count": 226,
   "metadata": {},
   "outputs": [],
   "source": [
    "browser.close()                                                         #关闭当前窗口"
   ]
  },
  {
   "cell_type": "code",
   "execution_count": null,
   "metadata": {},
   "outputs": [],
   "source": []
  },
  {
   "cell_type": "markdown",
   "metadata": {},
   "source": [
    "查找董事长、总经理"
   ]
  },
  {
   "cell_type": "code",
   "execution_count": 240,
   "metadata": {
    "scrolled": true
   },
   "outputs": [
    {
     "data": {
      "text/plain": [
       "'任武贤'"
      ]
     },
     "execution_count": 240,
     "metadata": {},
     "output_type": "execute_result"
    }
   ],
   "source": [
    "chair=browser.find_element_by_xpath('//*[@id=\"nav-main-stockNum\"]/div[2]/table/tbody/tr[5]/td[2]/a').text  #董事长\n",
    "ceo=browser.find_element_by_xpath('//*[@id=\"nav-main-stockNum\"]/div[2]/table/tbody/tr[6]/td[4]/a').text  #总经理"
   ]
  },
  {
   "cell_type": "code",
   "execution_count": null,
   "metadata": {},
   "outputs": [],
   "source": []
  },
  {
   "cell_type": "markdown",
   "metadata": {},
   "source": [
    "查找财务高管"
   ]
  },
  {
   "cell_type": "code",
   "execution_count": 285,
   "metadata": {},
   "outputs": [],
   "source": [
    "def current_accounting():\n",
    "    '''查找当前页面职位是财务的高管'''\n",
    "    seniors=browser.find_elements_by_xpath('//*[@id=\"_container_seniorPeople\"]/table/tbody/tr')\n",
    "    for senior in seniors:\n",
    "        if '财务' in senior.text:\n",
    "            name=senior.find_element_by_xpath('td[2]/table/tbody/tr/td[2]/a').text  #姓名\n",
    "            position=senior.find_element_by_xpath('td[3]').text                     #职位\n",
    "            edu=senior.find_element_by_xpath('td[6]').text                          #学历\n",
    "            print(name,position,edu)"
   ]
  },
  {
   "cell_type": "code",
   "execution_count": 287,
   "metadata": {},
   "outputs": [
    {
     "name": "stdout",
     "output_type": "stream",
     "text": [
      "左哲峰 财务总监 本科\n"
     ]
    }
   ],
   "source": [
    "current_accounting()"
   ]
  },
  {
   "cell_type": "markdown",
   "metadata": {},
   "source": [
    "翻页"
   ]
  },
  {
   "cell_type": "code",
   "execution_count": 283,
   "metadata": {},
   "outputs": [],
   "source": [
    "def next_page():\n",
    "    '''翻页'''\n",
    "    Change_page = browser.find_elements_by_xpath('//*[@id=\"_container_seniorPeople\"]/div/ul/li')#获取页码列表\n",
    "    if Change_page[-1].text == '>':\n",
    "        Change_page[-1].click()\n",
    "        time.sleep(2)"
   ]
  },
  {
   "cell_type": "code",
   "execution_count": 284,
   "metadata": {},
   "outputs": [],
   "source": [
    "next_page()"
   ]
  },
  {
   "cell_type": "code",
   "execution_count": 288,
   "metadata": {},
   "outputs": [
    {
     "data": {
      "text/plain": [
       "'https://www.tianyancha.com/company/689086'"
      ]
     },
     "execution_count": 288,
     "metadata": {},
     "output_type": "execute_result"
    }
   ],
   "source": [
    "browser.current_url#当前页面的网址"
   ]
  },
  {
   "cell_type": "code",
   "execution_count": null,
   "metadata": {},
   "outputs": [],
   "source": [
    "for item in data[counter:]:\n",
    "    Inputing=browser.find_element_by_xpath('//*[@id=\"home-main-search\"]')\n",
    "    Inputing.clear()\n",
    "    Company_code=data[1][0].strip()\n",
    "    Company_name=data[1][1].strip()\n",
    "\n",
    "    Inputing.send_keys(Company_code)"
   ]
  },
  {
   "cell_type": "code",
   "execution_count": null,
   "metadata": {},
   "outputs": [],
   "source": []
  },
  {
   "cell_type": "code",
   "execution_count": null,
   "metadata": {},
   "outputs": [],
   "source": []
  },
  {
   "cell_type": "code",
   "execution_count": null,
   "metadata": {},
   "outputs": [],
   "source": []
  },
  {
   "cell_type": "code",
   "execution_count": null,
   "metadata": {},
   "outputs": [],
   "source": []
  },
  {
   "cell_type": "code",
   "execution_count": null,
   "metadata": {},
   "outputs": [],
   "source": []
  },
  {
   "cell_type": "code",
   "execution_count": null,
   "metadata": {},
   "outputs": [],
   "source": []
  },
  {
   "cell_type": "code",
   "execution_count": null,
   "metadata": {},
   "outputs": [],
   "source": []
  },
  {
   "cell_type": "code",
   "execution_count": null,
   "metadata": {},
   "outputs": [],
   "source": []
  },
  {
   "cell_type": "code",
   "execution_count": null,
   "metadata": {},
   "outputs": [],
   "source": []
  }
 ],
 "metadata": {
  "kernelspec": {
   "display_name": "Python 3",
   "language": "python",
   "name": "python3"
  },
  "language_info": {
   "codemirror_mode": {
    "name": "ipython",
    "version": 3
   },
   "file_extension": ".py",
   "mimetype": "text/x-python",
   "name": "python",
   "nbconvert_exporter": "python",
   "pygments_lexer": "ipython3",
   "version": "3.6.5"
  }
 },
 "nbformat": 4,
 "nbformat_minor": 2
}
