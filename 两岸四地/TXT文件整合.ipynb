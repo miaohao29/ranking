{
 "cells": [
  {
   "cell_type": "code",
   "execution_count": 1,
   "metadata": {},
   "outputs": [],
   "source": [
    "import csv,os\n",
    "import pandas as pd\n",
    "import numpy as np"
   ]
  },
  {
   "cell_type": "code",
   "execution_count": 10,
   "metadata": {},
   "outputs": [],
   "source": [
    "Folder_Path =r'C:\\Users\\rk\\Downloads\\all'        #要拼接的文件夹及其完整路径，注意不要包含中文\n",
    "SaveFile_Path =  r'C:\\Users\\rk\\Downloads\\allresult'       #拼接后要保存的文件路径\n",
    "SaveFile_Name = r'all.csv'              #合并后要保存的文件名\n",
    " \n",
    "    #修改当前工作目录\n",
    "os.chdir(Folder_Path)\n",
    "#将该文件夹下的所有文件名存入一个列表\n",
    "file_list = os.listdir() "
   ]
  },
  {
   "cell_type": "code",
   "execution_count": 11,
   "metadata": {},
   "outputs": [
    {
     "data": {
      "text/plain": [
       "['东北农业大学3.txt',\n",
       " '南京中医药大学4.txt',\n",
       " '国立东华大学6.txt',\n",
       " '国立暨南国际大学7.txt',\n",
       " '大连海事大学2.txt',\n",
       " '天津中医药大学5.txt',\n",
       " '河北工业大学1.txt']"
      ]
     },
     "execution_count": 11,
     "metadata": {},
     "output_type": "execute_result"
    }
   ],
   "source": [
    "file_list"
   ]
  },
  {
   "cell_type": "code",
   "execution_count": 12,
   "metadata": {},
   "outputs": [
    {
     "data": {
      "text/plain": [
       "'东北农业大学3.txt'"
      ]
     },
     "execution_count": 12,
     "metadata": {},
     "output_type": "execute_result"
    }
   ],
   "source": [
    "file_list[0]"
   ]
  },
  {
   "cell_type": "code",
   "execution_count": 52,
   "metadata": {},
   "outputs": [],
   "source": [
    "#读入csv中的数据，（导入检索式）\n",
    "a = []\n",
    "csv_reader=csv.reader(open(Folder_Path +'\\\\'+ file_list[i],encoding=\"utf-8\"))#打开第一个文件\n",
    "for row in csv_reader:\n",
    "    a.append(row)"
   ]
  },
  {
   "cell_type": "code",
   "execution_count": 56,
   "metadata": {},
   "outputs": [],
   "source": [
    "c=np.array(a)"
   ]
  },
  {
   "cell_type": "code",
   "execution_count": 59,
   "metadata": {},
   "outputs": [
    {
     "data": {
      "text/html": [
       "<div>\n",
       "<style scoped>\n",
       "    .dataframe tbody tr th:only-of-type {\n",
       "        vertical-align: middle;\n",
       "    }\n",
       "\n",
       "    .dataframe tbody tr th {\n",
       "        vertical-align: top;\n",
       "    }\n",
       "\n",
       "    .dataframe thead th {\n",
       "        text-align: right;\n",
       "    }\n",
       "</style>\n",
       "<table border=\"1\" class=\"dataframe\">\n",
       "  <thead>\n",
       "    <tr style=\"text-align: right;\">\n",
       "      <th></th>\n",
       "      <th>0</th>\n",
       "    </tr>\n",
       "  </thead>\n",
       "  <tbody>\n",
       "    <tr>\n",
       "      <th>0</th>\n",
       "      <td>[﻿PT\\tAU\\tBA\\tBE\\tGP\\tAF\\tBF\\tCA\\tTI\\tSO\\tSE\\t...</td>\n",
       "    </tr>\n",
       "    <tr>\n",
       "      <th>1</th>\n",
       "      <td>[J\\tTian,  YJ; Xu,  B; Yu,  DL; Ma,  YM; Wang,...</td>\n",
       "    </tr>\n",
       "  </tbody>\n",
       "</table>\n",
       "</div>"
      ],
      "text/plain": [
       "                                                   0\n",
       "0  [﻿PT\\tAU\\tBA\\tBE\\tGP\\tAF\\tBF\\tCA\\tTI\\tSO\\tSE\\t...\n",
       "1  [J\\tTian,  YJ; Xu,  B; Yu,  DL; Ma,  YM; Wang,..."
      ]
     },
     "execution_count": 59,
     "metadata": {},
     "output_type": "execute_result"
    }
   ],
   "source": [
    "pd.DataFrame(c)"
   ]
  },
  {
   "cell_type": "code",
   "execution_count": 48,
   "metadata": {},
   "outputs": [],
   "source": [
    "#循环遍历列表中各个CSV文件名，并追加到合并后的文件\n",
    "for i in range(1,len(file_list)):\n",
    "    e=[]\n",
    "    csv_reader=csv.reader(open(Folder_Path +'\\\\'+ file_list[i],encoding=\"utf-8\"))\n",
    "    for row in csv_reader:\n",
    "        e.append(row)#将读入的数据赋值给列表b\n",
    "        e.append(file_list[i])\n",
    "    del e[0]    \n",
    "    for row in e:\n",
    "        a.append(row)#将文件拼接到第一个文件后"
   ]
  },
  {
   "cell_type": "code",
   "execution_count": 49,
   "metadata": {},
   "outputs": [
    {
     "data": {
      "text/html": [
       "<div>\n",
       "<style scoped>\n",
       "    .dataframe tbody tr th:only-of-type {\n",
       "        vertical-align: middle;\n",
       "    }\n",
       "\n",
       "    .dataframe tbody tr th {\n",
       "        vertical-align: top;\n",
       "    }\n",
       "\n",
       "    .dataframe thead th {\n",
       "        text-align: right;\n",
       "    }\n",
       "</style>\n",
       "<table border=\"1\" class=\"dataframe\">\n",
       "  <thead>\n",
       "    <tr style=\"text-align: right;\">\n",
       "      <th></th>\n",
       "      <th>0</th>\n",
       "    </tr>\n",
       "  </thead>\n",
       "  <tbody>\n",
       "    <tr>\n",
       "      <th>0</th>\n",
       "      <td>[﻿PT\\tAU\\tBA\\tBE\\tGP\\tAF\\tBF\\tCA\\tTI\\tSO\\tSE\\t...</td>\n",
       "    </tr>\n",
       "    <tr>\n",
       "      <th>1</th>\n",
       "      <td>东北农业大学3.txt</td>\n",
       "    </tr>\n",
       "    <tr>\n",
       "      <th>2</th>\n",
       "      <td>[J\\tTian,  YJ; Xu,  B; Yu,  DL; Ma,  YM; Wang,...</td>\n",
       "    </tr>\n",
       "    <tr>\n",
       "      <th>3</th>\n",
       "      <td>东北农业大学3.txt</td>\n",
       "    </tr>\n",
       "    <tr>\n",
       "      <th>4</th>\n",
       "      <td>南京中医药大学4.txt</td>\n",
       "    </tr>\n",
       "    <tr>\n",
       "      <th>5</th>\n",
       "      <td>[J\\tZhu,  JP; Vinothkumar,  KR; Hirst,  J\\t\\t\\...</td>\n",
       "    </tr>\n",
       "    <tr>\n",
       "      <th>6</th>\n",
       "      <td>南京中医药大学4.txt</td>\n",
       "    </tr>\n",
       "    <tr>\n",
       "      <th>7</th>\n",
       "      <td>国立东华大学6.txt</td>\n",
       "    </tr>\n",
       "    <tr>\n",
       "      <th>8</th>\n",
       "      <td>[J\\tLaManna,  JA; Mangan,  SA; Alonso,  A; Bou...</td>\n",
       "    </tr>\n",
       "    <tr>\n",
       "      <th>9</th>\n",
       "      <td>国立东华大学6.txt</td>\n",
       "    </tr>\n",
       "    <tr>\n",
       "      <th>10</th>\n",
       "      <td>[J\\tKunstler,  G; Falster,  D; Coomes,  DA; Hu...</td>\n",
       "    </tr>\n",
       "    <tr>\n",
       "      <th>11</th>\n",
       "      <td>国立东华大学6.txt</td>\n",
       "    </tr>\n",
       "    <tr>\n",
       "      <th>12</th>\n",
       "      <td>[J\\tStephenson,  NL; Das,  AJ; Condit,  R; Rus...</td>\n",
       "    </tr>\n",
       "    <tr>\n",
       "      <th>13</th>\n",
       "      <td>国立东华大学6.txt</td>\n",
       "    </tr>\n",
       "    <tr>\n",
       "      <th>14</th>\n",
       "      <td>国立暨南国际大学7.txt</td>\n",
       "    </tr>\n",
       "    <tr>\n",
       "      <th>15</th>\n",
       "      <td>[J\\tLin,  HH; Chu,  LA; Fu,  TF; Dickson,  BJ;...</td>\n",
       "    </tr>\n",
       "    <tr>\n",
       "      <th>16</th>\n",
       "      <td>国立暨南国际大学7.txt</td>\n",
       "    </tr>\n",
       "    <tr>\n",
       "      <th>17</th>\n",
       "      <td>大连海事大学2.txt</td>\n",
       "    </tr>\n",
       "    <tr>\n",
       "      <th>18</th>\n",
       "      <td>[J\\tShungin,  D; Winkler,  TW; Croteau-Chonka,...</td>\n",
       "    </tr>\n",
       "    <tr>\n",
       "      <th>19</th>\n",
       "      <td>大连海事大学2.txt</td>\n",
       "    </tr>\n",
       "    <tr>\n",
       "      <th>20</th>\n",
       "      <td>[J\\tLocke,  AE; Kahali,  B; Berndt,  SI; Justi...</td>\n",
       "    </tr>\n",
       "    <tr>\n",
       "      <th>21</th>\n",
       "      <td>大连海事大学2.txt</td>\n",
       "    </tr>\n",
       "    <tr>\n",
       "      <th>22</th>\n",
       "      <td>天津中医药大学5.txt</td>\n",
       "    </tr>\n",
       "    <tr>\n",
       "      <th>23</th>\n",
       "      <td>[J\\tChen,  SY; Zhu,  B; Yin,  CQ; Liu,  W; Han...</td>\n",
       "    </tr>\n",
       "    <tr>\n",
       "      <th>24</th>\n",
       "      <td>天津中医药大学5.txt</td>\n",
       "    </tr>\n",
       "    <tr>\n",
       "      <th>25</th>\n",
       "      <td>河北工业大学1.txt</td>\n",
       "    </tr>\n",
       "    <tr>\n",
       "      <th>26</th>\n",
       "      <td>[J\\tTian,  YJ; Xu,  B; Yu,  DL; Ma,  YM; Wang,...</td>\n",
       "    </tr>\n",
       "    <tr>\n",
       "      <th>27</th>\n",
       "      <td>河北工业大学1.txt</td>\n",
       "    </tr>\n",
       "  </tbody>\n",
       "</table>\n",
       "</div>"
      ],
      "text/plain": [
       "                                                    0\n",
       "0   [﻿PT\\tAU\\tBA\\tBE\\tGP\\tAF\\tBF\\tCA\\tTI\\tSO\\tSE\\t...\n",
       "1                                         东北农业大学3.txt\n",
       "2   [J\\tTian,  YJ; Xu,  B; Yu,  DL; Ma,  YM; Wang,...\n",
       "3                                         东北农业大学3.txt\n",
       "4                                        南京中医药大学4.txt\n",
       "5   [J\\tZhu,  JP; Vinothkumar,  KR; Hirst,  J\\t\\t\\...\n",
       "6                                        南京中医药大学4.txt\n",
       "7                                         国立东华大学6.txt\n",
       "8   [J\\tLaManna,  JA; Mangan,  SA; Alonso,  A; Bou...\n",
       "9                                         国立东华大学6.txt\n",
       "10  [J\\tKunstler,  G; Falster,  D; Coomes,  DA; Hu...\n",
       "11                                        国立东华大学6.txt\n",
       "12  [J\\tStephenson,  NL; Das,  AJ; Condit,  R; Rus...\n",
       "13                                        国立东华大学6.txt\n",
       "14                                      国立暨南国际大学7.txt\n",
       "15  [J\\tLin,  HH; Chu,  LA; Fu,  TF; Dickson,  BJ;...\n",
       "16                                      国立暨南国际大学7.txt\n",
       "17                                        大连海事大学2.txt\n",
       "18  [J\\tShungin,  D; Winkler,  TW; Croteau-Chonka,...\n",
       "19                                        大连海事大学2.txt\n",
       "20  [J\\tLocke,  AE; Kahali,  B; Berndt,  SI; Justi...\n",
       "21                                        大连海事大学2.txt\n",
       "22                                       天津中医药大学5.txt\n",
       "23  [J\\tChen,  SY; Zhu,  B; Yin,  CQ; Liu,  W; Han...\n",
       "24                                       天津中医药大学5.txt\n",
       "25                                        河北工业大学1.txt\n",
       "26  [J\\tTian,  YJ; Xu,  B; Yu,  DL; Ma,  YM; Wang,...\n",
       "27                                        河北工业大学1.txt"
      ]
     },
     "execution_count": 49,
     "metadata": {},
     "output_type": "execute_result"
    }
   ],
   "source": [
    "result=pd.DataFrame(np.array(a))#将pd.DataFrame(np.array(myarray))写入list\n",
    "result.to_csv(\"C:/Users/rk/Desktop/papernum6.csv\",index=False,encoding='ANSI')\n",
    "result"
   ]
  },
  {
   "cell_type": "code",
   "execution_count": null,
   "metadata": {},
   "outputs": [],
   "source": []
  }
 ],
 "metadata": {
  "kernelspec": {
   "display_name": "Python 3",
   "language": "python",
   "name": "python3"
  },
  "language_info": {
   "codemirror_mode": {
    "name": "ipython",
    "version": 3
   },
   "file_extension": ".py",
   "mimetype": "text/x-python",
   "name": "python",
   "nbconvert_exporter": "python",
   "pygments_lexer": "ipython3",
   "version": "3.6.5"
  }
 },
 "nbformat": 4,
 "nbformat_minor": 2
}
