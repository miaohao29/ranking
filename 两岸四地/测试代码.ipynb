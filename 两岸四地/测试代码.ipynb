{
 "cells": [
  {
   "cell_type": "code",
   "execution_count": 1,
   "metadata": {},
   "outputs": [],
   "source": [
    "import os\n",
    "import re\n",
    "import pandas as pd,numpy as np #这一部分好像没有用到pandas"
   ]
  },
  {
   "cell_type": "code",
   "execution_count": 2,
   "metadata": {},
   "outputs": [],
   "source": [
    "Folder_Path=r'C:\\Users\\rk\\Downloads\\allN&S'        \n",
    "os.chdir(Folder_Path)\n",
    "#将该文件夹下的所有文件名存入一个列表\n",
    "file_list = os.listdir() "
   ]
  },
  {
   "cell_type": "code",
   "execution_count": 3,
   "metadata": {},
   "outputs": [
    {
     "data": {
      "text/plain": [
       "['上海中医药大学59.txt',\n",
       " '上海交通大学5.txt',\n",
       " '上海大学36.txt',\n",
       " '东北农业大学52.txt',\n",
       " '东华大学（花莲）70.txt',\n",
       " '东南大学14.txt',\n",
       " '东海大学77.txt',\n",
       " '中兴大学64.txt',\n",
       " '中原大学72.txt',\n",
       " '中国人民大学20.txt',\n",
       " '中国政法大学44.txt',\n",
       " '中国石油大学（北京）22.txt',\n",
       " '中国矿业大学35.txt',\n",
       " '中国科学技术大学4.txt',\n",
       " '中央大学66.txt',\n",
       " '中央民族大学45.txt',\n",
       " '中山大学（广州）9.txt',\n",
       " '中山大学（高雄）67.txt',\n",
       " '交通大学（新竹）65.txt',\n",
       " '元智大学73.txt',\n",
       " '兰州大学25.txt',\n",
       " '北京中医药大学26.txt',\n",
       " '北京交通大学30.txt',\n",
       " '北京大学2.txt',\n",
       " '北京师范大学7.txt',\n",
       " '北京林业大学39.txt',\n",
       " '北京航空航天大学16.txt',\n",
       " '华东师范大学23.txt',\n",
       " '华中农业大学31.txt',\n",
       " '华中师范大学34.txt',\n",
       " '华中科技大学10.txt',\n",
       " '华南理工大学19.txt',\n",
       " '南京中医药大学57.txt',\n",
       " '南京农业大学28.txt',\n",
       " '南京大学8.txt',\n",
       " '南京师范大学38.txt',\n",
       " '南开大学17.txt',\n",
       " '台北医学大学75.txt',\n",
       " '台湾大学61.txt',\n",
       " '台湾师范大学62.txt',\n",
       " '台湾海洋大学68.txt',\n",
       " '合肥工业大学49.txt',\n",
       " '同济大学13.txt',\n",
       " '哈尔滨工业大学12.txt',\n",
       " '哈尔滨工程大学33.txt',\n",
       " '四川农业大学54.txt',\n",
       " '四川大学18.txt',\n",
       " '复旦大学6.txt',\n",
       " '大连海事大学50.txt',\n",
       " '天津医科大学27.txt',\n",
       " '天津大学15.txt',\n",
       " '宁波大学58.txt',\n",
       " '广州中医药大学56.txt',\n",
       " '成功大学63.txt',\n",
       " '暨南国际大学76.txt',\n",
       " '暨南大学40.txt',\n",
       " '武汉大学11.txt',\n",
       " '武汉理工大学42.txt',\n",
       " '河北工业大学46.txt',\n",
       " '河海大学41.txt',\n",
       " '浙江大学3.txt',\n",
       " '海南大学55.txt',\n",
       " '清华大学（北京）1.txt',\n",
       " '湖南大学29.txt',\n",
       " '湖南师范大学48.txt',\n",
       " '澳门科技大学82.txt',\n",
       " '电子科技大学24.txt',\n",
       " '苏州大学21.txt',\n",
       " '西北大学37.txt',\n",
       " '贵州大学53.txt',\n",
       " '辅仁大学71.txt',\n",
       " '郑州大学51.txt',\n",
       " '重庆大学32.txt',\n",
       " '长安大学47.txt',\n",
       " '阳明大学69.txt',\n",
       " '陕西师范大学43.txt',\n",
       " '首都师范大学60.txt',\n",
       " '香港城市大学78.txt',\n",
       " '香港大学79.txt',\n",
       " '香港浸会大学80.txt',\n",
       " '香港理工大学81.txt',\n",
       " '高雄医学大学74.txt']"
      ]
     },
     "execution_count": 3,
     "metadata": {},
     "output_type": "execute_result"
    }
   ],
   "source": [
    "file_list"
   ]
  },
  {
   "cell_type": "code",
   "execution_count": 7,
   "metadata": {},
   "outputs": [
    {
     "name": "stdout",
     "output_type": "stream",
     "text": [
      "['上海中医药大学\\t', '\\ufeffPT\\tAU\\tBA\\tBE\\tGP\\tAF\\tBF\\tCA\\tTI\\tSO\\tSE\\tBS\\tLA\\tDT\\tCT\\tCY\\tCL\\tSP\\tHO\\tDE\\tID\\tAB\\tC1\\tRP\\tEM\\tRI\\tOI\\tFU\\tFX\\tCR\\tNR\\tTC\\tZ9\\tU1\\tU2\\tPU\\tPI\\tPA\\tSN\\tEI\\tBN\\tJ9\\tJI\\tPD\\tPY\\tVL\\tIS\\tPN\\tSU\\tSI\\tMA\\tBP\\tEP\\tAR\\tDI\\tD2\\tEA\\tEY\\tPG\\tWC\\tSC\\tGA\\tUT\\tPM\\tOA\\tHC\\tHP\\tDA\\n', '上海中医药大学\\t', 'J\\tJia, W; Fan, TP; Wang, XN; Xie, GX\\t\\t\\t\\tJia, Wei; Fan, Tai-ping; Wang, Xiaoning; Xie, Guoxiang\\t\\t\\tThe polypharmacokinetics of herbal medicines\\tSCIENCE\\t\\t\\tEnglish\\tEditorial Material\\t\\t\\t\\t\\t\\t\\tSTRATEGY; MICROBIOTA; LICORICE; RATS; TEA\\t\\t[Jia, Wei] Shanghai Jiao Tong Univ, Affiliated Peoples Hosp 6, Dept Endocrinol & Metab, Shanghai Key Lab Diabet Mellitus, Shanghai 200030, Peoples R China; [Jia, Wei] Shanghai Jiao Tong Univ, Affiliated Peoples Hosp 6, Dept Endocrinol & Metab, Ctr Translat Med, Shanghai 200030, Peoples R China; [Jia, Wei; Xie, Guoxiang] Univ Hawaii, Ctr Canc, Honolulu, HI 96822 USA; [Jia, Wei; Wang, Xiaoning] Shanghai Univ Tradit Chinese Med, E Inst, Shanghai Municipal Educ Comm, Shanghai, Peoples R China; [Fan, Tai-ping] Univ Cambridge, Dept Pharmacol, Angiogenesis & Tradit Chinese Med Lab, Cambridge CB2 1QJ, England\\tJia, W (reprint author), Shanghai Jiao Tong Univ, Affiliated Peoples Hosp 6, Dept Endocrinol & Metab, Shanghai Key Lab Diabet Mellitus, Shanghai 200030, Peoples R China.\\twjia@cc.hawaii.edu\\tXie, Guoxiang/F-3022-2016\\tXie, Guoxiang/0000-0002-0951-4150\\t\\t\\t\\t15\\t8\\t8\\t5\\t39\\tAMER ASSOC ADVANCEMENT SCIENCE\\tWASHINGTON\\t1200 NEW YORK AVE, NW, WASHINGTON, DC 20005 USA\\t0036-8075\\t1095-9203\\t\\tSCIENCE\\tScience\\tNOV 13\\t2015\\t350\\t6262\\t\\t\\t\\t\\tS76\\tS79\\t\\t\\t\\t\\t\\t4\\tMultidisciplinary Sciences\\tScience & Technology - Other Topics\\tCW3MS\\tWOS:000364897000059\\t\\t\\t\\t\\t2018-11-20\\t\\n']\n"
     ]
    }
   ],
   "source": [
    "a=[]\n",
    "with (open(Folder_Path +'\\\\'+ file_list[0],encoding='utf-8')) as f:\n",
    "    z=re.sub(r'.txt','',re.sub(r\"[0-9][0-9]*\",\"\",file_list[0]))#sub 应该是替换函数，用空替换掉所选择的字符\n",
    "    for li in f:\n",
    "        a.append(z+'\\t')\n",
    "        a.append(li)\n",
    "print(a)"
   ]
  },
  {
   "cell_type": "code",
   "execution_count": null,
   "metadata": {},
   "outputs": [],
   "source": [
    "for fi in file_list[1:]:\n",
    "    b=[]\n",
    "    c=[]#新增加个列表是因为文件只能写入字符串，列表不可以\n",
    "    with (open(Folder_Path +'\\\\'+ fi,encoding='utf-8')) as f:\n",
    "        z=re.sub(r'.txt','',re.sub(r\"[0-9][0-9]*\",\"\",fi))#sub 应该是替换函数，用空替换掉所选择的字符\n",
    "        print(z)\n",
    "        for lin in f:\n",
    "            b.append(z+'\\t')#增加了学校名称\n",
    "            b.append(lin)\n",
    "        for lins in b[1:]:#过滤掉之前增加的学校名称\n",
    "            c.append(lins)\n",
    "    print(len(b))\n",
    "    print('before del:',c[0])\n",
    "    del c[0]#之前只过滤掉学校名称，第一行还存在\n",
    "    print(len(c))\n",
    "    print('after del:',c[0])\n",
    "    a.extend(c)"
   ]
  },
  {
   "cell_type": "code",
   "execution_count": null,
   "metadata": {},
   "outputs": [],
   "source": [
    "file=open('N&S3.txt','w',encoding='utf-8') \n",
    "file.writelines(a) \n",
    "file.close() "
   ]
  }
 ],
 "metadata": {
  "kernelspec": {
   "display_name": "Python 3",
   "language": "python",
   "name": "python3"
  },
  "language_info": {
   "codemirror_mode": {
    "name": "ipython",
    "version": 3
   },
   "file_extension": ".py",
   "mimetype": "text/x-python",
   "name": "python",
   "nbconvert_exporter": "python",
   "pygments_lexer": "ipython3",
   "version": "3.6.5"
  }
 },
 "nbformat": 4,
 "nbformat_minor": 2
}
