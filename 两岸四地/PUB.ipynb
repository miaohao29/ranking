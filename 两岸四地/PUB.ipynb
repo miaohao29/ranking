{
 "cells": [
  {
   "cell_type": "code",
   "execution_count": 1,
   "metadata": {},
   "outputs": [],
   "source": [
    "from selenium import webdriver\n",
    "from selenium.webdriver.common.keys import Keys\n",
    "import numpy as np, pandas as pd\n",
    "import csv\n",
    "import random\n",
    "import time"
   ]
  },
  {
   "cell_type": "code",
   "execution_count": 59,
   "metadata": {},
   "outputs": [],
   "source": [
    "#读入csv中的数据，（导入检索式）\n",
    "a = []\n",
    "csv_reader=csv.reader(open(r'C:\\Users\\rk\\Desktop\\woschengxu.csv'))"
   ]
  },
  {
   "cell_type": "code",
   "execution_count": 60,
   "metadata": {},
   "outputs": [],
   "source": [
    "for row in csv_reader:\n",
    "    a.append(row)#将读入的数据赋值给列表a"
   ]
  },
  {
   "cell_type": "code",
   "execution_count": 61,
   "metadata": {},
   "outputs": [
    {
     "data": {
      "text/plain": [
       "['两岸四地代码', '中文校名', '2019WOS关键词-最终整合结果']"
      ]
     },
     "execution_count": 61,
     "metadata": {},
     "output_type": "execute_result"
    }
   ],
   "source": [
    "a[0]"
   ]
  },
  {
   "cell_type": "code",
   "execution_count": 62,
   "metadata": {},
   "outputs": [],
   "source": [
    "del a[0]"
   ]
  },
  {
   "cell_type": "code",
   "execution_count": 63,
   "metadata": {},
   "outputs": [
    {
     "data": {
      "text/plain": [
       "['GC01086', '河北工业大学', 'Hebei Univ Technol same China']"
      ]
     },
     "execution_count": 63,
     "metadata": {},
     "output_type": "execute_result"
    }
   ],
   "source": [
    "a[0]"
   ]
  },
  {
   "cell_type": "code",
   "execution_count": null,
   "metadata": {},
   "outputs": [],
   "source": []
  },
  {
   "cell_type": "code",
   "execution_count": null,
   "metadata": {},
   "outputs": [],
   "source": []
  },
  {
   "cell_type": "code",
   "execution_count": 7,
   "metadata": {},
   "outputs": [],
   "source": [
    "browser = webdriver.Chrome('C:/Users/rk/Desktop/chromedriver.exe') #锁定浏览器"
   ]
  },
  {
   "cell_type": "code",
   "execution_count": 8,
   "metadata": {},
   "outputs": [],
   "source": [
    "browser.get(\"http://apps.webofknowledge.com/WOS_AdvancedSearch_input.do?SID=8C9kMSmGMOxhUmzkoJL&product=WOS&search_mode=AdvancedSearch\")"
   ]
  },
  {
   "cell_type": "code",
   "execution_count": null,
   "metadata": {},
   "outputs": [],
   "source": [
    "'''过去一年内发表的SSCI,SCIE中的ARTICLE'''"
   ]
  },
  {
   "cell_type": "code",
   "execution_count": 58,
   "metadata": {},
   "outputs": [
    {
     "data": {
      "text/plain": [
       "8402.0"
      ]
     },
     "execution_count": 58,
     "metadata": {},
     "output_type": "execute_result"
    }
   ],
   "source": [
    "7896*1.5-0.5*7611+0.5*727"
   ]
  },
  {
   "cell_type": "code",
   "execution_count": null,
   "metadata": {},
   "outputs": [],
   "source": []
  },
  {
   "cell_type": "code",
   "execution_count": null,
   "metadata": {},
   "outputs": [],
   "source": []
  },
  {
   "cell_type": "code",
   "execution_count": null,
   "metadata": {},
   "outputs": [],
   "source": []
  },
  {
   "cell_type": "code",
   "execution_count": null,
   "metadata": {},
   "outputs": [],
   "source": []
  },
  {
   "cell_type": "code",
   "execution_count": 56,
   "metadata": {},
   "outputs": [
    {
     "data": {
      "text/plain": [
       "1081.0"
      ]
     },
     "execution_count": 56,
     "metadata": {},
     "output_type": "execute_result"
    }
   ],
   "source": [
    "799*1.5-569*0.5+334*0.5"
   ]
  },
  {
   "cell_type": "code",
   "execution_count": 9,
   "metadata": {},
   "outputs": [],
   "source": [
    "def delete(history_record):\n",
    "    '''删除记录，满足history_record条即删掉除第一条之外的记录'''\n",
    "    if int(browser.find_element_by_class_name('historySetNum').text[2:])==history_record:#删除记录条数\n",
    "        browser.find_element_by_xpath('/html/body/div[13]/form/table/tbody/tr[1]/th[6]/div[2]/button[1]').click()#全选\n",
    "        browser.find_element_by_xpath(\"//input[@type='checkbox'and @name='dSet']\").click()#取消第一个\n",
    "        browser.find_element_by_xpath('/html/body/div[13]/form/table/tbody/tr[1]/th[6]/div[2]/button[2]/i').click()#删除\n",
    "    elif int(browser.find_element_by_class_name('historySetNum').text[2:])==history_record+1:\n",
    "        browser.find_element_by_xpath('/html/body/div[13]/form/table/tbody/tr[1]/th[6]/div[2]/button[1]').click()#全选\n",
    "        browser.find_element_by_xpath(\"//input[@type='checkbox'and @name='dSet']\").click()#取消第一个\n",
    "        browser.find_element_by_xpath('/html/body/div[13]/form/table/tbody/tr[1]/th[6]/div[2]/button[2]/i').click()#删除"
   ]
  },
  {
   "cell_type": "code",
   "execution_count": 10,
   "metadata": {},
   "outputs": [],
   "source": [
    "def search(item): \n",
    "    '''向搜索框里输入检索式'''\n",
    "    browser.find_element_by_id('value(input1)').clear()#清除文本框里的内容\n",
    "    browser.find_element_by_id('value(input1)').send_keys(item)#往文本框里输入搜索文本（输入检索式）\n",
    "    browser.find_element_by_id('searchButton')#定位搜索按钮\n",
    "    browser.find_element_by_id('searchButton').click()#点击搜素按钮"
   ]
  },
  {
   "cell_type": "code",
   "execution_count": null,
   "metadata": {},
   "outputs": [],
   "source": [
    "def write_record():\n",
    "    '''保存每次检索结果，防止程序崩溃，浏览器崩溃，服务器奔溃'''\n",
    "    with (open(r'C:\\Users\\rk\\Desktop\\papers1.txt','a+')) as file:\n",
    "            str='、'.join(item)\n",
    "            file.write(str+\"\\n\")\n",
    "            print(item)"
   ]
  },
  {
   "cell_type": "code",
   "execution_count": null,
   "metadata": {},
   "outputs": [],
   "source": [
    "def judge_error():\n",
    "    if len(d)==0:#判断检索式是否异常（如果正常运行，则不会弹出异常，那么异常信息len为零）\n",
    "        papers_number=browser.find_element_by_class_name('historyResults').text\n",
    "        #如果没有异常，则定位第一个数据，因为每搜索一次，数据系列就增加一次，无法用ID定位，只能广泛定位，自动匹配第一个数据\n",
    "        item.append(papers_number)#将找到的数据拼接到原数据的后面\n",
    "    else: \n",
    "        item.append('NA')#搜索异常的时候讲自定义的异常标识拼接到原数据后\n",
    "        item.append('NA')\n",
    "        write_record()\n",
    "        count+=1\n",
    "        print(count)\n",
    "        continue"
   ]
  },
  {
   "cell_type": "code",
   "execution_count": 28,
   "metadata": {},
   "outputs": [],
   "source": [
    "papers_number=browser.find_element_by_class_name('historyResults').text"
   ]
  },
  {
   "cell_type": "code",
   "execution_count": 32,
   "metadata": {},
   "outputs": [],
   "source": [
    "def sav_numb(item):\n",
    "    try:\n",
    "        num=browser.find_element_by_xpath('/html/body/div[13]/form/table/tbody/tr[3]/td[2]').text\n",
    "        item.append(num)\n",
    "    except:\n",
    "        item.append('NA')"
   ]
  },
  {
   "cell_type": "code",
   "execution_count": 65,
   "metadata": {},
   "outputs": [],
   "source": [
    "AD_START='AD=('\n",
    "AD_END=')'"
   ]
  },
  {
   "cell_type": "code",
   "execution_count": 64,
   "metadata": {},
   "outputs": [],
   "source": [
    "result=[]"
   ]
  },
  {
   "cell_type": "code",
   "execution_count": 70,
   "metadata": {},
   "outputs": [
    {
     "name": "stdout",
     "output_type": "stream",
     "text": [
      "['GC01086', '河北工业大学', 'Hebei Univ Technol same China', '651', '649', '10']\n",
      "['GC01092', '内蒙古大学', 'Inner Mongolia Univ same China not (Inner Mongolia Univ Technol or Inner Mongolia Univ Sci Technol or Inner Mongolia Univ Nationalities)', '364', '361', '7']\n",
      "['GC01095', '大连海事大学', 'Dalian Maritime Univ same China', '435', '421', '36']\n",
      "['GC01097', '东北农业大学', 'NE Agr Univ same China', '704', '703', '11']\n",
      "['GC01118', '中国美术学院', 'China Acad Art same China', '6', '4', '4']\n",
      "['GC01103', '海南大学', 'Hainan Univ same China', '468', '463', '9']\n",
      "['GC04004', '澳门城市大学', 'City Univ Macau SAME China', '25', '8', '22']\n",
      "['GC04003', '圣若瑟大学（澳门）', '(Univ St Joseph OR St Joseph* Univ) same China', '5', '4', '1']\n",
      "['GC03010', '香港公开大学', 'Open Univ Hong Kong SAME China', '31', '22', '11']\n",
      "['GC03009', '香港树仁大学', '(Hong Kong Shue Yan Univ OR Shue Yan Univ OR HKSYU) SAME China', '27', '6', '25']\n",
      "['GC02030', '国立嘉义大学', 'Natl Chiayi Univ same Taiwan', '210', '184', '43']\n",
      "['GC02025', '国立东华大学', 'Natl Dong Hwa Univ same Taiwan', '309', '279', '49']\n",
      "['GC02018', '国立暨南国际大学', 'Natl Chi Nan Univ same Taiwan', '155', '130', '37']\n",
      "['GC02032', '国立屏东科技大学', 'Natl Pingtung Univ Sci Technol same Taiwan', '206', '194', '18']\n",
      "['GC02029', '国立台南大学', 'Natl Univ Tainan same Taiwan', '110', '92', '27']\n",
      "['GC02028', '国立台北教育大学', 'Natl Taipei Univ Educ same Taiwan', '38', '20', '25']\n",
      "['GC02042', '国立体育大学', 'Natl Taiwan Sport* Univ SAME Taiwan', '48', '42', '24']\n",
      "['GC02046', '国立高雄科技大学', '(Natl Kaohsiung First Univ Sci Technol OR Nat* Kaohsiung Univ Appl Sci* OR Kaohsiung Univ Appl Sci* OR Nat* Kaohsiung Appl Sci* OR Nat* Kaohsiung Marine Univ OR Nat* Kaohsiung Inst Marine OR Nat* Kaohsiung Univ Marine) same Taiwan', '483', '434', '82']\n",
      "['GC02037', '东海大学', 'Tunghai Univ same Taiwan', '215', '190', '41']\n",
      "['GC02038', '中华大学', 'Chung Hua Univ same Taiwan', '71', '64', '20']\n",
      "['GC02040', '大叶大学', 'Da Yeh Univ same Taiwan', '79', '75', '12']\n",
      "['GC02031', '义守大学', 'I Shou Univ same Taiwan', '371', '351', '57']\n",
      "['GC02036', '大同大学', 'Tatung Univ same Taiwan', '90', '86', '11']\n"
     ]
    }
   ],
   "source": [
    "'''每次程序运行一次，重新选择引文索引，总共需要运行此处三次：SCIE+SSCI,SCIE,SSCI'''\n",
    "for item in a:\n",
    "    AD=AD_START+item[2]+AD_END\n",
    "    search(AD)\n",
    "    time.sleep(random.random()*5+2)\n",
    "    sav_numb(item)\n",
    "    #result.append(item)\n",
    "    delete(90)\n",
    "    print(item)"
   ]
  },
  {
   "cell_type": "code",
   "execution_count": 72,
   "metadata": {},
   "outputs": [],
   "source": [
    "result=pd.DataFrame(np.array(a))"
   ]
  },
  {
   "cell_type": "code",
   "execution_count": 74,
   "metadata": {},
   "outputs": [],
   "source": [
    "result.to_csv(r'C:\\Users\\rk\\Desktop\\wos.csv',index='False',encoding='GB18030')"
   ]
  },
  {
   "cell_type": "code",
   "execution_count": null,
   "metadata": {},
   "outputs": [],
   "source": []
  },
  {
   "cell_type": "code",
   "execution_count": 73,
   "metadata": {},
   "outputs": [
    {
     "data": {
      "text/html": [
       "<div>\n",
       "<style scoped>\n",
       "    .dataframe tbody tr th:only-of-type {\n",
       "        vertical-align: middle;\n",
       "    }\n",
       "\n",
       "    .dataframe tbody tr th {\n",
       "        vertical-align: top;\n",
       "    }\n",
       "\n",
       "    .dataframe thead th {\n",
       "        text-align: right;\n",
       "    }\n",
       "</style>\n",
       "<table border=\"1\" class=\"dataframe\">\n",
       "  <thead>\n",
       "    <tr style=\"text-align: right;\">\n",
       "      <th></th>\n",
       "      <th>0</th>\n",
       "      <th>1</th>\n",
       "      <th>2</th>\n",
       "      <th>3</th>\n",
       "      <th>4</th>\n",
       "      <th>5</th>\n",
       "    </tr>\n",
       "  </thead>\n",
       "  <tbody>\n",
       "    <tr>\n",
       "      <th>0</th>\n",
       "      <td>GC01086</td>\n",
       "      <td>河北工业大学</td>\n",
       "      <td>Hebei Univ Technol same China</td>\n",
       "      <td>651</td>\n",
       "      <td>649</td>\n",
       "      <td>10</td>\n",
       "    </tr>\n",
       "    <tr>\n",
       "      <th>1</th>\n",
       "      <td>GC01092</td>\n",
       "      <td>内蒙古大学</td>\n",
       "      <td>Inner Mongolia Univ same China not (Inner Mong...</td>\n",
       "      <td>364</td>\n",
       "      <td>361</td>\n",
       "      <td>7</td>\n",
       "    </tr>\n",
       "    <tr>\n",
       "      <th>2</th>\n",
       "      <td>GC01095</td>\n",
       "      <td>大连海事大学</td>\n",
       "      <td>Dalian Maritime Univ same China</td>\n",
       "      <td>435</td>\n",
       "      <td>421</td>\n",
       "      <td>36</td>\n",
       "    </tr>\n",
       "    <tr>\n",
       "      <th>3</th>\n",
       "      <td>GC01097</td>\n",
       "      <td>东北农业大学</td>\n",
       "      <td>NE Agr Univ same China</td>\n",
       "      <td>704</td>\n",
       "      <td>703</td>\n",
       "      <td>11</td>\n",
       "    </tr>\n",
       "    <tr>\n",
       "      <th>4</th>\n",
       "      <td>GC01118</td>\n",
       "      <td>中国美术学院</td>\n",
       "      <td>China Acad Art same China</td>\n",
       "      <td>6</td>\n",
       "      <td>4</td>\n",
       "      <td>4</td>\n",
       "    </tr>\n",
       "    <tr>\n",
       "      <th>5</th>\n",
       "      <td>GC01103</td>\n",
       "      <td>海南大学</td>\n",
       "      <td>Hainan Univ same China</td>\n",
       "      <td>468</td>\n",
       "      <td>463</td>\n",
       "      <td>9</td>\n",
       "    </tr>\n",
       "    <tr>\n",
       "      <th>6</th>\n",
       "      <td>GC04004</td>\n",
       "      <td>澳门城市大学</td>\n",
       "      <td>City Univ Macau SAME China</td>\n",
       "      <td>25</td>\n",
       "      <td>8</td>\n",
       "      <td>22</td>\n",
       "    </tr>\n",
       "    <tr>\n",
       "      <th>7</th>\n",
       "      <td>GC04003</td>\n",
       "      <td>圣若瑟大学（澳门）</td>\n",
       "      <td>(Univ St Joseph OR St Joseph* Univ) same China</td>\n",
       "      <td>5</td>\n",
       "      <td>4</td>\n",
       "      <td>1</td>\n",
       "    </tr>\n",
       "    <tr>\n",
       "      <th>8</th>\n",
       "      <td>GC03010</td>\n",
       "      <td>香港公开大学</td>\n",
       "      <td>Open Univ Hong Kong SAME China</td>\n",
       "      <td>31</td>\n",
       "      <td>22</td>\n",
       "      <td>11</td>\n",
       "    </tr>\n",
       "    <tr>\n",
       "      <th>9</th>\n",
       "      <td>GC03009</td>\n",
       "      <td>香港树仁大学</td>\n",
       "      <td>(Hong Kong Shue Yan Univ OR Shue Yan Univ OR H...</td>\n",
       "      <td>27</td>\n",
       "      <td>6</td>\n",
       "      <td>25</td>\n",
       "    </tr>\n",
       "    <tr>\n",
       "      <th>10</th>\n",
       "      <td>GC02030</td>\n",
       "      <td>国立嘉义大学</td>\n",
       "      <td>Natl Chiayi Univ same Taiwan</td>\n",
       "      <td>210</td>\n",
       "      <td>184</td>\n",
       "      <td>43</td>\n",
       "    </tr>\n",
       "    <tr>\n",
       "      <th>11</th>\n",
       "      <td>GC02025</td>\n",
       "      <td>国立东华大学</td>\n",
       "      <td>Natl Dong Hwa Univ same Taiwan</td>\n",
       "      <td>309</td>\n",
       "      <td>279</td>\n",
       "      <td>49</td>\n",
       "    </tr>\n",
       "    <tr>\n",
       "      <th>12</th>\n",
       "      <td>GC02018</td>\n",
       "      <td>国立暨南国际大学</td>\n",
       "      <td>Natl Chi Nan Univ same Taiwan</td>\n",
       "      <td>155</td>\n",
       "      <td>130</td>\n",
       "      <td>37</td>\n",
       "    </tr>\n",
       "    <tr>\n",
       "      <th>13</th>\n",
       "      <td>GC02032</td>\n",
       "      <td>国立屏东科技大学</td>\n",
       "      <td>Natl Pingtung Univ Sci Technol same Taiwan</td>\n",
       "      <td>206</td>\n",
       "      <td>194</td>\n",
       "      <td>18</td>\n",
       "    </tr>\n",
       "    <tr>\n",
       "      <th>14</th>\n",
       "      <td>GC02029</td>\n",
       "      <td>国立台南大学</td>\n",
       "      <td>Natl Univ Tainan same Taiwan</td>\n",
       "      <td>110</td>\n",
       "      <td>92</td>\n",
       "      <td>27</td>\n",
       "    </tr>\n",
       "    <tr>\n",
       "      <th>15</th>\n",
       "      <td>GC02028</td>\n",
       "      <td>国立台北教育大学</td>\n",
       "      <td>Natl Taipei Univ Educ same Taiwan</td>\n",
       "      <td>38</td>\n",
       "      <td>20</td>\n",
       "      <td>25</td>\n",
       "    </tr>\n",
       "    <tr>\n",
       "      <th>16</th>\n",
       "      <td>GC02042</td>\n",
       "      <td>国立体育大学</td>\n",
       "      <td>Natl Taiwan Sport* Univ SAME Taiwan</td>\n",
       "      <td>48</td>\n",
       "      <td>42</td>\n",
       "      <td>24</td>\n",
       "    </tr>\n",
       "    <tr>\n",
       "      <th>17</th>\n",
       "      <td>GC02046</td>\n",
       "      <td>国立高雄科技大学</td>\n",
       "      <td>(Natl Kaohsiung First Univ Sci Technol OR Nat*...</td>\n",
       "      <td>483</td>\n",
       "      <td>434</td>\n",
       "      <td>82</td>\n",
       "    </tr>\n",
       "    <tr>\n",
       "      <th>18</th>\n",
       "      <td>GC02037</td>\n",
       "      <td>东海大学</td>\n",
       "      <td>Tunghai Univ same Taiwan</td>\n",
       "      <td>215</td>\n",
       "      <td>190</td>\n",
       "      <td>41</td>\n",
       "    </tr>\n",
       "    <tr>\n",
       "      <th>19</th>\n",
       "      <td>GC02038</td>\n",
       "      <td>中华大学</td>\n",
       "      <td>Chung Hua Univ same Taiwan</td>\n",
       "      <td>71</td>\n",
       "      <td>64</td>\n",
       "      <td>20</td>\n",
       "    </tr>\n",
       "    <tr>\n",
       "      <th>20</th>\n",
       "      <td>GC02040</td>\n",
       "      <td>大叶大学</td>\n",
       "      <td>Da Yeh Univ same Taiwan</td>\n",
       "      <td>79</td>\n",
       "      <td>75</td>\n",
       "      <td>12</td>\n",
       "    </tr>\n",
       "    <tr>\n",
       "      <th>21</th>\n",
       "      <td>GC02031</td>\n",
       "      <td>义守大学</td>\n",
       "      <td>I Shou Univ same Taiwan</td>\n",
       "      <td>371</td>\n",
       "      <td>351</td>\n",
       "      <td>57</td>\n",
       "    </tr>\n",
       "    <tr>\n",
       "      <th>22</th>\n",
       "      <td>GC02036</td>\n",
       "      <td>大同大学</td>\n",
       "      <td>Tatung Univ same Taiwan</td>\n",
       "      <td>90</td>\n",
       "      <td>86</td>\n",
       "      <td>11</td>\n",
       "    </tr>\n",
       "  </tbody>\n",
       "</table>\n",
       "</div>"
      ],
      "text/plain": [
       "          0          1                                                  2  \\\n",
       "0   GC01086     河北工业大学                      Hebei Univ Technol same China   \n",
       "1   GC01092      内蒙古大学  Inner Mongolia Univ same China not (Inner Mong...   \n",
       "2   GC01095     大连海事大学                    Dalian Maritime Univ same China   \n",
       "3   GC01097     东北农业大学                             NE Agr Univ same China   \n",
       "4   GC01118     中国美术学院                          China Acad Art same China   \n",
       "5   GC01103       海南大学                             Hainan Univ same China   \n",
       "6   GC04004     澳门城市大学                         City Univ Macau SAME China   \n",
       "7   GC04003  圣若瑟大学（澳门）     (Univ St Joseph OR St Joseph* Univ) same China   \n",
       "8   GC03010     香港公开大学                     Open Univ Hong Kong SAME China   \n",
       "9   GC03009     香港树仁大学  (Hong Kong Shue Yan Univ OR Shue Yan Univ OR H...   \n",
       "10  GC02030     国立嘉义大学                       Natl Chiayi Univ same Taiwan   \n",
       "11  GC02025     国立东华大学                     Natl Dong Hwa Univ same Taiwan   \n",
       "12  GC02018   国立暨南国际大学                      Natl Chi Nan Univ same Taiwan   \n",
       "13  GC02032   国立屏东科技大学         Natl Pingtung Univ Sci Technol same Taiwan   \n",
       "14  GC02029     国立台南大学                       Natl Univ Tainan same Taiwan   \n",
       "15  GC02028   国立台北教育大学                  Natl Taipei Univ Educ same Taiwan   \n",
       "16  GC02042     国立体育大学                Natl Taiwan Sport* Univ SAME Taiwan   \n",
       "17  GC02046   国立高雄科技大学  (Natl Kaohsiung First Univ Sci Technol OR Nat*...   \n",
       "18  GC02037       东海大学                           Tunghai Univ same Taiwan   \n",
       "19  GC02038       中华大学                         Chung Hua Univ same Taiwan   \n",
       "20  GC02040       大叶大学                            Da Yeh Univ same Taiwan   \n",
       "21  GC02031       义守大学                            I Shou Univ same Taiwan   \n",
       "22  GC02036       大同大学                            Tatung Univ same Taiwan   \n",
       "\n",
       "      3    4   5  \n",
       "0   651  649  10  \n",
       "1   364  361   7  \n",
       "2   435  421  36  \n",
       "3   704  703  11  \n",
       "4     6    4   4  \n",
       "5   468  463   9  \n",
       "6    25    8  22  \n",
       "7     5    4   1  \n",
       "8    31   22  11  \n",
       "9    27    6  25  \n",
       "10  210  184  43  \n",
       "11  309  279  49  \n",
       "12  155  130  37  \n",
       "13  206  194  18  \n",
       "14  110   92  27  \n",
       "15   38   20  25  \n",
       "16   48   42  24  \n",
       "17  483  434  82  \n",
       "18  215  190  41  \n",
       "19   71   64  20  \n",
       "20   79   75  12  \n",
       "21  371  351  57  \n",
       "22   90   86  11  "
      ]
     },
     "execution_count": 73,
     "metadata": {},
     "output_type": "execute_result"
    }
   ],
   "source": [
    "result"
   ]
  },
  {
   "cell_type": "code",
   "execution_count": 71,
   "metadata": {},
   "outputs": [
    {
     "data": {
      "text/plain": [
       "['GC01092',\n",
       " '内蒙古大学',\n",
       " 'Inner Mongolia Univ same China not (Inner Mongolia Univ Technol or Inner Mongolia Univ Sci Technol or Inner Mongolia Univ Nationalities)',\n",
       " '364',\n",
       " '361',\n",
       " '7']"
      ]
     },
     "execution_count": 71,
     "metadata": {},
     "output_type": "execute_result"
    }
   ],
   "source": [
    "a[1]"
   ]
  },
  {
   "cell_type": "code",
   "execution_count": null,
   "metadata": {},
   "outputs": [],
   "source": []
  },
  {
   "cell_type": "code",
   "execution_count": 48,
   "metadata": {},
   "outputs": [],
   "source": [
    "browser.find_element_by_xpath('//*[@id=\"editionitemSCI\"]').click()"
   ]
  },
  {
   "cell_type": "code",
   "execution_count": null,
   "metadata": {},
   "outputs": [],
   "source": []
  },
  {
   "cell_type": "code",
   "execution_count": 46,
   "metadata": {},
   "outputs": [],
   "source": [
    "browser.find_element_by_xpath('//*[@id=\"editionitemSSCI\"]').click()"
   ]
  },
  {
   "cell_type": "code",
   "execution_count": null,
   "metadata": {},
   "outputs": [],
   "source": []
  },
  {
   "cell_type": "code",
   "execution_count": null,
   "metadata": {},
   "outputs": [],
   "source": []
  },
  {
   "cell_type": "code",
   "execution_count": null,
   "metadata": {},
   "outputs": [],
   "source": []
  }
 ],
 "metadata": {
  "kernelspec": {
   "display_name": "Python 3",
   "language": "python",
   "name": "python3"
  },
  "language_info": {
   "codemirror_mode": {
    "name": "ipython",
    "version": 3
   },
   "file_extension": ".py",
   "mimetype": "text/x-python",
   "name": "python",
   "nbconvert_exporter": "python",
   "pygments_lexer": "ipython3",
   "version": "3.6.5"
  }
 },
 "nbformat": 4,
 "nbformat_minor": 2
}
